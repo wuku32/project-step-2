{
 "cells": [
  {
   "cell_type": "code",
   "execution_count": 55,
   "metadata": {
    "collapsed": true
   },
   "outputs": [],
   "source": [
    "import os\n",
    "import re\n",
    "import time\n",
    "\n",
    "import pandas as pd\n",
    "from pandas import DataFrame\n",
    "from openpyxl import load_workbook\n",
    "import requests"
   ]
  },
  {
   "cell_type": "code",
   "execution_count": 56,
   "outputs": [],
   "source": [
    "from util.widgets import generate_ym, generate_ymd, generate_i\n",
    "\n",
    "ym = generate_ym()\n",
    "g = 'cargohose_herren'\n",
    "bd = f'{g}/{ym}'\n",
    "b_d = f'{g}_{ym}'\n",
    "\n",
    "os.makedirs(bd, exist_ok=True)\n",
    "\n",
    "ymd = generate_ymd()\n",
    "\n",
    "fp_tgt = f'{g}/{g}_tgt.xlsx'"
   ],
   "metadata": {
    "collapsed": false,
    "pycharm": {
     "name": "#%%\n"
    }
   }
  },
  {
   "cell_type": "code",
   "execution_count": 57,
   "outputs": [
    {
     "data": {
      "text/plain": "           sf                                                 fp  \\\n0     default  cargohose_herren/2024_07_22_(08-09)/img/defaul...   \n1     default  cargohose_herren/2024_07_22_(08-09)/img/defaul...   \n2     default  cargohose_herren/2024_07_22_(08-09)/img/defaul...   \n3     default  cargohose_herren/2024_07_22_(08-09)/img/defaul...   \n4     default  cargohose_herren/2024_07_22_(08-09)/img/defaul...   \n...       ...                                                ...   \n1241     best  cargohose_herren/2024_07_22_(08-09)/img/best/c...   \n1242     best  cargohose_herren/2024_07_22_(08-09)/img/best/c...   \n1243     best  cargohose_herren/2024_07_22_(08-09)/img/best/c...   \n1244     best  cargohose_herren/2024_07_22_(08-09)/img/best/c...   \n1245     best  cargohose_herren/2024_07_22_(08-09)/img/best/c...   \n\n                                               imageUrl    productSku  \\\n0     http://183.62.143.166:28099/image/product/ftp/...  FBE230705004   \n1     http://183.62.143.166:28099/image/product/ftp/...   LJH90722333   \n2     http://183.62.143.166:28099/image/product/ftp/...  LBB230904033   \n3     http://183.62.143.166:28099/image/product/ftp/...  FZQ240108001   \n4     http://183.62.143.166:28099/image/product/ftp/...  LBB230904025   \n...                                                 ...           ...   \n1241  http://183.62.143.166:28099/image/product/ftp/...  CJN211214321   \n1242  http://183.62.143.166:28099/image/product/ftp/...  ZRR240624003   \n1243  http://183.62.143.166:28099/image/product/ftp/...  HYM231006008   \n1244  http://183.62.143.166:28099/image/product/ftp/...  XJJ221028015   \n1245  http://183.62.143.166:28099/image/product/ftp/...   YAY91105377   \n\n                       amazon_psku  ASIN   note  \\\n0     FRL-DE-24-07-26-15-52-25-001   NaN  主图背景色   \n1                              NaN   NaN    NaN   \n2                              NaN   NaN    NaN   \n3     FRL-DE-24-07-26-15-52-25-002   NaN    NaN   \n4                              NaN   NaN    NaN   \n...                            ...   ...    ...   \n1241                           NaN   NaN    NaN   \n1242                           NaN   NaN    NaN   \n1243                           NaN   NaN    NaN   \n1244                           NaN   NaN    NaN   \n1245                           NaN   NaN    NaN   \n\n                       productLabelList                categoryName  \\\n0          ['定制', '可压缩产品', '新版', '已换图']    Men's Casual Pants 男士休闲裤   \n1           ['可压缩产品', '部分停产下架', '部分缺货']    Men's Casual Pants 男士休闲裤   \n2     ['可压缩产品', '冬季', '一件起订', '部分停产下架']    Men's Casual Pants 男士休闲裤   \n3                                ['冬季']    Men's Casual Pants 男士休闲裤   \n4     ['可压缩产品', '冬季', '一件起订', '部分停产下架']    Men's Casual Pants 男士休闲裤   \n...                                 ...                         ...   \n1241                ['可压缩产品', '部分停产下架']  Women's Casual Pants 女士休闲裤   \n1242                                 []     Men's Cargo Pants 男士工装裤   \n1243                          ['可压缩产品']    Men's Casual Pants 男士休闲裤   \n1244       ['圣诞节产品', '可压缩产品', '部分停产下架']  Women's Casual Pants 女士休闲裤   \n1245                ['部分停产下架', '可压缩产品']    Men's Casual Pants 男士休闲裤   \n\n     warehouseName  ... buyerName vectorDistance  buyingPrice       material  \\\n0             顺德仓库  ...       邓烨萍         0.3605         26.0      Polyester   \n1             顺德仓库  ...       罗智斌         0.4822         34.5      Polyester   \n2             顺德仓库  ...       罗智斌         0.4943         19.0      Polyester   \n3             顺德仓库  ...        胡欣         0.3388         33.0      Polyester   \n4             顺德仓库  ...       罗智斌         0.5005         19.0      Polyester   \n...            ...  ...       ...            ...          ...            ...   \n1241          顺德仓库  ...       杨汉玉         0.3919         26.0         Cotton   \n1242          顺德仓库  ...       郑楚薇         0.2931         65.0  Nylon,Spandex   \n1243          顺德仓库  ...       罗智斌         0.3094         37.0  Nylon,Spandex   \n1244          顺德仓库  ...       罗智斌         0.3265         21.0      Polyester   \n1245          顺德仓库  ...       董俊晓         0.3290         40.0        Acrylic   \n\n     withholdStock                                     productSkuHref  \\\n0              0.0  /links/erp/products?query.productSku=FBE230705004   \n1              0.0   /links/erp/products?query.productSku=LJH90722333   \n2              0.0  /links/erp/products?query.productSku=LBB230904033   \n3              0.0  /links/erp/products?query.productSku=FZQ240108001   \n4              0.0  /links/erp/products?query.productSku=LBB230904025   \n...            ...                                                ...   \n1241           0.0  /links/erp/products?query.productSku=CJN211214321   \n1242           1.0  /links/erp/products?query.productSku=ZRR240624003   \n1243           2.0  /links/erp/products?query.productSku=HYM231006008   \n1244           0.0  /links/erp/products?query.productSku=XJJ221028015   \n1245           0.0   /links/erp/products?query.productSku=YAY91105377   \n\n     similarity         ymd    status              ymd_HMS  \n0        0.6395  2024_07_22     InUse  2024-07-26 15:53:25  \n1        0.5178  2024_07_22  Archived                  NaN  \n2        0.5057  2024_07_22  Archived                  NaN  \n3        0.6612  2024_07_22     InUse  2024-07-26 15:53:25  \n4        0.4995  2024_07_22  Archived                  NaN  \n...         ...         ...       ...                  ...  \n1241     0.6081  2024_07_22    Unused                  NaN  \n1242     0.7069  2024_07_22    Unused                  NaN  \n1243     0.6906  2024_07_22    Unused                  NaN  \n1244     0.6735  2024_07_22    Unused                  NaN  \n1245     0.6710  2024_07_22    Unused                  NaN  \n\n[1246 rows x 21 columns]",
      "text/html": "<div>\n<style scoped>\n    .dataframe tbody tr th:only-of-type {\n        vertical-align: middle;\n    }\n\n    .dataframe tbody tr th {\n        vertical-align: top;\n    }\n\n    .dataframe thead th {\n        text-align: right;\n    }\n</style>\n<table border=\"1\" class=\"dataframe\">\n  <thead>\n    <tr style=\"text-align: right;\">\n      <th></th>\n      <th>sf</th>\n      <th>fp</th>\n      <th>imageUrl</th>\n      <th>productSku</th>\n      <th>amazon_psku</th>\n      <th>ASIN</th>\n      <th>note</th>\n      <th>productLabelList</th>\n      <th>categoryName</th>\n      <th>warehouseName</th>\n      <th>...</th>\n      <th>buyerName</th>\n      <th>vectorDistance</th>\n      <th>buyingPrice</th>\n      <th>material</th>\n      <th>withholdStock</th>\n      <th>productSkuHref</th>\n      <th>similarity</th>\n      <th>ymd</th>\n      <th>status</th>\n      <th>ymd_HMS</th>\n    </tr>\n  </thead>\n  <tbody>\n    <tr>\n      <th>0</th>\n      <td>default</td>\n      <td>cargohose_herren/2024_07_22_(08-09)/img/defaul...</td>\n      <td>http://183.62.143.166:28099/image/product/ftp/...</td>\n      <td>FBE230705004</td>\n      <td>FRL-DE-24-07-26-15-52-25-001</td>\n      <td>NaN</td>\n      <td>主图背景色</td>\n      <td>['定制', '可压缩产品', '新版', '已换图']</td>\n      <td>Men's Casual Pants 男士休闲裤</td>\n      <td>顺德仓库</td>\n      <td>...</td>\n      <td>邓烨萍</td>\n      <td>0.3605</td>\n      <td>26.0</td>\n      <td>Polyester</td>\n      <td>0.0</td>\n      <td>/links/erp/products?query.productSku=FBE230705004</td>\n      <td>0.6395</td>\n      <td>2024_07_22</td>\n      <td>InUse</td>\n      <td>2024-07-26 15:53:25</td>\n    </tr>\n    <tr>\n      <th>1</th>\n      <td>default</td>\n      <td>cargohose_herren/2024_07_22_(08-09)/img/defaul...</td>\n      <td>http://183.62.143.166:28099/image/product/ftp/...</td>\n      <td>LJH90722333</td>\n      <td>NaN</td>\n      <td>NaN</td>\n      <td>NaN</td>\n      <td>['可压缩产品', '部分停产下架', '部分缺货']</td>\n      <td>Men's Casual Pants 男士休闲裤</td>\n      <td>顺德仓库</td>\n      <td>...</td>\n      <td>罗智斌</td>\n      <td>0.4822</td>\n      <td>34.5</td>\n      <td>Polyester</td>\n      <td>0.0</td>\n      <td>/links/erp/products?query.productSku=LJH90722333</td>\n      <td>0.5178</td>\n      <td>2024_07_22</td>\n      <td>Archived</td>\n      <td>NaN</td>\n    </tr>\n    <tr>\n      <th>2</th>\n      <td>default</td>\n      <td>cargohose_herren/2024_07_22_(08-09)/img/defaul...</td>\n      <td>http://183.62.143.166:28099/image/product/ftp/...</td>\n      <td>LBB230904033</td>\n      <td>NaN</td>\n      <td>NaN</td>\n      <td>NaN</td>\n      <td>['可压缩产品', '冬季', '一件起订', '部分停产下架']</td>\n      <td>Men's Casual Pants 男士休闲裤</td>\n      <td>顺德仓库</td>\n      <td>...</td>\n      <td>罗智斌</td>\n      <td>0.4943</td>\n      <td>19.0</td>\n      <td>Polyester</td>\n      <td>0.0</td>\n      <td>/links/erp/products?query.productSku=LBB230904033</td>\n      <td>0.5057</td>\n      <td>2024_07_22</td>\n      <td>Archived</td>\n      <td>NaN</td>\n    </tr>\n    <tr>\n      <th>3</th>\n      <td>default</td>\n      <td>cargohose_herren/2024_07_22_(08-09)/img/defaul...</td>\n      <td>http://183.62.143.166:28099/image/product/ftp/...</td>\n      <td>FZQ240108001</td>\n      <td>FRL-DE-24-07-26-15-52-25-002</td>\n      <td>NaN</td>\n      <td>NaN</td>\n      <td>['冬季']</td>\n      <td>Men's Casual Pants 男士休闲裤</td>\n      <td>顺德仓库</td>\n      <td>...</td>\n      <td>胡欣</td>\n      <td>0.3388</td>\n      <td>33.0</td>\n      <td>Polyester</td>\n      <td>0.0</td>\n      <td>/links/erp/products?query.productSku=FZQ240108001</td>\n      <td>0.6612</td>\n      <td>2024_07_22</td>\n      <td>InUse</td>\n      <td>2024-07-26 15:53:25</td>\n    </tr>\n    <tr>\n      <th>4</th>\n      <td>default</td>\n      <td>cargohose_herren/2024_07_22_(08-09)/img/defaul...</td>\n      <td>http://183.62.143.166:28099/image/product/ftp/...</td>\n      <td>LBB230904025</td>\n      <td>NaN</td>\n      <td>NaN</td>\n      <td>NaN</td>\n      <td>['可压缩产品', '冬季', '一件起订', '部分停产下架']</td>\n      <td>Men's Casual Pants 男士休闲裤</td>\n      <td>顺德仓库</td>\n      <td>...</td>\n      <td>罗智斌</td>\n      <td>0.5005</td>\n      <td>19.0</td>\n      <td>Polyester</td>\n      <td>0.0</td>\n      <td>/links/erp/products?query.productSku=LBB230904025</td>\n      <td>0.4995</td>\n      <td>2024_07_22</td>\n      <td>Archived</td>\n      <td>NaN</td>\n    </tr>\n    <tr>\n      <th>...</th>\n      <td>...</td>\n      <td>...</td>\n      <td>...</td>\n      <td>...</td>\n      <td>...</td>\n      <td>...</td>\n      <td>...</td>\n      <td>...</td>\n      <td>...</td>\n      <td>...</td>\n      <td>...</td>\n      <td>...</td>\n      <td>...</td>\n      <td>...</td>\n      <td>...</td>\n      <td>...</td>\n      <td>...</td>\n      <td>...</td>\n      <td>...</td>\n      <td>...</td>\n      <td>...</td>\n    </tr>\n    <tr>\n      <th>1241</th>\n      <td>best</td>\n      <td>cargohose_herren/2024_07_22_(08-09)/img/best/c...</td>\n      <td>http://183.62.143.166:28099/image/product/ftp/...</td>\n      <td>CJN211214321</td>\n      <td>NaN</td>\n      <td>NaN</td>\n      <td>NaN</td>\n      <td>['可压缩产品', '部分停产下架']</td>\n      <td>Women's Casual Pants 女士休闲裤</td>\n      <td>顺德仓库</td>\n      <td>...</td>\n      <td>杨汉玉</td>\n      <td>0.3919</td>\n      <td>26.0</td>\n      <td>Cotton</td>\n      <td>0.0</td>\n      <td>/links/erp/products?query.productSku=CJN211214321</td>\n      <td>0.6081</td>\n      <td>2024_07_22</td>\n      <td>Unused</td>\n      <td>NaN</td>\n    </tr>\n    <tr>\n      <th>1242</th>\n      <td>best</td>\n      <td>cargohose_herren/2024_07_22_(08-09)/img/best/c...</td>\n      <td>http://183.62.143.166:28099/image/product/ftp/...</td>\n      <td>ZRR240624003</td>\n      <td>NaN</td>\n      <td>NaN</td>\n      <td>NaN</td>\n      <td>[]</td>\n      <td>Men's Cargo Pants 男士工装裤</td>\n      <td>顺德仓库</td>\n      <td>...</td>\n      <td>郑楚薇</td>\n      <td>0.2931</td>\n      <td>65.0</td>\n      <td>Nylon,Spandex</td>\n      <td>1.0</td>\n      <td>/links/erp/products?query.productSku=ZRR240624003</td>\n      <td>0.7069</td>\n      <td>2024_07_22</td>\n      <td>Unused</td>\n      <td>NaN</td>\n    </tr>\n    <tr>\n      <th>1243</th>\n      <td>best</td>\n      <td>cargohose_herren/2024_07_22_(08-09)/img/best/c...</td>\n      <td>http://183.62.143.166:28099/image/product/ftp/...</td>\n      <td>HYM231006008</td>\n      <td>NaN</td>\n      <td>NaN</td>\n      <td>NaN</td>\n      <td>['可压缩产品']</td>\n      <td>Men's Casual Pants 男士休闲裤</td>\n      <td>顺德仓库</td>\n      <td>...</td>\n      <td>罗智斌</td>\n      <td>0.3094</td>\n      <td>37.0</td>\n      <td>Nylon,Spandex</td>\n      <td>2.0</td>\n      <td>/links/erp/products?query.productSku=HYM231006008</td>\n      <td>0.6906</td>\n      <td>2024_07_22</td>\n      <td>Unused</td>\n      <td>NaN</td>\n    </tr>\n    <tr>\n      <th>1244</th>\n      <td>best</td>\n      <td>cargohose_herren/2024_07_22_(08-09)/img/best/c...</td>\n      <td>http://183.62.143.166:28099/image/product/ftp/...</td>\n      <td>XJJ221028015</td>\n      <td>NaN</td>\n      <td>NaN</td>\n      <td>NaN</td>\n      <td>['圣诞节产品', '可压缩产品', '部分停产下架']</td>\n      <td>Women's Casual Pants 女士休闲裤</td>\n      <td>顺德仓库</td>\n      <td>...</td>\n      <td>罗智斌</td>\n      <td>0.3265</td>\n      <td>21.0</td>\n      <td>Polyester</td>\n      <td>0.0</td>\n      <td>/links/erp/products?query.productSku=XJJ221028015</td>\n      <td>0.6735</td>\n      <td>2024_07_22</td>\n      <td>Unused</td>\n      <td>NaN</td>\n    </tr>\n    <tr>\n      <th>1245</th>\n      <td>best</td>\n      <td>cargohose_herren/2024_07_22_(08-09)/img/best/c...</td>\n      <td>http://183.62.143.166:28099/image/product/ftp/...</td>\n      <td>YAY91105377</td>\n      <td>NaN</td>\n      <td>NaN</td>\n      <td>NaN</td>\n      <td>['部分停产下架', '可压缩产品']</td>\n      <td>Men's Casual Pants 男士休闲裤</td>\n      <td>顺德仓库</td>\n      <td>...</td>\n      <td>董俊晓</td>\n      <td>0.3290</td>\n      <td>40.0</td>\n      <td>Acrylic</td>\n      <td>0.0</td>\n      <td>/links/erp/products?query.productSku=YAY91105377</td>\n      <td>0.6710</td>\n      <td>2024_07_22</td>\n      <td>Unused</td>\n      <td>NaN</td>\n    </tr>\n  </tbody>\n</table>\n<p>1246 rows × 21 columns</p>\n</div>"
     },
     "execution_count": 57,
     "metadata": {},
     "output_type": "execute_result"
    }
   ],
   "source": [
    "tgt_df: DataFrame = pd.read_excel(fp_tgt, sheet_name='tgt')\n",
    "from util.widgets import note_inuse_sku, note_archived_sku, note_deleted_sku, note_recalled_sku, note_other_sku\n",
    "\n",
    "tgt_df = note_inuse_sku(tgt_df)\n",
    "tgt_df = note_archived_sku(tgt_df)\n",
    "tgt_df = note_deleted_sku(tgt_df)\n",
    "tgt_df = note_recalled_sku(tgt_df)\n",
    "tgt_df = note_other_sku(tgt_df)\n",
    "tgt_df"
   ],
   "metadata": {
    "collapsed": false,
    "pycharm": {
     "name": "#%%\n"
    }
   }
  },
  {
   "cell_type": "code",
   "execution_count": 58,
   "outputs": [
    {
     "data": {
      "text/plain": "           sf                                                 fp  \\\n29    default  cargohose_herren/2024_07_22_(08-09)/img/defaul...   \n30    default  cargohose_herren/2024_07_22_(08-09)/img/defaul...   \n31    default  cargohose_herren/2024_07_22_(08-09)/img/defaul...   \n32    default  cargohose_herren/2024_07_22_(08-09)/img/defaul...   \n33    default  cargohose_herren/2024_07_22_(08-09)/img/defaul...   \n...       ...                                                ...   \n1241     best  cargohose_herren/2024_07_22_(08-09)/img/best/c...   \n1242     best  cargohose_herren/2024_07_22_(08-09)/img/best/c...   \n1243     best  cargohose_herren/2024_07_22_(08-09)/img/best/c...   \n1244     best  cargohose_herren/2024_07_22_(08-09)/img/best/c...   \n1245     best  cargohose_herren/2024_07_22_(08-09)/img/best/c...   \n\n                                               imageUrl    productSku  \\\n29    http://183.62.143.166:28099/image/product/ftp/...  ZTY231030001   \n30    http://183.62.143.166:28099/image/product/ftp/...  QXP240705001   \n31    http://183.62.143.166:28099/image/product/ftp/...  LBB230904029   \n32    http://183.62.143.166:28099/image/product/ftp/...  LBB230904031   \n33    http://183.62.143.166:28099/image/product/ftp/...  LBB230904023   \n...                                                 ...           ...   \n1241  http://183.62.143.166:28099/image/product/ftp/...  CJN211214321   \n1242  http://183.62.143.166:28099/image/product/ftp/...  ZRR240624003   \n1243  http://183.62.143.166:28099/image/product/ftp/...  HYM231006008   \n1244  http://183.62.143.166:28099/image/product/ftp/...  XJJ221028015   \n1245  http://183.62.143.166:28099/image/product/ftp/...   YAY91105377   \n\n     amazon_psku  ASIN note                   productLabelList  \\\n29           NaN   NaN  NaN                ['可压缩产品', '部分停产下架']   \n30           NaN   NaN  NaN                                 []   \n31           NaN   NaN  NaN  ['可压缩产品', '一件起订', '冬季', '部分停产下架']   \n32           NaN   NaN  NaN  ['可压缩产品', '冬季', '一件起订', '部分停产下架']   \n33           NaN   NaN  NaN  ['可压缩产品', '冬季', '一件起订', '部分停产下架']   \n...          ...   ...  ...                                ...   \n1241         NaN   NaN  NaN                ['可压缩产品', '部分停产下架']   \n1242         NaN   NaN  NaN                                 []   \n1243         NaN   NaN  NaN                          ['可压缩产品']   \n1244         NaN   NaN  NaN       ['圣诞节产品', '可压缩产品', '部分停产下架']   \n1245         NaN   NaN  NaN                ['部分停产下架', '可压缩产品']   \n\n                    categoryName warehouseName  ... buyerName vectorDistance  \\\n29       Men's Cargo Pants 男士工装裤          顺德仓库  ...       黄高希         0.3290   \n30      Men's Casual Pants 男士休闲裤          顺德仓库  ...       张欢欢         0.3307   \n31      Men's Casual Pants 男士休闲裤          顺德仓库  ...       罗智斌         0.3337   \n32      Men's Casual Pants 男士休闲裤          顺德仓库  ...       罗智斌         0.3383   \n33      Men's Casual Pants 男士休闲裤          顺德仓库  ...       罗智斌         0.3393   \n...                          ...           ...  ...       ...            ...   \n1241  Women's Casual Pants 女士休闲裤          顺德仓库  ...       杨汉玉         0.3919   \n1242     Men's Cargo Pants 男士工装裤          顺德仓库  ...       郑楚薇         0.2931   \n1243    Men's Casual Pants 男士休闲裤          顺德仓库  ...       罗智斌         0.3094   \n1244  Women's Casual Pants 女士休闲裤          顺德仓库  ...       罗智斌         0.3265   \n1245    Men's Casual Pants 男士休闲裤          顺德仓库  ...       董俊晓         0.3290   \n\n      buyingPrice       material withholdStock  \\\n29           29.5      polyester           1.0   \n30           20.0       polyster           0.0   \n31           19.0      polyester           0.0   \n32           19.0      Polyester           0.0   \n33           19.0      Polyester           0.0   \n...           ...            ...           ...   \n1241         26.0         Cotton           0.0   \n1242         65.0  Nylon,Spandex           1.0   \n1243         37.0  Nylon,Spandex           2.0   \n1244         21.0      Polyester           0.0   \n1245         40.0        Acrylic           0.0   \n\n                                         productSkuHref similarity  \\\n29    /links/erp/products?query.productSku=ZTY231030001     0.6710   \n30    /links/erp/products?query.productSku=QXP240705001     0.6693   \n31    /links/erp/products?query.productSku=LBB230904029     0.6663   \n32    /links/erp/products?query.productSku=LBB230904031     0.6617   \n33    /links/erp/products?query.productSku=LBB230904023     0.6607   \n...                                                 ...        ...   \n1241  /links/erp/products?query.productSku=CJN211214321     0.6081   \n1242  /links/erp/products?query.productSku=ZRR240624003     0.7069   \n1243  /links/erp/products?query.productSku=HYM231006008     0.6906   \n1244  /links/erp/products?query.productSku=XJJ221028015     0.6735   \n1245   /links/erp/products?query.productSku=YAY91105377     0.6710   \n\n             ymd  status ymd_HMS  \n29    2024_07_22  Unused     NaN  \n30    2024_07_22  Unused     NaN  \n31    2024_07_22  Unused     NaN  \n32    2024_07_22  Unused     NaN  \n33    2024_07_22  Unused     NaN  \n...          ...     ...     ...  \n1241  2024_07_22  Unused     NaN  \n1242  2024_07_22  Unused     NaN  \n1243  2024_07_22  Unused     NaN  \n1244  2024_07_22  Unused     NaN  \n1245  2024_07_22  Unused     NaN  \n\n[1162 rows x 21 columns]",
      "text/html": "<div>\n<style scoped>\n    .dataframe tbody tr th:only-of-type {\n        vertical-align: middle;\n    }\n\n    .dataframe tbody tr th {\n        vertical-align: top;\n    }\n\n    .dataframe thead th {\n        text-align: right;\n    }\n</style>\n<table border=\"1\" class=\"dataframe\">\n  <thead>\n    <tr style=\"text-align: right;\">\n      <th></th>\n      <th>sf</th>\n      <th>fp</th>\n      <th>imageUrl</th>\n      <th>productSku</th>\n      <th>amazon_psku</th>\n      <th>ASIN</th>\n      <th>note</th>\n      <th>productLabelList</th>\n      <th>categoryName</th>\n      <th>warehouseName</th>\n      <th>...</th>\n      <th>buyerName</th>\n      <th>vectorDistance</th>\n      <th>buyingPrice</th>\n      <th>material</th>\n      <th>withholdStock</th>\n      <th>productSkuHref</th>\n      <th>similarity</th>\n      <th>ymd</th>\n      <th>status</th>\n      <th>ymd_HMS</th>\n    </tr>\n  </thead>\n  <tbody>\n    <tr>\n      <th>29</th>\n      <td>default</td>\n      <td>cargohose_herren/2024_07_22_(08-09)/img/defaul...</td>\n      <td>http://183.62.143.166:28099/image/product/ftp/...</td>\n      <td>ZTY231030001</td>\n      <td>NaN</td>\n      <td>NaN</td>\n      <td>NaN</td>\n      <td>['可压缩产品', '部分停产下架']</td>\n      <td>Men's Cargo Pants 男士工装裤</td>\n      <td>顺德仓库</td>\n      <td>...</td>\n      <td>黄高希</td>\n      <td>0.3290</td>\n      <td>29.5</td>\n      <td>polyester</td>\n      <td>1.0</td>\n      <td>/links/erp/products?query.productSku=ZTY231030001</td>\n      <td>0.6710</td>\n      <td>2024_07_22</td>\n      <td>Unused</td>\n      <td>NaN</td>\n    </tr>\n    <tr>\n      <th>30</th>\n      <td>default</td>\n      <td>cargohose_herren/2024_07_22_(08-09)/img/defaul...</td>\n      <td>http://183.62.143.166:28099/image/product/ftp/...</td>\n      <td>QXP240705001</td>\n      <td>NaN</td>\n      <td>NaN</td>\n      <td>NaN</td>\n      <td>[]</td>\n      <td>Men's Casual Pants 男士休闲裤</td>\n      <td>顺德仓库</td>\n      <td>...</td>\n      <td>张欢欢</td>\n      <td>0.3307</td>\n      <td>20.0</td>\n      <td>polyster</td>\n      <td>0.0</td>\n      <td>/links/erp/products?query.productSku=QXP240705001</td>\n      <td>0.6693</td>\n      <td>2024_07_22</td>\n      <td>Unused</td>\n      <td>NaN</td>\n    </tr>\n    <tr>\n      <th>31</th>\n      <td>default</td>\n      <td>cargohose_herren/2024_07_22_(08-09)/img/defaul...</td>\n      <td>http://183.62.143.166:28099/image/product/ftp/...</td>\n      <td>LBB230904029</td>\n      <td>NaN</td>\n      <td>NaN</td>\n      <td>NaN</td>\n      <td>['可压缩产品', '一件起订', '冬季', '部分停产下架']</td>\n      <td>Men's Casual Pants 男士休闲裤</td>\n      <td>顺德仓库</td>\n      <td>...</td>\n      <td>罗智斌</td>\n      <td>0.3337</td>\n      <td>19.0</td>\n      <td>polyester</td>\n      <td>0.0</td>\n      <td>/links/erp/products?query.productSku=LBB230904029</td>\n      <td>0.6663</td>\n      <td>2024_07_22</td>\n      <td>Unused</td>\n      <td>NaN</td>\n    </tr>\n    <tr>\n      <th>32</th>\n      <td>default</td>\n      <td>cargohose_herren/2024_07_22_(08-09)/img/defaul...</td>\n      <td>http://183.62.143.166:28099/image/product/ftp/...</td>\n      <td>LBB230904031</td>\n      <td>NaN</td>\n      <td>NaN</td>\n      <td>NaN</td>\n      <td>['可压缩产品', '冬季', '一件起订', '部分停产下架']</td>\n      <td>Men's Casual Pants 男士休闲裤</td>\n      <td>顺德仓库</td>\n      <td>...</td>\n      <td>罗智斌</td>\n      <td>0.3383</td>\n      <td>19.0</td>\n      <td>Polyester</td>\n      <td>0.0</td>\n      <td>/links/erp/products?query.productSku=LBB230904031</td>\n      <td>0.6617</td>\n      <td>2024_07_22</td>\n      <td>Unused</td>\n      <td>NaN</td>\n    </tr>\n    <tr>\n      <th>33</th>\n      <td>default</td>\n      <td>cargohose_herren/2024_07_22_(08-09)/img/defaul...</td>\n      <td>http://183.62.143.166:28099/image/product/ftp/...</td>\n      <td>LBB230904023</td>\n      <td>NaN</td>\n      <td>NaN</td>\n      <td>NaN</td>\n      <td>['可压缩产品', '冬季', '一件起订', '部分停产下架']</td>\n      <td>Men's Casual Pants 男士休闲裤</td>\n      <td>顺德仓库</td>\n      <td>...</td>\n      <td>罗智斌</td>\n      <td>0.3393</td>\n      <td>19.0</td>\n      <td>Polyester</td>\n      <td>0.0</td>\n      <td>/links/erp/products?query.productSku=LBB230904023</td>\n      <td>0.6607</td>\n      <td>2024_07_22</td>\n      <td>Unused</td>\n      <td>NaN</td>\n    </tr>\n    <tr>\n      <th>...</th>\n      <td>...</td>\n      <td>...</td>\n      <td>...</td>\n      <td>...</td>\n      <td>...</td>\n      <td>...</td>\n      <td>...</td>\n      <td>...</td>\n      <td>...</td>\n      <td>...</td>\n      <td>...</td>\n      <td>...</td>\n      <td>...</td>\n      <td>...</td>\n      <td>...</td>\n      <td>...</td>\n      <td>...</td>\n      <td>...</td>\n      <td>...</td>\n      <td>...</td>\n      <td>...</td>\n    </tr>\n    <tr>\n      <th>1241</th>\n      <td>best</td>\n      <td>cargohose_herren/2024_07_22_(08-09)/img/best/c...</td>\n      <td>http://183.62.143.166:28099/image/product/ftp/...</td>\n      <td>CJN211214321</td>\n      <td>NaN</td>\n      <td>NaN</td>\n      <td>NaN</td>\n      <td>['可压缩产品', '部分停产下架']</td>\n      <td>Women's Casual Pants 女士休闲裤</td>\n      <td>顺德仓库</td>\n      <td>...</td>\n      <td>杨汉玉</td>\n      <td>0.3919</td>\n      <td>26.0</td>\n      <td>Cotton</td>\n      <td>0.0</td>\n      <td>/links/erp/products?query.productSku=CJN211214321</td>\n      <td>0.6081</td>\n      <td>2024_07_22</td>\n      <td>Unused</td>\n      <td>NaN</td>\n    </tr>\n    <tr>\n      <th>1242</th>\n      <td>best</td>\n      <td>cargohose_herren/2024_07_22_(08-09)/img/best/c...</td>\n      <td>http://183.62.143.166:28099/image/product/ftp/...</td>\n      <td>ZRR240624003</td>\n      <td>NaN</td>\n      <td>NaN</td>\n      <td>NaN</td>\n      <td>[]</td>\n      <td>Men's Cargo Pants 男士工装裤</td>\n      <td>顺德仓库</td>\n      <td>...</td>\n      <td>郑楚薇</td>\n      <td>0.2931</td>\n      <td>65.0</td>\n      <td>Nylon,Spandex</td>\n      <td>1.0</td>\n      <td>/links/erp/products?query.productSku=ZRR240624003</td>\n      <td>0.7069</td>\n      <td>2024_07_22</td>\n      <td>Unused</td>\n      <td>NaN</td>\n    </tr>\n    <tr>\n      <th>1243</th>\n      <td>best</td>\n      <td>cargohose_herren/2024_07_22_(08-09)/img/best/c...</td>\n      <td>http://183.62.143.166:28099/image/product/ftp/...</td>\n      <td>HYM231006008</td>\n      <td>NaN</td>\n      <td>NaN</td>\n      <td>NaN</td>\n      <td>['可压缩产品']</td>\n      <td>Men's Casual Pants 男士休闲裤</td>\n      <td>顺德仓库</td>\n      <td>...</td>\n      <td>罗智斌</td>\n      <td>0.3094</td>\n      <td>37.0</td>\n      <td>Nylon,Spandex</td>\n      <td>2.0</td>\n      <td>/links/erp/products?query.productSku=HYM231006008</td>\n      <td>0.6906</td>\n      <td>2024_07_22</td>\n      <td>Unused</td>\n      <td>NaN</td>\n    </tr>\n    <tr>\n      <th>1244</th>\n      <td>best</td>\n      <td>cargohose_herren/2024_07_22_(08-09)/img/best/c...</td>\n      <td>http://183.62.143.166:28099/image/product/ftp/...</td>\n      <td>XJJ221028015</td>\n      <td>NaN</td>\n      <td>NaN</td>\n      <td>NaN</td>\n      <td>['圣诞节产品', '可压缩产品', '部分停产下架']</td>\n      <td>Women's Casual Pants 女士休闲裤</td>\n      <td>顺德仓库</td>\n      <td>...</td>\n      <td>罗智斌</td>\n      <td>0.3265</td>\n      <td>21.0</td>\n      <td>Polyester</td>\n      <td>0.0</td>\n      <td>/links/erp/products?query.productSku=XJJ221028015</td>\n      <td>0.6735</td>\n      <td>2024_07_22</td>\n      <td>Unused</td>\n      <td>NaN</td>\n    </tr>\n    <tr>\n      <th>1245</th>\n      <td>best</td>\n      <td>cargohose_herren/2024_07_22_(08-09)/img/best/c...</td>\n      <td>http://183.62.143.166:28099/image/product/ftp/...</td>\n      <td>YAY91105377</td>\n      <td>NaN</td>\n      <td>NaN</td>\n      <td>NaN</td>\n      <td>['部分停产下架', '可压缩产品']</td>\n      <td>Men's Casual Pants 男士休闲裤</td>\n      <td>顺德仓库</td>\n      <td>...</td>\n      <td>董俊晓</td>\n      <td>0.3290</td>\n      <td>40.0</td>\n      <td>Acrylic</td>\n      <td>0.0</td>\n      <td>/links/erp/products?query.productSku=YAY91105377</td>\n      <td>0.6710</td>\n      <td>2024_07_22</td>\n      <td>Unused</td>\n      <td>NaN</td>\n    </tr>\n  </tbody>\n</table>\n<p>1162 rows × 21 columns</p>\n</div>"
     },
     "execution_count": 58,
     "metadata": {},
     "output_type": "execute_result"
    }
   ],
   "source": [
    "from util.widgets import Status\n",
    "\n",
    "tgt_unused_df = tgt_df[tgt_df['status'] == Status.UNUSED.value]\n",
    "\n",
    "tgt_unused_df"
   ],
   "metadata": {
    "collapsed": false,
    "pycharm": {
     "name": "#%%\n"
    }
   }
  },
  {
   "cell_type": "code",
   "execution_count": 59,
   "outputs": [
    {
     "data": {
      "text/plain": "          sf                                                 fp  \\\n29   default  cargohose_herren/2024_07_22_(08-09)/img/defaul...   \n30   default  cargohose_herren/2024_07_22_(08-09)/img/defaul...   \n31   default  cargohose_herren/2024_07_22_(08-09)/img/defaul...   \n32   default  cargohose_herren/2024_07_22_(08-09)/img/defaul...   \n33   default  cargohose_herren/2024_07_22_(08-09)/img/defaul...   \n..       ...                                                ...   \n664     best  cargohose_herren/2024_07_22_(08-09)/img/best/c...   \n665     best  cargohose_herren/2024_07_22_(08-09)/img/best/c...   \n666     best  cargohose_herren/2024_07_22_(08-09)/img/best/c...   \n667     best  cargohose_herren/2024_07_22_(08-09)/img/best/c...   \n668     best  cargohose_herren/2024_07_22_(08-09)/img/best/c...   \n\n                                              imageUrl    productSku  \\\n29   http://183.62.143.166:28099/image/product/ftp/...  ZTY231030001   \n30   http://183.62.143.166:28099/image/product/ftp/...  QXP240705001   \n31   http://183.62.143.166:28099/image/product/ftp/...  LBB230904029   \n32   http://183.62.143.166:28099/image/product/ftp/...  LBB230904031   \n33   http://183.62.143.166:28099/image/product/ftp/...  LBB230904023   \n..                                                 ...           ...   \n664  http://183.62.143.166:28099/image/product/ftp/...   SJH90408841   \n665  http://183.62.143.166:28099/image/product/ftp/...  SQI220304177   \n666  http://183.62.143.166:28099/image/product/ftp/...   MJJ90827294   \n667  http://183.62.143.166:28099/image/product/ftp/...  ALH231014011   \n668  http://183.62.143.166:28099/image/product/ftp/...  HYM240325001   \n\n    amazon_psku  ASIN note                   productLabelList  \\\n29          NaN   NaN  NaN                ['可压缩产品', '部分停产下架']   \n30          NaN   NaN  NaN                                 []   \n31          NaN   NaN  NaN  ['可压缩产品', '一件起订', '冬季', '部分停产下架']   \n32          NaN   NaN  NaN  ['可压缩产品', '冬季', '一件起订', '部分停产下架']   \n33          NaN   NaN  NaN  ['可压缩产品', '冬季', '一件起订', '部分停产下架']   \n..          ...   ...  ...                                ...   \n664         NaN   NaN  NaN                          ['可压缩产品']   \n665         NaN   NaN  NaN      ['可压缩产品', 'ebay不卖', '部分停产下架']   \n666         NaN   NaN  NaN                                 []   \n667         NaN   NaN  NaN                    ['冬季', '可压缩产品']   \n668         NaN   NaN  NaN                                 []   \n\n                 categoryName warehouseName  ... buyerName vectorDistance  \\\n29    Men's Cargo Pants 男士工装裤          顺德仓库  ...       黄高希         0.3290   \n30   Men's Casual Pants 男士休闲裤          顺德仓库  ...       张欢欢         0.3307   \n31   Men's Casual Pants 男士休闲裤          顺德仓库  ...       罗智斌         0.3337   \n32   Men's Casual Pants 男士休闲裤          顺德仓库  ...       罗智斌         0.3383   \n33   Men's Casual Pants 男士休闲裤          顺德仓库  ...       罗智斌         0.3393   \n..                        ...           ...  ...       ...            ...   \n664           Yoga Pants 瑜伽长裤          顺德仓库  ...        颜菲         0.3930   \n665  Men's Casual Pants 男士休闲裤          顺德仓库  ...       黄高希         0.3607   \n666  Men's Casual Pants 男士休闲裤          顺德仓库  ...       董俊晓         0.4046   \n667   Men's Cargo Pants 男士工装裤          顺德仓库  ...       罗智斌         0.3217   \n668         Men's Jeans 男士牛仔裤          顺德仓库  ...       邓烨萍         0.3234   \n\n     buyingPrice          material withholdStock  \\\n29          29.5         polyester           1.0   \n30          20.0          polyster           0.0   \n31          19.0         polyester           0.0   \n32          19.0         Polyester           0.0   \n33          19.0         Polyester           0.0   \n..           ...               ...           ...   \n664         24.0         Polyester           0.0   \n665         37.0         Polyester           0.0   \n666         30.0         Polyester           0.0   \n667         63.0         polyester           0.0   \n668         62.0  Polyester,Cotton           0.0   \n\n                                        productSkuHref similarity         ymd  \\\n29   /links/erp/products?query.productSku=ZTY231030001     0.6710  2024_07_22   \n30   /links/erp/products?query.productSku=QXP240705001     0.6693  2024_07_22   \n31   /links/erp/products?query.productSku=LBB230904029     0.6663  2024_07_22   \n32   /links/erp/products?query.productSku=LBB230904031     0.6617  2024_07_22   \n33   /links/erp/products?query.productSku=LBB230904023     0.6607  2024_07_22   \n..                                                 ...        ...         ...   \n664   /links/erp/products?query.productSku=SJH90408841     0.6070  2024_07_22   \n665  /links/erp/products?query.productSku=SQI220304177     0.6393  2024_07_22   \n666   /links/erp/products?query.productSku=MJJ90827294     0.5954  2024_07_22   \n667  /links/erp/products?query.productSku=ALH231014011     0.6783  2024_07_22   \n668  /links/erp/products?query.productSku=HYM240325001     0.6766  2024_07_22   \n\n     status ymd_HMS  \n29   Unused     NaN  \n30   Unused     NaN  \n31   Unused     NaN  \n32   Unused     NaN  \n33   Unused     NaN  \n..      ...     ...  \n664  Unused     NaN  \n665  Unused     NaN  \n666  Unused     NaN  \n667  Unused     NaN  \n668  Unused     NaN  \n\n[585 rows x 21 columns]",
      "text/html": "<div>\n<style scoped>\n    .dataframe tbody tr th:only-of-type {\n        vertical-align: middle;\n    }\n\n    .dataframe tbody tr th {\n        vertical-align: top;\n    }\n\n    .dataframe thead th {\n        text-align: right;\n    }\n</style>\n<table border=\"1\" class=\"dataframe\">\n  <thead>\n    <tr style=\"text-align: right;\">\n      <th></th>\n      <th>sf</th>\n      <th>fp</th>\n      <th>imageUrl</th>\n      <th>productSku</th>\n      <th>amazon_psku</th>\n      <th>ASIN</th>\n      <th>note</th>\n      <th>productLabelList</th>\n      <th>categoryName</th>\n      <th>warehouseName</th>\n      <th>...</th>\n      <th>buyerName</th>\n      <th>vectorDistance</th>\n      <th>buyingPrice</th>\n      <th>material</th>\n      <th>withholdStock</th>\n      <th>productSkuHref</th>\n      <th>similarity</th>\n      <th>ymd</th>\n      <th>status</th>\n      <th>ymd_HMS</th>\n    </tr>\n  </thead>\n  <tbody>\n    <tr>\n      <th>29</th>\n      <td>default</td>\n      <td>cargohose_herren/2024_07_22_(08-09)/img/defaul...</td>\n      <td>http://183.62.143.166:28099/image/product/ftp/...</td>\n      <td>ZTY231030001</td>\n      <td>NaN</td>\n      <td>NaN</td>\n      <td>NaN</td>\n      <td>['可压缩产品', '部分停产下架']</td>\n      <td>Men's Cargo Pants 男士工装裤</td>\n      <td>顺德仓库</td>\n      <td>...</td>\n      <td>黄高希</td>\n      <td>0.3290</td>\n      <td>29.5</td>\n      <td>polyester</td>\n      <td>1.0</td>\n      <td>/links/erp/products?query.productSku=ZTY231030001</td>\n      <td>0.6710</td>\n      <td>2024_07_22</td>\n      <td>Unused</td>\n      <td>NaN</td>\n    </tr>\n    <tr>\n      <th>30</th>\n      <td>default</td>\n      <td>cargohose_herren/2024_07_22_(08-09)/img/defaul...</td>\n      <td>http://183.62.143.166:28099/image/product/ftp/...</td>\n      <td>QXP240705001</td>\n      <td>NaN</td>\n      <td>NaN</td>\n      <td>NaN</td>\n      <td>[]</td>\n      <td>Men's Casual Pants 男士休闲裤</td>\n      <td>顺德仓库</td>\n      <td>...</td>\n      <td>张欢欢</td>\n      <td>0.3307</td>\n      <td>20.0</td>\n      <td>polyster</td>\n      <td>0.0</td>\n      <td>/links/erp/products?query.productSku=QXP240705001</td>\n      <td>0.6693</td>\n      <td>2024_07_22</td>\n      <td>Unused</td>\n      <td>NaN</td>\n    </tr>\n    <tr>\n      <th>31</th>\n      <td>default</td>\n      <td>cargohose_herren/2024_07_22_(08-09)/img/defaul...</td>\n      <td>http://183.62.143.166:28099/image/product/ftp/...</td>\n      <td>LBB230904029</td>\n      <td>NaN</td>\n      <td>NaN</td>\n      <td>NaN</td>\n      <td>['可压缩产品', '一件起订', '冬季', '部分停产下架']</td>\n      <td>Men's Casual Pants 男士休闲裤</td>\n      <td>顺德仓库</td>\n      <td>...</td>\n      <td>罗智斌</td>\n      <td>0.3337</td>\n      <td>19.0</td>\n      <td>polyester</td>\n      <td>0.0</td>\n      <td>/links/erp/products?query.productSku=LBB230904029</td>\n      <td>0.6663</td>\n      <td>2024_07_22</td>\n      <td>Unused</td>\n      <td>NaN</td>\n    </tr>\n    <tr>\n      <th>32</th>\n      <td>default</td>\n      <td>cargohose_herren/2024_07_22_(08-09)/img/defaul...</td>\n      <td>http://183.62.143.166:28099/image/product/ftp/...</td>\n      <td>LBB230904031</td>\n      <td>NaN</td>\n      <td>NaN</td>\n      <td>NaN</td>\n      <td>['可压缩产品', '冬季', '一件起订', '部分停产下架']</td>\n      <td>Men's Casual Pants 男士休闲裤</td>\n      <td>顺德仓库</td>\n      <td>...</td>\n      <td>罗智斌</td>\n      <td>0.3383</td>\n      <td>19.0</td>\n      <td>Polyester</td>\n      <td>0.0</td>\n      <td>/links/erp/products?query.productSku=LBB230904031</td>\n      <td>0.6617</td>\n      <td>2024_07_22</td>\n      <td>Unused</td>\n      <td>NaN</td>\n    </tr>\n    <tr>\n      <th>33</th>\n      <td>default</td>\n      <td>cargohose_herren/2024_07_22_(08-09)/img/defaul...</td>\n      <td>http://183.62.143.166:28099/image/product/ftp/...</td>\n      <td>LBB230904023</td>\n      <td>NaN</td>\n      <td>NaN</td>\n      <td>NaN</td>\n      <td>['可压缩产品', '冬季', '一件起订', '部分停产下架']</td>\n      <td>Men's Casual Pants 男士休闲裤</td>\n      <td>顺德仓库</td>\n      <td>...</td>\n      <td>罗智斌</td>\n      <td>0.3393</td>\n      <td>19.0</td>\n      <td>Polyester</td>\n      <td>0.0</td>\n      <td>/links/erp/products?query.productSku=LBB230904023</td>\n      <td>0.6607</td>\n      <td>2024_07_22</td>\n      <td>Unused</td>\n      <td>NaN</td>\n    </tr>\n    <tr>\n      <th>...</th>\n      <td>...</td>\n      <td>...</td>\n      <td>...</td>\n      <td>...</td>\n      <td>...</td>\n      <td>...</td>\n      <td>...</td>\n      <td>...</td>\n      <td>...</td>\n      <td>...</td>\n      <td>...</td>\n      <td>...</td>\n      <td>...</td>\n      <td>...</td>\n      <td>...</td>\n      <td>...</td>\n      <td>...</td>\n      <td>...</td>\n      <td>...</td>\n      <td>...</td>\n      <td>...</td>\n    </tr>\n    <tr>\n      <th>664</th>\n      <td>best</td>\n      <td>cargohose_herren/2024_07_22_(08-09)/img/best/c...</td>\n      <td>http://183.62.143.166:28099/image/product/ftp/...</td>\n      <td>SJH90408841</td>\n      <td>NaN</td>\n      <td>NaN</td>\n      <td>NaN</td>\n      <td>['可压缩产品']</td>\n      <td>Yoga Pants 瑜伽长裤</td>\n      <td>顺德仓库</td>\n      <td>...</td>\n      <td>颜菲</td>\n      <td>0.3930</td>\n      <td>24.0</td>\n      <td>Polyester</td>\n      <td>0.0</td>\n      <td>/links/erp/products?query.productSku=SJH90408841</td>\n      <td>0.6070</td>\n      <td>2024_07_22</td>\n      <td>Unused</td>\n      <td>NaN</td>\n    </tr>\n    <tr>\n      <th>665</th>\n      <td>best</td>\n      <td>cargohose_herren/2024_07_22_(08-09)/img/best/c...</td>\n      <td>http://183.62.143.166:28099/image/product/ftp/...</td>\n      <td>SQI220304177</td>\n      <td>NaN</td>\n      <td>NaN</td>\n      <td>NaN</td>\n      <td>['可压缩产品', 'ebay不卖', '部分停产下架']</td>\n      <td>Men's Casual Pants 男士休闲裤</td>\n      <td>顺德仓库</td>\n      <td>...</td>\n      <td>黄高希</td>\n      <td>0.3607</td>\n      <td>37.0</td>\n      <td>Polyester</td>\n      <td>0.0</td>\n      <td>/links/erp/products?query.productSku=SQI220304177</td>\n      <td>0.6393</td>\n      <td>2024_07_22</td>\n      <td>Unused</td>\n      <td>NaN</td>\n    </tr>\n    <tr>\n      <th>666</th>\n      <td>best</td>\n      <td>cargohose_herren/2024_07_22_(08-09)/img/best/c...</td>\n      <td>http://183.62.143.166:28099/image/product/ftp/...</td>\n      <td>MJJ90827294</td>\n      <td>NaN</td>\n      <td>NaN</td>\n      <td>NaN</td>\n      <td>[]</td>\n      <td>Men's Casual Pants 男士休闲裤</td>\n      <td>顺德仓库</td>\n      <td>...</td>\n      <td>董俊晓</td>\n      <td>0.4046</td>\n      <td>30.0</td>\n      <td>Polyester</td>\n      <td>0.0</td>\n      <td>/links/erp/products?query.productSku=MJJ90827294</td>\n      <td>0.5954</td>\n      <td>2024_07_22</td>\n      <td>Unused</td>\n      <td>NaN</td>\n    </tr>\n    <tr>\n      <th>667</th>\n      <td>best</td>\n      <td>cargohose_herren/2024_07_22_(08-09)/img/best/c...</td>\n      <td>http://183.62.143.166:28099/image/product/ftp/...</td>\n      <td>ALH231014011</td>\n      <td>NaN</td>\n      <td>NaN</td>\n      <td>NaN</td>\n      <td>['冬季', '可压缩产品']</td>\n      <td>Men's Cargo Pants 男士工装裤</td>\n      <td>顺德仓库</td>\n      <td>...</td>\n      <td>罗智斌</td>\n      <td>0.3217</td>\n      <td>63.0</td>\n      <td>polyester</td>\n      <td>0.0</td>\n      <td>/links/erp/products?query.productSku=ALH231014011</td>\n      <td>0.6783</td>\n      <td>2024_07_22</td>\n      <td>Unused</td>\n      <td>NaN</td>\n    </tr>\n    <tr>\n      <th>668</th>\n      <td>best</td>\n      <td>cargohose_herren/2024_07_22_(08-09)/img/best/c...</td>\n      <td>http://183.62.143.166:28099/image/product/ftp/...</td>\n      <td>HYM240325001</td>\n      <td>NaN</td>\n      <td>NaN</td>\n      <td>NaN</td>\n      <td>[]</td>\n      <td>Men's Jeans 男士牛仔裤</td>\n      <td>顺德仓库</td>\n      <td>...</td>\n      <td>邓烨萍</td>\n      <td>0.3234</td>\n      <td>62.0</td>\n      <td>Polyester,Cotton</td>\n      <td>0.0</td>\n      <td>/links/erp/products?query.productSku=HYM240325001</td>\n      <td>0.6766</td>\n      <td>2024_07_22</td>\n      <td>Unused</td>\n      <td>NaN</td>\n    </tr>\n  </tbody>\n</table>\n<p>585 rows × 21 columns</p>\n</div>"
     },
     "execution_count": 59,
     "metadata": {},
     "output_type": "execute_result"
    }
   ],
   "source": [
    "mask_label = [\n",
    "    \"'亚马逊欧盟不卖'\",\n",
    "    \"'钓鱼产品'\",\n",
    "    \"'停产下架'\",\n",
    "    # \"'部分停产下架'\",\n",
    "]\n",
    "kp_label = '|'.join(re.escape(t.replace('\\n', '')) for t in mask_label)\n",
    "tgt_unused_df = tgt_unused_df[~tgt_unused_df['productLabelList'].str.contains(kp_label, case=False, regex=True)]\n",
    "\n",
    "mask_cate = [\n",
    "    \"女士\",\n",
    "]\n",
    "kp_ct = '|'.join(re.escape(t.replace('\\n', '')) for t in mask_cate)\n",
    "tgt_unused_df = tgt_unused_df[~tgt_unused_df['categoryName'].str.contains(kp_ct, case=False, regex=True)]\n",
    "\n",
    "mask_matl = [\n",
    "    \"polyester\",\n",
    "    \"Polyester\",\n",
    "    \"polyster\",\n",
    "    \"polyster\",\n",
    "    \"Polyester(涤纶)\",\n",
    "    \"Polyester,Spandex\",\n",
    "    \"polyester（95%）\",\n",
    "    \"Polyeste\",\n",
    "    \"polyester,cotton\",\n",
    "    \"Polyester Fiber\",\n",
    "    \"Polyester cotton\",\n",
    "    \"Cotton+Polyester\",\n",
    "    \"Poylester\",\n",
    "    \"cotton,Poylester\",\n",
    "    \"Polyester,Cotton\",\n",
    "    \"Polyester fibre\",\n",
    "    \"涤纶polyester\",\n",
    "    \"Polyester涤纶\",\n",
    "    \"Polyester涤纶\",\n",
    "    \"cotton,polyester\",\n",
    "    \"Polyester Blend\",\n",
    "    \"Polyester涤纶\",\n",
    "    \"polyester fibre\",\n",
    "    \"cotton polyester\",\n",
    "    \"Polyester single hoodie\",\n",
    "    \"Ployester\",\n",
    "    \"polyester mesh\",\n",
    "    \"Polyester, spandex\",\n",
    "    \"Polyester and cotton mesh fabric\",\n",
    "    \"Polyester Cotton\",\n",
    "    \"涤polyester\",\n",
    "    \"Polyester涤纶\",\n",
    "    \"Polyester/cotton blended\",\n",
    "    \"cotton,polyester棉涤\",\n",
    "    \"Polyester Spandex\",\n",
    "    \"Polyester涤纶\",\n",
    "    \"polyestercotton\",\n",
    "    \"CottonPolyester\",\n",
    "    \"79% polyester fiber21% viscose fiber\",\n",
    "    \"90% polyester + 10% cotton\",\n",
    "    \"Ployster\",\n",
    "    \"95%Polyester+5%Spandex\",\n",
    "]\n",
    "kp_matl = '|'.join(re.escape(t.replace('\\n', '')) for t in mask_matl)\n",
    "tgt_unused_df.dropna(subset=['material'], inplace=True)\n",
    "tgt_unused_df = tgt_unused_df[tgt_unused_df['material'].str.contains(kp_matl, case=False, regex=True)]\n",
    "\n",
    "tgt_unused_df"
   ],
   "metadata": {
    "collapsed": false,
    "pycharm": {
     "name": "#%%\n"
    }
   }
  },
  {
   "cell_type": "markdown",
   "source": [
    "# 1-50"
   ],
   "metadata": {
    "collapsed": false,
    "pycharm": {
     "name": "#%% md\n"
    }
   }
  },
  {
   "cell_type": "code",
   "execution_count": 60,
   "outputs": [
    {
     "name": "stdout",
     "output_type": "stream",
     "text": [
      "AHY240625001 ARH230522004 AWB231219002 CMG210615252 CMG210906252 CMG220307256 CMG220905004 CMG221207014 CMG221207015 CMG221207016 CMG221207017 CMG221207020 CMG221207021 CMG230302006 CWL231026005 FBE220924043 FZQ230705020 FZQ230925006 FZQ230925008 HCJ231123001 LBB230904023 LBB230904027 LBB230904028 LBB230904029 LBB230904031 LBB240123002 LJH81008337 LLL231122001 LLL71218030 LNP220809008 LZZ220310635 MJJ201023291 QXP240705001 SCN221128001 SFW211229313 SQI220926005 WMQ230306012 WMQ230616009 YAY81204372 YLA231009004 YWZ240104009 ZME220405267 ZME220827007 ZTY210623248 ZTY230213002 ZTY230401011 ZTY230829002 ZTY230829005 ZTY231030001 ZZS210511744\n"
     ]
    }
   ],
   "source": [
    "batch_size = 50\n",
    "\n",
    "# tgt_unused_df.iloc[:batch_size, tgt_unused_df.columns.get_loc('status')] = Status.IN_USE.value\n",
    "# batch_df = tgt_unused_df[tgt_unused_df['status'] == Status.IN_USE.value]\n",
    "batch_df_1 = tgt_unused_df[0 * batch_size: 1 * batch_size].copy()\n",
    "batch_df_1.sort_values(by=['productSku'], inplace=True)\n",
    "prompt = ' '.join(batch_df_1['productSku'])\n",
    "print(prompt)"
   ],
   "metadata": {
    "collapsed": false,
    "pycharm": {
     "name": "#%%\n"
    }
   }
  },
  {
   "cell_type": "markdown",
   "source": [
    "# 51-100"
   ],
   "metadata": {
    "collapsed": false
   }
  },
  {
   "cell_type": "code",
   "execution_count": 61,
   "outputs": [
    {
     "name": "stdout",
     "output_type": "stream",
     "text": [
      "CMG220905003 CMG220920001 CMG230515004 CSL240611005 CXS210724924 CXS220325926 FZQ240130001 JZS200319274 KJY240711002 LAY230504021 LBB230626023 LBB230904026 LBB230925004 LBB231208001 LBB231211023 LBB240225010 LBB240227012 LBB240309026 LBB240318003 LLY230803016 LLY240311005 LYZ240712001 MJJ210305291 MYL240703001 OWY231222009 OWY231229008 QXP240704003 SCN221013024 SCN221128003 SFW221114007 SFW240110001 SQI220312172 YWZ240104006 ZCP210324003 ZJN240621018 ZME220111267 ZME220628005 ZTY210831235 ZTY211023234 ZTY211221236 ZTY220505006 ZTY221011010 ZTY221226005 ZTY230213004 ZTY230329001 ZTY230530004 ZTY230606006 ZTY230606007 ZYN230410001 ZZS210401747\n"
     ]
    }
   ],
   "source": [
    "batch_df_2 = tgt_unused_df[1 * batch_size: 2 * batch_size].copy()\n",
    "batch_df_2.sort_values(by=['productSku'], inplace=True)\n",
    "prompt = ' '.join(batch_df_2['productSku'])\n",
    "print(prompt)"
   ],
   "metadata": {
    "collapsed": false,
    "pycharm": {
     "name": "#%%\n"
    }
   }
  },
  {
   "cell_type": "markdown",
   "source": [],
   "metadata": {
    "collapsed": false,
    "pycharm": {
     "name": "#%% md\n"
    }
   }
  },
  {
   "cell_type": "markdown",
   "source": [
    "# 101-150"
   ],
   "metadata": {
    "collapsed": false,
    "pycharm": {
     "name": "#%% md\n"
    }
   }
  },
  {
   "cell_type": "code",
   "execution_count": 62,
   "outputs": [
    {
     "name": "stdout",
     "output_type": "stream",
     "text": [
      "AXY230810014 BXL240403004 CMG210610253 CMG210925255 CMG210929253 CMG240415005 CMG240628011 CXS210813921 CXS210814926 FBE230911002 FZQ240418013 GWW240614001 HKX240705006 HSW80321453 HYM230428001 HYM230505004 JXD230916003 LAY230414015 LAY230607009 LBB230331067 LBB230416018 LBB230511001 LBB230530011 LBB230606035 LBB230713001 LBB230904024 LBB230904032 LTH230331005 LXT211207133 LZZ80629632 LZZ81030639 QLX210226882 SCN210618001 SFW221114011 SQI220325175 SQI220325177 XKY211209065 YAY90523374 YJY90604044 YLA230621001 YLA240304016 YWZ230707002 YYC240610006 ZJN231010005 ZTY210407232 ZTY210831236 ZTY221017014 ZTY230619002 ZTY230821001 ZZS220822011\n"
     ]
    }
   ],
   "source": [
    "batch_df_3 = tgt_unused_df[2 * batch_size: 3 * batch_size].copy()\n",
    "batch_df_3.sort_values(by=['productSku'], inplace=True)\n",
    "prompt = ' '.join(batch_df_3['productSku'])\n",
    "print(prompt)"
   ],
   "metadata": {
    "collapsed": false,
    "pycharm": {
     "name": "#%%\n"
    }
   }
  },
  {
   "cell_type": "markdown",
   "source": [
    "# 151-200"
   ],
   "metadata": {
    "collapsed": false,
    "pycharm": {
     "name": "#%% md\n"
    }
   }
  },
  {
   "cell_type": "code",
   "execution_count": 63,
   "outputs": [
    {
     "name": "stdout",
     "output_type": "stream",
     "text": [
      "ALJ230223004 AWB240110004 BJX231205002 CMG210422252 CMG210426256 CMG210426257 CMG220615008 CMG221213003 CMG221213004 CMG230217005 CMG230302013 CXO201130361 CXS220518008 FBE230415012 FBE230607001 FZQ230417021 HCJ220601001 HSW200421451 LBB230311012 LBB240115007 LDE240620002 LJE210506973 LJF90917780 LJH91106331 LZQ230418003 LZZ220107640 LZZ220310634 MGG230131002 MJJ230222021 MJJ81206291 MJJ90320294 QQQ201004083 QQQ201004084 QQQ201006089 SQI220321175 SQI220325171 SQI220325172 SQI221203012 WJY211118101 YIN200629008 ZHB210301494 ZJN240314006 ZME220212265 ZME220223264 ZTY220208232 ZTY221008003 ZTY221101008 ZTY230530002 ZTY231016004 ZTY231215001\n"
     ]
    }
   ],
   "source": [
    "batch_df_4 = tgt_unused_df[3 * batch_size: 4 * batch_size].copy()\n",
    "batch_df_4.sort_values(by=['productSku'], inplace=True)\n",
    "prompt = ' '.join(batch_df_4['productSku'])\n",
    "print(prompt)"
   ],
   "metadata": {
    "collapsed": false,
    "pycharm": {
     "name": "#%%\n"
    }
   }
  }
 ],
 "metadata": {
  "kernelspec": {
   "display_name": "Python 3",
   "language": "python",
   "name": "python3"
  },
  "language_info": {
   "codemirror_mode": {
    "name": "ipython",
    "version": 2
   },
   "file_extension": ".py",
   "mimetype": "text/x-python",
   "name": "python",
   "nbconvert_exporter": "python",
   "pygments_lexer": "ipython2",
   "version": "2.7.6"
  }
 },
 "nbformat": 4,
 "nbformat_minor": 0
}