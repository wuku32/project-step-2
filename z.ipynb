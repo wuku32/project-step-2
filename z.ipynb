{
 "cells": [
  {
   "cell_type": "markdown",
   "source": [
    "# 1. 目录"
   ],
   "metadata": {
    "collapsed": false,
    "pycharm": {
     "name": "#%% md\n"
    }
   }
  },
  {
   "cell_type": "code",
   "execution_count": 23,
   "outputs": [],
   "source": [
    "import os\n",
    "\n",
    "from util.widgets import generate_ym, generate_ymd, generate_i\n",
    "\n",
    "ym = generate_ym()\n",
    "g = 'cargohose_herren'\n",
    "bd = f'{g}/{ym}'\n",
    "bd_a = f'{bd}/a'\n",
    "bd_a_log = f'{bd_a}/log'\n",
    "b_d = f'{g}_{ym}'\n",
    "\n",
    "os.makedirs(bd, exist_ok=True)\n",
    "os.makedirs(bd_a, exist_ok=True)\n",
    "os.makedirs(bd_a_log, exist_ok=True)\n",
    "\n",
    "ymd = generate_ymd()\n",
    "i = '(08-09)'\n",
    "bd_img = f'{bd}/{ymd}_{i}'"
   ],
   "metadata": {
    "collapsed": false,
    "pycharm": {
     "name": "#%%\n"
    }
   }
  },
  {
   "cell_type": "markdown",
   "source": [
    "# 2. 创建rawd.xlsx"
   ],
   "metadata": {
    "collapsed": false,
    "pycharm": {
     "name": "#%% md\n"
    }
   }
  },
  {
   "cell_type": "code",
   "execution_count": 24,
   "outputs": [],
   "source": [
    "import os\n",
    "from openpyxl import Workbook\n",
    "\n",
    "fp = f'{bd}/{b_d}_rawd.xlsx'\n",
    "\n",
    "if not os.path.exists(fp):\n",
    "    # 创建一个新的工作簿对象\n",
    "    wb = Workbook()\n",
    "\n",
    "    # 选择活动工作表，新工作簿默认包含一个名为'Sheet'的工作表\n",
    "    ws = wb.active\n",
    "\n",
    "    # 更改活动工作表的名称\n",
    "    ws.title = 'goods'\n",
    "\n",
    "    # 保存工作簿到磁盘\n",
    "    wb.save(fp)"
   ],
   "metadata": {
    "collapsed": false,
    "pycharm": {
     "name": "#%%\n"
    }
   }
  },
  {
   "cell_type": "markdown",
   "source": [
    "# 3. 创建title.xlsx"
   ],
   "metadata": {
    "collapsed": false
   }
  },
  {
   "cell_type": "code",
   "execution_count": 25,
   "outputs": [],
   "source": [
    "import os\n",
    "from openpyxl import Workbook\n",
    "\n",
    "fp = f'{bd}/{b_d}_title.xlsx'\n",
    "\n",
    "if not os.path.exists(fp):\n",
    "    # 创建一个新的工作簿对象\n",
    "    wb = Workbook()\n",
    "\n",
    "    # 选择活动工作表，新工作簿默认包含一个名为'Sheet'的工作表\n",
    "    ws = wb.active\n",
    "\n",
    "    # 更改活动工作表的名称\n",
    "    ws.title = 'title'\n",
    "\n",
    "    # 添加新的工作表\n",
    "    wb.create_sheet('term(2)')\n",
    "    wb.create_sheet('term(3)')\n",
    "\n",
    "    # 保存工作簿到磁盘\n",
    "    wb.save(fp)"
   ],
   "metadata": {
    "collapsed": false,
    "pycharm": {
     "name": "#%%\n"
    }
   }
  },
  {
   "cell_type": "markdown",
   "source": [
    "# 4. 创建st250.xlsx"
   ],
   "metadata": {
    "collapsed": false
   }
  },
  {
   "cell_type": "code",
   "execution_count": 26,
   "outputs": [],
   "source": [
    "import os\n",
    "from openpyxl import Workbook\n",
    "\n",
    "fp = f'{bd}/{b_d}_st250.xlsx'\n",
    "\n",
    "if not os.path.exists(fp):\n",
    "    # 创建一个新的工作簿对象\n",
    "    wb = Workbook()\n",
    "\n",
    "    # 选择活动工作表，新工作簿默认包含一个名为'Sheet'的工作表\n",
    "    ws = wb.active\n",
    "\n",
    "    # 更改活动工作表的名称\n",
    "    ws.title = 'st250'\n",
    "\n",
    "    # 添加新的工作表\n",
    "    wb.create_sheet('st')\n",
    "\n",
    "    # 保存工作簿到磁盘\n",
    "    wb.save(fp)"
   ],
   "metadata": {
    "collapsed": false,
    "pycharm": {
     "name": "#%%\n"
    }
   }
  },
  {
   "cell_type": "markdown",
   "source": [
    "# 5. 创建tgt.xlsx"
   ],
   "metadata": {
    "collapsed": false
   }
  },
  {
   "cell_type": "code",
   "execution_count": 27,
   "outputs": [],
   "source": [
    "import os\n",
    "from openpyxl import Workbook\n",
    "\n",
    "fp = f'{bd}/{b_d}_tgt.xlsx'\n",
    "\n",
    "if not os.path.exists(fp):\n",
    "    # 创建一个新的工作簿对象\n",
    "    wb = Workbook()\n",
    "\n",
    "    # 选择活动工作表，新工作簿默认包含一个名为'Sheet'的工作表\n",
    "    ws = wb.active\n",
    "\n",
    "    # 更改活动工作表的名称\n",
    "    ws.title = 'tgt'\n",
    "\n",
    "    # 保存工作簿到磁盘\n",
    "    wb.save(fp)"
   ],
   "metadata": {
    "collapsed": false,
    "pycharm": {
     "name": "#%%\n"
    }
   }
  },
  {
   "cell_type": "markdown",
   "source": [
    "# 6. 测试匹配sku颜色尺码的正则表达式"
   ],
   "metadata": {
    "collapsed": false
   }
  },
  {
   "cell_type": "code",
   "execution_count": 28,
   "outputs": [
    {
     "name": "stdout",
     "output_type": "stream",
     "text": [
      "BW2 35\n",
      "BK 32\n",
      "BK L2\n",
      "BK L\n"
     ]
    }
   ],
   "source": [
    "import re\n",
    "\n",
    "c_s = re.compile(r'(?P<s>\\d{2}|\\d[A-Z]|[A-Z]{1,2})(?P<c>\\d[A-Z]{2}|[A-Z]{2})')\n",
    "s1 = 'MKT-DE-24-07-18-001-BW235'\n",
    "s2 = 'MKT-DE-24-07-22-004-BK32'\n",
    "s3 = 'MKT-DE-24-07-22-004-BKL2'\n",
    "s4 = 'MKT-DE-24-07-22-004-BKL'\n",
    "\n",
    "print(c_s.match(s1[::-1]).group('c')[::-1], c_s.match(s1[::-1]).group('s')[::-1])\n",
    "print(c_s.match(s2[::-1]).group('c')[::-1], c_s.match(s2[::-1]).group('s')[::-1])\n",
    "print(c_s.match(s3[::-1]).group('c')[::-1], c_s.match(s3[::-1]).group('s')[::-1])\n",
    "print(c_s.match(s4[::-1]).group('c')[::-1], c_s.match(s4[::-1]).group('s')[::-1])"
   ],
   "metadata": {
    "collapsed": false,
    "pycharm": {
     "name": "#%%\n"
    }
   }
  },
  {
   "cell_type": "code",
   "execution_count": 29,
   "outputs": [
    {
     "name": "stdout",
     "output_type": "stream",
     "text": [
      "BW 23\n",
      "BK 32\n",
      "BK L2\n"
     ]
    }
   ],
   "source": [
    "import re\n",
    "\n",
    "c_s = re.compile(r'.*-(?P<c>[A-Z]{2}|[A-Z]{2}\\d?)(?P<s>\\d{2}|[A-Z]{2}|[A-Z]\\d)')\n",
    "s1 = 'MKT-DE-24-07-18-001-BW235'\n",
    "s2 = 'MKT-DE-24-07-22-004-BK32'\n",
    "s3 = 'MKT-DE-24-07-22-004-BKL2'\n",
    "\n",
    "print(c_s.match(s1).group('c'), c_s.match(s1).group('s'))\n",
    "print(c_s.match(s2).group('c'), c_s.match(s2).group('s'))\n",
    "print(c_s.match(s3).group('c'), c_s.match(s3).group('s'))"
   ],
   "metadata": {
    "collapsed": false,
    "pycharm": {
     "name": "#%%\n"
    }
   }
  },
  {
   "cell_type": "markdown",
   "source": [
    "# 7. 在不影响其他工作表的情况下修改"
   ],
   "metadata": {
    "collapsed": false
   }
  },
  {
   "cell_type": "code",
   "execution_count": 30,
   "outputs": [],
   "source": [
    "import numpy as np\n",
    "import pandas as pd\n",
    "from openpyxl import load_workbook\n",
    "\n",
    "fp = f'{bd}/{b_d}_rawd_copy.xlsx'\n",
    "\n",
    "a = pd.DataFrame(np.ones((4, 4)))\n",
    "# 加载现有的工作簿\n",
    "book = load_workbook(fp)\n",
    "\n",
    "# 使用openpyxl的方式选择要修改的工作表\n",
    "with pd.ExcelWriter(fp, engine='openpyxl') as writer:\n",
    "    writer.book = book\n",
    "\n",
    "    if 'aaa' in book.sheetnames:\n",
    "        book.remove(book['aaa'])\n",
    "\n",
    "    # 将修改后的A工作表写回工作簿\n",
    "    a.to_excel(writer, sheet_name='aaa', index=False)"
   ],
   "metadata": {
    "collapsed": false,
    "pycharm": {
     "name": "#%%\n"
    }
   }
  },
  {
   "cell_type": "markdown",
   "source": [
    "# 8. 测试匹配建议价的正则表达式"
   ],
   "metadata": {
    "collapsed": false
   }
  },
  {
   "cell_type": "code",
   "execution_count": 31,
   "outputs": [
    {
     "data": {
      "text/plain": "'33.83'"
     },
     "execution_count": 31,
     "metadata": {},
     "output_type": "execute_result"
    }
   ],
   "source": [
    "import re\n",
    "\n",
    "s = '日本-挂号价：3386.24 JPY  欧洲_挂号价_30：33.83 EUR  美国_挂号价_30：23.59 USD  英国-挂号价：28.01 GBP'\n",
    "rp = re.compile(r'.*?欧洲_挂号价.*?：(?P<rp>.*?) EUR')\n",
    "rp.match(s).group('rp')"
   ],
   "metadata": {
    "collapsed": false,
    "pycharm": {
     "name": "#%%\n"
    }
   }
  },
  {
   "cell_type": "markdown",
   "source": [
    "# 9. 用于确认的弹窗"
   ],
   "metadata": {
    "collapsed": false
   }
  },
  {
   "cell_type": "code",
   "execution_count": 32,
   "outputs": [],
   "source": [
    "import tkinter as tk\n",
    "\n",
    "\n",
    "def show_dialog():\n",
    "    # 主窗口\n",
    "    root = tk.Tk()\n",
    "    root.withdraw()  # 隐藏主窗口\n",
    "\n",
    "    # 创建一个顶级窗口作为对话框\n",
    "    dialog = tk.Toplevel(root)\n",
    "    dialog.title(\"Confirm Dialog\")\n",
    "\n",
    "    # 添加一些文本\n",
    "    label = tk.Label(dialog, text=\"将所有副本复制到主文件？\")\n",
    "    label.pack(padx=10, pady=10)\n",
    "\n",
    "    # 定义按钮的回调函数\n",
    "    def on_confirm():\n",
    "        print('Hello World')\n",
    "        dialog.destroy()  # 关闭对话框\n",
    "        root.destroy()  # 关闭主窗口\n",
    "\n",
    "    def on_cancel():\n",
    "        dialog.destroy()  # 关闭对话框\n",
    "        root.destroy()  # 关闭主窗口\n",
    "\n",
    "    # 创建按钮\n",
    "    confirm_button = tk.Button(dialog, text=\"Confirm\", command=on_confirm)\n",
    "    cancel_button = tk.Button(dialog, text=\"Cancel\", command=on_cancel)\n",
    "\n",
    "    # 布局按钮\n",
    "    confirm_button.pack(pady=5)\n",
    "    cancel_button.pack(pady=5)\n",
    "\n",
    "    # # 主窗口\n",
    "    # root = tk.Tk()\n",
    "    # root.withdraw()  # 隐藏主窗口\n",
    "    #\n",
    "    # # 直接显示对话框\n",
    "    # show_dialog()\n",
    "\n",
    "    # 运行主循环\n",
    "    root.mainloop()\n",
    "\n",
    "\n",
    "show_dialog()"
   ],
   "metadata": {
    "collapsed": false,
    "pycharm": {
     "name": "#%%\n"
    }
   }
  },
  {
   "cell_type": "markdown",
   "source": [
    "# 10. 计算词组相似度"
   ],
   "metadata": {
    "collapsed": false
   }
  },
  {
   "cell_type": "code",
   "execution_count": 33,
   "outputs": [
    {
     "name": "stdout",
     "output_type": "stream",
     "text": [
      "Jaccard Similarity: 0.50\n",
      "Cosine Similarity: 0.67\n"
     ]
    }
   ],
   "source": [
    "from collections import Counter\n",
    "from math import sqrt\n",
    "\n",
    "def jaccard_similarity(list1, list2):\n",
    "    intersection = len(set(list1).intersection(set(list2)))\n",
    "    union = len(set(list1).union(set(list2)))\n",
    "    return intersection / union\n",
    "\n",
    "def cosine_similarity(vec1, vec2):\n",
    "    dot_product = sum(p * q for p, q in zip(vec1, vec2))\n",
    "    magnitude = sqrt(sum([val ** 2 for val in vec1])) * sqrt(sum([val ** 2 for val in vec2]))\n",
    "    if not magnitude:\n",
    "        return 0\n",
    "    return dot_product / magnitude\n",
    "\n",
    "def word_overlap_similarity(phrase1, phrase2):\n",
    "    words1 = phrase1.split()\n",
    "    words2 = phrase2.split()\n",
    "\n",
    "    # 使用 Jaccard 相似度\n",
    "    jaccard_sim = jaccard_similarity(words1, words2)\n",
    "\n",
    "    # 使用余弦相似度\n",
    "    word_counts1 = Counter(words1)\n",
    "    word_counts2 = Counter(words2)\n",
    "    all_words = set(word_counts1.keys()).union(set(word_counts2.keys()))\n",
    "\n",
    "    vec1 = [word_counts1[word] for word in all_words]\n",
    "    vec2 = [word_counts2[word] for word in all_words]\n",
    "\n",
    "    cosine_sim = cosine_similarity(vec1, vec2)\n",
    "\n",
    "    return jaccard_sim, cosine_sim\n",
    "\n",
    "# 示例词组\n",
    "phrase1 = \"Cargohose Herren Hose\".lower()\n",
    "phrase2 = \"Herren Lang Hose\".lower()\n",
    "\n",
    "jaccard, cosine = word_overlap_similarity(phrase1, phrase2)\n",
    "\n",
    "print(f\"Jaccard Similarity: {jaccard:.2f}\")\n",
    "print(f\"Cosine Similarity: {cosine:.2f}\")"
   ],
   "metadata": {
    "collapsed": false,
    "pycharm": {
     "name": "#%%\n"
    }
   }
  }
 ],
 "metadata": {
  "kernelspec": {
   "display_name": "Python 3",
   "language": "python",
   "name": "python3"
  },
  "language_info": {
   "codemirror_mode": {
    "name": "ipython",
    "version": 2
   },
   "file_extension": ".py",
   "mimetype": "text/x-python",
   "name": "python",
   "nbconvert_exporter": "python",
   "pygments_lexer": "ipython2",
   "version": "2.7.6"
  }
 },
 "nbformat": 4,
 "nbformat_minor": 0
}