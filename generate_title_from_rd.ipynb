{
 "cells": [
  {
   "cell_type": "code",
   "execution_count": 57,
   "metadata": {
    "collapsed": true
   },
   "outputs": [],
   "source": [
    "import os\n",
    "\n",
    "from util.widgets import generate_ym, generate_ymd, generate_ymd_HMS, generate_i\n",
    "\n",
    "ym = generate_ym()\n",
    "g = 'cargohose_herren'\n",
    "bd = f'{g}/{ym}'\n",
    "bd_a = f'{bd}/a'\n",
    "b_d = f'{g}_{ym}'\n",
    "\n",
    "os.makedirs(bd, exist_ok=True)\n",
    "os.makedirs(bd_a, exist_ok=True)\n",
    "\n",
    "ymd = generate_ymd()\n",
    "ymd_HMS = generate_ymd_HMS()\n",
    "i = '(08-09)'\n",
    "bd_a_img = f'{bd_a}/{ymd}'\n",
    "os.makedirs(bd_a_img, exist_ok=True)"
   ]
  },
  {
   "cell_type": "code",
   "execution_count": 58,
   "outputs": [
    {
     "data": {
      "text/plain": "            ymd        i     from        asin  price  \\\n0    2024_07_23  (15-16)  default  B07BJKFG6H  30.40   \n1    2024_07_23  (15-16)  default  B0C464TZNR  37.49   \n2    2024_07_23  (15-16)  default  B0BGKQ5LFL  40.98   \n3    2024_07_23  (15-16)  default  B0BZ36P72P  38.99   \n4    2024_07_23  (15-16)  default  B07C272VPK  40.22   \n..          ...      ...      ...         ...    ...   \n395  2024_07_24  (08-09)     best  B0C9PSFH3H  36.99   \n396  2024_07_24  (08-09)     best  B0C465Z73L  37.49   \n397  2024_07_24  (08-09)     best  B07PS7115C  39.99   \n398  2024_07_24  (08-09)     best  B00CZBLVIM  43.89   \n399  2024_07_24  (08-09)     best  B006LOECZ8  22.32   \n\n                                                   url  \\\n0    https://www.amazon.de/sspa/click?ie=UTF8&spc=M...   \n1    https://www.amazon.de/sspa/click?ie=UTF8&spc=M...   \n2    https://www.amazon.de/sspa/click?ie=UTF8&spc=M...   \n3    https://www.amazon.de/sspa/click?ie=UTF8&spc=M...   \n4    https://www.amazon.de/Herren-Jones-Jogger-Gumm...   \n..                                                 ...   \n395  https://www.amazon.de/Cindeyar-Cargohose-Wande...   \n396  https://www.amazon.de/Vthereal-Cargohose-Baumw...   \n397  https://www.amazon.de/FLYGAGA-Outdoorhose-Schn...   \n398  https://www.amazon.de/Brandit-Savannah-Herren-...   \n399  https://www.amazon.de/Brandit-1006-Rangerhose-...   \n\n                                                   src  \\\n0    https://m.media-amazon.com/images/I/81qIK780N4...   \n1    https://m.media-amazon.com/images/I/71DjzjnSmT...   \n2    https://m.media-amazon.com/images/I/61Mc8E8tSN...   \n3    https://m.media-amazon.com/images/I/61RCAipSMN...   \n4    https://m.media-amazon.com/images/I/71i8tEGUUF...   \n..                                                 ...   \n395  https://m.media-amazon.com/images/I/71HYPLdN4A...   \n396  https://m.media-amazon.com/images/I/71DjzjnSmT...   \n397  https://m.media-amazon.com/images/I/51tYSNZBVj...   \n398  https://m.media-amazon.com/images/I/61p1GqXMc6...   \n399  https://m.media-amazon.com/images/I/71JoaAcZW8...   \n\n                                                 title  \\\n0    Amazon Essentials Herren Jeans, Sportlich Gesc...   \n1    Vthereal Cargohose Herren Baumwolle Outdoorhos...   \n2    CQR Herren Taktische Hose, Wasserabweisende Ri...   \n3    Elegancity Cargohose Herren Chino Hose mit 6 T...   \n4                             JACK & JONES Herren Hose   \n..                                                 ...   \n395  Cindeyar Cargohose Herren Relaxed Fit Baumwoll...   \n396  Vthereal Cargohose Herren Baumwolle Outdoorhos...   \n397  FLYGAGA Herren Outdoorhose Wanderhose Zip Off ...   \n398  Brandit Savannah Hose, Zip-Off Outdoor Hose/Short   \n399  Brandit Rangerhose, Cargohose, Arbeitshose, Se...   \n\n                                                  desc  \\\n0    Eine Marke von Amazon - Diese klassische Jeans...   \n1                                                        \n2    Taktische Ausstattung von CQR wird mit einem P...   \n3                                                        \n4    Robust und lässig ist diese Cargohose von JACK...   \n..                                                 ...   \n395                                                      \n396                                                      \n397                                                      \n398  Produktinformationen \"Savannah Trousers\" - Mul...   \n399                    Brandit Ranger Hose, Beige, 7XL   \n\n                                                 bp_01  \\\n0    SPORTLICHE PASSFORM: Extra viel Platz in der H...   \n1    Diese herren cargohose bietet mit ihren 7 viel...   \n2                                                        \n3    *Elegancity Cargo Hose Herren Size Tipps: S-EU...   \n4    ✔ PRAKTISCH - Praktische Cargo Taschen für dei...   \n..                                                 ...   \n395  √【 Details & Highlights】Cargohose Herren mit M...   \n396  Diese herren cargohose bietet mit ihren 7 viel...   \n397  Herren Wanderhosen sind und eignet sich für Ou...   \n398                        Multifunktions-Trekkinghose   \n399  Zwei Gesäßtaschen mit Klappen und Knöpfen. Zwe...   \n\n                                                 bp_02  \\\n0    DENIM MIT LEICHTEM STRETCHANTEIL: Mittelschwer...   \n1    Diese herren cargohose ist aus einem hochwerti...   \n2                                                        \n3    *Die Cargohose ist einfarig und stretch mit 6 ...   \n4    ✔ PERFEKT- Die Taschen an der Rückseite des Mo...   \n..                                                 ...   \n395  √【Hoher Qualität Stoff】Wanderhose herren aus h...   \n396  Diese herren cargohose ist aus einem hochwerti...   \n397  Zip off Hose Herren: Die abnehmbare hosebeine ...   \n398  robustes, atmungsaktives und wasserabweisendes...   \n399  Regulierbare Bundweite und Tunnelzug in den Be...   \n\n                                                 bp_03  \\\n0    ATHLETIC-FIT JEAN: Diese klassische Five-Pocke...   \n1    Reibungslos und langlebig Verstellbare Kordelv...   \n2                                                        \n3    *Elegancity elastishe Jogginghose Herren eigne...   \n4    ✔ FLEXIBEL - Die Hose passt sich deinen Bewegu...   \n..                                                 ...   \n395  √【Klassischer Cargo-Stil】 Diese modische cargo...   \n396  Reibungslos und langlebig Verstellbare Kordelv...   \n397  Trekkinghose Herren: Das Gewebe der Outdoor Ho...   \n398    große Beintaschen mit Klett- und Reißverschluss   \n399                                      Große Taschen   \n\n                                                 bp_04  \\\n0    DETAILS: Mit Reißverschluss und Metallknopf am...   \n1    Diese cargohose geeignet für Jagd, taktische E...   \n2                                                        \n3    *Outfit Vorschlag: Elegancity Hose Herren mit ...   \n4    ✔ KOMFORTABEL - Besonders das Twill Gewebe sor...   \n..                                                 ...   \n395  √【Multi Taschen Design】 Arbeitshosen Männer si...   \n396  Diese cargohose geeignet für Jagd, taktische E...   \n397  Herren hose mit verstellbarem Seitenteil-Gummi...   \n398                  Beinabschlüsse mit Reißverschluss   \n399                     Ideal für Freizeit oder Arbeit   \n\n                                                 bp_05 bp_06  \\\n0                  BEINÖFFNUNG: 19 cm bei US Größe 32.   NaN   \n1    Pflegehinweise: Wir empfehlen, milde Waschmitt...   NaN   \n2                                                        NaN   \n3    *Casual Jogginghose Herren von Elegancity bis4...   NaN   \n4                                PAUL JJ FLAKE AKM 542   NaN   \n..                                                 ...   ...   \n395  √【Anlass】 Die lässige Cargohose herren kann al...   NaN   \n396  Pflegehinweise: Wir empfehlen, milde Waschmitt...   NaN   \n397  Herren Cargohose Abnehmbare Functionhose: Modi...   NaN   \n398                            gesticktes Brandit-Logo   NaN   \n399            Klassische Cargo-Hose im US Ranger Stil   NaN   \n\n                                                    bp  \n0    SPORTLICHE PASSFORM: Extra viel Platz in der H...  \n1    Diese herren cargohose bietet mit ihren 7 viel...  \n2                                         \\n \\n \\n \\n   \n3    *Elegancity Cargo Hose Herren Size Tipps: S-EU...  \n4    ✔ PRAKTISCH - Praktische Cargo Taschen für dei...  \n..                                                 ...  \n395  √【 Details & Highlights】Cargohose Herren mit M...  \n396  Diese herren cargohose bietet mit ihren 7 viel...  \n397  Herren Wanderhosen sind und eignet sich für Ou...  \n398  Multifunktions-Trekkinghose\\nrobustes, atmungs...  \n399  Zwei Gesäßtaschen mit Klappen und Knöpfen. Zwe...  \n\n[320 rows x 16 columns]",
      "text/html": "<div>\n<style scoped>\n    .dataframe tbody tr th:only-of-type {\n        vertical-align: middle;\n    }\n\n    .dataframe tbody tr th {\n        vertical-align: top;\n    }\n\n    .dataframe thead th {\n        text-align: right;\n    }\n</style>\n<table border=\"1\" class=\"dataframe\">\n  <thead>\n    <tr style=\"text-align: right;\">\n      <th></th>\n      <th>ymd</th>\n      <th>i</th>\n      <th>from</th>\n      <th>asin</th>\n      <th>price</th>\n      <th>url</th>\n      <th>src</th>\n      <th>title</th>\n      <th>desc</th>\n      <th>bp_01</th>\n      <th>bp_02</th>\n      <th>bp_03</th>\n      <th>bp_04</th>\n      <th>bp_05</th>\n      <th>bp_06</th>\n      <th>bp</th>\n    </tr>\n  </thead>\n  <tbody>\n    <tr>\n      <th>0</th>\n      <td>2024_07_23</td>\n      <td>(15-16)</td>\n      <td>default</td>\n      <td>B07BJKFG6H</td>\n      <td>30.40</td>\n      <td>https://www.amazon.de/sspa/click?ie=UTF8&amp;spc=M...</td>\n      <td>https://m.media-amazon.com/images/I/81qIK780N4...</td>\n      <td>Amazon Essentials Herren Jeans, Sportlich Gesc...</td>\n      <td>Eine Marke von Amazon - Diese klassische Jeans...</td>\n      <td>SPORTLICHE PASSFORM: Extra viel Platz in der H...</td>\n      <td>DENIM MIT LEICHTEM STRETCHANTEIL: Mittelschwer...</td>\n      <td>ATHLETIC-FIT JEAN: Diese klassische Five-Pocke...</td>\n      <td>DETAILS: Mit Reißverschluss und Metallknopf am...</td>\n      <td>BEINÖFFNUNG: 19 cm bei US Größe 32.</td>\n      <td>NaN</td>\n      <td>SPORTLICHE PASSFORM: Extra viel Platz in der H...</td>\n    </tr>\n    <tr>\n      <th>1</th>\n      <td>2024_07_23</td>\n      <td>(15-16)</td>\n      <td>default</td>\n      <td>B0C464TZNR</td>\n      <td>37.49</td>\n      <td>https://www.amazon.de/sspa/click?ie=UTF8&amp;spc=M...</td>\n      <td>https://m.media-amazon.com/images/I/71DjzjnSmT...</td>\n      <td>Vthereal Cargohose Herren Baumwolle Outdoorhos...</td>\n      <td></td>\n      <td>Diese herren cargohose bietet mit ihren 7 viel...</td>\n      <td>Diese herren cargohose ist aus einem hochwerti...</td>\n      <td>Reibungslos und langlebig Verstellbare Kordelv...</td>\n      <td>Diese cargohose geeignet für Jagd, taktische E...</td>\n      <td>Pflegehinweise: Wir empfehlen, milde Waschmitt...</td>\n      <td>NaN</td>\n      <td>Diese herren cargohose bietet mit ihren 7 viel...</td>\n    </tr>\n    <tr>\n      <th>2</th>\n      <td>2024_07_23</td>\n      <td>(15-16)</td>\n      <td>default</td>\n      <td>B0BGKQ5LFL</td>\n      <td>40.98</td>\n      <td>https://www.amazon.de/sspa/click?ie=UTF8&amp;spc=M...</td>\n      <td>https://m.media-amazon.com/images/I/61Mc8E8tSN...</td>\n      <td>CQR Herren Taktische Hose, Wasserabweisende Ri...</td>\n      <td>Taktische Ausstattung von CQR wird mit einem P...</td>\n      <td></td>\n      <td></td>\n      <td></td>\n      <td></td>\n      <td></td>\n      <td>NaN</td>\n      <td>\\n \\n \\n \\n</td>\n    </tr>\n    <tr>\n      <th>3</th>\n      <td>2024_07_23</td>\n      <td>(15-16)</td>\n      <td>default</td>\n      <td>B0BZ36P72P</td>\n      <td>38.99</td>\n      <td>https://www.amazon.de/sspa/click?ie=UTF8&amp;spc=M...</td>\n      <td>https://m.media-amazon.com/images/I/61RCAipSMN...</td>\n      <td>Elegancity Cargohose Herren Chino Hose mit 6 T...</td>\n      <td></td>\n      <td>*Elegancity Cargo Hose Herren Size Tipps: S-EU...</td>\n      <td>*Die Cargohose ist einfarig und stretch mit 6 ...</td>\n      <td>*Elegancity elastishe Jogginghose Herren eigne...</td>\n      <td>*Outfit Vorschlag: Elegancity Hose Herren mit ...</td>\n      <td>*Casual Jogginghose Herren von Elegancity bis4...</td>\n      <td>NaN</td>\n      <td>*Elegancity Cargo Hose Herren Size Tipps: S-EU...</td>\n    </tr>\n    <tr>\n      <th>4</th>\n      <td>2024_07_23</td>\n      <td>(15-16)</td>\n      <td>default</td>\n      <td>B07C272VPK</td>\n      <td>40.22</td>\n      <td>https://www.amazon.de/Herren-Jones-Jogger-Gumm...</td>\n      <td>https://m.media-amazon.com/images/I/71i8tEGUUF...</td>\n      <td>JACK &amp; JONES Herren Hose</td>\n      <td>Robust und lässig ist diese Cargohose von JACK...</td>\n      <td>✔ PRAKTISCH - Praktische Cargo Taschen für dei...</td>\n      <td>✔ PERFEKT- Die Taschen an der Rückseite des Mo...</td>\n      <td>✔ FLEXIBEL - Die Hose passt sich deinen Bewegu...</td>\n      <td>✔ KOMFORTABEL - Besonders das Twill Gewebe sor...</td>\n      <td>PAUL JJ FLAKE AKM 542</td>\n      <td>NaN</td>\n      <td>✔ PRAKTISCH - Praktische Cargo Taschen für dei...</td>\n    </tr>\n    <tr>\n      <th>...</th>\n      <td>...</td>\n      <td>...</td>\n      <td>...</td>\n      <td>...</td>\n      <td>...</td>\n      <td>...</td>\n      <td>...</td>\n      <td>...</td>\n      <td>...</td>\n      <td>...</td>\n      <td>...</td>\n      <td>...</td>\n      <td>...</td>\n      <td>...</td>\n      <td>...</td>\n      <td>...</td>\n    </tr>\n    <tr>\n      <th>395</th>\n      <td>2024_07_24</td>\n      <td>(08-09)</td>\n      <td>best</td>\n      <td>B0C9PSFH3H</td>\n      <td>36.99</td>\n      <td>https://www.amazon.de/Cindeyar-Cargohose-Wande...</td>\n      <td>https://m.media-amazon.com/images/I/71HYPLdN4A...</td>\n      <td>Cindeyar Cargohose Herren Relaxed Fit Baumwoll...</td>\n      <td></td>\n      <td>√【 Details &amp; Highlights】Cargohose Herren mit M...</td>\n      <td>√【Hoher Qualität Stoff】Wanderhose herren aus h...</td>\n      <td>√【Klassischer Cargo-Stil】 Diese modische cargo...</td>\n      <td>√【Multi Taschen Design】 Arbeitshosen Männer si...</td>\n      <td>√【Anlass】 Die lässige Cargohose herren kann al...</td>\n      <td>NaN</td>\n      <td>√【 Details &amp; Highlights】Cargohose Herren mit M...</td>\n    </tr>\n    <tr>\n      <th>396</th>\n      <td>2024_07_24</td>\n      <td>(08-09)</td>\n      <td>best</td>\n      <td>B0C465Z73L</td>\n      <td>37.49</td>\n      <td>https://www.amazon.de/Vthereal-Cargohose-Baumw...</td>\n      <td>https://m.media-amazon.com/images/I/71DjzjnSmT...</td>\n      <td>Vthereal Cargohose Herren Baumwolle Outdoorhos...</td>\n      <td></td>\n      <td>Diese herren cargohose bietet mit ihren 7 viel...</td>\n      <td>Diese herren cargohose ist aus einem hochwerti...</td>\n      <td>Reibungslos und langlebig Verstellbare Kordelv...</td>\n      <td>Diese cargohose geeignet für Jagd, taktische E...</td>\n      <td>Pflegehinweise: Wir empfehlen, milde Waschmitt...</td>\n      <td>NaN</td>\n      <td>Diese herren cargohose bietet mit ihren 7 viel...</td>\n    </tr>\n    <tr>\n      <th>397</th>\n      <td>2024_07_24</td>\n      <td>(08-09)</td>\n      <td>best</td>\n      <td>B07PS7115C</td>\n      <td>39.99</td>\n      <td>https://www.amazon.de/FLYGAGA-Outdoorhose-Schn...</td>\n      <td>https://m.media-amazon.com/images/I/51tYSNZBVj...</td>\n      <td>FLYGAGA Herren Outdoorhose Wanderhose Zip Off ...</td>\n      <td></td>\n      <td>Herren Wanderhosen sind und eignet sich für Ou...</td>\n      <td>Zip off Hose Herren: Die abnehmbare hosebeine ...</td>\n      <td>Trekkinghose Herren: Das Gewebe der Outdoor Ho...</td>\n      <td>Herren hose mit verstellbarem Seitenteil-Gummi...</td>\n      <td>Herren Cargohose Abnehmbare Functionhose: Modi...</td>\n      <td>NaN</td>\n      <td>Herren Wanderhosen sind und eignet sich für Ou...</td>\n    </tr>\n    <tr>\n      <th>398</th>\n      <td>2024_07_24</td>\n      <td>(08-09)</td>\n      <td>best</td>\n      <td>B00CZBLVIM</td>\n      <td>43.89</td>\n      <td>https://www.amazon.de/Brandit-Savannah-Herren-...</td>\n      <td>https://m.media-amazon.com/images/I/61p1GqXMc6...</td>\n      <td>Brandit Savannah Hose, Zip-Off Outdoor Hose/Short</td>\n      <td>Produktinformationen \"Savannah Trousers\" - Mul...</td>\n      <td>Multifunktions-Trekkinghose</td>\n      <td>robustes, atmungsaktives und wasserabweisendes...</td>\n      <td>große Beintaschen mit Klett- und Reißverschluss</td>\n      <td>Beinabschlüsse mit Reißverschluss</td>\n      <td>gesticktes Brandit-Logo</td>\n      <td>NaN</td>\n      <td>Multifunktions-Trekkinghose\\nrobustes, atmungs...</td>\n    </tr>\n    <tr>\n      <th>399</th>\n      <td>2024_07_24</td>\n      <td>(08-09)</td>\n      <td>best</td>\n      <td>B006LOECZ8</td>\n      <td>22.32</td>\n      <td>https://www.amazon.de/Brandit-1006-Rangerhose-...</td>\n      <td>https://m.media-amazon.com/images/I/71JoaAcZW8...</td>\n      <td>Brandit Rangerhose, Cargohose, Arbeitshose, Se...</td>\n      <td>Brandit Ranger Hose, Beige, 7XL</td>\n      <td>Zwei Gesäßtaschen mit Klappen und Knöpfen. Zwe...</td>\n      <td>Regulierbare Bundweite und Tunnelzug in den Be...</td>\n      <td>Große Taschen</td>\n      <td>Ideal für Freizeit oder Arbeit</td>\n      <td>Klassische Cargo-Hose im US Ranger Stil</td>\n      <td>NaN</td>\n      <td>Zwei Gesäßtaschen mit Klappen und Knöpfen. Zwe...</td>\n    </tr>\n  </tbody>\n</table>\n<p>320 rows × 16 columns</p>\n</div>"
     },
     "execution_count": 58,
     "metadata": {},
     "output_type": "execute_result"
    }
   ],
   "source": [
    "import pandas as pd\n",
    "from pandas import DataFrame\n",
    "\n",
    "# df_1: DataFrame = pd.read_excel('./cargohose_herren/2024_07_20_(10-11)/raw_data/goods_2024_07_16_cargohose_herren_baggy.xlsx')\n",
    "# df_2: DataFrame = pd.read_excel('./cargohose_herren/2024_07_20_(10-11)/raw_data/goods_2024_07_16_cargohose_herren_slim_fit.xlsx')\n",
    "# df_3: DataFrame = pd.read_excel('./cargohose_herren/2024_07_20_(10-11)/raw_data/goods_2024_07_16_cordhose_herren.xlsx')\n",
    "# df_4: DataFrame = pd.read_excel('./cargohose_herren/2024_07_20_(10-11)/raw_data/goods_2024_07_16_gefütterte_hose_herren.xlsx')\n",
    "# df_5: DataFrame = pd.read_excel('./cargohose_herren/2024_07_20_(10-11)/raw_data/goods_2024_07_17_cargohose_herren.xlsx')\n",
    "#\n",
    "# df = pd.concat([df_1,df_2,df_3,df_4,df_5], axis=0)\n",
    "\n",
    "fp_rd = f'{bd}/{b_d}_rawd.xlsx'\n",
    "df: DataFrame = pd.read_excel(fp_rd)\n",
    "df.drop_duplicates(subset=['url'], inplace=True)\n",
    "df = df[df['from'].isin(['default', 'cmt', 'newr', 'best'])]\n",
    "df['bp'] = df[['bp_01', 'bp_02', 'bp_03', 'bp_04', 'bp_05', 'bp_06']].apply(lambda x: '\\n'.join(x.dropna()), axis=1)\n",
    "df"
   ],
   "metadata": {
    "collapsed": false,
    "pycharm": {
     "name": "#%%\n"
    }
   }
  },
  {
   "cell_type": "code",
   "execution_count": 59,
   "outputs": [],
   "source": [
    "text_title = ' '.join(df[f'title']).lower()\n",
    "text_bp = ' '.join(df['bp'].dropna()).lower()\n",
    "text_description = ' '.join(df['desc'].dropna()).lower()\n",
    "\n",
    "text_title_and_bp = ' '.join([text_title, text_bp])\n",
    "text_title_and_description = ' '.join([text_title, text_description])\n",
    "text_bp_and_description = ' '.join([text_bp, text_description])\n",
    "text_all = ' '.join([text_title, text_bp, text_description])"
   ],
   "metadata": {
    "collapsed": false,
    "pycharm": {
     "name": "#%%\n"
    }
   }
  },
  {
   "cell_type": "code",
   "execution_count": 60,
   "outputs": [
    {
     "data": {
      "text/plain": "                      term  freq\n0                   herren  3692\n1                     hose  1572\n2                cargohose  1097\n3                    hosen  1002\n4                   sommer   659\n...                    ...   ...\n2460         nachempfunden     1\n2461       erschwinglichem     1\n2462                 preis     1\n2463            extremeren     1\n2464  produktinformationen     1\n\n[2377 rows x 2 columns]",
      "text/html": "<div>\n<style scoped>\n    .dataframe tbody tr th:only-of-type {\n        vertical-align: middle;\n    }\n\n    .dataframe tbody tr th {\n        vertical-align: top;\n    }\n\n    .dataframe thead th {\n        text-align: right;\n    }\n</style>\n<table border=\"1\" class=\"dataframe\">\n  <thead>\n    <tr style=\"text-align: right;\">\n      <th></th>\n      <th>term</th>\n      <th>freq</th>\n    </tr>\n  </thead>\n  <tbody>\n    <tr>\n      <th>0</th>\n      <td>herren</td>\n      <td>3692</td>\n    </tr>\n    <tr>\n      <th>1</th>\n      <td>hose</td>\n      <td>1572</td>\n    </tr>\n    <tr>\n      <th>2</th>\n      <td>cargohose</td>\n      <td>1097</td>\n    </tr>\n    <tr>\n      <th>3</th>\n      <td>hosen</td>\n      <td>1002</td>\n    </tr>\n    <tr>\n      <th>4</th>\n      <td>sommer</td>\n      <td>659</td>\n    </tr>\n    <tr>\n      <th>...</th>\n      <td>...</td>\n      <td>...</td>\n    </tr>\n    <tr>\n      <th>2460</th>\n      <td>nachempfunden</td>\n      <td>1</td>\n    </tr>\n    <tr>\n      <th>2461</th>\n      <td>erschwinglichem</td>\n      <td>1</td>\n    </tr>\n    <tr>\n      <th>2462</th>\n      <td>preis</td>\n      <td>1</td>\n    </tr>\n    <tr>\n      <th>2463</th>\n      <td>extremeren</td>\n      <td>1</td>\n    </tr>\n    <tr>\n      <th>2464</th>\n      <td>produktinformationen</td>\n      <td>1</td>\n    </tr>\n  </tbody>\n</table>\n<p>2377 rows × 2 columns</p>\n</div>"
     },
     "execution_count": 60,
     "metadata": {},
     "output_type": "execute_result"
    }
   ],
   "source": [
    "import string\n",
    "from collections import Counter\n",
    "\n",
    "import nltk\n",
    "from nltk.corpus import stopwords\n",
    "\n",
    "from util.widgets import wash_rows\n",
    "\n",
    "# 获取德语停用词\n",
    "stop_words = set(stopwords.words('german') + list(string.ascii_letters))\n",
    "\n",
    "# 分词\n",
    "words = nltk.word_tokenize(text_all, language='german')\n",
    "\n",
    "# 去除停用词\n",
    "filtered_words = [word for word in words if word.lower() not in stop_words and word.isalpha()]\n",
    "\n",
    "# 统计词频\n",
    "word_counts = Counter(filtered_words)\n",
    "\n",
    "df_freq: DataFrame = pd.DataFrame(data=word_counts.most_common(), columns=['term', 'freq'])\n",
    "\n",
    "df_freq = wash_rows(df_freq)\n",
    "df_freq"
   ],
   "metadata": {
    "collapsed": false,
    "pycharm": {
     "name": "#%%\n"
    }
   }
  },
  {
   "cell_type": "code",
   "execution_count": 61,
   "outputs": [
    {
     "name": "stderr",
     "output_type": "stream",
     "text": [
      "C:\\Users\\000\\AppData\\Local\\Temp\\ipykernel_12372\\134705804.py:29: UserWarning: Boolean Series key will be reindexed to match DataFrame index.\n",
      "  df_common: DataFrame = df_freq_gt[df_freq['term'].isin(common_words)]\n",
      "C:\\Users\\000\\AppData\\Local\\Temp\\ipykernel_12372\\134705804.py:30: SettingWithCopyWarning: \n",
      "A value is trying to be set on a copy of a slice from a DataFrame.\n",
      "Try using .loc[row_indexer,col_indexer] = value instead\n",
      "\n",
      "See the caveats in the documentation: https://pandas.pydata.org/pandas-docs/stable/user_guide/indexing.html#returning-a-view-versus-a-copy\n",
      "  df_common['kind'] = '通用词'\n"
     ]
    },
    {
     "data": {
      "text/plain": "              term     score    freq kind\n0           herren  0.000265  3692.0  关键词\n2             hose  0.001039  1572.0  关键词\n1        cargohose  0.000902  1097.0  关键词\n4            hosen  0.002927  1002.0  关键词\n17          sommer  0.010554   659.0  关键词\n6            cargo  0.003192   655.0  关键词\n3        baumwolle  0.001929   389.0  关键词\n15           pants  0.009153   322.0  关键词\n8      arbeitshose  0.005045   309.0  关键词\n7      jogginghose  0.004356   242.0  关键词\n14          taille  0.007910   234.0  关键词\n13          männer  0.007243   218.0  关键词\n10       kordelzug  0.005894   177.0  特征词\n19         stretch  0.011699   162.0  特征词\n9              fit  0.005694   137.0  特征词\n16    freizeithose  0.010339    95.0  特征词\n11           chino  0.006606    89.0  特征词\n18          casual  0.010786    68.0  特征词\n12     outdoorhose  0.007136    55.0  特征词\n6             lang       NaN   533.0  通用词\n7          leichte       NaN   440.0  通用词\n10           baggy       NaN   371.0  通用词\n13        schwarze       NaN   261.0  通用词\n15             men       NaN   235.0  通用词\n18          leicht       NaN   188.0  通用词\n19     sommerhosen       NaN   185.0  通用词\n20           größe       NaN   179.0  通用词\n22           lange       NaN   168.0  通用词\n23      cargohosen       NaN   168.0  通用词\n24           bitte       NaN   166.0  通用词\n26         outdoor       NaN   155.0  通用词\n27        passform       NaN   155.0  通用词\n28          bieten       NaN   148.0  通用词\n29        freizeit       NaN   145.0  通用词\n32         schwarz       NaN   132.0  通用词\n33          bietet       NaN   121.0  通用词\n34            bund       NaN   120.0  通用词\n35      sommerhose       NaN   120.0  通用词\n36          bequem       NaN   119.0  通用词\n37         wandern       NaN   117.0  通用词\n38          gürtel       NaN   115.0  通用词\n39        trousers       NaN   112.0  通用词\n40        overalls       NaN   111.0  通用词\n42  reißverschluss       NaN   101.0  通用词\n43         komfort       NaN   101.0  通用词\n44           große       NaN   100.0  通用词",
      "text/html": "<div>\n<style scoped>\n    .dataframe tbody tr th:only-of-type {\n        vertical-align: middle;\n    }\n\n    .dataframe tbody tr th {\n        vertical-align: top;\n    }\n\n    .dataframe thead th {\n        text-align: right;\n    }\n</style>\n<table border=\"1\" class=\"dataframe\">\n  <thead>\n    <tr style=\"text-align: right;\">\n      <th></th>\n      <th>term</th>\n      <th>score</th>\n      <th>freq</th>\n      <th>kind</th>\n    </tr>\n  </thead>\n  <tbody>\n    <tr>\n      <th>0</th>\n      <td>herren</td>\n      <td>0.000265</td>\n      <td>3692.0</td>\n      <td>关键词</td>\n    </tr>\n    <tr>\n      <th>2</th>\n      <td>hose</td>\n      <td>0.001039</td>\n      <td>1572.0</td>\n      <td>关键词</td>\n    </tr>\n    <tr>\n      <th>1</th>\n      <td>cargohose</td>\n      <td>0.000902</td>\n      <td>1097.0</td>\n      <td>关键词</td>\n    </tr>\n    <tr>\n      <th>4</th>\n      <td>hosen</td>\n      <td>0.002927</td>\n      <td>1002.0</td>\n      <td>关键词</td>\n    </tr>\n    <tr>\n      <th>17</th>\n      <td>sommer</td>\n      <td>0.010554</td>\n      <td>659.0</td>\n      <td>关键词</td>\n    </tr>\n    <tr>\n      <th>6</th>\n      <td>cargo</td>\n      <td>0.003192</td>\n      <td>655.0</td>\n      <td>关键词</td>\n    </tr>\n    <tr>\n      <th>3</th>\n      <td>baumwolle</td>\n      <td>0.001929</td>\n      <td>389.0</td>\n      <td>关键词</td>\n    </tr>\n    <tr>\n      <th>15</th>\n      <td>pants</td>\n      <td>0.009153</td>\n      <td>322.0</td>\n      <td>关键词</td>\n    </tr>\n    <tr>\n      <th>8</th>\n      <td>arbeitshose</td>\n      <td>0.005045</td>\n      <td>309.0</td>\n      <td>关键词</td>\n    </tr>\n    <tr>\n      <th>7</th>\n      <td>jogginghose</td>\n      <td>0.004356</td>\n      <td>242.0</td>\n      <td>关键词</td>\n    </tr>\n    <tr>\n      <th>14</th>\n      <td>taille</td>\n      <td>0.007910</td>\n      <td>234.0</td>\n      <td>关键词</td>\n    </tr>\n    <tr>\n      <th>13</th>\n      <td>männer</td>\n      <td>0.007243</td>\n      <td>218.0</td>\n      <td>关键词</td>\n    </tr>\n    <tr>\n      <th>10</th>\n      <td>kordelzug</td>\n      <td>0.005894</td>\n      <td>177.0</td>\n      <td>特征词</td>\n    </tr>\n    <tr>\n      <th>19</th>\n      <td>stretch</td>\n      <td>0.011699</td>\n      <td>162.0</td>\n      <td>特征词</td>\n    </tr>\n    <tr>\n      <th>9</th>\n      <td>fit</td>\n      <td>0.005694</td>\n      <td>137.0</td>\n      <td>特征词</td>\n    </tr>\n    <tr>\n      <th>16</th>\n      <td>freizeithose</td>\n      <td>0.010339</td>\n      <td>95.0</td>\n      <td>特征词</td>\n    </tr>\n    <tr>\n      <th>11</th>\n      <td>chino</td>\n      <td>0.006606</td>\n      <td>89.0</td>\n      <td>特征词</td>\n    </tr>\n    <tr>\n      <th>18</th>\n      <td>casual</td>\n      <td>0.010786</td>\n      <td>68.0</td>\n      <td>特征词</td>\n    </tr>\n    <tr>\n      <th>12</th>\n      <td>outdoorhose</td>\n      <td>0.007136</td>\n      <td>55.0</td>\n      <td>特征词</td>\n    </tr>\n    <tr>\n      <th>6</th>\n      <td>lang</td>\n      <td>NaN</td>\n      <td>533.0</td>\n      <td>通用词</td>\n    </tr>\n    <tr>\n      <th>7</th>\n      <td>leichte</td>\n      <td>NaN</td>\n      <td>440.0</td>\n      <td>通用词</td>\n    </tr>\n    <tr>\n      <th>10</th>\n      <td>baggy</td>\n      <td>NaN</td>\n      <td>371.0</td>\n      <td>通用词</td>\n    </tr>\n    <tr>\n      <th>13</th>\n      <td>schwarze</td>\n      <td>NaN</td>\n      <td>261.0</td>\n      <td>通用词</td>\n    </tr>\n    <tr>\n      <th>15</th>\n      <td>men</td>\n      <td>NaN</td>\n      <td>235.0</td>\n      <td>通用词</td>\n    </tr>\n    <tr>\n      <th>18</th>\n      <td>leicht</td>\n      <td>NaN</td>\n      <td>188.0</td>\n      <td>通用词</td>\n    </tr>\n    <tr>\n      <th>19</th>\n      <td>sommerhosen</td>\n      <td>NaN</td>\n      <td>185.0</td>\n      <td>通用词</td>\n    </tr>\n    <tr>\n      <th>20</th>\n      <td>größe</td>\n      <td>NaN</td>\n      <td>179.0</td>\n      <td>通用词</td>\n    </tr>\n    <tr>\n      <th>22</th>\n      <td>lange</td>\n      <td>NaN</td>\n      <td>168.0</td>\n      <td>通用词</td>\n    </tr>\n    <tr>\n      <th>23</th>\n      <td>cargohosen</td>\n      <td>NaN</td>\n      <td>168.0</td>\n      <td>通用词</td>\n    </tr>\n    <tr>\n      <th>24</th>\n      <td>bitte</td>\n      <td>NaN</td>\n      <td>166.0</td>\n      <td>通用词</td>\n    </tr>\n    <tr>\n      <th>26</th>\n      <td>outdoor</td>\n      <td>NaN</td>\n      <td>155.0</td>\n      <td>通用词</td>\n    </tr>\n    <tr>\n      <th>27</th>\n      <td>passform</td>\n      <td>NaN</td>\n      <td>155.0</td>\n      <td>通用词</td>\n    </tr>\n    <tr>\n      <th>28</th>\n      <td>bieten</td>\n      <td>NaN</td>\n      <td>148.0</td>\n      <td>通用词</td>\n    </tr>\n    <tr>\n      <th>29</th>\n      <td>freizeit</td>\n      <td>NaN</td>\n      <td>145.0</td>\n      <td>通用词</td>\n    </tr>\n    <tr>\n      <th>32</th>\n      <td>schwarz</td>\n      <td>NaN</td>\n      <td>132.0</td>\n      <td>通用词</td>\n    </tr>\n    <tr>\n      <th>33</th>\n      <td>bietet</td>\n      <td>NaN</td>\n      <td>121.0</td>\n      <td>通用词</td>\n    </tr>\n    <tr>\n      <th>34</th>\n      <td>bund</td>\n      <td>NaN</td>\n      <td>120.0</td>\n      <td>通用词</td>\n    </tr>\n    <tr>\n      <th>35</th>\n      <td>sommerhose</td>\n      <td>NaN</td>\n      <td>120.0</td>\n      <td>通用词</td>\n    </tr>\n    <tr>\n      <th>36</th>\n      <td>bequem</td>\n      <td>NaN</td>\n      <td>119.0</td>\n      <td>通用词</td>\n    </tr>\n    <tr>\n      <th>37</th>\n      <td>wandern</td>\n      <td>NaN</td>\n      <td>117.0</td>\n      <td>通用词</td>\n    </tr>\n    <tr>\n      <th>38</th>\n      <td>gürtel</td>\n      <td>NaN</td>\n      <td>115.0</td>\n      <td>通用词</td>\n    </tr>\n    <tr>\n      <th>39</th>\n      <td>trousers</td>\n      <td>NaN</td>\n      <td>112.0</td>\n      <td>通用词</td>\n    </tr>\n    <tr>\n      <th>40</th>\n      <td>overalls</td>\n      <td>NaN</td>\n      <td>111.0</td>\n      <td>通用词</td>\n    </tr>\n    <tr>\n      <th>42</th>\n      <td>reißverschluss</td>\n      <td>NaN</td>\n      <td>101.0</td>\n      <td>通用词</td>\n    </tr>\n    <tr>\n      <th>43</th>\n      <td>komfort</td>\n      <td>NaN</td>\n      <td>101.0</td>\n      <td>通用词</td>\n    </tr>\n    <tr>\n      <th>44</th>\n      <td>große</td>\n      <td>NaN</td>\n      <td>100.0</td>\n      <td>通用词</td>\n    </tr>\n  </tbody>\n</table>\n</div>"
     },
     "execution_count": 61,
     "metadata": {},
     "output_type": "execute_result"
    }
   ],
   "source": [
    "# 利用yake对进行关键词提取\n",
    "import yake\n",
    "\n",
    "language = \"de\"\n",
    "max_ngram_size = 1\n",
    "deduplication_threshold = 0.9\n",
    "deduplication_algo = 'seqm'\n",
    "windowSize = 1\n",
    "numOfKeywords = 20\n",
    "\n",
    "custom_kw_extractor = yake.KeywordExtractor(lan=language, n=max_ngram_size, dedupLim=deduplication_threshold,\n",
    "                                            dedupFunc=deduplication_algo, windowsSize=windowSize, top=numOfKeywords,\n",
    "                                            features=None)\n",
    "\n",
    "keywords = custom_kw_extractor.extract_keywords(text_title)\n",
    "\n",
    "# 阈值：能进入预选的词的最低词频\n",
    "# 1. 大于阈值两倍时，判断为关键词；\n",
    "# 2. 大于阈值时，判断为通用词；\n",
    "threshold = int(len(df) * 0.30)\n",
    "\n",
    "df_keyword: DataFrame = pd.DataFrame(data=keywords, columns=['term', 'score'])\n",
    "df_keyword = pd.merge(df_keyword, df_freq, on='term', how='left')\n",
    "df_keyword['kind'] = df_keyword['freq'].apply(lambda x: '关键词' if x > threshold * 2 else '特征词')\n",
    "df_keyword.dropna(subset=['freq'], inplace=True)\n",
    "\n",
    "common_words = set(df_freq.term) - set(df_keyword.term)\n",
    "df_freq_gt = df_freq[df_freq.freq > threshold]\n",
    "df_common: DataFrame = df_freq_gt[df_freq['term'].isin(common_words)]\n",
    "df_common['kind'] = '通用词'\n",
    "\n",
    "df_term: DataFrame = pd.concat([df_keyword, df_common], axis=0)\n",
    "# 定义 kind 列的排序顺序\n",
    "kind_order = ['关键词', '特征词', '通用词']\n",
    "df_term['kind'] = pd.Categorical(df_term['kind'], categories=kind_order, ordered=True)\n",
    "\n",
    "# 按 kind 列和 freq 列排序\n",
    "df_term.sort_values(by=['kind', 'freq'], ascending=[True, False], inplace=True)\n",
    "df_term"
   ],
   "metadata": {
    "collapsed": false,
    "pycharm": {
     "name": "#%%\n"
    }
   }
  },
  {
   "cell_type": "code",
   "execution_count": 62,
   "outputs": [
    {
     "data": {
      "text/plain": "                   term  freq\n45          hose herren  1840\n135        hosen herren   664\n90     cargohose herren   592\n0           herren hose   498\n3         herren sommer   452\n...                 ...   ...\n860          lang cargo    52\n855         lang herren    52\n182    sommer cargohose    51\n386   arbeitshose lange    50\n1011     schwarze baggy    48\n\n[79 rows x 2 columns]",
      "text/html": "<div>\n<style scoped>\n    .dataframe tbody tr th:only-of-type {\n        vertical-align: middle;\n    }\n\n    .dataframe tbody tr th {\n        vertical-align: top;\n    }\n\n    .dataframe thead th {\n        text-align: right;\n    }\n</style>\n<table border=\"1\" class=\"dataframe\">\n  <thead>\n    <tr style=\"text-align: right;\">\n      <th></th>\n      <th>term</th>\n      <th>freq</th>\n    </tr>\n  </thead>\n  <tbody>\n    <tr>\n      <th>45</th>\n      <td>hose herren</td>\n      <td>1840</td>\n    </tr>\n    <tr>\n      <th>135</th>\n      <td>hosen herren</td>\n      <td>664</td>\n    </tr>\n    <tr>\n      <th>90</th>\n      <td>cargohose herren</td>\n      <td>592</td>\n    </tr>\n    <tr>\n      <th>0</th>\n      <td>herren hose</td>\n      <td>498</td>\n    </tr>\n    <tr>\n      <th>3</th>\n      <td>herren sommer</td>\n      <td>452</td>\n    </tr>\n    <tr>\n      <th>...</th>\n      <td>...</td>\n      <td>...</td>\n    </tr>\n    <tr>\n      <th>860</th>\n      <td>lang cargo</td>\n      <td>52</td>\n    </tr>\n    <tr>\n      <th>855</th>\n      <td>lang herren</td>\n      <td>52</td>\n    </tr>\n    <tr>\n      <th>182</th>\n      <td>sommer cargohose</td>\n      <td>51</td>\n    </tr>\n    <tr>\n      <th>386</th>\n      <td>arbeitshose lange</td>\n      <td>50</td>\n    </tr>\n    <tr>\n      <th>1011</th>\n      <td>schwarze baggy</td>\n      <td>48</td>\n    </tr>\n  </tbody>\n</table>\n<p>79 rows × 2 columns</p>\n</div>"
     },
     "execution_count": 62,
     "metadata": {},
     "output_type": "execute_result"
    }
   ],
   "source": [
    "from itertools import permutations\n",
    "\n",
    "\n",
    "def to_permutations(df_src: DataFrame, k: int):\n",
    "    # 1. 筛选kind字段值为key或odd的数据行\n",
    "    # filtered_df = df_term[df_term['kind'].isin(['关键词', '特征词'])]\n",
    "\n",
    "    # 2. 生成term字段的两两组合\n",
    "    # 首先获取所有的term值\n",
    "    terms = df_src['term'].tolist()\n",
    "    # 生成组合\n",
    "    term_combinations = [' '.join(comb) for comb in permutations(terms, k)]\n",
    "\n",
    "    # 3. 统计这些组合在text_all字段中的出现频率\n",
    "    # 创建一个字典来存储每个组合的频率\n",
    "    frequency_dict = {comb: text_all.count(comb) for comb in term_combinations}\n",
    "    # 将结果转换为DataFrame以便查看\n",
    "    frequency_df = pd.DataFrame(list(frequency_dict.items()), columns=['term', 'freq'])\n",
    "    frequency_df.sort_values(by=['freq', 'term'], ascending=[False, True], inplace=True)\n",
    "    frequency_df = frequency_df[frequency_df['freq'] >= int(threshold / 2)]\n",
    "    # frequency_df['词组'] = frequency_df['词组'].str.rjust(width=16)\n",
    "    # frequency_df = frequency_df.style.set_properties(subset=['词组'], **{'text-align': 'left'})\n",
    "\n",
    "    return frequency_df\n",
    "\n",
    "\n",
    "df_permutation_2 = to_permutations(df_term, 2)\n",
    "df_permutation_2"
   ],
   "metadata": {
    "collapsed": false,
    "pycharm": {
     "name": "#%%\n"
    }
   }
  },
  {
   "cell_type": "code",
   "execution_count": 63,
   "outputs": [
    {
     "data": {
      "text/plain": "                            term  freq\n1982          hose herren sommer   306\n1997            hose herren lang   211\n5957           hosen herren lang   179\n2002          hose herren leicht   165\n1998         hose herren leichte   157\n...                          ...   ...\n39970   leichte arbeitshose lang    50\n39977  leichte arbeitshose lange    50\n37796         lang sommer herren    49\n1991         hose herren stretch    48\n44485        schwarze baggy hose    48\n\n[77 rows x 2 columns]",
      "text/html": "<div>\n<style scoped>\n    .dataframe tbody tr th:only-of-type {\n        vertical-align: middle;\n    }\n\n    .dataframe tbody tr th {\n        vertical-align: top;\n    }\n\n    .dataframe thead th {\n        text-align: right;\n    }\n</style>\n<table border=\"1\" class=\"dataframe\">\n  <thead>\n    <tr style=\"text-align: right;\">\n      <th></th>\n      <th>term</th>\n      <th>freq</th>\n    </tr>\n  </thead>\n  <tbody>\n    <tr>\n      <th>1982</th>\n      <td>hose herren sommer</td>\n      <td>306</td>\n    </tr>\n    <tr>\n      <th>1997</th>\n      <td>hose herren lang</td>\n      <td>211</td>\n    </tr>\n    <tr>\n      <th>5957</th>\n      <td>hosen herren lang</td>\n      <td>179</td>\n    </tr>\n    <tr>\n      <th>2002</th>\n      <td>hose herren leicht</td>\n      <td>165</td>\n    </tr>\n    <tr>\n      <th>1998</th>\n      <td>hose herren leichte</td>\n      <td>157</td>\n    </tr>\n    <tr>\n      <th>...</th>\n      <td>...</td>\n      <td>...</td>\n    </tr>\n    <tr>\n      <th>39970</th>\n      <td>leichte arbeitshose lang</td>\n      <td>50</td>\n    </tr>\n    <tr>\n      <th>39977</th>\n      <td>leichte arbeitshose lange</td>\n      <td>50</td>\n    </tr>\n    <tr>\n      <th>37796</th>\n      <td>lang sommer herren</td>\n      <td>49</td>\n    </tr>\n    <tr>\n      <th>1991</th>\n      <td>hose herren stretch</td>\n      <td>48</td>\n    </tr>\n    <tr>\n      <th>44485</th>\n      <td>schwarze baggy hose</td>\n      <td>48</td>\n    </tr>\n  </tbody>\n</table>\n<p>77 rows × 2 columns</p>\n</div>"
     },
     "execution_count": 63,
     "metadata": {},
     "output_type": "execute_result"
    }
   ],
   "source": [
    "df_permutation_3 = to_permutations(df_term, 3)\n",
    "df_permutation_3"
   ],
   "metadata": {
    "collapsed": false,
    "pycharm": {
     "name": "#%%\n"
    }
   }
  },
  {
   "cell_type": "code",
   "execution_count": 64,
   "outputs": [
    {
     "name": "stderr",
     "output_type": "stream",
     "text": [
      "C:\\Users\\000\\AppData\\Local\\Temp\\ipykernel_12372\\3307562891.py:15: SettingWithCopyWarning: \n",
      "A value is trying to be set on a copy of a slice from a DataFrame.\n",
      "Try using .loc[row_indexer,col_indexer] = value instead\n",
      "\n",
      "See the caveats in the documentation: https://pandas.pydata.org/pandas-docs/stable/user_guide/indexing.html#returning-a-view-versus-a-copy\n",
      "  a['weight'] = (a['freq'] - a['freq'].mean()) / a[\n",
      "C:\\Users\\000\\AppData\\Local\\Temp\\ipykernel_12372\\3307562891.py:22: SettingWithCopyWarning: \n",
      "A value is trying to be set on a copy of a slice from a DataFrame.\n",
      "Try using .loc[row_indexer,col_indexer] = value instead\n",
      "\n",
      "See the caveats in the documentation: https://pandas.pydata.org/pandas-docs/stable/user_guide/indexing.html#returning-a-view-versus-a-copy\n",
      "  a['normalized_weight'] = (a['weight'] - min_val_2) / (max_val_2 - min_val_2)\n",
      "C:\\Users\\000\\AppData\\Local\\Temp\\ipykernel_12372\\3307562891.py:25: SettingWithCopyWarning: \n",
      "A value is trying to be set on a copy of a slice from a DataFrame.\n",
      "Try using .loc[row_indexer,col_indexer] = value instead\n",
      "\n",
      "See the caveats in the documentation: https://pandas.pydata.org/pandas-docs/stable/user_guide/indexing.html#returning-a-view-versus-a-copy\n",
      "  a['normalized_weight'] = a['normalized_weight'].clip(0, 1)\n",
      "C:\\Users\\000\\AppData\\Local\\Temp\\ipykernel_12372\\3307562891.py:29: SettingWithCopyWarning: \n",
      "A value is trying to be set on a copy of a slice from a DataFrame.\n",
      "Try using .loc[row_indexer,col_indexer] = value instead\n",
      "\n",
      "See the caveats in the documentation: https://pandas.pydata.org/pandas-docs/stable/user_guide/indexing.html#returning-a-view-versus-a-copy\n",
      "  a['normalized_weight'] = a['normalized_weight'] / total_sum\n",
      "e:\\aenv\\python-3.8.0(64-bit)\\lib\\site-packages\\pandas\\core\\indexing.py:1763: SettingWithCopyWarning: \n",
      "A value is trying to be set on a copy of a slice from a DataFrame.\n",
      "Try using .loc[row_indexer,col_indexer] = value instead\n",
      "\n",
      "See the caveats in the documentation: https://pandas.pydata.org/pandas-docs/stable/user_guide/indexing.html#returning-a-view-versus-a-copy\n",
      "  isetter(loc, value)\n",
      "C:\\Users\\000\\AppData\\Local\\Temp\\ipykernel_12372\\3307562891.py:15: SettingWithCopyWarning: \n",
      "A value is trying to be set on a copy of a slice from a DataFrame.\n",
      "Try using .loc[row_indexer,col_indexer] = value instead\n",
      "\n",
      "See the caveats in the documentation: https://pandas.pydata.org/pandas-docs/stable/user_guide/indexing.html#returning-a-view-versus-a-copy\n",
      "  a['weight'] = (a['freq'] - a['freq'].mean()) / a[\n",
      "C:\\Users\\000\\AppData\\Local\\Temp\\ipykernel_12372\\3307562891.py:22: SettingWithCopyWarning: \n",
      "A value is trying to be set on a copy of a slice from a DataFrame.\n",
      "Try using .loc[row_indexer,col_indexer] = value instead\n",
      "\n",
      "See the caveats in the documentation: https://pandas.pydata.org/pandas-docs/stable/user_guide/indexing.html#returning-a-view-versus-a-copy\n",
      "  a['normalized_weight'] = (a['weight'] - min_val_2) / (max_val_2 - min_val_2)\n",
      "C:\\Users\\000\\AppData\\Local\\Temp\\ipykernel_12372\\3307562891.py:25: SettingWithCopyWarning: \n",
      "A value is trying to be set on a copy of a slice from a DataFrame.\n",
      "Try using .loc[row_indexer,col_indexer] = value instead\n",
      "\n",
      "See the caveats in the documentation: https://pandas.pydata.org/pandas-docs/stable/user_guide/indexing.html#returning-a-view-versus-a-copy\n",
      "  a['normalized_weight'] = a['normalized_weight'].clip(0, 1)\n",
      "C:\\Users\\000\\AppData\\Local\\Temp\\ipykernel_12372\\3307562891.py:29: SettingWithCopyWarning: \n",
      "A value is trying to be set on a copy of a slice from a DataFrame.\n",
      "Try using .loc[row_indexer,col_indexer] = value instead\n",
      "\n",
      "See the caveats in the documentation: https://pandas.pydata.org/pandas-docs/stable/user_guide/indexing.html#returning-a-view-versus-a-copy\n",
      "  a['normalized_weight'] = a['normalized_weight'] / total_sum\n",
      "e:\\aenv\\python-3.8.0(64-bit)\\lib\\site-packages\\pandas\\core\\indexing.py:1763: SettingWithCopyWarning: \n",
      "A value is trying to be set on a copy of a slice from a DataFrame.\n",
      "Try using .loc[row_indexer,col_indexer] = value instead\n",
      "\n",
      "See the caveats in the documentation: https://pandas.pydata.org/pandas-docs/stable/user_guide/indexing.html#returning-a-view-versus-a-copy\n",
      "  isetter(loc, value)\n"
     ]
    }
   ],
   "source": [
    "import numpy as np\n",
    "\n",
    "def update_weight(a: DataFrame):\n",
    "    # 计算平均值和标准差\n",
    "    mean_freq_2 = a['freq'].mean()\n",
    "    std_freq_2 = a['freq'].std()\n",
    "    \n",
    "    # 删除离群点\n",
    "    lower_bound_2 = mean_freq_2 - 3 * std_freq_2\n",
    "    upper_bound_2 = mean_freq_2 + 3 * std_freq_2\n",
    "    a = a[\n",
    "        (a['freq'] >= lower_bound_2) & (a['freq'] <= upper_bound_2)]\n",
    "    \n",
    "    # 标准化词频\n",
    "    a['weight'] = (a['freq'] - a['freq'].mean()) / a[\n",
    "        'freq'].std()\n",
    "    \n",
    "    min_val_2 = a['weight'].min()\n",
    "    max_val_2 = a['weight'].max()\n",
    "    \n",
    "    # 线性变换\n",
    "    a['normalized_weight'] = (a['weight'] - min_val_2) / (max_val_2 - min_val_2)\n",
    "    \n",
    "    # 确保所有值都在[0, 1]之间\n",
    "    a['normalized_weight'] = a['normalized_weight'].clip(0, 1)\n",
    "    \n",
    "    # 归一化，确保累加和接近1\n",
    "    total_sum = a['normalized_weight'].sum()\n",
    "    a['normalized_weight'] = a['normalized_weight'] / total_sum\n",
    "    \n",
    "    # 确保累加和严格等于1\n",
    "    total_sum_after_normalization = a['normalized_weight'].sum()\n",
    "    difference = 1 - total_sum_after_normalization\n",
    "    \n",
    "    # 随机选择一个元素进行调整\n",
    "    if difference != 0:\n",
    "        idx_to_adjust = np.random.choice(a.index)\n",
    "        a.loc[idx_to_adjust, 'normalized_weight'] += difference\n",
    "\n",
    "    return a\n",
    "\n",
    "df_permutation_2 = update_weight(df_permutation_2)\n",
    "df_permutation_3 = update_weight(df_permutation_3)"
   ],
   "metadata": {
    "collapsed": false,
    "pycharm": {
     "name": "#%%\n"
    }
   }
  },
  {
   "cell_type": "code",
   "execution_count": 72,
   "outputs": [
    {
     "data": {
      "text/plain": "'Cargohose Herren Baggy Hose Hosen Herren Sommer Baggy Hose Herren Leicht Lang Sommer Hose Herren Leicht Sommer Cargo'"
     },
     "execution_count": 72,
     "metadata": {},
     "output_type": "execute_result"
    }
   ],
   "source": [
    "import random\n",
    "from math import sqrt\n",
    "from collections import Counter\n",
    "\n",
    "\n",
    "def is_subset(s1, s2):\n",
    "    if len(s1) > len(s2):\n",
    "        return False\n",
    "\n",
    "    counter_s1 = Counter(s1)\n",
    "    counter_s2 = Counter(s2)\n",
    "\n",
    "    for char, count in counter_s1.items():\n",
    "        if counter_s2[char] < count:\n",
    "            return False\n",
    "\n",
    "    return True\n",
    "\n",
    "\n",
    "def cosine_similarity(vec1, vec2):\n",
    "    dot_product = sum(p * q for p, q in zip(vec1, vec2))\n",
    "    magnitude = sqrt(sum([val ** 2 for val in vec1])) * sqrt(sum([val ** 2 for val in vec2]))\n",
    "    if not magnitude:\n",
    "        return 0\n",
    "    return dot_product / magnitude\n",
    "\n",
    "\n",
    "def generate_title(df_permutation_2, df_permutation_3, title_len: int = 200):\n",
    "    # 初始化标题\n",
    "    title = 'cargohose herren'\n",
    "    title_end_word = 'herren'\n",
    "\n",
    "    # 检查字符数是否达到200\n",
    "    while len(title) < title_len:\n",
    "        # 随机选择df_2和df_3中的一个，权重为0.4:0.6\n",
    "        selected_df = random.choices([df_permutation_2, df_permutation_3], weights=[0.4, 0.6])[0]\n",
    "\n",
    "        # 使用已经归一化的权重从df中选择单词\n",
    "        selected_word = random.choices(selected_df['term'].tolist(), weights=selected_df['normalized_weight'].tolist())[\n",
    "            0]\n",
    "\n",
    "        # 检查新词是否与上一个词不同['baggy cargohose', 'baggy cargohose slim']也是相同！\n",
    "        # if is_subset(selected_word, title) or is_subset(title, selected_word):\n",
    "        #     continue\n",
    "\n",
    "        # 计算两个词组的余弦相似度，如果相似度过高，则重新来\n",
    "        # 使用余弦相似度\n",
    "        word_counts1 = Counter(title_end_word)\n",
    "        word_counts2 = Counter(selected_word)\n",
    "        all_words = set(word_counts1.keys()).union(set(word_counts2.keys()))\n",
    "\n",
    "        vec1 = [word_counts1[word] for word in all_words]\n",
    "        vec2 = [word_counts2[word] for word in all_words]\n",
    "\n",
    "        if cosine_similarity(vec1, vec2) > 0.55:\n",
    "            continue\n",
    "\n",
    "        if selected_word.split(' ')[0] != title_end_word.split(' ')[-1]:\n",
    "            if len(title + ' ' + selected_word) >= title_len:\n",
    "                break\n",
    "            # print(selected_word)\n",
    "            title += ' ' + selected_word\n",
    "            title_end_word = selected_word\n",
    "\n",
    "    return title.strip().title()\n",
    "\n",
    "\n",
    "# 假设df_permutation_2和df_permutation_3已经准备好了\n",
    "title = generate_title(df_permutation_2, df_permutation_3, 125)\n",
    "title"
   ],
   "metadata": {
    "collapsed": false,
    "pycharm": {
     "name": "#%%\n"
    }
   }
  },
  {
   "cell_type": "code",
   "execution_count": 73,
   "outputs": [],
   "source": [
    "titles = []\n",
    "for _ in range(0, 100):\n",
    "    title = generate_title(df_permutation_2, df_permutation_3, 125)\n",
    "    titles.append(title)\n",
    "\n",
    "title_df: DataFrame = pd.DataFrame(titles, columns=['title'])\n",
    "title_df.drop_duplicates(subset=['title'], inplace=True)"
   ],
   "metadata": {
    "collapsed": false,
    "pycharm": {
     "name": "#%%\n"
    }
   }
  },
  {
   "cell_type": "code",
   "execution_count": 75,
   "outputs": [],
   "source": [
    "from util.widgets import Status\n",
    "\n",
    "title_df['ymd'] = ymd\n",
    "title_df['status'] = Status.UNUSED.value\n",
    "title_df['ymd_HMS'] = ''"
   ],
   "metadata": {
    "collapsed": false,
    "pycharm": {
     "name": "#%%\n"
    }
   }
  },
  {
   "cell_type": "code",
   "execution_count": 76,
   "outputs": [],
   "source": [
    "fp_title = f'{g}/{g}_title.xlsx'\n",
    "\n",
    "title_df_ori = pd.read_excel(fp_title, sheet_name='title')"
   ],
   "metadata": {
    "collapsed": false,
    "pycharm": {
     "name": "#%%\n"
    }
   }
  },
  {
   "cell_type": "code",
   "execution_count": 77,
   "outputs": [
    {
     "data": {
      "text/plain": "Empty DataFrame\nColumns: []\nIndex: []",
      "text/html": "<div>\n<style scoped>\n    .dataframe tbody tr th:only-of-type {\n        vertical-align: middle;\n    }\n\n    .dataframe tbody tr th {\n        vertical-align: top;\n    }\n\n    .dataframe thead th {\n        text-align: right;\n    }\n</style>\n<table border=\"1\" class=\"dataframe\">\n  <thead>\n    <tr style=\"text-align: right;\">\n      <th></th>\n    </tr>\n  </thead>\n  <tbody>\n  </tbody>\n</table>\n</div>"
     },
     "execution_count": 77,
     "metadata": {},
     "output_type": "execute_result"
    }
   ],
   "source": [
    "title_df_ori"
   ],
   "metadata": {
    "collapsed": false,
    "pycharm": {
     "name": "#%%\n"
    }
   }
  },
  {
   "cell_type": "code",
   "execution_count": 78,
   "outputs": [
    {
     "data": {
      "text/plain": "                                                title  status ymd\n0   Cargohose Herren Cargohosen Hose Men Sommer He...  Unused    \n1   Cargohose Herren Cargo Hose Men Sommer Lange H...  Unused    \n2   Cargohose Herren Cargo Hosen Men Sommer Cargoh...  Unused    \n3   Cargohose Herren Lang Sommer Hose Herren Leich...  Unused    \n4   Cargohose Herren Lang Sommer Herren Hose Baggy...  Unused    \n..                                                ...     ...  ..\n95  Cargohose Herren Schwarze Cargo Men Sommerhose...  Unused    \n96  Cargohose Herren Cargo Hose Pants Men Herren H...  Unused    \n97  Cargohose Herren Pants Men Sommerhosen Schwarz...  Unused    \n98  Cargohose Herren Lang Sommer Leichte Arbeitsho...  Unused    \n99  Cargohose Herren Hose Lang Herren Sommer Pants...  Unused    \n\n[100 rows x 3 columns]",
      "text/html": "<div>\n<style scoped>\n    .dataframe tbody tr th:only-of-type {\n        vertical-align: middle;\n    }\n\n    .dataframe tbody tr th {\n        vertical-align: top;\n    }\n\n    .dataframe thead th {\n        text-align: right;\n    }\n</style>\n<table border=\"1\" class=\"dataframe\">\n  <thead>\n    <tr style=\"text-align: right;\">\n      <th></th>\n      <th>title</th>\n      <th>status</th>\n      <th>ymd</th>\n    </tr>\n  </thead>\n  <tbody>\n    <tr>\n      <th>0</th>\n      <td>Cargohose Herren Cargohosen Hose Men Sommer He...</td>\n      <td>Unused</td>\n      <td></td>\n    </tr>\n    <tr>\n      <th>1</th>\n      <td>Cargohose Herren Cargo Hose Men Sommer Lange H...</td>\n      <td>Unused</td>\n      <td></td>\n    </tr>\n    <tr>\n      <th>2</th>\n      <td>Cargohose Herren Cargo Hosen Men Sommer Cargoh...</td>\n      <td>Unused</td>\n      <td></td>\n    </tr>\n    <tr>\n      <th>3</th>\n      <td>Cargohose Herren Lang Sommer Hose Herren Leich...</td>\n      <td>Unused</td>\n      <td></td>\n    </tr>\n    <tr>\n      <th>4</th>\n      <td>Cargohose Herren Lang Sommer Herren Hose Baggy...</td>\n      <td>Unused</td>\n      <td></td>\n    </tr>\n    <tr>\n      <th>...</th>\n      <td>...</td>\n      <td>...</td>\n      <td>...</td>\n    </tr>\n    <tr>\n      <th>95</th>\n      <td>Cargohose Herren Schwarze Cargo Men Sommerhose...</td>\n      <td>Unused</td>\n      <td></td>\n    </tr>\n    <tr>\n      <th>96</th>\n      <td>Cargohose Herren Cargo Hose Pants Men Herren H...</td>\n      <td>Unused</td>\n      <td></td>\n    </tr>\n    <tr>\n      <th>97</th>\n      <td>Cargohose Herren Pants Men Sommerhosen Schwarz...</td>\n      <td>Unused</td>\n      <td></td>\n    </tr>\n    <tr>\n      <th>98</th>\n      <td>Cargohose Herren Lang Sommer Leichte Arbeitsho...</td>\n      <td>Unused</td>\n      <td></td>\n    </tr>\n    <tr>\n      <th>99</th>\n      <td>Cargohose Herren Hose Lang Herren Sommer Pants...</td>\n      <td>Unused</td>\n      <td></td>\n    </tr>\n  </tbody>\n</table>\n<p>100 rows × 3 columns</p>\n</div>"
     },
     "execution_count": 78,
     "metadata": {},
     "output_type": "execute_result"
    }
   ],
   "source": [
    "title_df = pd.concat([title_df_ori, title_df], ignore_index=True)\n",
    "title_df.drop_duplicates(subset=['title', 'status'], keep='last', inplace=True)\n",
    "title_df.loc[title_df.duplicated(subset=['title']), 'status'] = Status.IN_USE.value\n",
    "title_df.drop_duplicates(subset=['title', 'status'], keep='first', inplace=True)\n",
    "title_df"
   ],
   "metadata": {
    "collapsed": false,
    "pycharm": {
     "name": "#%%\n"
    }
   }
  },
  {
   "cell_type": "code",
   "execution_count": 79,
   "outputs": [],
   "source": [
    "# with pd.ExcelWriter(fp_title) as writer:\n",
    "#     df_permutation_2.to_excel(writer, index=False, sheet_name='term(2)')\n",
    "#     df_permutation_3.to_excel(writer, index=False, sheet_name='term(3)')\n",
    "#     title_df.to_excel(writer, index=False, sheet_name='title')"
   ],
   "metadata": {
    "collapsed": false,
    "pycharm": {
     "name": "#%%\n"
    }
   }
  },
  {
   "cell_type": "code",
   "execution_count": null,
   "outputs": [],
   "source": [],
   "metadata": {
    "collapsed": false,
    "pycharm": {
     "name": "#%%\n"
    }
   }
  }
 ],
 "metadata": {
  "kernelspec": {
   "display_name": "Python 3",
   "language": "python",
   "name": "python3"
  },
  "language_info": {
   "codemirror_mode": {
    "name": "ipython",
    "version": 2
   },
   "file_extension": ".py",
   "mimetype": "text/x-python",
   "name": "python",
   "nbconvert_exporter": "python",
   "pygments_lexer": "ipython2",
   "version": "2.7.6"
  }
 },
 "nbformat": 4,
 "nbformat_minor": 0
}