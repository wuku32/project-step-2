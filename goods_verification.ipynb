{
 "cells": [
  {
   "cell_type": "code",
   "execution_count": 371,
   "outputs": [],
   "source": [
    "from typing import List\n",
    "import os\n",
    "import re\n",
    "import time\n",
    "\n",
    "import numpy as np\n",
    "import pandas as pd\n",
    "from pandas import DataFrame\n",
    "import requests"
   ],
   "metadata": {
    "collapsed": false,
    "pycharm": {
     "name": "#%%\n"
    }
   }
  },
  {
   "cell_type": "code",
   "execution_count": 372,
   "outputs": [],
   "source": [
    "import os\n",
    "\n",
    "from util.widgets import generate_ym, generate_ymd, generate_ymd_HMS, generate_i\n",
    "\n",
    "ym = generate_ym()\n",
    "g = 'cargohose_herren'\n",
    "bd = f'{g}/{ym}'\n",
    "bd_a = f'{bd}/a'\n",
    "b_d = f'{g}_{ym}'\n",
    "\n",
    "os.makedirs(bd, exist_ok=True)\n",
    "os.makedirs(bd_a, exist_ok=True)\n",
    "\n",
    "ymd = generate_ymd()\n",
    "ymd_HMS = generate_ymd_HMS()\n",
    "i = '(08-09)'\n",
    "bd_a_img = f'{bd_a}/{ymd}'\n",
    "os.makedirs(bd_a_img, exist_ok=True)"
   ],
   "metadata": {
    "collapsed": false,
    "pycharm": {
     "name": "#%%\n"
    }
   }
  },
  {
   "cell_type": "code",
   "execution_count": 373,
   "outputs": [
    {
     "data": {
      "text/plain": "                  SKU          父SKU  产品缩略图  \\\n0        AHY240625001           NaN    NaN   \n1     AHY240625001BKL  AHY240625001    NaN   \n2    AHY240625001BKL2  AHY240625001    NaN   \n3    AHY240625001BKL3  AHY240625001    NaN   \n4     AHY240625001BKM  AHY240625001    NaN   \n..                ...           ...    ...   \n683  ZZS210511744GYL5  ZZS210511744    NaN   \n684   ZZS210511744GYS  ZZS210511744    NaN   \n685  ZZS210511744KHL4  ZZS210511744    NaN   \n686  ZZS210511744KHL5  ZZS210511744    NaN   \n687   ZZS210511744KHS  ZZS210511744    NaN   \n\n                                                  产品类型  \\\n0    普通产品 -> Clothing Shoes & Accessories -> 男装 -> ...   \n1    普通产品 -> Clothing Shoes & Accessories -> 男装 -> ...   \n2    普通产品 -> Clothing Shoes & Accessories -> 男装 -> ...   \n3    普通产品 -> Clothing Shoes & Accessories -> 男装 -> ...   \n4    普通产品 -> Clothing Shoes & Accessories -> 男装 -> ...   \n..                                                 ...   \n683  普通产品 -> Clothing Shoes & Accessories -> 男装 -> ...   \n684  普通产品 -> Clothing Shoes & Accessories -> 男装 -> ...   \n685  普通产品 -> Clothing Shoes & Accessories -> 男装 -> ...   \n686  普通产品 -> Clothing Shoes & Accessories -> 男装 -> ...   \n687  普通产品 -> Clothing Shoes & Accessories -> 男装 -> ...   \n\n                                                    标题  \\\n0    Male Summer Cargo Pants Solid Color Pocket Tet...   \n1    Male Summer Cargo Pants Solid Color Pocket Tet...   \n2    Male Summer Cargo Pants Solid Color Pocket Tet...   \n3    Male Summer Cargo Pants Solid Color Pocket Tet...   \n4    Male Summer Cargo Pants Solid Color Pocket Tet...   \n..                                                 ...   \n683  Casual Straight Summer Multi Pocket Men's Pant...   \n684  Casual Straight Summer Multi Pocket Men's Pant...   \n685  Casual Straight Summer Multi Pocket Men's Pant...   \n686  Casual Straight Summer Multi Pocket Men's Pant...   \n687  Casual Straight Summer Multi Pocket Men's Pant...   \n\n                               产品名称  \\\n0                     男士多口袋纽扣五分工装短裤   \n1             男士多口袋纽扣五分工装短裤 黑色 L-31   \n2            男士多口袋纽扣五分工装短裤 黑色XXL-33   \n3          男士多口袋纽扣五分工装短裤 黑色 XXXL-34   \n4             男士多口袋纽扣五分工装短裤 黑色 M-30   \n..                              ...   \n683    男士夏季多口袋直筒休闲裤工装裤长裤  灰色 XXXXXL   \n684         男士夏季多口袋直筒休闲裤工装裤长裤  灰色 S   \n685    男士夏季多口袋直筒休闲裤工装裤长裤  卡其色 XXXXL   \n686  男士夏季多口袋直筒休闲裤工装裤长裤   卡其色 XXXXXL   \n687        男士夏季多口袋直筒休闲裤工装裤长裤  卡其色 S   \n\n                                                    描述  \\\n0    <h1 align=\"center\"><span style=\"font-size:14pt...   \n1    <h1 align=\"center\"><span style=\"font-size:14pt...   \n2    <h1 align=\"center\"><span style=\"font-size:14pt...   \n3    <h1 align=\"center\"><span style=\"font-size:14pt...   \n4    <h1 align=\"center\"><span style=\"font-size:14pt...   \n..                                                 ...   \n683  <h1 align=\"center\"><span style=\"font-size:14pt...   \n684  <h1 align=\"center\"><span style=\"font-size:14pt...   \n685  <h1 align=\"center\"><span style=\"font-size:14pt...   \n686  <h1 align=\"center\"><span style=\"font-size:14pt...   \n687  <h1 align=\"center\"><span style=\"font-size:14pt...   \n\n                                       颜色                 尺寸     亚马逊尺寸  ...  \\\n0    Black,Yellow,Green,Coffee,Khaki,Grey  S,M,L,XL,XXL,XXXL       NaN  ...   \n1                                   Black               L-31       NaN  ...   \n2                                   Black             XXL-33       NaN  ...   \n3                                   Black            XXXL-34       NaN  ...   \n4                                   Black               M-30       NaN  ...   \n..                                    ...                ...       ...  ...   \n683                                  Grey             XXXXXL  5X-Large  ...   \n684                                  Grey                  S     Small  ...   \n685                                 Khaki              XXXXL  4X-Large  ...   \n686                                 Khaki             XXXXXL  5X-Large  ...   \n687                                 Khaki                  S     Small  ...   \n\n    S3图片链接 8缩略图                                           S3图片链接 8  \\\n0           NaN  https://oz1xbcxa3ey1u5sz.imgsapp.com/afsd/1935...   \n1           NaN                                                NaN   \n2           NaN                                                NaN   \n3           NaN                                                NaN   \n4           NaN                                                NaN   \n..          ...                                                ...   \n683         NaN  https://beaqdilces304it4.imgsapp.com/afsd/8802...   \n684         NaN  https://uw04vmkwhu29sfli.imgsapp.com/afsd/8802...   \n685         NaN  https://oz7ag1f8cmj8r9t2.imgsapp.com/afsd/8802...   \n686         NaN  https://pxqulwuv6hvf1d9p.imgsapp.com/afsd/8802...   \n687         NaN  https://62l99ff5lxr2sqaa.imgsapp.com/afsd/8802...   \n\n    S3图片链接 9缩略图                                           S3图片链接 9 子图链接   长  \\\n0           NaN  https://o09tclpn5hvfql24.imgsapp.com/afsd/1935...  NaN  30   \n1           NaN                                                NaN  NaN  33   \n2           NaN                                                NaN  NaN  33   \n3           NaN                                                NaN  NaN  33   \n4           NaN                                                NaN  NaN  33   \n..          ...                                                ...  ...  ..   \n683         NaN  https://xmvlodrvwlswrqur.imgsapp.com/afsd/8802...  NaN  30   \n684         NaN  https://yehpc88ffcmmurw8.imgsapp.com/afsd/8802...  NaN  30   \n685         NaN  https://4g2e6dzvc73tya1m.imgsapp.com/afsd/8802...  NaN  30   \n686         NaN  https://idkvyw32unyuuhqc.imgsapp.com/afsd/8802...  NaN  30   \n687         NaN  https://juwq39uf4a372ymp.imgsapp.com/afsd/8802...  NaN  30   \n\n      宽  高                                                尺码表  印花名称  \n0    20  3  Size: S Waist: 74cm/29.13'' Hip: 121cm/47.64''...    其他  \n1    24  1  Size: S Waist: 74cm/29.13'' Hip: 121cm/47.64''...   NaN  \n2    24  1  Size: S Waist: 74cm/29.13'' Hip: 121cm/47.64''...   NaN  \n3    24  1  Size: S Waist: 74cm/29.13'' Hip: 121cm/47.64''...   NaN  \n4    24  1  Size: S Waist: 74cm/29.13'' Hip: 121cm/47.64''...   NaN  \n..   .. ..                                                ...   ...  \n683  23  1  Size: S US: 4 UK: 8 EU: 34 Waist: 77cm/30.31''...   NaN  \n684  23  1  Size: S US: 4 UK: 8 EU: 34 Waist: 77cm/30.31''...   NaN  \n685  23  1  Size: S US: 4 UK: 8 EU: 34 Waist: 77cm/30.31''...   NaN  \n686  23  1  Size: S US: 4 UK: 8 EU: 34 Waist: 77cm/30.31''...   NaN  \n687  23  1  Size: S US: 4 UK: 8 EU: 34 Waist: 77cm/30.31''...   NaN  \n\n[688 rows x 64 columns]",
      "text/html": "<div>\n<style scoped>\n    .dataframe tbody tr th:only-of-type {\n        vertical-align: middle;\n    }\n\n    .dataframe tbody tr th {\n        vertical-align: top;\n    }\n\n    .dataframe thead th {\n        text-align: right;\n    }\n</style>\n<table border=\"1\" class=\"dataframe\">\n  <thead>\n    <tr style=\"text-align: right;\">\n      <th></th>\n      <th>SKU</th>\n      <th>父SKU</th>\n      <th>产品缩略图</th>\n      <th>产品类型</th>\n      <th>标题</th>\n      <th>产品名称</th>\n      <th>描述</th>\n      <th>颜色</th>\n      <th>尺寸</th>\n      <th>亚马逊尺寸</th>\n      <th>...</th>\n      <th>S3图片链接 8缩略图</th>\n      <th>S3图片链接 8</th>\n      <th>S3图片链接 9缩略图</th>\n      <th>S3图片链接 9</th>\n      <th>子图链接</th>\n      <th>长</th>\n      <th>宽</th>\n      <th>高</th>\n      <th>尺码表</th>\n      <th>印花名称</th>\n    </tr>\n  </thead>\n  <tbody>\n    <tr>\n      <th>0</th>\n      <td>AHY240625001</td>\n      <td>NaN</td>\n      <td>NaN</td>\n      <td>普通产品 -&gt; Clothing Shoes &amp; Accessories -&gt; 男装 -&gt; ...</td>\n      <td>Male Summer Cargo Pants Solid Color Pocket Tet...</td>\n      <td>男士多口袋纽扣五分工装短裤</td>\n      <td>&lt;h1 align=\"center\"&gt;&lt;span style=\"font-size:14pt...</td>\n      <td>Black,Yellow,Green,Coffee,Khaki,Grey</td>\n      <td>S,M,L,XL,XXL,XXXL</td>\n      <td>NaN</td>\n      <td>...</td>\n      <td>NaN</td>\n      <td>https://oz1xbcxa3ey1u5sz.imgsapp.com/afsd/1935...</td>\n      <td>NaN</td>\n      <td>https://o09tclpn5hvfql24.imgsapp.com/afsd/1935...</td>\n      <td>NaN</td>\n      <td>30</td>\n      <td>20</td>\n      <td>3</td>\n      <td>Size: S Waist: 74cm/29.13'' Hip: 121cm/47.64''...</td>\n      <td>其他</td>\n    </tr>\n    <tr>\n      <th>1</th>\n      <td>AHY240625001BKL</td>\n      <td>AHY240625001</td>\n      <td>NaN</td>\n      <td>普通产品 -&gt; Clothing Shoes &amp; Accessories -&gt; 男装 -&gt; ...</td>\n      <td>Male Summer Cargo Pants Solid Color Pocket Tet...</td>\n      <td>男士多口袋纽扣五分工装短裤 黑色 L-31</td>\n      <td>&lt;h1 align=\"center\"&gt;&lt;span style=\"font-size:14pt...</td>\n      <td>Black</td>\n      <td>L-31</td>\n      <td>NaN</td>\n      <td>...</td>\n      <td>NaN</td>\n      <td>NaN</td>\n      <td>NaN</td>\n      <td>NaN</td>\n      <td>NaN</td>\n      <td>33</td>\n      <td>24</td>\n      <td>1</td>\n      <td>Size: S Waist: 74cm/29.13'' Hip: 121cm/47.64''...</td>\n      <td>NaN</td>\n    </tr>\n    <tr>\n      <th>2</th>\n      <td>AHY240625001BKL2</td>\n      <td>AHY240625001</td>\n      <td>NaN</td>\n      <td>普通产品 -&gt; Clothing Shoes &amp; Accessories -&gt; 男装 -&gt; ...</td>\n      <td>Male Summer Cargo Pants Solid Color Pocket Tet...</td>\n      <td>男士多口袋纽扣五分工装短裤 黑色XXL-33</td>\n      <td>&lt;h1 align=\"center\"&gt;&lt;span style=\"font-size:14pt...</td>\n      <td>Black</td>\n      <td>XXL-33</td>\n      <td>NaN</td>\n      <td>...</td>\n      <td>NaN</td>\n      <td>NaN</td>\n      <td>NaN</td>\n      <td>NaN</td>\n      <td>NaN</td>\n      <td>33</td>\n      <td>24</td>\n      <td>1</td>\n      <td>Size: S Waist: 74cm/29.13'' Hip: 121cm/47.64''...</td>\n      <td>NaN</td>\n    </tr>\n    <tr>\n      <th>3</th>\n      <td>AHY240625001BKL3</td>\n      <td>AHY240625001</td>\n      <td>NaN</td>\n      <td>普通产品 -&gt; Clothing Shoes &amp; Accessories -&gt; 男装 -&gt; ...</td>\n      <td>Male Summer Cargo Pants Solid Color Pocket Tet...</td>\n      <td>男士多口袋纽扣五分工装短裤 黑色 XXXL-34</td>\n      <td>&lt;h1 align=\"center\"&gt;&lt;span style=\"font-size:14pt...</td>\n      <td>Black</td>\n      <td>XXXL-34</td>\n      <td>NaN</td>\n      <td>...</td>\n      <td>NaN</td>\n      <td>NaN</td>\n      <td>NaN</td>\n      <td>NaN</td>\n      <td>NaN</td>\n      <td>33</td>\n      <td>24</td>\n      <td>1</td>\n      <td>Size: S Waist: 74cm/29.13'' Hip: 121cm/47.64''...</td>\n      <td>NaN</td>\n    </tr>\n    <tr>\n      <th>4</th>\n      <td>AHY240625001BKM</td>\n      <td>AHY240625001</td>\n      <td>NaN</td>\n      <td>普通产品 -&gt; Clothing Shoes &amp; Accessories -&gt; 男装 -&gt; ...</td>\n      <td>Male Summer Cargo Pants Solid Color Pocket Tet...</td>\n      <td>男士多口袋纽扣五分工装短裤 黑色 M-30</td>\n      <td>&lt;h1 align=\"center\"&gt;&lt;span style=\"font-size:14pt...</td>\n      <td>Black</td>\n      <td>M-30</td>\n      <td>NaN</td>\n      <td>...</td>\n      <td>NaN</td>\n      <td>NaN</td>\n      <td>NaN</td>\n      <td>NaN</td>\n      <td>NaN</td>\n      <td>33</td>\n      <td>24</td>\n      <td>1</td>\n      <td>Size: S Waist: 74cm/29.13'' Hip: 121cm/47.64''...</td>\n      <td>NaN</td>\n    </tr>\n    <tr>\n      <th>...</th>\n      <td>...</td>\n      <td>...</td>\n      <td>...</td>\n      <td>...</td>\n      <td>...</td>\n      <td>...</td>\n      <td>...</td>\n      <td>...</td>\n      <td>...</td>\n      <td>...</td>\n      <td>...</td>\n      <td>...</td>\n      <td>...</td>\n      <td>...</td>\n      <td>...</td>\n      <td>...</td>\n      <td>...</td>\n      <td>...</td>\n      <td>...</td>\n      <td>...</td>\n      <td>...</td>\n    </tr>\n    <tr>\n      <th>683</th>\n      <td>ZZS210511744GYL5</td>\n      <td>ZZS210511744</td>\n      <td>NaN</td>\n      <td>普通产品 -&gt; Clothing Shoes &amp; Accessories -&gt; 男装 -&gt; ...</td>\n      <td>Casual Straight Summer Multi Pocket Men's Pant...</td>\n      <td>男士夏季多口袋直筒休闲裤工装裤长裤  灰色 XXXXXL</td>\n      <td>&lt;h1 align=\"center\"&gt;&lt;span style=\"font-size:14pt...</td>\n      <td>Grey</td>\n      <td>XXXXXL</td>\n      <td>5X-Large</td>\n      <td>...</td>\n      <td>NaN</td>\n      <td>https://beaqdilces304it4.imgsapp.com/afsd/8802...</td>\n      <td>NaN</td>\n      <td>https://xmvlodrvwlswrqur.imgsapp.com/afsd/8802...</td>\n      <td>NaN</td>\n      <td>30</td>\n      <td>23</td>\n      <td>1</td>\n      <td>Size: S US: 4 UK: 8 EU: 34 Waist: 77cm/30.31''...</td>\n      <td>NaN</td>\n    </tr>\n    <tr>\n      <th>684</th>\n      <td>ZZS210511744GYS</td>\n      <td>ZZS210511744</td>\n      <td>NaN</td>\n      <td>普通产品 -&gt; Clothing Shoes &amp; Accessories -&gt; 男装 -&gt; ...</td>\n      <td>Casual Straight Summer Multi Pocket Men's Pant...</td>\n      <td>男士夏季多口袋直筒休闲裤工装裤长裤  灰色 S</td>\n      <td>&lt;h1 align=\"center\"&gt;&lt;span style=\"font-size:14pt...</td>\n      <td>Grey</td>\n      <td>S</td>\n      <td>Small</td>\n      <td>...</td>\n      <td>NaN</td>\n      <td>https://uw04vmkwhu29sfli.imgsapp.com/afsd/8802...</td>\n      <td>NaN</td>\n      <td>https://yehpc88ffcmmurw8.imgsapp.com/afsd/8802...</td>\n      <td>NaN</td>\n      <td>30</td>\n      <td>23</td>\n      <td>1</td>\n      <td>Size: S US: 4 UK: 8 EU: 34 Waist: 77cm/30.31''...</td>\n      <td>NaN</td>\n    </tr>\n    <tr>\n      <th>685</th>\n      <td>ZZS210511744KHL4</td>\n      <td>ZZS210511744</td>\n      <td>NaN</td>\n      <td>普通产品 -&gt; Clothing Shoes &amp; Accessories -&gt; 男装 -&gt; ...</td>\n      <td>Casual Straight Summer Multi Pocket Men's Pant...</td>\n      <td>男士夏季多口袋直筒休闲裤工装裤长裤  卡其色 XXXXL</td>\n      <td>&lt;h1 align=\"center\"&gt;&lt;span style=\"font-size:14pt...</td>\n      <td>Khaki</td>\n      <td>XXXXL</td>\n      <td>4X-Large</td>\n      <td>...</td>\n      <td>NaN</td>\n      <td>https://oz7ag1f8cmj8r9t2.imgsapp.com/afsd/8802...</td>\n      <td>NaN</td>\n      <td>https://4g2e6dzvc73tya1m.imgsapp.com/afsd/8802...</td>\n      <td>NaN</td>\n      <td>30</td>\n      <td>23</td>\n      <td>1</td>\n      <td>Size: S US: 4 UK: 8 EU: 34 Waist: 77cm/30.31''...</td>\n      <td>NaN</td>\n    </tr>\n    <tr>\n      <th>686</th>\n      <td>ZZS210511744KHL5</td>\n      <td>ZZS210511744</td>\n      <td>NaN</td>\n      <td>普通产品 -&gt; Clothing Shoes &amp; Accessories -&gt; 男装 -&gt; ...</td>\n      <td>Casual Straight Summer Multi Pocket Men's Pant...</td>\n      <td>男士夏季多口袋直筒休闲裤工装裤长裤   卡其色 XXXXXL</td>\n      <td>&lt;h1 align=\"center\"&gt;&lt;span style=\"font-size:14pt...</td>\n      <td>Khaki</td>\n      <td>XXXXXL</td>\n      <td>5X-Large</td>\n      <td>...</td>\n      <td>NaN</td>\n      <td>https://pxqulwuv6hvf1d9p.imgsapp.com/afsd/8802...</td>\n      <td>NaN</td>\n      <td>https://idkvyw32unyuuhqc.imgsapp.com/afsd/8802...</td>\n      <td>NaN</td>\n      <td>30</td>\n      <td>23</td>\n      <td>1</td>\n      <td>Size: S US: 4 UK: 8 EU: 34 Waist: 77cm/30.31''...</td>\n      <td>NaN</td>\n    </tr>\n    <tr>\n      <th>687</th>\n      <td>ZZS210511744KHS</td>\n      <td>ZZS210511744</td>\n      <td>NaN</td>\n      <td>普通产品 -&gt; Clothing Shoes &amp; Accessories -&gt; 男装 -&gt; ...</td>\n      <td>Casual Straight Summer Multi Pocket Men's Pant...</td>\n      <td>男士夏季多口袋直筒休闲裤工装裤长裤  卡其色 S</td>\n      <td>&lt;h1 align=\"center\"&gt;&lt;span style=\"font-size:14pt...</td>\n      <td>Khaki</td>\n      <td>S</td>\n      <td>Small</td>\n      <td>...</td>\n      <td>NaN</td>\n      <td>https://62l99ff5lxr2sqaa.imgsapp.com/afsd/8802...</td>\n      <td>NaN</td>\n      <td>https://juwq39uf4a372ymp.imgsapp.com/afsd/8802...</td>\n      <td>NaN</td>\n      <td>30</td>\n      <td>23</td>\n      <td>1</td>\n      <td>Size: S US: 4 UK: 8 EU: 34 Waist: 77cm/30.31''...</td>\n      <td>NaN</td>\n    </tr>\n  </tbody>\n</table>\n<p>688 rows × 64 columns</p>\n</div>"
     },
     "execution_count": 373,
     "metadata": {},
     "output_type": "execute_result"
    }
   ],
   "source": [
    "fp_erp = f'{bd_a}/product_20240729110524847.xls'\n",
    "erp_df: DataFrame = pd.read_excel(fp_erp)\n",
    "\n",
    "erp_df"
   ],
   "metadata": {
    "collapsed": false,
    "pycharm": {
     "name": "#%%\n"
    }
   }
  },
  {
   "cell_type": "markdown",
   "source": [
    "# 1. 生成amazon_sku, amazon_psku, parent_child, 过滤无用数据行"
   ],
   "metadata": {
    "collapsed": false,
    "pycharm": {
     "name": "#%% md\n"
    }
   }
  },
  {
   "cell_type": "code",
   "execution_count": 374,
   "outputs": [
    {
     "data": {
      "text/plain": "'FRL-DE-24-07-29-21-02-41-001-BWL2'"
     },
     "execution_count": 374,
     "metadata": {},
     "output_type": "execute_result"
    }
   ],
   "source": [
    "def generate_amazon_sku(s: str, c: str, n: str, b: int) -> str:\n",
    "    \"\"\"\n",
    "\n",
    "    :param s: ERP的sku\n",
    "    :param c: 仓库编号\n",
    "    :param n: 节点\n",
    "    :param b: 父sku批号\n",
    "    :return:\n",
    "    \"\"\"\n",
    "    p = re.compile(r'^(?P<p>[A-Z]+)(?P<d>\\d{6})(?P<n>\\d+)(?P<cs>.*?)$', re.S)\n",
    "    # for i in p.match(s).groups():\n",
    "    #     print(i)\n",
    "    t = ymd_HMS[2:].replace(' ', '-').replace(':', '-')\n",
    "    cs = p.match(s).group('cs')\n",
    "    result = f'{c}-{n}-{t}-{b:03d}-{cs}'.strip('-')\n",
    "    return result\n",
    "\n",
    "\n",
    "s1 = 'BYJ240716009BWL2'\n",
    "# MKT-DE-24-07-18-001-BWL2\n",
    "generate_amazon_sku(s1, 'FRL', 'DE', 1)"
   ],
   "metadata": {
    "collapsed": false,
    "pycharm": {
     "name": "#%%\n"
    }
   }
  },
  {
   "cell_type": "code",
   "execution_count": 375,
   "outputs": [],
   "source": [
    "erp_df['父SKU'] = erp_df['父SKU'].fillna(erp_df['SKU']).copy()\n",
    "erp_df['parent_child'] = np.where(erp_df['父SKU'] == erp_df['SKU'], 'Parent', 'Child')"
   ],
   "metadata": {
    "collapsed": false,
    "pycharm": {
     "name": "#%%\n"
    }
   }
  },
  {
   "cell_type": "code",
   "execution_count": 376,
   "outputs": [
    {
     "data": {
      "text/plain": "                  SKU          父SKU                         amazon_sku  \\\n0        AHY240625001  AHY240625001       FRL-DE-24-07-29-21-02-41-001   \n1     AHY240625001BKL  AHY240625001   FRL-DE-24-07-29-21-02-41-001-BKL   \n2    AHY240625001BKL2  AHY240625001  FRL-DE-24-07-29-21-02-41-001-BKL2   \n3    AHY240625001BKL3  AHY240625001  FRL-DE-24-07-29-21-02-41-001-BKL3   \n4     AHY240625001BKM  AHY240625001   FRL-DE-24-07-29-21-02-41-001-BKM   \n..                ...           ...                                ...   \n683  ZZS210511744GYL5  ZZS210511744  FRL-DE-24-07-29-21-02-41-050-GYL5   \n684   ZZS210511744GYS  ZZS210511744   FRL-DE-24-07-29-21-02-41-050-GYS   \n685  ZZS210511744KHL4  ZZS210511744  FRL-DE-24-07-29-21-02-41-050-KHL4   \n686  ZZS210511744KHL5  ZZS210511744  FRL-DE-24-07-29-21-02-41-050-KHL5   \n687   ZZS210511744KHS  ZZS210511744   FRL-DE-24-07-29-21-02-41-050-KHS   \n\n                      amazon_psku parent_child  \n0    FRL-DE-24-07-29-21-02-41-001       Parent  \n1    FRL-DE-24-07-29-21-02-41-001        Child  \n2    FRL-DE-24-07-29-21-02-41-001        Child  \n3    FRL-DE-24-07-29-21-02-41-001        Child  \n4    FRL-DE-24-07-29-21-02-41-001        Child  \n..                            ...          ...  \n683  FRL-DE-24-07-29-21-02-41-050        Child  \n684  FRL-DE-24-07-29-21-02-41-050        Child  \n685  FRL-DE-24-07-29-21-02-41-050        Child  \n686  FRL-DE-24-07-29-21-02-41-050        Child  \n687  FRL-DE-24-07-29-21-02-41-050        Child  \n\n[688 rows x 5 columns]",
      "text/html": "<div>\n<style scoped>\n    .dataframe tbody tr th:only-of-type {\n        vertical-align: middle;\n    }\n\n    .dataframe tbody tr th {\n        vertical-align: top;\n    }\n\n    .dataframe thead th {\n        text-align: right;\n    }\n</style>\n<table border=\"1\" class=\"dataframe\">\n  <thead>\n    <tr style=\"text-align: right;\">\n      <th></th>\n      <th>SKU</th>\n      <th>父SKU</th>\n      <th>amazon_sku</th>\n      <th>amazon_psku</th>\n      <th>parent_child</th>\n    </tr>\n  </thead>\n  <tbody>\n    <tr>\n      <th>0</th>\n      <td>AHY240625001</td>\n      <td>AHY240625001</td>\n      <td>FRL-DE-24-07-29-21-02-41-001</td>\n      <td>FRL-DE-24-07-29-21-02-41-001</td>\n      <td>Parent</td>\n    </tr>\n    <tr>\n      <th>1</th>\n      <td>AHY240625001BKL</td>\n      <td>AHY240625001</td>\n      <td>FRL-DE-24-07-29-21-02-41-001-BKL</td>\n      <td>FRL-DE-24-07-29-21-02-41-001</td>\n      <td>Child</td>\n    </tr>\n    <tr>\n      <th>2</th>\n      <td>AHY240625001BKL2</td>\n      <td>AHY240625001</td>\n      <td>FRL-DE-24-07-29-21-02-41-001-BKL2</td>\n      <td>FRL-DE-24-07-29-21-02-41-001</td>\n      <td>Child</td>\n    </tr>\n    <tr>\n      <th>3</th>\n      <td>AHY240625001BKL3</td>\n      <td>AHY240625001</td>\n      <td>FRL-DE-24-07-29-21-02-41-001-BKL3</td>\n      <td>FRL-DE-24-07-29-21-02-41-001</td>\n      <td>Child</td>\n    </tr>\n    <tr>\n      <th>4</th>\n      <td>AHY240625001BKM</td>\n      <td>AHY240625001</td>\n      <td>FRL-DE-24-07-29-21-02-41-001-BKM</td>\n      <td>FRL-DE-24-07-29-21-02-41-001</td>\n      <td>Child</td>\n    </tr>\n    <tr>\n      <th>...</th>\n      <td>...</td>\n      <td>...</td>\n      <td>...</td>\n      <td>...</td>\n      <td>...</td>\n    </tr>\n    <tr>\n      <th>683</th>\n      <td>ZZS210511744GYL5</td>\n      <td>ZZS210511744</td>\n      <td>FRL-DE-24-07-29-21-02-41-050-GYL5</td>\n      <td>FRL-DE-24-07-29-21-02-41-050</td>\n      <td>Child</td>\n    </tr>\n    <tr>\n      <th>684</th>\n      <td>ZZS210511744GYS</td>\n      <td>ZZS210511744</td>\n      <td>FRL-DE-24-07-29-21-02-41-050-GYS</td>\n      <td>FRL-DE-24-07-29-21-02-41-050</td>\n      <td>Child</td>\n    </tr>\n    <tr>\n      <th>685</th>\n      <td>ZZS210511744KHL4</td>\n      <td>ZZS210511744</td>\n      <td>FRL-DE-24-07-29-21-02-41-050-KHL4</td>\n      <td>FRL-DE-24-07-29-21-02-41-050</td>\n      <td>Child</td>\n    </tr>\n    <tr>\n      <th>686</th>\n      <td>ZZS210511744KHL5</td>\n      <td>ZZS210511744</td>\n      <td>FRL-DE-24-07-29-21-02-41-050-KHL5</td>\n      <td>FRL-DE-24-07-29-21-02-41-050</td>\n      <td>Child</td>\n    </tr>\n    <tr>\n      <th>687</th>\n      <td>ZZS210511744KHS</td>\n      <td>ZZS210511744</td>\n      <td>FRL-DE-24-07-29-21-02-41-050-KHS</td>\n      <td>FRL-DE-24-07-29-21-02-41-050</td>\n      <td>Child</td>\n    </tr>\n  </tbody>\n</table>\n<p>688 rows × 5 columns</p>\n</div>"
     },
     "execution_count": 376,
     "metadata": {},
     "output_type": "execute_result"
    }
   ],
   "source": [
    "ams = []\n",
    "amps = []\n",
    "\n",
    "for i, (n, group) in enumerate(erp_df.groupby(by=['父SKU'])):\n",
    "    for index, row in group.iterrows():\n",
    "        am_sku = generate_amazon_sku(row['SKU'], 'FRL', 'DE', i + 1)\n",
    "        am_psku = generate_amazon_sku(row['父SKU'], 'FRL', 'DE', i + 1)\n",
    "        ams.append(am_sku)\n",
    "        amps.append(am_psku)\n",
    "\n",
    "erp_df['amazon_sku'] = ams.copy()\n",
    "erp_df['amazon_psku'] = amps.copy()\n",
    "erp_df[['SKU', '父SKU', 'amazon_sku', 'amazon_psku', 'parent_child']]"
   ],
   "metadata": {
    "collapsed": false,
    "pycharm": {
     "name": "#%%\n"
    }
   }
  },
  {
   "cell_type": "code",
   "execution_count": 377,
   "outputs": [],
   "source": [
    "inuse_skus_path = './util/skus/inuse_skus.txt'\n",
    "archived_skus_path = './util/skus/archived_skus.txt'\n",
    "deleted_skus_path = './util/skus/deleted_skus.txt'\n",
    "recalled_skus_path = './util/skus/recalled_skus.txt'\n",
    "other_skus_path = './util/skus/other_skus.txt'\n",
    "# inuse_skus = open(inuse_skus_path, mode='r', encoding='utf-8').readlines()\n",
    "# inuse_skus = [i.strip() for i in inuse_skus]\n",
    "# archived_skus = open(archived_skus_path, mode='r', encoding='utf-8').readlines()\n",
    "# archived_skus = [i.strip() for i in archived_skus]\n",
    "# deleted_skus = open(deleted_skus_path, mode='r', encoding='utf-8').readlines()\n",
    "# deleted_skus = [i.strip() for i in deleted_skus]\n",
    "# recalled_skus = open(recalled_skus_path, mode='r', encoding='utf-8').readlines()\n",
    "# recalled_skus = [i.strip() for i in recalled_skus]\n",
    "# other_skus = open(other_skus_path, mode='r', encoding='utf-8').readlines()\n",
    "# other_skus = [i.strip() for i in other_skus]\n",
    "#\n",
    "# erp_df = erp_df[~erp_df['父SKU'].isin(inuse_skus + archived_skus + deleted_skus + recalled_skus + other_skus)]"
   ],
   "metadata": {
    "collapsed": false,
    "pycharm": {
     "name": "#%%\n"
    }
   }
  },
  {
   "cell_type": "markdown",
   "source": [
    "# 过滤掉无用数据行\n",
    "\n",
    "\"需要手动操作，过滤下架的品(Deleted)，导出的文件还要检查\n",
    "1. 淘汰掉那些与目标品类（长裤，短裤）不一样的品(Other)\n",
    "2. 父sku是否有子sku(Archived)\n",
    "3. 有无图片缺失(Archived)\"\n"
   ],
   "metadata": {
    "collapsed": false,
    "pycharm": {
     "name": "#%% md\n"
    }
   }
  },
  {
   "cell_type": "code",
   "execution_count": 378,
   "outputs": [
    {
     "data": {
      "text/plain": "array(['AHY240625001', 'ARH230522004', 'AWB231219002', 'CMG210615252',\n       'CMG210906252', 'CMG220307256', 'CMG220905004', 'CMG221207014',\n       'CMG221207015', 'CMG221207016', 'CMG221207017', 'CMG221207020',\n       'CMG221207021', 'CMG230302006', 'CWL231026005', 'FBE220924043',\n       'FZQ230705020', 'FZQ230925006', 'FZQ230925008', 'HCJ231123001',\n       'LBB230904023', 'LBB230904027', 'LBB230904028', 'LBB230904029',\n       'LBB230904031', 'LBB240123002', 'LJH81008337', 'LLL231122001',\n       'LLL71218030', 'LNP220809008', 'LZZ220310635', 'MJJ201023291',\n       'QXP240705001', 'SCN221128001', 'SFW211229313', 'SQI220926005',\n       'WMQ230306012', 'WMQ230616009', 'YAY81204372', 'YLA231009004',\n       'YWZ240104009', 'ZME220405267', 'ZME220827007', 'ZTY210623248',\n       'ZTY230213002', 'ZTY230401011', 'ZTY230829002', 'ZTY230829005',\n       'ZTY231030001', 'ZZS210511744'], dtype=object)"
     },
     "execution_count": 378,
     "metadata": {},
     "output_type": "execute_result"
    }
   ],
   "source": [
    "erp_df['父SKU'].unique()"
   ],
   "metadata": {
    "collapsed": false,
    "pycharm": {
     "name": "#%%\n"
    }
   }
  },
  {
   "cell_type": "markdown",
   "source": [
    "## Archived"
   ],
   "metadata": {
    "collapsed": false,
    "pycharm": {
     "name": "#%% md\n"
    }
   }
  },
  {
   "cell_type": "code",
   "execution_count": 379,
   "outputs": [
    {
     "data": {
      "text/plain": "array(['ARH230522004', 'LBB230904028', 'CMG210615252', 'LJH81008337',\n       'LLL71218030', 'YAY81204372'], dtype=object)"
     },
     "execution_count": 379,
     "metadata": {},
     "output_type": "execute_result"
    }
   ],
   "source": [
    "archived_skus_path = './util/skus/archived_skus.txt'\n",
    "# 读取已存档的SKUs\n",
    "with open(archived_skus_path, 'r') as file:\n",
    "    archived_skus = set(line.strip() for line in file)\n",
    "\n",
    "# 第一步: 记录并删除`父SKU`字段值唯一的行\n",
    "unique_psku_indexes = erp_df['父SKU'].drop_duplicates(keep=False).index\n",
    "unique_pskus = erp_df.loc[unique_psku_indexes, '父SKU']\n",
    "erp_df.drop(unique_psku_indexes, inplace=True)\n",
    "\n",
    "# 第二步: 记录并删除`图片链接`字段值为 NaN 的行\n",
    "nan_image_links_indexes = erp_df['图片链接 1'].isna()\n",
    "nan_image_links_pskus = erp_df.loc[nan_image_links_indexes, '父SKU']\n",
    "# erp_df.drop(nan_image_links_indexes.index, inplace=True)\n",
    "\n",
    "# 合并两个集合\n",
    "to_archive_skus = unique_pskus.append(nan_image_links_pskus)\n",
    "\n",
    "# 将新`父SKU`添加到文件末尾（如果不存在于已存档的SKU中）\n",
    "with open(archived_skus_path, 'a') as file:\n",
    "    for sku in to_archive_skus.unique():\n",
    "        if sku not in archived_skus:\n",
    "            file.write(f\"{sku}\\n\")\n",
    "\n",
    "to_archive_skus.unique()"
   ],
   "metadata": {
    "collapsed": false,
    "pycharm": {
     "name": "#%%\n"
    }
   }
  },
  {
   "cell_type": "markdown",
   "source": [],
   "metadata": {
    "collapsed": false,
    "pycharm": {
     "name": "#%% md\n"
    }
   }
  },
  {
   "cell_type": "markdown",
   "source": [
    "## Other"
   ],
   "metadata": {
    "collapsed": false,
    "pycharm": {
     "name": "#%% md\n"
    }
   }
  },
  {
   "cell_type": "code",
   "source": [
    "import pandas as pd\n",
    "\n",
    "# 假设 erp_df 已经是一个加载好的DataFrame\n",
    "# 如果没有，请先加载你的数据\n",
    "# erp_df = pd.read_csv('your_data.csv')\n",
    "\n",
    "other_skus_path = './util/skus/other_skus.txt'\n",
    "\n",
    "# 读取已存档的SKUs\n",
    "with open(other_skus_path, 'r') as file:\n",
    "    other_skus = set(line.strip() for line in file)\n",
    "\n",
    "minors = ['短', '短裤', '7分']\n",
    "\n",
    "# 第一步: 记录并删除`产品名称`字段值包含“短”或“短裤”的行\n",
    "other_rows = erp_df['产品名称'].str.contains('|'.join(minors), case=False, regex=True)\n",
    "other_pskus = erp_df.loc[other_rows, '父SKU']\n",
    "erp_df.drop(erp_df.index[other_rows], inplace=True)\n",
    "\n",
    "# 第二步: 将新`父SKU`添加到文件末尾（如果不存在于已存档的SKU中）\n",
    "with open(other_skus_path, 'a') as file:\n",
    "    for sku in other_pskus.unique():\n",
    "        if sku not in other_skus:\n",
    "            file.write(f\"{sku}\\n\")\n",
    "\n",
    "other_pskus.unique()"
   ],
   "metadata": {
    "collapsed": false,
    "pycharm": {
     "name": "#%%\n"
    }
   },
   "execution_count": 380,
   "outputs": [
    {
     "data": {
      "text/plain": "array(['AHY240625001', 'CMG210615252', 'LBB240123002', 'LLL71218030',\n       'LZZ220310635', 'WMQ230306012', 'YWZ240104009', 'ZME220405267'],\n      dtype=object)"
     },
     "execution_count": 380,
     "metadata": {},
     "output_type": "execute_result"
    }
   ]
  },
  {
   "cell_type": "code",
   "execution_count": 381,
   "outputs": [
    {
     "data": {
      "text/plain": "array(['AWB231219002', 'CMG210906252', 'CMG220307256', 'CMG220905004',\n       'CMG221207014', 'CMG221207015', 'CMG221207016', 'CMG221207017',\n       'CMG221207020', 'CMG221207021', 'CMG230302006', 'CWL231026005',\n       'FBE220924043', 'FZQ230705020', 'FZQ230925006', 'FZQ230925008',\n       'HCJ231123001', 'LBB230904023', 'LBB230904027', 'LBB230904029',\n       'LBB230904031', 'LJH81008337', 'LLL231122001', 'LNP220809008',\n       'MJJ201023291', 'QXP240705001', 'SCN221128001', 'SFW211229313',\n       'SQI220926005', 'WMQ230616009', 'YAY81204372', 'YLA231009004',\n       'ZME220827007', 'ZTY210623248', 'ZTY230213002', 'ZTY230401011',\n       'ZTY230829002', 'ZTY230829005', 'ZTY231030001', 'ZZS210511744'],\n      dtype=object)"
     },
     "execution_count": 381,
     "metadata": {},
     "output_type": "execute_result"
    }
   ],
   "source": [
    "erp_df['父SKU'].unique()"
   ],
   "metadata": {
    "collapsed": false,
    "pycharm": {
     "name": "#%%\n"
    }
   }
  },
  {
   "cell_type": "markdown",
   "source": [
    "# 2. 生成title"
   ],
   "metadata": {
    "collapsed": false,
    "pycharm": {
     "name": "#%% md\n"
    }
   }
  },
  {
   "cell_type": "code",
   "execution_count": 382,
   "outputs": [
    {
     "name": "stderr",
     "output_type": "stream",
     "text": [
      "e:\\aenv\\python-3.8.0(64-bit)\\lib\\site-packages\\pandas\\core\\indexing.py:670: SettingWithCopyWarning: \n",
      "A value is trying to be set on a copy of a slice from a DataFrame\n",
      "\n",
      "See the caveats in the documentation: https://pandas.pydata.org/pandas-docs/stable/user_guide/indexing.html#returning-a-view-versus-a-copy\n",
      "  iloc._setitem_with_indexer(indexer, value)\n",
      "C:\\Users\\000\\AppData\\Local\\Temp\\ipykernel_7376\\340360046.py:25: SettingWithCopyWarning: \n",
      "A value is trying to be set on a copy of a slice from a DataFrame\n",
      "\n",
      "See the caveats in the documentation: https://pandas.pydata.org/pandas-docs/stable/user_guide/indexing.html#returning-a-view-versus-a-copy\n",
      "  title_unused_df.loc[title_unused_df['title'].isin(title_allocation.values()), 'status'] = Status.IN_USE.value\n"
     ]
    },
    {
     "data": {
      "text/plain": "                                                title         ymd  status  \\\n0   Cargohose Herren Cargohosen Hose Men Sommer He...  2024_07_26   InUse   \n1   Cargohose Herren Cargo Hose Men Sommer Lange H...  2024_07_26   InUse   \n2   Cargohose Herren Cargo Hosen Men Sommer Cargoh...  2024_07_26   InUse   \n3   Cargohose Herren Lang Sommer Hose Herren Leich...  2024_07_26   InUse   \n4   Cargohose Herren Lang Sommer Herren Hose Baggy...  2024_07_26   InUse   \n..                                                ...         ...     ...   \n95  Cargohose Herren Schwarze Cargo Men Sommerhose...  2024_07_26  Unused   \n96  Cargohose Herren Cargo Hose Pants Men Herren H...  2024_07_26  Unused   \n97  Cargohose Herren Pants Men Sommerhosen Schwarz...  2024_07_26  Unused   \n98  Cargohose Herren Lang Sommer Leichte Arbeitsho...  2024_07_26  Unused   \n99  Cargohose Herren Hose Lang Herren Sommer Pants...  2024_07_26  Unused   \n\n                ymd_HMS  \n0   2024-07-26 15:53:25  \n1   2024-07-26 15:53:25  \n2   2024-07-26 15:53:25  \n3   2024-07-26 15:53:25  \n4   2024-07-26 15:53:25  \n..                  ...  \n95                  NaN  \n96                  NaN  \n97                  NaN  \n98                  NaN  \n99                  NaN  \n\n[100 rows x 4 columns]",
      "text/html": "<div>\n<style scoped>\n    .dataframe tbody tr th:only-of-type {\n        vertical-align: middle;\n    }\n\n    .dataframe tbody tr th {\n        vertical-align: top;\n    }\n\n    .dataframe thead th {\n        text-align: right;\n    }\n</style>\n<table border=\"1\" class=\"dataframe\">\n  <thead>\n    <tr style=\"text-align: right;\">\n      <th></th>\n      <th>title</th>\n      <th>ymd</th>\n      <th>status</th>\n      <th>ymd_HMS</th>\n    </tr>\n  </thead>\n  <tbody>\n    <tr>\n      <th>0</th>\n      <td>Cargohose Herren Cargohosen Hose Men Sommer He...</td>\n      <td>2024_07_26</td>\n      <td>InUse</td>\n      <td>2024-07-26 15:53:25</td>\n    </tr>\n    <tr>\n      <th>1</th>\n      <td>Cargohose Herren Cargo Hose Men Sommer Lange H...</td>\n      <td>2024_07_26</td>\n      <td>InUse</td>\n      <td>2024-07-26 15:53:25</td>\n    </tr>\n    <tr>\n      <th>2</th>\n      <td>Cargohose Herren Cargo Hosen Men Sommer Cargoh...</td>\n      <td>2024_07_26</td>\n      <td>InUse</td>\n      <td>2024-07-26 15:53:25</td>\n    </tr>\n    <tr>\n      <th>3</th>\n      <td>Cargohose Herren Lang Sommer Hose Herren Leich...</td>\n      <td>2024_07_26</td>\n      <td>InUse</td>\n      <td>2024-07-26 15:53:25</td>\n    </tr>\n    <tr>\n      <th>4</th>\n      <td>Cargohose Herren Lang Sommer Herren Hose Baggy...</td>\n      <td>2024_07_26</td>\n      <td>InUse</td>\n      <td>2024-07-26 15:53:25</td>\n    </tr>\n    <tr>\n      <th>...</th>\n      <td>...</td>\n      <td>...</td>\n      <td>...</td>\n      <td>...</td>\n    </tr>\n    <tr>\n      <th>95</th>\n      <td>Cargohose Herren Schwarze Cargo Men Sommerhose...</td>\n      <td>2024_07_26</td>\n      <td>Unused</td>\n      <td>NaN</td>\n    </tr>\n    <tr>\n      <th>96</th>\n      <td>Cargohose Herren Cargo Hose Pants Men Herren H...</td>\n      <td>2024_07_26</td>\n      <td>Unused</td>\n      <td>NaN</td>\n    </tr>\n    <tr>\n      <th>97</th>\n      <td>Cargohose Herren Pants Men Sommerhosen Schwarz...</td>\n      <td>2024_07_26</td>\n      <td>Unused</td>\n      <td>NaN</td>\n    </tr>\n    <tr>\n      <th>98</th>\n      <td>Cargohose Herren Lang Sommer Leichte Arbeitsho...</td>\n      <td>2024_07_26</td>\n      <td>Unused</td>\n      <td>NaN</td>\n    </tr>\n    <tr>\n      <th>99</th>\n      <td>Cargohose Herren Hose Lang Herren Sommer Pants...</td>\n      <td>2024_07_26</td>\n      <td>Unused</td>\n      <td>NaN</td>\n    </tr>\n  </tbody>\n</table>\n<p>100 rows × 4 columns</p>\n</div>"
     },
     "execution_count": 382,
     "metadata": {},
     "output_type": "execute_result"
    }
   ],
   "source": [
    "fp_title = f'{g}/{g}_title.xlsx'\n",
    "title_df: DataFrame = pd.read_excel(fp_title, sheet_name='title')\n",
    "\n",
    "from util.widgets import Status\n",
    "\n",
    "title_unused_df = title_df[title_df['status'] == Status.UNUSED.value]\n",
    "\n",
    "# 创建一个字典来跟踪每个 parent_sku 分配的 title\n",
    "title_allocation = {}\n",
    "\n",
    "# 遍历 title_df，按顺序为每个 parent_sku 分配 title\n",
    "for i, row in title_unused_df.iterrows():\n",
    "    title = row['title']\n",
    "    # 如果所有的 parent_sku 都已分配 title，则跳出循环\n",
    "    if set(title_allocation.keys()) == set(erp_df['父SKU'].unique()):\n",
    "        break\n",
    "\n",
    "    # 找到第一个尚未分配 title 的 parent_sku\n",
    "    for parent_sku in erp_df['父SKU'].unique():\n",
    "        if parent_sku not in title_allocation:\n",
    "            title_allocation[parent_sku] = title\n",
    "            break\n",
    "\n",
    "# 更新 title_df 中被分配的 title 的状态\n",
    "title_unused_df.loc[title_unused_df['title'].isin(title_allocation.values()), 'status'] = Status.IN_USE.value\n",
    "\n",
    "# 将分配的 title 添加到 erp_df 中\n",
    "erp_df['title'] = erp_df['父SKU'].map(title_allocation)\n",
    "index = title_unused_df[title_unused_df['status'] == Status.IN_USE.value].index\n",
    "title_df.iloc[index, title_df.columns.get_loc('status')] = Status.IN_USE.value\n",
    "title_df.iloc[index, title_df.columns.get_loc('ymd_HMS')] = ymd_HMS\n",
    "title_df"
   ],
   "metadata": {
    "collapsed": false,
    "pycharm": {
     "name": "#%%\n"
    }
   }
  },
  {
   "cell_type": "markdown",
   "source": [
    "# 3. 生成st250"
   ],
   "metadata": {
    "collapsed": false,
    "pycharm": {
     "name": "#%% md\n"
    }
   }
  },
  {
   "cell_type": "code",
   "execution_count": 383,
   "outputs": [
    {
     "name": "stderr",
     "output_type": "stream",
     "text": [
      "e:\\aenv\\python-3.8.0(64-bit)\\lib\\site-packages\\pandas\\core\\indexing.py:1763: SettingWithCopyWarning: \n",
      "A value is trying to be set on a copy of a slice from a DataFrame.\n",
      "Try using .loc[row_indexer,col_indexer] = value instead\n",
      "\n",
      "See the caveats in the documentation: https://pandas.pydata.org/pandas-docs/stable/user_guide/indexing.html#returning-a-view-versus-a-copy\n",
      "  isetter(loc, value)\n"
     ]
    },
    {
     "data": {
      "text/plain": "                group                    parent  len  \\\n0    cargohose herren          cargohose herren  240   \n1    cargohose herren          cargohose herren  231   \n2    cargohose herren          cargohose herren  244   \n3    cargohose herren          cargohose herren  237   \n4    cargohose herren          cargohose herren  248   \n..                ...                       ...  ...   \n104  cargohose herren  cargohose herren stretch  246   \n105  cargohose herren  cargohose herren stretch  247   \n106  cargohose herren  cargohose herren stretch  245   \n107  cargohose herren  cargohose herren stretch  242   \n108  cargohose herren  cargohose herren stretch  241   \n\n                                                 value         ymd  status  \\\n0    cargohose herren baggy cargohose herren sommer...  2024_07_26   InUse   \n1    cargohose herren stretch cargohose herren somm...  2024_07_26   InUse   \n2    cargohose herren schwarz cargohose herren somm...  2024_07_26   InUse   \n3    cargohose herren stretch cargohose herren schw...  2024_07_26   InUse   \n4    cargohose herren stretch cargohose herren stre...  2024_07_26   InUse   \n..                                                 ...         ...     ...   \n104  cargohose herren stretch slim fit cargohose he...  2024_07_26  Unused   \n105  cargohose herren stretch sommer cargohose herr...  2024_07_26  Unused   \n106  cargohose herren stretch übergröße cargohose h...  2024_07_26  Unused   \n107  cargohose herren stretch lang cargohose herren...  2024_07_26  Unused   \n108  cargohose herren stretch übergröße cargohose h...  2024_07_26  Unused   \n\n                 ymd_HMS  \n0    2024-07-26 15:53:25  \n1    2024-07-26 15:53:25  \n2    2024-07-26 15:53:25  \n3    2024-07-26 15:53:25  \n4    2024-07-26 15:53:25  \n..                   ...  \n104                  NaN  \n105                  NaN  \n106                  NaN  \n107                  NaN  \n108                  NaN  \n\n[109 rows x 7 columns]",
      "text/html": "<div>\n<style scoped>\n    .dataframe tbody tr th:only-of-type {\n        vertical-align: middle;\n    }\n\n    .dataframe tbody tr th {\n        vertical-align: top;\n    }\n\n    .dataframe thead th {\n        text-align: right;\n    }\n</style>\n<table border=\"1\" class=\"dataframe\">\n  <thead>\n    <tr style=\"text-align: right;\">\n      <th></th>\n      <th>group</th>\n      <th>parent</th>\n      <th>len</th>\n      <th>value</th>\n      <th>ymd</th>\n      <th>status</th>\n      <th>ymd_HMS</th>\n    </tr>\n  </thead>\n  <tbody>\n    <tr>\n      <th>0</th>\n      <td>cargohose herren</td>\n      <td>cargohose herren</td>\n      <td>240</td>\n      <td>cargohose herren baggy cargohose herren sommer...</td>\n      <td>2024_07_26</td>\n      <td>InUse</td>\n      <td>2024-07-26 15:53:25</td>\n    </tr>\n    <tr>\n      <th>1</th>\n      <td>cargohose herren</td>\n      <td>cargohose herren</td>\n      <td>231</td>\n      <td>cargohose herren stretch cargohose herren somm...</td>\n      <td>2024_07_26</td>\n      <td>InUse</td>\n      <td>2024-07-26 15:53:25</td>\n    </tr>\n    <tr>\n      <th>2</th>\n      <td>cargohose herren</td>\n      <td>cargohose herren</td>\n      <td>244</td>\n      <td>cargohose herren schwarz cargohose herren somm...</td>\n      <td>2024_07_26</td>\n      <td>InUse</td>\n      <td>2024-07-26 15:53:25</td>\n    </tr>\n    <tr>\n      <th>3</th>\n      <td>cargohose herren</td>\n      <td>cargohose herren</td>\n      <td>237</td>\n      <td>cargohose herren stretch cargohose herren schw...</td>\n      <td>2024_07_26</td>\n      <td>InUse</td>\n      <td>2024-07-26 15:53:25</td>\n    </tr>\n    <tr>\n      <th>4</th>\n      <td>cargohose herren</td>\n      <td>cargohose herren</td>\n      <td>248</td>\n      <td>cargohose herren stretch cargohose herren stre...</td>\n      <td>2024_07_26</td>\n      <td>InUse</td>\n      <td>2024-07-26 15:53:25</td>\n    </tr>\n    <tr>\n      <th>...</th>\n      <td>...</td>\n      <td>...</td>\n      <td>...</td>\n      <td>...</td>\n      <td>...</td>\n      <td>...</td>\n      <td>...</td>\n    </tr>\n    <tr>\n      <th>104</th>\n      <td>cargohose herren</td>\n      <td>cargohose herren stretch</td>\n      <td>246</td>\n      <td>cargohose herren stretch slim fit cargohose he...</td>\n      <td>2024_07_26</td>\n      <td>Unused</td>\n      <td>NaN</td>\n    </tr>\n    <tr>\n      <th>105</th>\n      <td>cargohose herren</td>\n      <td>cargohose herren stretch</td>\n      <td>247</td>\n      <td>cargohose herren stretch sommer cargohose herr...</td>\n      <td>2024_07_26</td>\n      <td>Unused</td>\n      <td>NaN</td>\n    </tr>\n    <tr>\n      <th>106</th>\n      <td>cargohose herren</td>\n      <td>cargohose herren stretch</td>\n      <td>245</td>\n      <td>cargohose herren stretch übergröße cargohose h...</td>\n      <td>2024_07_26</td>\n      <td>Unused</td>\n      <td>NaN</td>\n    </tr>\n    <tr>\n      <th>107</th>\n      <td>cargohose herren</td>\n      <td>cargohose herren stretch</td>\n      <td>242</td>\n      <td>cargohose herren stretch lang cargohose herren...</td>\n      <td>2024_07_26</td>\n      <td>Unused</td>\n      <td>NaN</td>\n    </tr>\n    <tr>\n      <th>108</th>\n      <td>cargohose herren</td>\n      <td>cargohose herren stretch</td>\n      <td>241</td>\n      <td>cargohose herren stretch übergröße cargohose h...</td>\n      <td>2024_07_26</td>\n      <td>Unused</td>\n      <td>NaN</td>\n    </tr>\n  </tbody>\n</table>\n<p>109 rows × 7 columns</p>\n</div>"
     },
     "execution_count": 383,
     "metadata": {},
     "output_type": "execute_result"
    }
   ],
   "source": [
    "fp_st250 = f'{g}/{g}_st250.xlsx'\n",
    "st250_df: DataFrame = pd.read_excel(fp_st250, sheet_name='st250')\n",
    "\n",
    "from util.widgets import Status\n",
    "\n",
    "st250_unused_df = st250_df[st250_df['status'] == Status.UNUSED.value]\n",
    "\n",
    "# 创建一个字典来跟踪每个 parent_sku 分配的 st250\n",
    "st250_allocation = {}\n",
    "\n",
    "# 遍历 st250_df，按顺序为每个 parent_sku 分配 st250\n",
    "for i, row in st250_unused_df.iterrows():\n",
    "    value = row['value']\n",
    "    # 如果所有的 parent_sku 都已分配 title，则跳出循环\n",
    "    if set(st250_allocation.keys()) == set(erp_df['父SKU'].unique()):\n",
    "        break\n",
    "\n",
    "    # 找到第一个尚未分配 title 的 parent_sku\n",
    "    for parent_sku in erp_df['父SKU'].unique():\n",
    "        if parent_sku not in st250_allocation:\n",
    "            st250_allocation[parent_sku] = value\n",
    "            break\n",
    "\n",
    "# 更新 st250_df 中被分配的 title 的状态\n",
    "st250_unused_df.loc[st250_unused_df['value'].isin(st250_allocation.values()), 'status'] = Status.IN_USE.value\n",
    "\n",
    "# 将分配的 title 添加到 erp_df 中\n",
    "erp_df['st250'] = erp_df['父SKU'].map(st250_allocation)\n",
    "index = st250_unused_df[st250_unused_df['status'] == Status.IN_USE.value].index\n",
    "st250_df.iloc[index, st250_df.columns.get_loc('status')] = Status.IN_USE.value\n",
    "st250_df.iloc[index, st250_df.columns.get_loc('ymd_HMS')] = ymd_HMS\n",
    "st250_df"
   ],
   "metadata": {
    "collapsed": false,
    "pycharm": {
     "name": "#%%\n"
    }
   }
  },
  {
   "cell_type": "markdown",
   "source": [
    "# 4. 生成product_description"
   ],
   "metadata": {
    "collapsed": false,
    "pycharm": {
     "name": "#%% md\n"
    }
   }
  },
  {
   "cell_type": "code",
   "execution_count": 384,
   "outputs": [
    {
     "data": {
      "text/plain": "                  SKU          父SKU  产品缩略图  \\\n38       AWB231219002  AWB231219002    NaN   \n39    AWB231219002GNL  AWB231219002    NaN   \n40   AWB231219002GNL2  AWB231219002    NaN   \n41   AWB231219002GNL3  AWB231219002    NaN   \n42    AWB231219002GNM  AWB231219002    NaN   \n..                ...           ...    ...   \n683  ZZS210511744GYL5  ZZS210511744    NaN   \n684   ZZS210511744GYS  ZZS210511744    NaN   \n685  ZZS210511744KHL4  ZZS210511744    NaN   \n686  ZZS210511744KHL5  ZZS210511744    NaN   \n687   ZZS210511744KHS  ZZS210511744    NaN   \n\n                                                  产品类型  \\\n38   普通产品 -> Clothing Shoes & Accessories -> 男装 -> ...   \n39   普通产品 -> Clothing Shoes & Accessories -> 男装 -> ...   \n40   普通产品 -> Clothing Shoes & Accessories -> 男装 -> ...   \n41   普通产品 -> Clothing Shoes & Accessories -> 男装 -> ...   \n42   普通产品 -> Clothing Shoes & Accessories -> 男装 -> ...   \n..                                                 ...   \n683  普通产品 -> Clothing Shoes & Accessories -> 男装 -> ...   \n684  普通产品 -> Clothing Shoes & Accessories -> 男装 -> ...   \n685  普通产品 -> Clothing Shoes & Accessories -> 男装 -> ...   \n686  普通产品 -> Clothing Shoes & Accessories -> 男装 -> ...   \n687  普通产品 -> Clothing Shoes & Accessories -> 男装 -> ...   \n\n                                                    标题  \\\n38   Fitness Sweatpants Stretchy Sport Elastic Body...   \n39   Fitness Sweatpants Stretchy Sport Elastic Body...   \n40   Fitness Sweatpants Stretchy Sport Elastic Body...   \n41   Fitness Sweatpants Stretchy Sport Elastic Body...   \n42   Fitness Sweatpants Stretchy Sport Elastic Body...   \n..                                                 ...   \n683  Casual Straight Summer Multi Pocket Men's Pant...   \n684  Casual Straight Summer Multi Pocket Men's Pant...   \n685  Casual Straight Summer Multi Pocket Men's Pant...   \n686  Casual Straight Summer Multi Pocket Men's Pant...   \n687  Casual Straight Summer Multi Pocket Men's Pant...   \n\n                                    产品名称  \\\n38           新款夏季休闲运动系绳七分裤男士时尚修身健身运动裤束脚裤   \n39      新款夏季休闲运动系绳七分裤男士时尚修身健身运动裤束脚裤 绿色 L   \n40    新款夏季休闲运动系绳七分裤男士时尚修身健身运动裤束脚裤 绿色 XXL   \n41   新款夏季休闲运动系绳七分裤男士时尚修身健身运动裤束脚裤 绿色 XXXL   \n42      新款夏季休闲运动系绳七分裤男士时尚修身健身运动裤束脚裤 绿色 M   \n..                                   ...   \n683         男士夏季多口袋直筒休闲裤工装裤长裤  灰色 XXXXXL   \n684              男士夏季多口袋直筒休闲裤工装裤长裤  灰色 S   \n685         男士夏季多口袋直筒休闲裤工装裤长裤  卡其色 XXXXL   \n686       男士夏季多口袋直筒休闲裤工装裤长裤   卡其色 XXXXXL   \n687             男士夏季多口袋直筒休闲裤工装裤长裤  卡其色 S   \n\n                                                    描述         颜色  \\\n38   <h1 align=\"center\"><span style=\"font-size:14pt...  Green,Red   \n39   <h1 align=\"center\"><span style=\"font-size:14pt...      Green   \n40   <h1 align=\"center\"><span style=\"font-size:14pt...      Green   \n41   <h1 align=\"center\"><span style=\"font-size:14pt...      Green   \n42   <h1 align=\"center\"><span style=\"font-size:14pt...      Green   \n..                                                 ...        ...   \n683  <h1 align=\"center\"><span style=\"font-size:14pt...       Grey   \n684  <h1 align=\"center\"><span style=\"font-size:14pt...       Grey   \n685  <h1 align=\"center\"><span style=\"font-size:14pt...      Khaki   \n686  <h1 align=\"center\"><span style=\"font-size:14pt...      Khaki   \n687  <h1 align=\"center\"><span style=\"font-size:14pt...      Khaki   \n\n                  尺寸     亚马逊尺寸  ...                         amazon_sku  \\\n38   M,L,XL,XXL,XXXL       NaN  ...       FRL-DE-24-07-29-21-02-41-003   \n39                 L     Large  ...   FRL-DE-24-07-29-21-02-41-003-GNL   \n40               XXL  XX-Large  ...  FRL-DE-24-07-29-21-02-41-003-GNL2   \n41              XXXL  3X-Large  ...  FRL-DE-24-07-29-21-02-41-003-GNL3   \n42                 M    Medium  ...   FRL-DE-24-07-29-21-02-41-003-GNM   \n..               ...       ...  ...                                ...   \n683           XXXXXL  5X-Large  ...  FRL-DE-24-07-29-21-02-41-050-GYL5   \n684                S     Small  ...   FRL-DE-24-07-29-21-02-41-050-GYS   \n685            XXXXL  4X-Large  ...  FRL-DE-24-07-29-21-02-41-050-KHL4   \n686           XXXXXL  5X-Large  ...  FRL-DE-24-07-29-21-02-41-050-KHL5   \n687                S     Small  ...   FRL-DE-24-07-29-21-02-41-050-KHS   \n\n                      amazon_psku  \\\n38   FRL-DE-24-07-29-21-02-41-003   \n39   FRL-DE-24-07-29-21-02-41-003   \n40   FRL-DE-24-07-29-21-02-41-003   \n41   FRL-DE-24-07-29-21-02-41-003   \n42   FRL-DE-24-07-29-21-02-41-003   \n..                            ...   \n683  FRL-DE-24-07-29-21-02-41-050   \n684  FRL-DE-24-07-29-21-02-41-050   \n685  FRL-DE-24-07-29-21-02-41-050   \n686  FRL-DE-24-07-29-21-02-41-050   \n687  FRL-DE-24-07-29-21-02-41-050   \n\n                                                 title  \\\n38   Cargohose Herren Outdoor Hose Hosen Herren Out...   \n39   Cargohose Herren Outdoor Hose Hosen Herren Out...   \n40   Cargohose Herren Outdoor Hose Hosen Herren Out...   \n41   Cargohose Herren Outdoor Hose Hosen Herren Out...   \n42   Cargohose Herren Outdoor Hose Hosen Herren Out...   \n..                                                 ...   \n683  Cargohose Herren Hose Cargohose Pants Men Herr...   \n684  Cargohose Herren Hose Cargohose Pants Men Herr...   \n685  Cargohose Herren Hose Cargohose Pants Men Herr...   \n686  Cargohose Herren Hose Cargohose Pants Men Herr...   \n687  Cargohose Herren Hose Cargohose Pants Men Herr...   \n\n                                                 st250  \\\n38   cargohose herren baggy cargohose herren sommer...   \n39   cargohose herren baggy cargohose herren sommer...   \n40   cargohose herren baggy cargohose herren sommer...   \n41   cargohose herren baggy cargohose herren sommer...   \n42   cargohose herren baggy cargohose herren sommer...   \n..                                                 ...   \n683  cargohose herren schwarz sommer cargohose herr...   \n684  cargohose herren schwarz sommer cargohose herr...   \n685  cargohose herren schwarz sommer cargohose herr...   \n686  cargohose herren schwarz sommer cargohose herr...   \n687  cargohose herren schwarz sommer cargohose herr...   \n\n                                         bullet_point1  \\\n38   【Leichtes Material】Hochwertiges Polyester. Lei...   \n39   【Leichtes Material】Hochwertiges Polyester. Lei...   \n40   【Leichtes Material】Hochwertiges Polyester. Lei...   \n41   【Leichtes Material】Hochwertiges Polyester. Lei...   \n42   【Leichtes Material】Hochwertiges Polyester. Lei...   \n..                                                 ...   \n683  【Leichtes Material】Hochwertiges Polyester. Lei...   \n684  【Leichtes Material】Hochwertiges Polyester. Lei...   \n685  【Leichtes Material】Hochwertiges Polyester. Lei...   \n686  【Leichtes Material】Hochwertiges Polyester. Lei...   \n687  【Leichtes Material】Hochwertiges Polyester. Lei...   \n\n                                         bullet_point2  \\\n38   【Praktisches Design】Sportliche, figurbetonte T...   \n39   【Praktisches Design】Sportliche, figurbetonte T...   \n40   【Praktisches Design】Sportliche, figurbetonte T...   \n41   【Praktisches Design】Sportliche, figurbetonte T...   \n42   【Praktisches Design】Sportliche, figurbetonte T...   \n..                                                 ...   \n683  【Praktisches Design】Sportliche, figurbetonte T...   \n684  【Praktisches Design】Sportliche, figurbetonte T...   \n685  【Praktisches Design】Sportliche, figurbetonte T...   \n686  【Praktisches Design】Sportliche, figurbetonte T...   \n687  【Praktisches Design】Sportliche, figurbetonte T...   \n\n                                         bullet_point3  \\\n38   【Einfach zu kombinieren】Unsere Herren Cargohos...   \n39   【Einfach zu kombinieren】Unsere Herren Cargohos...   \n40   【Einfach zu kombinieren】Unsere Herren Cargohos...   \n41   【Einfach zu kombinieren】Unsere Herren Cargohos...   \n42   【Einfach zu kombinieren】Unsere Herren Cargohos...   \n..                                                 ...   \n683  【Einfach zu kombinieren】Unsere Herren Cargohos...   \n684  【Einfach zu kombinieren】Unsere Herren Cargohos...   \n685  【Einfach zu kombinieren】Unsere Herren Cargohos...   \n686  【Einfach zu kombinieren】Unsere Herren Cargohos...   \n687  【Einfach zu kombinieren】Unsere Herren Cargohos...   \n\n                                         bullet_point4  \\\n38   【Vielfältige Verwendungsmöglichkeiten】Geeignet...   \n39   【Vielfältige Verwendungsmöglichkeiten】Geeignet...   \n40   【Vielfältige Verwendungsmöglichkeiten】Geeignet...   \n41   【Vielfältige Verwendungsmöglichkeiten】Geeignet...   \n42   【Vielfältige Verwendungsmöglichkeiten】Geeignet...   \n..                                                 ...   \n683  【Vielfältige Verwendungsmöglichkeiten】Geeignet...   \n684  【Vielfältige Verwendungsmöglichkeiten】Geeignet...   \n685  【Vielfältige Verwendungsmöglichkeiten】Geeignet...   \n686  【Vielfältige Verwendungsmöglichkeiten】Geeignet...   \n687  【Vielfältige Verwendungsmöglichkeiten】Geeignet...   \n\n                                         bullet_point5  \\\n38   【Hinweis】Bitte beachten Sie vor der Bestellung...   \n39   【Hinweis】Bitte beachten Sie vor der Bestellung...   \n40   【Hinweis】Bitte beachten Sie vor der Bestellung...   \n41   【Hinweis】Bitte beachten Sie vor der Bestellung...   \n42   【Hinweis】Bitte beachten Sie vor der Bestellung...   \n..                                                 ...   \n683  【Hinweis】Bitte beachten Sie vor der Bestellung...   \n684  【Hinweis】Bitte beachten Sie vor der Bestellung...   \n685  【Hinweis】Bitte beachten Sie vor der Bestellung...   \n686  【Hinweis】Bitte beachten Sie vor der Bestellung...   \n687  【Hinweis】Bitte beachten Sie vor der Bestellung...   \n\n                                   product_description  \n38   <p><b>Merkmale</b><br></p><p>Material: Polyest...  \n39   <p><b>Merkmale</b><br></p><p>Material: Polyest...  \n40   <p><b>Merkmale</b><br></p><p>Material: Polyest...  \n41   <p><b>Merkmale</b><br></p><p>Material: Polyest...  \n42   <p><b>Merkmale</b><br></p><p>Material: Polyest...  \n..                                                 ...  \n683  <p><b>Merkmale</b><br></p><p>Material: Polyest...  \n684  <p><b>Merkmale</b><br></p><p>Material: Polyest...  \n685  <p><b>Merkmale</b><br></p><p>Material: Polyest...  \n686  <p><b>Merkmale</b><br></p><p>Material: Polyest...  \n687  <p><b>Merkmale</b><br></p><p>Material: Polyest...  \n\n[477 rows x 75 columns]",
      "text/html": "<div>\n<style scoped>\n    .dataframe tbody tr th:only-of-type {\n        vertical-align: middle;\n    }\n\n    .dataframe tbody tr th {\n        vertical-align: top;\n    }\n\n    .dataframe thead th {\n        text-align: right;\n    }\n</style>\n<table border=\"1\" class=\"dataframe\">\n  <thead>\n    <tr style=\"text-align: right;\">\n      <th></th>\n      <th>SKU</th>\n      <th>父SKU</th>\n      <th>产品缩略图</th>\n      <th>产品类型</th>\n      <th>标题</th>\n      <th>产品名称</th>\n      <th>描述</th>\n      <th>颜色</th>\n      <th>尺寸</th>\n      <th>亚马逊尺寸</th>\n      <th>...</th>\n      <th>amazon_sku</th>\n      <th>amazon_psku</th>\n      <th>title</th>\n      <th>st250</th>\n      <th>bullet_point1</th>\n      <th>bullet_point2</th>\n      <th>bullet_point3</th>\n      <th>bullet_point4</th>\n      <th>bullet_point5</th>\n      <th>product_description</th>\n    </tr>\n  </thead>\n  <tbody>\n    <tr>\n      <th>38</th>\n      <td>AWB231219002</td>\n      <td>AWB231219002</td>\n      <td>NaN</td>\n      <td>普通产品 -&gt; Clothing Shoes &amp; Accessories -&gt; 男装 -&gt; ...</td>\n      <td>Fitness Sweatpants Stretchy Sport Elastic Body...</td>\n      <td>新款夏季休闲运动系绳七分裤男士时尚修身健身运动裤束脚裤</td>\n      <td>&lt;h1 align=\"center\"&gt;&lt;span style=\"font-size:14pt...</td>\n      <td>Green,Red</td>\n      <td>M,L,XL,XXL,XXXL</td>\n      <td>NaN</td>\n      <td>...</td>\n      <td>FRL-DE-24-07-29-21-02-41-003</td>\n      <td>FRL-DE-24-07-29-21-02-41-003</td>\n      <td>Cargohose Herren Outdoor Hose Hosen Herren Out...</td>\n      <td>cargohose herren baggy cargohose herren sommer...</td>\n      <td>【Leichtes Material】Hochwertiges Polyester. Lei...</td>\n      <td>【Praktisches Design】Sportliche, figurbetonte T...</td>\n      <td>【Einfach zu kombinieren】Unsere Herren Cargohos...</td>\n      <td>【Vielfältige Verwendungsmöglichkeiten】Geeignet...</td>\n      <td>【Hinweis】Bitte beachten Sie vor der Bestellung...</td>\n      <td>&lt;p&gt;&lt;b&gt;Merkmale&lt;/b&gt;&lt;br&gt;&lt;/p&gt;&lt;p&gt;Material: Polyest...</td>\n    </tr>\n    <tr>\n      <th>39</th>\n      <td>AWB231219002GNL</td>\n      <td>AWB231219002</td>\n      <td>NaN</td>\n      <td>普通产品 -&gt; Clothing Shoes &amp; Accessories -&gt; 男装 -&gt; ...</td>\n      <td>Fitness Sweatpants Stretchy Sport Elastic Body...</td>\n      <td>新款夏季休闲运动系绳七分裤男士时尚修身健身运动裤束脚裤 绿色 L</td>\n      <td>&lt;h1 align=\"center\"&gt;&lt;span style=\"font-size:14pt...</td>\n      <td>Green</td>\n      <td>L</td>\n      <td>Large</td>\n      <td>...</td>\n      <td>FRL-DE-24-07-29-21-02-41-003-GNL</td>\n      <td>FRL-DE-24-07-29-21-02-41-003</td>\n      <td>Cargohose Herren Outdoor Hose Hosen Herren Out...</td>\n      <td>cargohose herren baggy cargohose herren sommer...</td>\n      <td>【Leichtes Material】Hochwertiges Polyester. Lei...</td>\n      <td>【Praktisches Design】Sportliche, figurbetonte T...</td>\n      <td>【Einfach zu kombinieren】Unsere Herren Cargohos...</td>\n      <td>【Vielfältige Verwendungsmöglichkeiten】Geeignet...</td>\n      <td>【Hinweis】Bitte beachten Sie vor der Bestellung...</td>\n      <td>&lt;p&gt;&lt;b&gt;Merkmale&lt;/b&gt;&lt;br&gt;&lt;/p&gt;&lt;p&gt;Material: Polyest...</td>\n    </tr>\n    <tr>\n      <th>40</th>\n      <td>AWB231219002GNL2</td>\n      <td>AWB231219002</td>\n      <td>NaN</td>\n      <td>普通产品 -&gt; Clothing Shoes &amp; Accessories -&gt; 男装 -&gt; ...</td>\n      <td>Fitness Sweatpants Stretchy Sport Elastic Body...</td>\n      <td>新款夏季休闲运动系绳七分裤男士时尚修身健身运动裤束脚裤 绿色 XXL</td>\n      <td>&lt;h1 align=\"center\"&gt;&lt;span style=\"font-size:14pt...</td>\n      <td>Green</td>\n      <td>XXL</td>\n      <td>XX-Large</td>\n      <td>...</td>\n      <td>FRL-DE-24-07-29-21-02-41-003-GNL2</td>\n      <td>FRL-DE-24-07-29-21-02-41-003</td>\n      <td>Cargohose Herren Outdoor Hose Hosen Herren Out...</td>\n      <td>cargohose herren baggy cargohose herren sommer...</td>\n      <td>【Leichtes Material】Hochwertiges Polyester. Lei...</td>\n      <td>【Praktisches Design】Sportliche, figurbetonte T...</td>\n      <td>【Einfach zu kombinieren】Unsere Herren Cargohos...</td>\n      <td>【Vielfältige Verwendungsmöglichkeiten】Geeignet...</td>\n      <td>【Hinweis】Bitte beachten Sie vor der Bestellung...</td>\n      <td>&lt;p&gt;&lt;b&gt;Merkmale&lt;/b&gt;&lt;br&gt;&lt;/p&gt;&lt;p&gt;Material: Polyest...</td>\n    </tr>\n    <tr>\n      <th>41</th>\n      <td>AWB231219002GNL3</td>\n      <td>AWB231219002</td>\n      <td>NaN</td>\n      <td>普通产品 -&gt; Clothing Shoes &amp; Accessories -&gt; 男装 -&gt; ...</td>\n      <td>Fitness Sweatpants Stretchy Sport Elastic Body...</td>\n      <td>新款夏季休闲运动系绳七分裤男士时尚修身健身运动裤束脚裤 绿色 XXXL</td>\n      <td>&lt;h1 align=\"center\"&gt;&lt;span style=\"font-size:14pt...</td>\n      <td>Green</td>\n      <td>XXXL</td>\n      <td>3X-Large</td>\n      <td>...</td>\n      <td>FRL-DE-24-07-29-21-02-41-003-GNL3</td>\n      <td>FRL-DE-24-07-29-21-02-41-003</td>\n      <td>Cargohose Herren Outdoor Hose Hosen Herren Out...</td>\n      <td>cargohose herren baggy cargohose herren sommer...</td>\n      <td>【Leichtes Material】Hochwertiges Polyester. Lei...</td>\n      <td>【Praktisches Design】Sportliche, figurbetonte T...</td>\n      <td>【Einfach zu kombinieren】Unsere Herren Cargohos...</td>\n      <td>【Vielfältige Verwendungsmöglichkeiten】Geeignet...</td>\n      <td>【Hinweis】Bitte beachten Sie vor der Bestellung...</td>\n      <td>&lt;p&gt;&lt;b&gt;Merkmale&lt;/b&gt;&lt;br&gt;&lt;/p&gt;&lt;p&gt;Material: Polyest...</td>\n    </tr>\n    <tr>\n      <th>42</th>\n      <td>AWB231219002GNM</td>\n      <td>AWB231219002</td>\n      <td>NaN</td>\n      <td>普通产品 -&gt; Clothing Shoes &amp; Accessories -&gt; 男装 -&gt; ...</td>\n      <td>Fitness Sweatpants Stretchy Sport Elastic Body...</td>\n      <td>新款夏季休闲运动系绳七分裤男士时尚修身健身运动裤束脚裤 绿色 M</td>\n      <td>&lt;h1 align=\"center\"&gt;&lt;span style=\"font-size:14pt...</td>\n      <td>Green</td>\n      <td>M</td>\n      <td>Medium</td>\n      <td>...</td>\n      <td>FRL-DE-24-07-29-21-02-41-003-GNM</td>\n      <td>FRL-DE-24-07-29-21-02-41-003</td>\n      <td>Cargohose Herren Outdoor Hose Hosen Herren Out...</td>\n      <td>cargohose herren baggy cargohose herren sommer...</td>\n      <td>【Leichtes Material】Hochwertiges Polyester. Lei...</td>\n      <td>【Praktisches Design】Sportliche, figurbetonte T...</td>\n      <td>【Einfach zu kombinieren】Unsere Herren Cargohos...</td>\n      <td>【Vielfältige Verwendungsmöglichkeiten】Geeignet...</td>\n      <td>【Hinweis】Bitte beachten Sie vor der Bestellung...</td>\n      <td>&lt;p&gt;&lt;b&gt;Merkmale&lt;/b&gt;&lt;br&gt;&lt;/p&gt;&lt;p&gt;Material: Polyest...</td>\n    </tr>\n    <tr>\n      <th>...</th>\n      <td>...</td>\n      <td>...</td>\n      <td>...</td>\n      <td>...</td>\n      <td>...</td>\n      <td>...</td>\n      <td>...</td>\n      <td>...</td>\n      <td>...</td>\n      <td>...</td>\n      <td>...</td>\n      <td>...</td>\n      <td>...</td>\n      <td>...</td>\n      <td>...</td>\n      <td>...</td>\n      <td>...</td>\n      <td>...</td>\n      <td>...</td>\n      <td>...</td>\n      <td>...</td>\n    </tr>\n    <tr>\n      <th>683</th>\n      <td>ZZS210511744GYL5</td>\n      <td>ZZS210511744</td>\n      <td>NaN</td>\n      <td>普通产品 -&gt; Clothing Shoes &amp; Accessories -&gt; 男装 -&gt; ...</td>\n      <td>Casual Straight Summer Multi Pocket Men's Pant...</td>\n      <td>男士夏季多口袋直筒休闲裤工装裤长裤  灰色 XXXXXL</td>\n      <td>&lt;h1 align=\"center\"&gt;&lt;span style=\"font-size:14pt...</td>\n      <td>Grey</td>\n      <td>XXXXXL</td>\n      <td>5X-Large</td>\n      <td>...</td>\n      <td>FRL-DE-24-07-29-21-02-41-050-GYL5</td>\n      <td>FRL-DE-24-07-29-21-02-41-050</td>\n      <td>Cargohose Herren Hose Cargohose Pants Men Herr...</td>\n      <td>cargohose herren schwarz sommer cargohose herr...</td>\n      <td>【Leichtes Material】Hochwertiges Polyester. Lei...</td>\n      <td>【Praktisches Design】Sportliche, figurbetonte T...</td>\n      <td>【Einfach zu kombinieren】Unsere Herren Cargohos...</td>\n      <td>【Vielfältige Verwendungsmöglichkeiten】Geeignet...</td>\n      <td>【Hinweis】Bitte beachten Sie vor der Bestellung...</td>\n      <td>&lt;p&gt;&lt;b&gt;Merkmale&lt;/b&gt;&lt;br&gt;&lt;/p&gt;&lt;p&gt;Material: Polyest...</td>\n    </tr>\n    <tr>\n      <th>684</th>\n      <td>ZZS210511744GYS</td>\n      <td>ZZS210511744</td>\n      <td>NaN</td>\n      <td>普通产品 -&gt; Clothing Shoes &amp; Accessories -&gt; 男装 -&gt; ...</td>\n      <td>Casual Straight Summer Multi Pocket Men's Pant...</td>\n      <td>男士夏季多口袋直筒休闲裤工装裤长裤  灰色 S</td>\n      <td>&lt;h1 align=\"center\"&gt;&lt;span style=\"font-size:14pt...</td>\n      <td>Grey</td>\n      <td>S</td>\n      <td>Small</td>\n      <td>...</td>\n      <td>FRL-DE-24-07-29-21-02-41-050-GYS</td>\n      <td>FRL-DE-24-07-29-21-02-41-050</td>\n      <td>Cargohose Herren Hose Cargohose Pants Men Herr...</td>\n      <td>cargohose herren schwarz sommer cargohose herr...</td>\n      <td>【Leichtes Material】Hochwertiges Polyester. Lei...</td>\n      <td>【Praktisches Design】Sportliche, figurbetonte T...</td>\n      <td>【Einfach zu kombinieren】Unsere Herren Cargohos...</td>\n      <td>【Vielfältige Verwendungsmöglichkeiten】Geeignet...</td>\n      <td>【Hinweis】Bitte beachten Sie vor der Bestellung...</td>\n      <td>&lt;p&gt;&lt;b&gt;Merkmale&lt;/b&gt;&lt;br&gt;&lt;/p&gt;&lt;p&gt;Material: Polyest...</td>\n    </tr>\n    <tr>\n      <th>685</th>\n      <td>ZZS210511744KHL4</td>\n      <td>ZZS210511744</td>\n      <td>NaN</td>\n      <td>普通产品 -&gt; Clothing Shoes &amp; Accessories -&gt; 男装 -&gt; ...</td>\n      <td>Casual Straight Summer Multi Pocket Men's Pant...</td>\n      <td>男士夏季多口袋直筒休闲裤工装裤长裤  卡其色 XXXXL</td>\n      <td>&lt;h1 align=\"center\"&gt;&lt;span style=\"font-size:14pt...</td>\n      <td>Khaki</td>\n      <td>XXXXL</td>\n      <td>4X-Large</td>\n      <td>...</td>\n      <td>FRL-DE-24-07-29-21-02-41-050-KHL4</td>\n      <td>FRL-DE-24-07-29-21-02-41-050</td>\n      <td>Cargohose Herren Hose Cargohose Pants Men Herr...</td>\n      <td>cargohose herren schwarz sommer cargohose herr...</td>\n      <td>【Leichtes Material】Hochwertiges Polyester. Lei...</td>\n      <td>【Praktisches Design】Sportliche, figurbetonte T...</td>\n      <td>【Einfach zu kombinieren】Unsere Herren Cargohos...</td>\n      <td>【Vielfältige Verwendungsmöglichkeiten】Geeignet...</td>\n      <td>【Hinweis】Bitte beachten Sie vor der Bestellung...</td>\n      <td>&lt;p&gt;&lt;b&gt;Merkmale&lt;/b&gt;&lt;br&gt;&lt;/p&gt;&lt;p&gt;Material: Polyest...</td>\n    </tr>\n    <tr>\n      <th>686</th>\n      <td>ZZS210511744KHL5</td>\n      <td>ZZS210511744</td>\n      <td>NaN</td>\n      <td>普通产品 -&gt; Clothing Shoes &amp; Accessories -&gt; 男装 -&gt; ...</td>\n      <td>Casual Straight Summer Multi Pocket Men's Pant...</td>\n      <td>男士夏季多口袋直筒休闲裤工装裤长裤   卡其色 XXXXXL</td>\n      <td>&lt;h1 align=\"center\"&gt;&lt;span style=\"font-size:14pt...</td>\n      <td>Khaki</td>\n      <td>XXXXXL</td>\n      <td>5X-Large</td>\n      <td>...</td>\n      <td>FRL-DE-24-07-29-21-02-41-050-KHL5</td>\n      <td>FRL-DE-24-07-29-21-02-41-050</td>\n      <td>Cargohose Herren Hose Cargohose Pants Men Herr...</td>\n      <td>cargohose herren schwarz sommer cargohose herr...</td>\n      <td>【Leichtes Material】Hochwertiges Polyester. Lei...</td>\n      <td>【Praktisches Design】Sportliche, figurbetonte T...</td>\n      <td>【Einfach zu kombinieren】Unsere Herren Cargohos...</td>\n      <td>【Vielfältige Verwendungsmöglichkeiten】Geeignet...</td>\n      <td>【Hinweis】Bitte beachten Sie vor der Bestellung...</td>\n      <td>&lt;p&gt;&lt;b&gt;Merkmale&lt;/b&gt;&lt;br&gt;&lt;/p&gt;&lt;p&gt;Material: Polyest...</td>\n    </tr>\n    <tr>\n      <th>687</th>\n      <td>ZZS210511744KHS</td>\n      <td>ZZS210511744</td>\n      <td>NaN</td>\n      <td>普通产品 -&gt; Clothing Shoes &amp; Accessories -&gt; 男装 -&gt; ...</td>\n      <td>Casual Straight Summer Multi Pocket Men's Pant...</td>\n      <td>男士夏季多口袋直筒休闲裤工装裤长裤  卡其色 S</td>\n      <td>&lt;h1 align=\"center\"&gt;&lt;span style=\"font-size:14pt...</td>\n      <td>Khaki</td>\n      <td>S</td>\n      <td>Small</td>\n      <td>...</td>\n      <td>FRL-DE-24-07-29-21-02-41-050-KHS</td>\n      <td>FRL-DE-24-07-29-21-02-41-050</td>\n      <td>Cargohose Herren Hose Cargohose Pants Men Herr...</td>\n      <td>cargohose herren schwarz sommer cargohose herr...</td>\n      <td>【Leichtes Material】Hochwertiges Polyester. Lei...</td>\n      <td>【Praktisches Design】Sportliche, figurbetonte T...</td>\n      <td>【Einfach zu kombinieren】Unsere Herren Cargohos...</td>\n      <td>【Vielfältige Verwendungsmöglichkeiten】Geeignet...</td>\n      <td>【Hinweis】Bitte beachten Sie vor der Bestellung...</td>\n      <td>&lt;p&gt;&lt;b&gt;Merkmale&lt;/b&gt;&lt;br&gt;&lt;/p&gt;&lt;p&gt;Material: Polyest...</td>\n    </tr>\n  </tbody>\n</table>\n<p>477 rows × 75 columns</p>\n</div>"
     },
     "execution_count": 384,
     "metadata": {},
     "output_type": "execute_result"
    }
   ],
   "source": [
    "\"\"\"\n",
    "面料/材质：\n",
    "特征/设计：\n",
    "搭配：\n",
    "适用场合：\n",
    "客户服务：\n",
    "\n",
    "【轻质材料】优质涤纶。轻盈、柔软亲肤，舒适、透气、轻便，即使在夏季也能舒适慢跑。\n",
    "【实用设计】运动修身健身运动裤，具有良好的弹性、透气性、重量轻、无摩擦和刺激，腿部贴合，展现肌肉张力并提供最大的运动自由度。\n",
    "【易于搭配】我们的男士工装裤可以与夹克、毛衣等搭配，冬天保暖又时尚。这款裤子也可以搭配T恤和衬衫。一年四季必备的裤子。\n",
    "【更多用途】适合休闲、运动、旅行、户外、家居、其他非正式活动或商务场合等，也可以在日常生活和工作中穿着。这款裤子也是送给朋友、儿子、丈夫或自己的完美礼物。\n",
    "【注意】订购前，请参考产品说明中我们的详细尺码表（不是亚马逊尺码表）。由于手工测量，请允许1-2厘米的误差。我们尽力向您展示正确的颜色，但请接受由于显示器和灯光不同而出现的一些轻微色差。\n",
    "\n",
    "描述：需要转成html格式\n",
    "【特征】\n",
    "材质：聚酯纤维\n",
    "包装内容：1 条工装裤\n",
    "风格: 休闲\n",
    "性别：男\n",
    "合身：宽松\n",
    "长度：长裤\n",
    "季节: 春季，夏季，秋季，冬季\n",
    "【尺寸信息】\n",
    "erp_df['尺码表']\n",
    "【客户服务】\n",
    "我们致力于为客户提供舒适的购物体验。如果您有任何疑问，请写信给我们，您将得到完美的解决方案。\n",
    "\"\"\"\n",
    "\n",
    "bullet_point1 = '【Leichtes Material】Hochwertiges Polyester. Leicht, weich und hautfreundlich, komfortabel, atmungsaktiv und leicht, ideal auch für das Joggen im Sommer.'\n",
    "bullet_point2 = '【Praktisches Design】Sportliche, figurbetonte Trainingshose mit guter Elastizität, Atmungsaktivität, leichtem Gewicht, ohne Reibung und Irritationen. Sie passt sich eng an die Beine an, zeigt die Muskelspannung und bietet maximale Bewegungsfreiheit.'\n",
    "bullet_point3 = '【Einfach zu kombinieren】Unsere Herren Cargohose kann mit Jacken, Pullovern usw. kombiniert werden, um im Winter warm und modisch zu bleiben. Diese Hose kann auch mit T-Shirts und Hemden getragen werden. Eine Hose, die das ganze Jahr über ein Muss ist.'\n",
    "bullet_point4 = '【Vielfältige Verwendungsmöglichkeiten】Geeignet für Freizeit, Sport, Reisen, Outdoor, Zuhause, andere informelle Anlässe oder Geschäftstreffen. Diese Hose ist auch ein perfektes Geschenk für Freunde, Söhne, Ehemänner oder sich selbst.'\n",
    "bullet_point5 = '【Hinweis】Bitte beachten Sie vor der Bestellung unsere detaillierte Größentabelle in der Produktbeschreibung (nicht die Amazon-Größentabelle). Aufgrund manueller Messungen erlauben Sie bitte einen Fehler von 1-2 cm. Wir bemühen uns, Ihnen die richtigen Farben zu zeigen, aber akzeptieren Sie bitte leichte Farbabweichungen aufgrund unterschiedlicher Monitore und Beleuchtung.'\n",
    "\n",
    "\n",
    "def generate_pd(t: str):\n",
    "    \"\"\"\n",
    "    Größe: S Taille: 78-84cm/30.71-33.07'' Hüfte: 100cm/39.37'' Länge: 66cm/25.98''\n",
    "    :param t:\n",
    "    :return:\n",
    "    \"\"\"\n",
    "    try:\n",
    "        de_map = {\n",
    "            'Size': 'Größe',\n",
    "            'Waist': 'Taille',\n",
    "            'Hip': 'Hüfte',\n",
    "            'Length': 'Länge',\n",
    "        }\n",
    "        for k, v in de_map.items():\n",
    "            t = t.replace(k, v)\n",
    "        cs = t.split('\\n')\n",
    "    except AttributeError:\n",
    "        cs = []\n",
    "    pd = f\"\"\"<p><b>Merkmale</b><br></p>\n",
    "<p>Material: Polyester</p>\n",
    "<p>Verpackungsinhalt: 1 Cargo-Hose</p>\n",
    "<p>Stil: Freizeit</p>\n",
    "<p>Geschlecht: Herren</p>\n",
    "<p>Passform: Locker</p>\n",
    "<p>Länge: Lange Hose</p>\n",
    "<p>Saison: Frühling, Sommer, Herbst, Winter</p>\n",
    "<p><b>Größeninformationen</b></p>\n",
    "{''.join([f'<p>{c.strip()}</p>' for c in cs])}\n",
    "<p><b>Kundendienst</b></p>\n",
    "<p>Wir sind bestrebt, unseren Kunden ein komfortables Einkaufserlebnis zu bieten. Wenn Sie Fragen haben, schreiben Sie uns bitte, und Sie erhalten eine perfekte Lösung.</p>\"\"\"\n",
    "    return pd.replace('\\n', '')\n",
    "\n",
    "\n",
    "erp_df['bullet_point1'] = bullet_point1\n",
    "erp_df['bullet_point2'] = bullet_point2\n",
    "erp_df['bullet_point3'] = bullet_point3\n",
    "erp_df['bullet_point4'] = bullet_point4\n",
    "erp_df['bullet_point5'] = bullet_point5\n",
    "erp_df['product_description'] = erp_df['尺码表'].apply(lambda i: generate_pd(i))\n",
    "erp_df"
   ],
   "metadata": {
    "collapsed": false,
    "pycharm": {
     "name": "#%%\n"
    }
   }
  },
  {
   "cell_type": "markdown",
   "source": [
    "# 5. 生成size, color"
   ],
   "metadata": {
    "collapsed": false,
    "pycharm": {
     "name": "#%% md\n"
    }
   }
  },
  {
   "cell_type": "code",
   "execution_count": 385,
   "outputs": [
    {
     "data": {
      "text/plain": "('Schwarz', 'XL')"
     },
     "execution_count": 385,
     "metadata": {},
     "output_type": "execute_result"
    }
   ],
   "source": [
    "# 选择parent_child字段值为'Parent'的行\n",
    "is_parent = erp_df['parent_child'] == 'Parent'\n",
    "c_s = re.compile(r'(?P<s>\\d{2}|\\d[A-Z]|[A-Z]{1,2})(?P<c>\\d[A-Z]{2}|[A-Z]{2})')\n",
    "\n",
    "color_map = {\n",
    "    'AG': 'Armeegrün',  # AG\n",
    "    'BG': 'Beige',  # Beige\n",
    "    'BK': 'Schwarz',  # Black\n",
    "    'BU': 'Blau',  # Blue\n",
    "    'BW': 'Braun',  # Brown\n",
    "    'CE': 'Camo',  # Camouflage\n",
    "    'CO': 'Kaffee',  # Coffee\n",
    "    'DB': 'Dunkelblau',  # Dark Blue\n",
    "    'DY': 'Dunkelgrau',  # Dark Gray\n",
    "    'GN': 'Grün',  # Green\n",
    "    'GY': 'Grau',  # Grey\n",
    "    'GY1': 'Grau-1',  # Grey\n",
    "    'GY2': 'Grau-2',  # Grey\n",
    "    'LN': 'Hellgrün',  # Light Green\n",
    "    'LR': 'Hellgrau',  # Light Gray\n",
    "    'KH': 'Khaki',  # Khaki\n",
    "    'NY': 'Navy',  # Navy\n",
    "    'RD': 'Rot',  # Red\n",
    "    'WE': 'Wine',  # Wine\n",
    "    'WH': 'WeiB',  # White\n",
    "    'YE': 'Gelb',  # Yellow\n",
    "}\n",
    "\n",
    "\n",
    "def get_color(r: str):\n",
    "    try:\n",
    "        c = c_s.match(r[::-1]).group('c')[::-1]\n",
    "    except AttributeError:\n",
    "        c = ''\n",
    "    try:\n",
    "        clr = color_map[c]\n",
    "    except KeyError:\n",
    "        clr = c\n",
    "\n",
    "    return clr\n",
    "\n",
    "\n",
    "size_map = {\n",
    "    'S': 'S',\n",
    "    'M': 'M',\n",
    "    'L': 'L',\n",
    "    'XL': 'XL',\n",
    "    'L1': 'XL',\n",
    "    'L2': 'XXL',\n",
    "    'L3': '3XL',\n",
    "    'L4': '4XL',\n",
    "    'L5': '5XL',\n",
    "    'L6': '6XL',\n",
    "}\n",
    "\n",
    "\n",
    "def get_size(r: str):\n",
    "    try:  # L, L2, 23, ''\n",
    "        s = c_s.match(r[::-1]).group('s')[::-1]\n",
    "    except AttributeError:\n",
    "        s = ''\n",
    "    try:\n",
    "        se = size_map[s]\n",
    "    except KeyError:\n",
    "        if s:\n",
    "            se = int(s)\n",
    "        else:\n",
    "            se = s\n",
    "\n",
    "    return se\n",
    "\n",
    "\n",
    "s2 = 'MKT-DE-24-07-18-001-BKL1'\n",
    "get_color(s2), get_size(s2)"
   ],
   "metadata": {
    "collapsed": false,
    "pycharm": {
     "name": "#%%\n"
    }
   }
  },
  {
   "cell_type": "code",
   "execution_count": 386,
   "outputs": [],
   "source": [
    "erp_df['size'] = erp_df['amazon_sku'].apply(lambda i: get_size(i))\n",
    "erp_df['color'] = erp_df['amazon_sku'].apply(lambda i: get_color(i))"
   ],
   "metadata": {
    "collapsed": false,
    "pycharm": {
     "name": "#%%\n"
    }
   }
  },
  {
   "cell_type": "markdown",
   "source": [
    "# 6. 生成图片链接"
   ],
   "metadata": {
    "collapsed": false,
    "pycharm": {
     "name": "#%% md\n"
    }
   }
  },
  {
   "cell_type": "code",
   "execution_count": 387,
   "outputs": [
    {
     "data": {
      "text/plain": "                  SKU          父SKU  产品缩略图  \\\n38       AWB231219002  AWB231219002    NaN   \n39    AWB231219002GNL  AWB231219002    NaN   \n40   AWB231219002GNL2  AWB231219002    NaN   \n41   AWB231219002GNL3  AWB231219002    NaN   \n42    AWB231219002GNM  AWB231219002    NaN   \n..                ...           ...    ...   \n683  ZZS210511744GYL5  ZZS210511744    NaN   \n684   ZZS210511744GYS  ZZS210511744    NaN   \n685  ZZS210511744KHL4  ZZS210511744    NaN   \n686  ZZS210511744KHL5  ZZS210511744    NaN   \n687   ZZS210511744KHS  ZZS210511744    NaN   \n\n                                                  产品类型  \\\n38   普通产品 -> Clothing Shoes & Accessories -> 男装 -> ...   \n39   普通产品 -> Clothing Shoes & Accessories -> 男装 -> ...   \n40   普通产品 -> Clothing Shoes & Accessories -> 男装 -> ...   \n41   普通产品 -> Clothing Shoes & Accessories -> 男装 -> ...   \n42   普通产品 -> Clothing Shoes & Accessories -> 男装 -> ...   \n..                                                 ...   \n683  普通产品 -> Clothing Shoes & Accessories -> 男装 -> ...   \n684  普通产品 -> Clothing Shoes & Accessories -> 男装 -> ...   \n685  普通产品 -> Clothing Shoes & Accessories -> 男装 -> ...   \n686  普通产品 -> Clothing Shoes & Accessories -> 男装 -> ...   \n687  普通产品 -> Clothing Shoes & Accessories -> 男装 -> ...   \n\n                                                    标题  \\\n38   Fitness Sweatpants Stretchy Sport Elastic Body...   \n39   Fitness Sweatpants Stretchy Sport Elastic Body...   \n40   Fitness Sweatpants Stretchy Sport Elastic Body...   \n41   Fitness Sweatpants Stretchy Sport Elastic Body...   \n42   Fitness Sweatpants Stretchy Sport Elastic Body...   \n..                                                 ...   \n683  Casual Straight Summer Multi Pocket Men's Pant...   \n684  Casual Straight Summer Multi Pocket Men's Pant...   \n685  Casual Straight Summer Multi Pocket Men's Pant...   \n686  Casual Straight Summer Multi Pocket Men's Pant...   \n687  Casual Straight Summer Multi Pocket Men's Pant...   \n\n                                    产品名称  \\\n38           新款夏季休闲运动系绳七分裤男士时尚修身健身运动裤束脚裤   \n39      新款夏季休闲运动系绳七分裤男士时尚修身健身运动裤束脚裤 绿色 L   \n40    新款夏季休闲运动系绳七分裤男士时尚修身健身运动裤束脚裤 绿色 XXL   \n41   新款夏季休闲运动系绳七分裤男士时尚修身健身运动裤束脚裤 绿色 XXXL   \n42      新款夏季休闲运动系绳七分裤男士时尚修身健身运动裤束脚裤 绿色 M   \n..                                   ...   \n683         男士夏季多口袋直筒休闲裤工装裤长裤  灰色 XXXXXL   \n684              男士夏季多口袋直筒休闲裤工装裤长裤  灰色 S   \n685         男士夏季多口袋直筒休闲裤工装裤长裤  卡其色 XXXXL   \n686       男士夏季多口袋直筒休闲裤工装裤长裤   卡其色 XXXXXL   \n687             男士夏季多口袋直筒休闲裤工装裤长裤  卡其色 S   \n\n                                                    描述         颜色  \\\n38   <h1 align=\"center\"><span style=\"font-size:14pt...  Green,Red   \n39   <h1 align=\"center\"><span style=\"font-size:14pt...      Green   \n40   <h1 align=\"center\"><span style=\"font-size:14pt...      Green   \n41   <h1 align=\"center\"><span style=\"font-size:14pt...      Green   \n42   <h1 align=\"center\"><span style=\"font-size:14pt...      Green   \n..                                                 ...        ...   \n683  <h1 align=\"center\"><span style=\"font-size:14pt...       Grey   \n684  <h1 align=\"center\"><span style=\"font-size:14pt...       Grey   \n685  <h1 align=\"center\"><span style=\"font-size:14pt...      Khaki   \n686  <h1 align=\"center\"><span style=\"font-size:14pt...      Khaki   \n687  <h1 align=\"center\"><span style=\"font-size:14pt...      Khaki   \n\n                  尺寸     亚马逊尺寸  ...  color  \\\n38   M,L,XL,XXL,XXXL       NaN  ...          \n39                 L     Large  ...   Grün   \n40               XXL  XX-Large  ...   Grün   \n41              XXXL  3X-Large  ...   Grün   \n42                 M    Medium  ...   Grün   \n..               ...       ...  ...    ...   \n683           XXXXXL  5X-Large  ...   Grau   \n684                S     Small  ...   Grau   \n685            XXXXL  4X-Large  ...  Khaki   \n686           XXXXXL  5X-Large  ...  Khaki   \n687                S     Small  ...  Khaki   \n\n                                          github图片链接 1  \\\n38   https://raw.githubusercontent.com/wuku32/proje...   \n39   https://raw.githubusercontent.com/wuku32/proje...   \n40   https://raw.githubusercontent.com/wuku32/proje...   \n41   https://raw.githubusercontent.com/wuku32/proje...   \n42   https://raw.githubusercontent.com/wuku32/proje...   \n..                                                 ...   \n683  https://raw.githubusercontent.com/wuku32/proje...   \n684  https://raw.githubusercontent.com/wuku32/proje...   \n685  https://raw.githubusercontent.com/wuku32/proje...   \n686  https://raw.githubusercontent.com/wuku32/proje...   \n687  https://raw.githubusercontent.com/wuku32/proje...   \n\n                                          github图片链接 2  \\\n38   https://raw.githubusercontent.com/wuku32/proje...   \n39   https://raw.githubusercontent.com/wuku32/proje...   \n40   https://raw.githubusercontent.com/wuku32/proje...   \n41   https://raw.githubusercontent.com/wuku32/proje...   \n42   https://raw.githubusercontent.com/wuku32/proje...   \n..                                                 ...   \n683  https://raw.githubusercontent.com/wuku32/proje...   \n684  https://raw.githubusercontent.com/wuku32/proje...   \n685  https://raw.githubusercontent.com/wuku32/proje...   \n686  https://raw.githubusercontent.com/wuku32/proje...   \n687  https://raw.githubusercontent.com/wuku32/proje...   \n\n                                          github图片链接 3  \\\n38   https://raw.githubusercontent.com/wuku32/proje...   \n39   https://raw.githubusercontent.com/wuku32/proje...   \n40   https://raw.githubusercontent.com/wuku32/proje...   \n41   https://raw.githubusercontent.com/wuku32/proje...   \n42   https://raw.githubusercontent.com/wuku32/proje...   \n..                                                 ...   \n683  https://raw.githubusercontent.com/wuku32/proje...   \n684  https://raw.githubusercontent.com/wuku32/proje...   \n685  https://raw.githubusercontent.com/wuku32/proje...   \n686  https://raw.githubusercontent.com/wuku32/proje...   \n687  https://raw.githubusercontent.com/wuku32/proje...   \n\n                                          github图片链接 4  \\\n38   https://raw.githubusercontent.com/wuku32/proje...   \n39   https://raw.githubusercontent.com/wuku32/proje...   \n40   https://raw.githubusercontent.com/wuku32/proje...   \n41   https://raw.githubusercontent.com/wuku32/proje...   \n42   https://raw.githubusercontent.com/wuku32/proje...   \n..                                                 ...   \n683  https://raw.githubusercontent.com/wuku32/proje...   \n684  https://raw.githubusercontent.com/wuku32/proje...   \n685  https://raw.githubusercontent.com/wuku32/proje...   \n686  https://raw.githubusercontent.com/wuku32/proje...   \n687  https://raw.githubusercontent.com/wuku32/proje...   \n\n                                          github图片链接 5  \\\n38   https://raw.githubusercontent.com/wuku32/proje...   \n39   https://raw.githubusercontent.com/wuku32/proje...   \n40   https://raw.githubusercontent.com/wuku32/proje...   \n41   https://raw.githubusercontent.com/wuku32/proje...   \n42   https://raw.githubusercontent.com/wuku32/proje...   \n..                                                 ...   \n683  https://raw.githubusercontent.com/wuku32/proje...   \n684  https://raw.githubusercontent.com/wuku32/proje...   \n685  https://raw.githubusercontent.com/wuku32/proje...   \n686  https://raw.githubusercontent.com/wuku32/proje...   \n687  https://raw.githubusercontent.com/wuku32/proje...   \n\n                                          github图片链接 6  \\\n38   https://raw.githubusercontent.com/wuku32/proje...   \n39                                                None   \n40                                                None   \n41                                                None   \n42                                                None   \n..                                                 ...   \n683  https://raw.githubusercontent.com/wuku32/proje...   \n684  https://raw.githubusercontent.com/wuku32/proje...   \n685  https://raw.githubusercontent.com/wuku32/proje...   \n686  https://raw.githubusercontent.com/wuku32/proje...   \n687  https://raw.githubusercontent.com/wuku32/proje...   \n\n                                          github图片链接 7  \\\n38   https://raw.githubusercontent.com/wuku32/proje...   \n39                                                None   \n40                                                None   \n41                                                None   \n42                                                None   \n..                                                 ...   \n683  https://raw.githubusercontent.com/wuku32/proje...   \n684  https://raw.githubusercontent.com/wuku32/proje...   \n685  https://raw.githubusercontent.com/wuku32/proje...   \n686  https://raw.githubusercontent.com/wuku32/proje...   \n687  https://raw.githubusercontent.com/wuku32/proje...   \n\n                                          github图片链接 8  \\\n38   https://raw.githubusercontent.com/wuku32/proje...   \n39                                                None   \n40                                                None   \n41                                                None   \n42                                                None   \n..                                                 ...   \n683  https://raw.githubusercontent.com/wuku32/proje...   \n684  https://raw.githubusercontent.com/wuku32/proje...   \n685  https://raw.githubusercontent.com/wuku32/proje...   \n686  https://raw.githubusercontent.com/wuku32/proje...   \n687  https://raw.githubusercontent.com/wuku32/proje...   \n\n                                          github图片链接 9  \n38                                                None  \n39                                                None  \n40                                                None  \n41                                                None  \n42                                                None  \n..                                                 ...  \n683  https://raw.githubusercontent.com/wuku32/proje...  \n684  https://raw.githubusercontent.com/wuku32/proje...  \n685  https://raw.githubusercontent.com/wuku32/proje...  \n686  https://raw.githubusercontent.com/wuku32/proje...  \n687  https://raw.githubusercontent.com/wuku32/proje...  \n\n[477 rows x 86 columns]",
      "text/html": "<div>\n<style scoped>\n    .dataframe tbody tr th:only-of-type {\n        vertical-align: middle;\n    }\n\n    .dataframe tbody tr th {\n        vertical-align: top;\n    }\n\n    .dataframe thead th {\n        text-align: right;\n    }\n</style>\n<table border=\"1\" class=\"dataframe\">\n  <thead>\n    <tr style=\"text-align: right;\">\n      <th></th>\n      <th>SKU</th>\n      <th>父SKU</th>\n      <th>产品缩略图</th>\n      <th>产品类型</th>\n      <th>标题</th>\n      <th>产品名称</th>\n      <th>描述</th>\n      <th>颜色</th>\n      <th>尺寸</th>\n      <th>亚马逊尺寸</th>\n      <th>...</th>\n      <th>color</th>\n      <th>github图片链接 1</th>\n      <th>github图片链接 2</th>\n      <th>github图片链接 3</th>\n      <th>github图片链接 4</th>\n      <th>github图片链接 5</th>\n      <th>github图片链接 6</th>\n      <th>github图片链接 7</th>\n      <th>github图片链接 8</th>\n      <th>github图片链接 9</th>\n    </tr>\n  </thead>\n  <tbody>\n    <tr>\n      <th>38</th>\n      <td>AWB231219002</td>\n      <td>AWB231219002</td>\n      <td>NaN</td>\n      <td>普通产品 -&gt; Clothing Shoes &amp; Accessories -&gt; 男装 -&gt; ...</td>\n      <td>Fitness Sweatpants Stretchy Sport Elastic Body...</td>\n      <td>新款夏季休闲运动系绳七分裤男士时尚修身健身运动裤束脚裤</td>\n      <td>&lt;h1 align=\"center\"&gt;&lt;span style=\"font-size:14pt...</td>\n      <td>Green,Red</td>\n      <td>M,L,XL,XXL,XXXL</td>\n      <td>NaN</td>\n      <td>...</td>\n      <td></td>\n      <td>https://raw.githubusercontent.com/wuku32/proje...</td>\n      <td>https://raw.githubusercontent.com/wuku32/proje...</td>\n      <td>https://raw.githubusercontent.com/wuku32/proje...</td>\n      <td>https://raw.githubusercontent.com/wuku32/proje...</td>\n      <td>https://raw.githubusercontent.com/wuku32/proje...</td>\n      <td>https://raw.githubusercontent.com/wuku32/proje...</td>\n      <td>https://raw.githubusercontent.com/wuku32/proje...</td>\n      <td>https://raw.githubusercontent.com/wuku32/proje...</td>\n      <td>None</td>\n    </tr>\n    <tr>\n      <th>39</th>\n      <td>AWB231219002GNL</td>\n      <td>AWB231219002</td>\n      <td>NaN</td>\n      <td>普通产品 -&gt; Clothing Shoes &amp; Accessories -&gt; 男装 -&gt; ...</td>\n      <td>Fitness Sweatpants Stretchy Sport Elastic Body...</td>\n      <td>新款夏季休闲运动系绳七分裤男士时尚修身健身运动裤束脚裤 绿色 L</td>\n      <td>&lt;h1 align=\"center\"&gt;&lt;span style=\"font-size:14pt...</td>\n      <td>Green</td>\n      <td>L</td>\n      <td>Large</td>\n      <td>...</td>\n      <td>Grün</td>\n      <td>https://raw.githubusercontent.com/wuku32/proje...</td>\n      <td>https://raw.githubusercontent.com/wuku32/proje...</td>\n      <td>https://raw.githubusercontent.com/wuku32/proje...</td>\n      <td>https://raw.githubusercontent.com/wuku32/proje...</td>\n      <td>https://raw.githubusercontent.com/wuku32/proje...</td>\n      <td>None</td>\n      <td>None</td>\n      <td>None</td>\n      <td>None</td>\n    </tr>\n    <tr>\n      <th>40</th>\n      <td>AWB231219002GNL2</td>\n      <td>AWB231219002</td>\n      <td>NaN</td>\n      <td>普通产品 -&gt; Clothing Shoes &amp; Accessories -&gt; 男装 -&gt; ...</td>\n      <td>Fitness Sweatpants Stretchy Sport Elastic Body...</td>\n      <td>新款夏季休闲运动系绳七分裤男士时尚修身健身运动裤束脚裤 绿色 XXL</td>\n      <td>&lt;h1 align=\"center\"&gt;&lt;span style=\"font-size:14pt...</td>\n      <td>Green</td>\n      <td>XXL</td>\n      <td>XX-Large</td>\n      <td>...</td>\n      <td>Grün</td>\n      <td>https://raw.githubusercontent.com/wuku32/proje...</td>\n      <td>https://raw.githubusercontent.com/wuku32/proje...</td>\n      <td>https://raw.githubusercontent.com/wuku32/proje...</td>\n      <td>https://raw.githubusercontent.com/wuku32/proje...</td>\n      <td>https://raw.githubusercontent.com/wuku32/proje...</td>\n      <td>None</td>\n      <td>None</td>\n      <td>None</td>\n      <td>None</td>\n    </tr>\n    <tr>\n      <th>41</th>\n      <td>AWB231219002GNL3</td>\n      <td>AWB231219002</td>\n      <td>NaN</td>\n      <td>普通产品 -&gt; Clothing Shoes &amp; Accessories -&gt; 男装 -&gt; ...</td>\n      <td>Fitness Sweatpants Stretchy Sport Elastic Body...</td>\n      <td>新款夏季休闲运动系绳七分裤男士时尚修身健身运动裤束脚裤 绿色 XXXL</td>\n      <td>&lt;h1 align=\"center\"&gt;&lt;span style=\"font-size:14pt...</td>\n      <td>Green</td>\n      <td>XXXL</td>\n      <td>3X-Large</td>\n      <td>...</td>\n      <td>Grün</td>\n      <td>https://raw.githubusercontent.com/wuku32/proje...</td>\n      <td>https://raw.githubusercontent.com/wuku32/proje...</td>\n      <td>https://raw.githubusercontent.com/wuku32/proje...</td>\n      <td>https://raw.githubusercontent.com/wuku32/proje...</td>\n      <td>https://raw.githubusercontent.com/wuku32/proje...</td>\n      <td>None</td>\n      <td>None</td>\n      <td>None</td>\n      <td>None</td>\n    </tr>\n    <tr>\n      <th>42</th>\n      <td>AWB231219002GNM</td>\n      <td>AWB231219002</td>\n      <td>NaN</td>\n      <td>普通产品 -&gt; Clothing Shoes &amp; Accessories -&gt; 男装 -&gt; ...</td>\n      <td>Fitness Sweatpants Stretchy Sport Elastic Body...</td>\n      <td>新款夏季休闲运动系绳七分裤男士时尚修身健身运动裤束脚裤 绿色 M</td>\n      <td>&lt;h1 align=\"center\"&gt;&lt;span style=\"font-size:14pt...</td>\n      <td>Green</td>\n      <td>M</td>\n      <td>Medium</td>\n      <td>...</td>\n      <td>Grün</td>\n      <td>https://raw.githubusercontent.com/wuku32/proje...</td>\n      <td>https://raw.githubusercontent.com/wuku32/proje...</td>\n      <td>https://raw.githubusercontent.com/wuku32/proje...</td>\n      <td>https://raw.githubusercontent.com/wuku32/proje...</td>\n      <td>https://raw.githubusercontent.com/wuku32/proje...</td>\n      <td>None</td>\n      <td>None</td>\n      <td>None</td>\n      <td>None</td>\n    </tr>\n    <tr>\n      <th>...</th>\n      <td>...</td>\n      <td>...</td>\n      <td>...</td>\n      <td>...</td>\n      <td>...</td>\n      <td>...</td>\n      <td>...</td>\n      <td>...</td>\n      <td>...</td>\n      <td>...</td>\n      <td>...</td>\n      <td>...</td>\n      <td>...</td>\n      <td>...</td>\n      <td>...</td>\n      <td>...</td>\n      <td>...</td>\n      <td>...</td>\n      <td>...</td>\n      <td>...</td>\n      <td>...</td>\n    </tr>\n    <tr>\n      <th>683</th>\n      <td>ZZS210511744GYL5</td>\n      <td>ZZS210511744</td>\n      <td>NaN</td>\n      <td>普通产品 -&gt; Clothing Shoes &amp; Accessories -&gt; 男装 -&gt; ...</td>\n      <td>Casual Straight Summer Multi Pocket Men's Pant...</td>\n      <td>男士夏季多口袋直筒休闲裤工装裤长裤  灰色 XXXXXL</td>\n      <td>&lt;h1 align=\"center\"&gt;&lt;span style=\"font-size:14pt...</td>\n      <td>Grey</td>\n      <td>XXXXXL</td>\n      <td>5X-Large</td>\n      <td>...</td>\n      <td>Grau</td>\n      <td>https://raw.githubusercontent.com/wuku32/proje...</td>\n      <td>https://raw.githubusercontent.com/wuku32/proje...</td>\n      <td>https://raw.githubusercontent.com/wuku32/proje...</td>\n      <td>https://raw.githubusercontent.com/wuku32/proje...</td>\n      <td>https://raw.githubusercontent.com/wuku32/proje...</td>\n      <td>https://raw.githubusercontent.com/wuku32/proje...</td>\n      <td>https://raw.githubusercontent.com/wuku32/proje...</td>\n      <td>https://raw.githubusercontent.com/wuku32/proje...</td>\n      <td>https://raw.githubusercontent.com/wuku32/proje...</td>\n    </tr>\n    <tr>\n      <th>684</th>\n      <td>ZZS210511744GYS</td>\n      <td>ZZS210511744</td>\n      <td>NaN</td>\n      <td>普通产品 -&gt; Clothing Shoes &amp; Accessories -&gt; 男装 -&gt; ...</td>\n      <td>Casual Straight Summer Multi Pocket Men's Pant...</td>\n      <td>男士夏季多口袋直筒休闲裤工装裤长裤  灰色 S</td>\n      <td>&lt;h1 align=\"center\"&gt;&lt;span style=\"font-size:14pt...</td>\n      <td>Grey</td>\n      <td>S</td>\n      <td>Small</td>\n      <td>...</td>\n      <td>Grau</td>\n      <td>https://raw.githubusercontent.com/wuku32/proje...</td>\n      <td>https://raw.githubusercontent.com/wuku32/proje...</td>\n      <td>https://raw.githubusercontent.com/wuku32/proje...</td>\n      <td>https://raw.githubusercontent.com/wuku32/proje...</td>\n      <td>https://raw.githubusercontent.com/wuku32/proje...</td>\n      <td>https://raw.githubusercontent.com/wuku32/proje...</td>\n      <td>https://raw.githubusercontent.com/wuku32/proje...</td>\n      <td>https://raw.githubusercontent.com/wuku32/proje...</td>\n      <td>https://raw.githubusercontent.com/wuku32/proje...</td>\n    </tr>\n    <tr>\n      <th>685</th>\n      <td>ZZS210511744KHL4</td>\n      <td>ZZS210511744</td>\n      <td>NaN</td>\n      <td>普通产品 -&gt; Clothing Shoes &amp; Accessories -&gt; 男装 -&gt; ...</td>\n      <td>Casual Straight Summer Multi Pocket Men's Pant...</td>\n      <td>男士夏季多口袋直筒休闲裤工装裤长裤  卡其色 XXXXL</td>\n      <td>&lt;h1 align=\"center\"&gt;&lt;span style=\"font-size:14pt...</td>\n      <td>Khaki</td>\n      <td>XXXXL</td>\n      <td>4X-Large</td>\n      <td>...</td>\n      <td>Khaki</td>\n      <td>https://raw.githubusercontent.com/wuku32/proje...</td>\n      <td>https://raw.githubusercontent.com/wuku32/proje...</td>\n      <td>https://raw.githubusercontent.com/wuku32/proje...</td>\n      <td>https://raw.githubusercontent.com/wuku32/proje...</td>\n      <td>https://raw.githubusercontent.com/wuku32/proje...</td>\n      <td>https://raw.githubusercontent.com/wuku32/proje...</td>\n      <td>https://raw.githubusercontent.com/wuku32/proje...</td>\n      <td>https://raw.githubusercontent.com/wuku32/proje...</td>\n      <td>https://raw.githubusercontent.com/wuku32/proje...</td>\n    </tr>\n    <tr>\n      <th>686</th>\n      <td>ZZS210511744KHL5</td>\n      <td>ZZS210511744</td>\n      <td>NaN</td>\n      <td>普通产品 -&gt; Clothing Shoes &amp; Accessories -&gt; 男装 -&gt; ...</td>\n      <td>Casual Straight Summer Multi Pocket Men's Pant...</td>\n      <td>男士夏季多口袋直筒休闲裤工装裤长裤   卡其色 XXXXXL</td>\n      <td>&lt;h1 align=\"center\"&gt;&lt;span style=\"font-size:14pt...</td>\n      <td>Khaki</td>\n      <td>XXXXXL</td>\n      <td>5X-Large</td>\n      <td>...</td>\n      <td>Khaki</td>\n      <td>https://raw.githubusercontent.com/wuku32/proje...</td>\n      <td>https://raw.githubusercontent.com/wuku32/proje...</td>\n      <td>https://raw.githubusercontent.com/wuku32/proje...</td>\n      <td>https://raw.githubusercontent.com/wuku32/proje...</td>\n      <td>https://raw.githubusercontent.com/wuku32/proje...</td>\n      <td>https://raw.githubusercontent.com/wuku32/proje...</td>\n      <td>https://raw.githubusercontent.com/wuku32/proje...</td>\n      <td>https://raw.githubusercontent.com/wuku32/proje...</td>\n      <td>https://raw.githubusercontent.com/wuku32/proje...</td>\n    </tr>\n    <tr>\n      <th>687</th>\n      <td>ZZS210511744KHS</td>\n      <td>ZZS210511744</td>\n      <td>NaN</td>\n      <td>普通产品 -&gt; Clothing Shoes &amp; Accessories -&gt; 男装 -&gt; ...</td>\n      <td>Casual Straight Summer Multi Pocket Men's Pant...</td>\n      <td>男士夏季多口袋直筒休闲裤工装裤长裤  卡其色 S</td>\n      <td>&lt;h1 align=\"center\"&gt;&lt;span style=\"font-size:14pt...</td>\n      <td>Khaki</td>\n      <td>S</td>\n      <td>Small</td>\n      <td>...</td>\n      <td>Khaki</td>\n      <td>https://raw.githubusercontent.com/wuku32/proje...</td>\n      <td>https://raw.githubusercontent.com/wuku32/proje...</td>\n      <td>https://raw.githubusercontent.com/wuku32/proje...</td>\n      <td>https://raw.githubusercontent.com/wuku32/proje...</td>\n      <td>https://raw.githubusercontent.com/wuku32/proje...</td>\n      <td>https://raw.githubusercontent.com/wuku32/proje...</td>\n      <td>https://raw.githubusercontent.com/wuku32/proje...</td>\n      <td>https://raw.githubusercontent.com/wuku32/proje...</td>\n      <td>https://raw.githubusercontent.com/wuku32/proje...</td>\n    </tr>\n  </tbody>\n</table>\n<p>477 rows × 86 columns</p>\n</div>"
     },
     "execution_count": 387,
     "metadata": {},
     "output_type": "execute_result"
    }
   ],
   "source": [
    "# img_home = f'https://www.gitee.com/wuku32/project-step-2/{bd_a_img}/'\n",
    "# 'https://raw.githubusercontent.com/wuku32/farewellEvony/master/img/img_11.png'\n",
    "# img_home = f'https://www.gitee.com/wuku32/project-step-2/raw/master/{bd_a_img}/'\n",
    "img_home = f'https://raw.githubusercontent.com/wuku32/project-step-2/master/{bd_a_img}/'\n",
    "\n",
    "\n",
    "def redirect(u: str):\n",
    "    try:\n",
    "        u = re.sub(r'http://.*/', img_home, u)\n",
    "        return u\n",
    "    except TypeError:\n",
    "        pass\n",
    "\n",
    "\n",
    "s1 = [f'图片链接 {i}' for i in range(1, 10)]\n",
    "for _ in s1:\n",
    "    erp_df[f'github{_}'] = erp_df[_].apply(lambda i: redirect(i))\n",
    "\n",
    "erp_df"
   ],
   "metadata": {
    "collapsed": false,
    "pycharm": {
     "name": "#%%\n"
    }
   }
  },
  {
   "cell_type": "markdown",
   "source": [
    "# 7. 生成standard_price"
   ],
   "metadata": {
    "collapsed": false,
    "pycharm": {
     "name": "#%% md\n"
    }
   }
  },
  {
   "cell_type": "code",
   "execution_count": 388,
   "outputs": [
    {
     "data": {
      "text/plain": "                  SKU          父SKU  产品缩略图  \\\n38       AWB231219002  AWB231219002    NaN   \n39    AWB231219002GNL  AWB231219002    NaN   \n40   AWB231219002GNL2  AWB231219002    NaN   \n41   AWB231219002GNL3  AWB231219002    NaN   \n42    AWB231219002GNM  AWB231219002    NaN   \n..                ...           ...    ...   \n683  ZZS210511744GYL5  ZZS210511744    NaN   \n684   ZZS210511744GYS  ZZS210511744    NaN   \n685  ZZS210511744KHL4  ZZS210511744    NaN   \n686  ZZS210511744KHL5  ZZS210511744    NaN   \n687   ZZS210511744KHS  ZZS210511744    NaN   \n\n                                                  产品类型  \\\n38   普通产品 -> Clothing Shoes & Accessories -> 男装 -> ...   \n39   普通产品 -> Clothing Shoes & Accessories -> 男装 -> ...   \n40   普通产品 -> Clothing Shoes & Accessories -> 男装 -> ...   \n41   普通产品 -> Clothing Shoes & Accessories -> 男装 -> ...   \n42   普通产品 -> Clothing Shoes & Accessories -> 男装 -> ...   \n..                                                 ...   \n683  普通产品 -> Clothing Shoes & Accessories -> 男装 -> ...   \n684  普通产品 -> Clothing Shoes & Accessories -> 男装 -> ...   \n685  普通产品 -> Clothing Shoes & Accessories -> 男装 -> ...   \n686  普通产品 -> Clothing Shoes & Accessories -> 男装 -> ...   \n687  普通产品 -> Clothing Shoes & Accessories -> 男装 -> ...   \n\n                                                    标题  \\\n38   Fitness Sweatpants Stretchy Sport Elastic Body...   \n39   Fitness Sweatpants Stretchy Sport Elastic Body...   \n40   Fitness Sweatpants Stretchy Sport Elastic Body...   \n41   Fitness Sweatpants Stretchy Sport Elastic Body...   \n42   Fitness Sweatpants Stretchy Sport Elastic Body...   \n..                                                 ...   \n683  Casual Straight Summer Multi Pocket Men's Pant...   \n684  Casual Straight Summer Multi Pocket Men's Pant...   \n685  Casual Straight Summer Multi Pocket Men's Pant...   \n686  Casual Straight Summer Multi Pocket Men's Pant...   \n687  Casual Straight Summer Multi Pocket Men's Pant...   \n\n                                    产品名称  \\\n38           新款夏季休闲运动系绳七分裤男士时尚修身健身运动裤束脚裤   \n39      新款夏季休闲运动系绳七分裤男士时尚修身健身运动裤束脚裤 绿色 L   \n40    新款夏季休闲运动系绳七分裤男士时尚修身健身运动裤束脚裤 绿色 XXL   \n41   新款夏季休闲运动系绳七分裤男士时尚修身健身运动裤束脚裤 绿色 XXXL   \n42      新款夏季休闲运动系绳七分裤男士时尚修身健身运动裤束脚裤 绿色 M   \n..                                   ...   \n683         男士夏季多口袋直筒休闲裤工装裤长裤  灰色 XXXXXL   \n684              男士夏季多口袋直筒休闲裤工装裤长裤  灰色 S   \n685         男士夏季多口袋直筒休闲裤工装裤长裤  卡其色 XXXXL   \n686       男士夏季多口袋直筒休闲裤工装裤长裤   卡其色 XXXXXL   \n687             男士夏季多口袋直筒休闲裤工装裤长裤  卡其色 S   \n\n                                                    描述         颜色  \\\n38   <h1 align=\"center\"><span style=\"font-size:14pt...  Green,Red   \n39   <h1 align=\"center\"><span style=\"font-size:14pt...      Green   \n40   <h1 align=\"center\"><span style=\"font-size:14pt...      Green   \n41   <h1 align=\"center\"><span style=\"font-size:14pt...      Green   \n42   <h1 align=\"center\"><span style=\"font-size:14pt...      Green   \n..                                                 ...        ...   \n683  <h1 align=\"center\"><span style=\"font-size:14pt...       Grey   \n684  <h1 align=\"center\"><span style=\"font-size:14pt...       Grey   \n685  <h1 align=\"center\"><span style=\"font-size:14pt...      Khaki   \n686  <h1 align=\"center\"><span style=\"font-size:14pt...      Khaki   \n687  <h1 align=\"center\"><span style=\"font-size:14pt...      Khaki   \n\n                  尺寸     亚马逊尺寸  ...  \\\n38   M,L,XL,XXL,XXXL       NaN  ...   \n39                 L     Large  ...   \n40               XXL  XX-Large  ...   \n41              XXXL  3X-Large  ...   \n42                 M    Medium  ...   \n..               ...       ...  ...   \n683           XXXXXL  5X-Large  ...   \n684                S     Small  ...   \n685            XXXXL  4X-Large  ...   \n686           XXXXXL  5X-Large  ...   \n687                S     Small  ...   \n\n                                          github图片链接 1  \\\n38   https://raw.githubusercontent.com/wuku32/proje...   \n39   https://raw.githubusercontent.com/wuku32/proje...   \n40   https://raw.githubusercontent.com/wuku32/proje...   \n41   https://raw.githubusercontent.com/wuku32/proje...   \n42   https://raw.githubusercontent.com/wuku32/proje...   \n..                                                 ...   \n683  https://raw.githubusercontent.com/wuku32/proje...   \n684  https://raw.githubusercontent.com/wuku32/proje...   \n685  https://raw.githubusercontent.com/wuku32/proje...   \n686  https://raw.githubusercontent.com/wuku32/proje...   \n687  https://raw.githubusercontent.com/wuku32/proje...   \n\n                                          github图片链接 2  \\\n38   https://raw.githubusercontent.com/wuku32/proje...   \n39   https://raw.githubusercontent.com/wuku32/proje...   \n40   https://raw.githubusercontent.com/wuku32/proje...   \n41   https://raw.githubusercontent.com/wuku32/proje...   \n42   https://raw.githubusercontent.com/wuku32/proje...   \n..                                                 ...   \n683  https://raw.githubusercontent.com/wuku32/proje...   \n684  https://raw.githubusercontent.com/wuku32/proje...   \n685  https://raw.githubusercontent.com/wuku32/proje...   \n686  https://raw.githubusercontent.com/wuku32/proje...   \n687  https://raw.githubusercontent.com/wuku32/proje...   \n\n                                          github图片链接 3  \\\n38   https://raw.githubusercontent.com/wuku32/proje...   \n39   https://raw.githubusercontent.com/wuku32/proje...   \n40   https://raw.githubusercontent.com/wuku32/proje...   \n41   https://raw.githubusercontent.com/wuku32/proje...   \n42   https://raw.githubusercontent.com/wuku32/proje...   \n..                                                 ...   \n683  https://raw.githubusercontent.com/wuku32/proje...   \n684  https://raw.githubusercontent.com/wuku32/proje...   \n685  https://raw.githubusercontent.com/wuku32/proje...   \n686  https://raw.githubusercontent.com/wuku32/proje...   \n687  https://raw.githubusercontent.com/wuku32/proje...   \n\n                                          github图片链接 4  \\\n38   https://raw.githubusercontent.com/wuku32/proje...   \n39   https://raw.githubusercontent.com/wuku32/proje...   \n40   https://raw.githubusercontent.com/wuku32/proje...   \n41   https://raw.githubusercontent.com/wuku32/proje...   \n42   https://raw.githubusercontent.com/wuku32/proje...   \n..                                                 ...   \n683  https://raw.githubusercontent.com/wuku32/proje...   \n684  https://raw.githubusercontent.com/wuku32/proje...   \n685  https://raw.githubusercontent.com/wuku32/proje...   \n686  https://raw.githubusercontent.com/wuku32/proje...   \n687  https://raw.githubusercontent.com/wuku32/proje...   \n\n                                          github图片链接 5  \\\n38   https://raw.githubusercontent.com/wuku32/proje...   \n39   https://raw.githubusercontent.com/wuku32/proje...   \n40   https://raw.githubusercontent.com/wuku32/proje...   \n41   https://raw.githubusercontent.com/wuku32/proje...   \n42   https://raw.githubusercontent.com/wuku32/proje...   \n..                                                 ...   \n683  https://raw.githubusercontent.com/wuku32/proje...   \n684  https://raw.githubusercontent.com/wuku32/proje...   \n685  https://raw.githubusercontent.com/wuku32/proje...   \n686  https://raw.githubusercontent.com/wuku32/proje...   \n687  https://raw.githubusercontent.com/wuku32/proje...   \n\n                                          github图片链接 6  \\\n38   https://raw.githubusercontent.com/wuku32/proje...   \n39                                                None   \n40                                                None   \n41                                                None   \n42                                                None   \n..                                                 ...   \n683  https://raw.githubusercontent.com/wuku32/proje...   \n684  https://raw.githubusercontent.com/wuku32/proje...   \n685  https://raw.githubusercontent.com/wuku32/proje...   \n686  https://raw.githubusercontent.com/wuku32/proje...   \n687  https://raw.githubusercontent.com/wuku32/proje...   \n\n                                          github图片链接 7  \\\n38   https://raw.githubusercontent.com/wuku32/proje...   \n39                                                None   \n40                                                None   \n41                                                None   \n42                                                None   \n..                                                 ...   \n683  https://raw.githubusercontent.com/wuku32/proje...   \n684  https://raw.githubusercontent.com/wuku32/proje...   \n685  https://raw.githubusercontent.com/wuku32/proje...   \n686  https://raw.githubusercontent.com/wuku32/proje...   \n687  https://raw.githubusercontent.com/wuku32/proje...   \n\n                                          github图片链接 8  \\\n38   https://raw.githubusercontent.com/wuku32/proje...   \n39                                                None   \n40                                                None   \n41                                                None   \n42                                                None   \n..                                                 ...   \n683  https://raw.githubusercontent.com/wuku32/proje...   \n684  https://raw.githubusercontent.com/wuku32/proje...   \n685  https://raw.githubusercontent.com/wuku32/proje...   \n686  https://raw.githubusercontent.com/wuku32/proje...   \n687  https://raw.githubusercontent.com/wuku32/proje...   \n\n                                          github图片链接 9  standard_price  \n38                                                None           14.99  \n39                                                None           13.99  \n40                                                None           14.99  \n41                                                None           14.99  \n42                                                None           14.99  \n..                                                 ...             ...  \n683  https://raw.githubusercontent.com/wuku32/proje...           31.99  \n684  https://raw.githubusercontent.com/wuku32/proje...           28.99  \n685  https://raw.githubusercontent.com/wuku32/proje...           30.99  \n686  https://raw.githubusercontent.com/wuku32/proje...           31.99  \n687  https://raw.githubusercontent.com/wuku32/proje...           28.99  \n\n[477 rows x 87 columns]",
      "text/html": "<div>\n<style scoped>\n    .dataframe tbody tr th:only-of-type {\n        vertical-align: middle;\n    }\n\n    .dataframe tbody tr th {\n        vertical-align: top;\n    }\n\n    .dataframe thead th {\n        text-align: right;\n    }\n</style>\n<table border=\"1\" class=\"dataframe\">\n  <thead>\n    <tr style=\"text-align: right;\">\n      <th></th>\n      <th>SKU</th>\n      <th>父SKU</th>\n      <th>产品缩略图</th>\n      <th>产品类型</th>\n      <th>标题</th>\n      <th>产品名称</th>\n      <th>描述</th>\n      <th>颜色</th>\n      <th>尺寸</th>\n      <th>亚马逊尺寸</th>\n      <th>...</th>\n      <th>github图片链接 1</th>\n      <th>github图片链接 2</th>\n      <th>github图片链接 3</th>\n      <th>github图片链接 4</th>\n      <th>github图片链接 5</th>\n      <th>github图片链接 6</th>\n      <th>github图片链接 7</th>\n      <th>github图片链接 8</th>\n      <th>github图片链接 9</th>\n      <th>standard_price</th>\n    </tr>\n  </thead>\n  <tbody>\n    <tr>\n      <th>38</th>\n      <td>AWB231219002</td>\n      <td>AWB231219002</td>\n      <td>NaN</td>\n      <td>普通产品 -&gt; Clothing Shoes &amp; Accessories -&gt; 男装 -&gt; ...</td>\n      <td>Fitness Sweatpants Stretchy Sport Elastic Body...</td>\n      <td>新款夏季休闲运动系绳七分裤男士时尚修身健身运动裤束脚裤</td>\n      <td>&lt;h1 align=\"center\"&gt;&lt;span style=\"font-size:14pt...</td>\n      <td>Green,Red</td>\n      <td>M,L,XL,XXL,XXXL</td>\n      <td>NaN</td>\n      <td>...</td>\n      <td>https://raw.githubusercontent.com/wuku32/proje...</td>\n      <td>https://raw.githubusercontent.com/wuku32/proje...</td>\n      <td>https://raw.githubusercontent.com/wuku32/proje...</td>\n      <td>https://raw.githubusercontent.com/wuku32/proje...</td>\n      <td>https://raw.githubusercontent.com/wuku32/proje...</td>\n      <td>https://raw.githubusercontent.com/wuku32/proje...</td>\n      <td>https://raw.githubusercontent.com/wuku32/proje...</td>\n      <td>https://raw.githubusercontent.com/wuku32/proje...</td>\n      <td>None</td>\n      <td>14.99</td>\n    </tr>\n    <tr>\n      <th>39</th>\n      <td>AWB231219002GNL</td>\n      <td>AWB231219002</td>\n      <td>NaN</td>\n      <td>普通产品 -&gt; Clothing Shoes &amp; Accessories -&gt; 男装 -&gt; ...</td>\n      <td>Fitness Sweatpants Stretchy Sport Elastic Body...</td>\n      <td>新款夏季休闲运动系绳七分裤男士时尚修身健身运动裤束脚裤 绿色 L</td>\n      <td>&lt;h1 align=\"center\"&gt;&lt;span style=\"font-size:14pt...</td>\n      <td>Green</td>\n      <td>L</td>\n      <td>Large</td>\n      <td>...</td>\n      <td>https://raw.githubusercontent.com/wuku32/proje...</td>\n      <td>https://raw.githubusercontent.com/wuku32/proje...</td>\n      <td>https://raw.githubusercontent.com/wuku32/proje...</td>\n      <td>https://raw.githubusercontent.com/wuku32/proje...</td>\n      <td>https://raw.githubusercontent.com/wuku32/proje...</td>\n      <td>None</td>\n      <td>None</td>\n      <td>None</td>\n      <td>None</td>\n      <td>13.99</td>\n    </tr>\n    <tr>\n      <th>40</th>\n      <td>AWB231219002GNL2</td>\n      <td>AWB231219002</td>\n      <td>NaN</td>\n      <td>普通产品 -&gt; Clothing Shoes &amp; Accessories -&gt; 男装 -&gt; ...</td>\n      <td>Fitness Sweatpants Stretchy Sport Elastic Body...</td>\n      <td>新款夏季休闲运动系绳七分裤男士时尚修身健身运动裤束脚裤 绿色 XXL</td>\n      <td>&lt;h1 align=\"center\"&gt;&lt;span style=\"font-size:14pt...</td>\n      <td>Green</td>\n      <td>XXL</td>\n      <td>XX-Large</td>\n      <td>...</td>\n      <td>https://raw.githubusercontent.com/wuku32/proje...</td>\n      <td>https://raw.githubusercontent.com/wuku32/proje...</td>\n      <td>https://raw.githubusercontent.com/wuku32/proje...</td>\n      <td>https://raw.githubusercontent.com/wuku32/proje...</td>\n      <td>https://raw.githubusercontent.com/wuku32/proje...</td>\n      <td>None</td>\n      <td>None</td>\n      <td>None</td>\n      <td>None</td>\n      <td>14.99</td>\n    </tr>\n    <tr>\n      <th>41</th>\n      <td>AWB231219002GNL3</td>\n      <td>AWB231219002</td>\n      <td>NaN</td>\n      <td>普通产品 -&gt; Clothing Shoes &amp; Accessories -&gt; 男装 -&gt; ...</td>\n      <td>Fitness Sweatpants Stretchy Sport Elastic Body...</td>\n      <td>新款夏季休闲运动系绳七分裤男士时尚修身健身运动裤束脚裤 绿色 XXXL</td>\n      <td>&lt;h1 align=\"center\"&gt;&lt;span style=\"font-size:14pt...</td>\n      <td>Green</td>\n      <td>XXXL</td>\n      <td>3X-Large</td>\n      <td>...</td>\n      <td>https://raw.githubusercontent.com/wuku32/proje...</td>\n      <td>https://raw.githubusercontent.com/wuku32/proje...</td>\n      <td>https://raw.githubusercontent.com/wuku32/proje...</td>\n      <td>https://raw.githubusercontent.com/wuku32/proje...</td>\n      <td>https://raw.githubusercontent.com/wuku32/proje...</td>\n      <td>None</td>\n      <td>None</td>\n      <td>None</td>\n      <td>None</td>\n      <td>14.99</td>\n    </tr>\n    <tr>\n      <th>42</th>\n      <td>AWB231219002GNM</td>\n      <td>AWB231219002</td>\n      <td>NaN</td>\n      <td>普通产品 -&gt; Clothing Shoes &amp; Accessories -&gt; 男装 -&gt; ...</td>\n      <td>Fitness Sweatpants Stretchy Sport Elastic Body...</td>\n      <td>新款夏季休闲运动系绳七分裤男士时尚修身健身运动裤束脚裤 绿色 M</td>\n      <td>&lt;h1 align=\"center\"&gt;&lt;span style=\"font-size:14pt...</td>\n      <td>Green</td>\n      <td>M</td>\n      <td>Medium</td>\n      <td>...</td>\n      <td>https://raw.githubusercontent.com/wuku32/proje...</td>\n      <td>https://raw.githubusercontent.com/wuku32/proje...</td>\n      <td>https://raw.githubusercontent.com/wuku32/proje...</td>\n      <td>https://raw.githubusercontent.com/wuku32/proje...</td>\n      <td>https://raw.githubusercontent.com/wuku32/proje...</td>\n      <td>None</td>\n      <td>None</td>\n      <td>None</td>\n      <td>None</td>\n      <td>14.99</td>\n    </tr>\n    <tr>\n      <th>...</th>\n      <td>...</td>\n      <td>...</td>\n      <td>...</td>\n      <td>...</td>\n      <td>...</td>\n      <td>...</td>\n      <td>...</td>\n      <td>...</td>\n      <td>...</td>\n      <td>...</td>\n      <td>...</td>\n      <td>...</td>\n      <td>...</td>\n      <td>...</td>\n      <td>...</td>\n      <td>...</td>\n      <td>...</td>\n      <td>...</td>\n      <td>...</td>\n      <td>...</td>\n      <td>...</td>\n    </tr>\n    <tr>\n      <th>683</th>\n      <td>ZZS210511744GYL5</td>\n      <td>ZZS210511744</td>\n      <td>NaN</td>\n      <td>普通产品 -&gt; Clothing Shoes &amp; Accessories -&gt; 男装 -&gt; ...</td>\n      <td>Casual Straight Summer Multi Pocket Men's Pant...</td>\n      <td>男士夏季多口袋直筒休闲裤工装裤长裤  灰色 XXXXXL</td>\n      <td>&lt;h1 align=\"center\"&gt;&lt;span style=\"font-size:14pt...</td>\n      <td>Grey</td>\n      <td>XXXXXL</td>\n      <td>5X-Large</td>\n      <td>...</td>\n      <td>https://raw.githubusercontent.com/wuku32/proje...</td>\n      <td>https://raw.githubusercontent.com/wuku32/proje...</td>\n      <td>https://raw.githubusercontent.com/wuku32/proje...</td>\n      <td>https://raw.githubusercontent.com/wuku32/proje...</td>\n      <td>https://raw.githubusercontent.com/wuku32/proje...</td>\n      <td>https://raw.githubusercontent.com/wuku32/proje...</td>\n      <td>https://raw.githubusercontent.com/wuku32/proje...</td>\n      <td>https://raw.githubusercontent.com/wuku32/proje...</td>\n      <td>https://raw.githubusercontent.com/wuku32/proje...</td>\n      <td>31.99</td>\n    </tr>\n    <tr>\n      <th>684</th>\n      <td>ZZS210511744GYS</td>\n      <td>ZZS210511744</td>\n      <td>NaN</td>\n      <td>普通产品 -&gt; Clothing Shoes &amp; Accessories -&gt; 男装 -&gt; ...</td>\n      <td>Casual Straight Summer Multi Pocket Men's Pant...</td>\n      <td>男士夏季多口袋直筒休闲裤工装裤长裤  灰色 S</td>\n      <td>&lt;h1 align=\"center\"&gt;&lt;span style=\"font-size:14pt...</td>\n      <td>Grey</td>\n      <td>S</td>\n      <td>Small</td>\n      <td>...</td>\n      <td>https://raw.githubusercontent.com/wuku32/proje...</td>\n      <td>https://raw.githubusercontent.com/wuku32/proje...</td>\n      <td>https://raw.githubusercontent.com/wuku32/proje...</td>\n      <td>https://raw.githubusercontent.com/wuku32/proje...</td>\n      <td>https://raw.githubusercontent.com/wuku32/proje...</td>\n      <td>https://raw.githubusercontent.com/wuku32/proje...</td>\n      <td>https://raw.githubusercontent.com/wuku32/proje...</td>\n      <td>https://raw.githubusercontent.com/wuku32/proje...</td>\n      <td>https://raw.githubusercontent.com/wuku32/proje...</td>\n      <td>28.99</td>\n    </tr>\n    <tr>\n      <th>685</th>\n      <td>ZZS210511744KHL4</td>\n      <td>ZZS210511744</td>\n      <td>NaN</td>\n      <td>普通产品 -&gt; Clothing Shoes &amp; Accessories -&gt; 男装 -&gt; ...</td>\n      <td>Casual Straight Summer Multi Pocket Men's Pant...</td>\n      <td>男士夏季多口袋直筒休闲裤工装裤长裤  卡其色 XXXXL</td>\n      <td>&lt;h1 align=\"center\"&gt;&lt;span style=\"font-size:14pt...</td>\n      <td>Khaki</td>\n      <td>XXXXL</td>\n      <td>4X-Large</td>\n      <td>...</td>\n      <td>https://raw.githubusercontent.com/wuku32/proje...</td>\n      <td>https://raw.githubusercontent.com/wuku32/proje...</td>\n      <td>https://raw.githubusercontent.com/wuku32/proje...</td>\n      <td>https://raw.githubusercontent.com/wuku32/proje...</td>\n      <td>https://raw.githubusercontent.com/wuku32/proje...</td>\n      <td>https://raw.githubusercontent.com/wuku32/proje...</td>\n      <td>https://raw.githubusercontent.com/wuku32/proje...</td>\n      <td>https://raw.githubusercontent.com/wuku32/proje...</td>\n      <td>https://raw.githubusercontent.com/wuku32/proje...</td>\n      <td>30.99</td>\n    </tr>\n    <tr>\n      <th>686</th>\n      <td>ZZS210511744KHL5</td>\n      <td>ZZS210511744</td>\n      <td>NaN</td>\n      <td>普通产品 -&gt; Clothing Shoes &amp; Accessories -&gt; 男装 -&gt; ...</td>\n      <td>Casual Straight Summer Multi Pocket Men's Pant...</td>\n      <td>男士夏季多口袋直筒休闲裤工装裤长裤   卡其色 XXXXXL</td>\n      <td>&lt;h1 align=\"center\"&gt;&lt;span style=\"font-size:14pt...</td>\n      <td>Khaki</td>\n      <td>XXXXXL</td>\n      <td>5X-Large</td>\n      <td>...</td>\n      <td>https://raw.githubusercontent.com/wuku32/proje...</td>\n      <td>https://raw.githubusercontent.com/wuku32/proje...</td>\n      <td>https://raw.githubusercontent.com/wuku32/proje...</td>\n      <td>https://raw.githubusercontent.com/wuku32/proje...</td>\n      <td>https://raw.githubusercontent.com/wuku32/proje...</td>\n      <td>https://raw.githubusercontent.com/wuku32/proje...</td>\n      <td>https://raw.githubusercontent.com/wuku32/proje...</td>\n      <td>https://raw.githubusercontent.com/wuku32/proje...</td>\n      <td>https://raw.githubusercontent.com/wuku32/proje...</td>\n      <td>31.99</td>\n    </tr>\n    <tr>\n      <th>687</th>\n      <td>ZZS210511744KHS</td>\n      <td>ZZS210511744</td>\n      <td>NaN</td>\n      <td>普通产品 -&gt; Clothing Shoes &amp; Accessories -&gt; 男装 -&gt; ...</td>\n      <td>Casual Straight Summer Multi Pocket Men's Pant...</td>\n      <td>男士夏季多口袋直筒休闲裤工装裤长裤  卡其色 S</td>\n      <td>&lt;h1 align=\"center\"&gt;&lt;span style=\"font-size:14pt...</td>\n      <td>Khaki</td>\n      <td>S</td>\n      <td>Small</td>\n      <td>...</td>\n      <td>https://raw.githubusercontent.com/wuku32/proje...</td>\n      <td>https://raw.githubusercontent.com/wuku32/proje...</td>\n      <td>https://raw.githubusercontent.com/wuku32/proje...</td>\n      <td>https://raw.githubusercontent.com/wuku32/proje...</td>\n      <td>https://raw.githubusercontent.com/wuku32/proje...</td>\n      <td>https://raw.githubusercontent.com/wuku32/proje...</td>\n      <td>https://raw.githubusercontent.com/wuku32/proje...</td>\n      <td>https://raw.githubusercontent.com/wuku32/proje...</td>\n      <td>https://raw.githubusercontent.com/wuku32/proje...</td>\n      <td>28.99</td>\n    </tr>\n  </tbody>\n</table>\n<p>477 rows × 87 columns</p>\n</div>"
     },
     "execution_count": 388,
     "metadata": {},
     "output_type": "execute_result"
    }
   ],
   "source": [
    "def get_p(text: str):\n",
    "    a = re.compile(r'.*?欧洲_挂号价.*?：(?P<rp>.*?) EUR')\n",
    "    rp = a.match(text).group('rp')\n",
    "    x = 1.6\n",
    "    return float(int(float(rp) / x + 0.5) - 0.01)\n",
    "\n",
    "\n",
    "erp_df['standard_price'] = erp_df['亚马逊建议价'].apply(lambda i: get_p(i))\n",
    "erp_df"
   ],
   "metadata": {
    "collapsed": false,
    "pycharm": {
     "name": "#%%\n"
    }
   }
  },
  {
   "cell_type": "code",
   "execution_count": 389,
   "outputs": [
    {
     "data": {
      "text/plain": "array(['AWB231219002', 'CMG210906252', 'CMG220307256', 'CMG220905004',\n       'CMG221207014', 'CMG221207015', 'CMG221207016', 'CMG221207017',\n       'CMG221207020', 'CMG221207021', 'CMG230302006', 'CWL231026005',\n       'FBE220924043', 'FZQ230705020', 'FZQ230925006', 'FZQ230925008',\n       'HCJ231123001', 'LBB230904023', 'LBB230904027', 'LBB230904029',\n       'LBB230904031', 'LJH81008337', 'LLL231122001', 'LNP220809008',\n       'MJJ201023291', 'QXP240705001', 'SCN221128001', 'SFW211229313',\n       'SQI220926005', 'WMQ230616009', 'YAY81204372', 'YLA231009004',\n       'ZME220827007', 'ZTY210623248', 'ZTY230213002', 'ZTY230401011',\n       'ZTY230829002', 'ZTY230829005', 'ZTY231030001', 'ZZS210511744'],\n      dtype=object)"
     },
     "execution_count": 389,
     "metadata": {},
     "output_type": "execute_result"
    }
   ],
   "source": [
    "erp_df['父SKU'].unique()"
   ],
   "metadata": {
    "collapsed": false,
    "pycharm": {
     "name": "#%%\n"
    }
   }
  },
  {
   "cell_type": "markdown",
   "source": [
    "# 手动操作！！！"
   ],
   "metadata": {
    "collapsed": false,
    "pycharm": {
     "name": "#%% md\n"
    }
   }
  },
  {
   "cell_type": "code",
   "execution_count": 391,
   "outputs": [],
   "source": [
    "# erp_df.to_excel(fp_erp.replace('.xls', '_verified.xls'), index=False)\n",
    "#\n",
    "# with open(inuse_skus_path, 'r') as file:\n",
    "#     inuse_skus = set(line.strip() for line in file)\n",
    "#\n",
    "# with open(inuse_skus_path, 'a') as file:\n",
    "#     file.write(f\"{ymd_HMS}\\n\")\n",
    "#     for sku in erp_df['父SKU'].unique():\n",
    "#         if sku not in inuse_skus:\n",
    "#             file.write(f\"{sku}\\n\")\n",
    "#\n",
    "# other_pskus.unique()\n",
    "#\n",
    "# fp_tgt = f'{g}/{g}_tgt.xlsx'\n",
    "# tgt_df: DataFrame = pd.read_excel(fp_tgt, sheet_name='tgt')\n",
    "# # 创建一个映射字典，将父SKU映射到对应的amazon_psku\n",
    "# mapping_dict = erp_df.set_index('父SKU')['amazon_psku'].to_dict()\n",
    "# # 使用map函数将父SKU映射到amazon_psku\n",
    "# tgt_df['amazon_psku'] = tgt_df['productSku'].map(mapping_dict)\n",
    "# tgt_df.loc[tgt_df['productSku'].isin(erp_df['父SKU'].unique()), 'status'] = Status.IN_USE.value\n",
    "# tgt_df.loc[tgt_df['productSku'].isin(erp_df['父SKU'].unique()), 'ymd_HMS'] = ymd_HMS\n",
    "# tgt_df.to_excel(fp_tgt, index=False)\n",
    "#\n",
    "# # 将修改后的DataFrame写回到Excel文件中的特定工作簿\n",
    "#\n",
    "# from openpyxl import load_workbook\n",
    "#\n",
    "# # 加载现有的工作簿\n",
    "# book = load_workbook(fp_title)\n",
    "#\n",
    "# # 使用openpyxl的方式选择要修改的工作表\n",
    "# with pd.ExcelWriter(fp_title, engine='openpyxl') as writer:\n",
    "#     writer.book = book\n",
    "#\n",
    "#     if 'title' in book.sheetnames:\n",
    "#         book.remove(book['title'])\n",
    "#\n",
    "#     # 将修改后的工作表写回工作簿\n",
    "#     title_df.to_excel(writer, index=False, sheet_name='title')\n",
    "#\n",
    "# book = load_workbook(fp_st250)\n",
    "#\n",
    "# # 使用openpyxl的方式选择要修改的工作表\n",
    "# with pd.ExcelWriter(fp_st250, engine='openpyxl') as writer:\n",
    "#     writer.book = book\n",
    "#\n",
    "#     if 'st250' in book.sheetnames:\n",
    "#         book.remove(book['st250'])\n",
    "#\n",
    "#     # 将修改后的工作表写回工作簿\n",
    "#     st250_df.to_excel(writer, index=False, sheet_name='st250')"
   ],
   "metadata": {
    "collapsed": false,
    "pycharm": {
     "name": "#%%\n"
    }
   }
  },
  {
   "cell_type": "code",
   "execution_count": null,
   "outputs": [],
   "source": [],
   "metadata": {
    "collapsed": false,
    "pycharm": {
     "name": "#%%\n"
    }
   }
  }
 ],
 "metadata": {
  "kernelspec": {
   "display_name": "Python 3",
   "language": "python",
   "name": "python3"
  },
  "language_info": {
   "codemirror_mode": {
    "name": "ipython",
    "version": 2
   },
   "file_extension": ".py",
   "mimetype": "text/x-python",
   "name": "python",
   "nbconvert_exporter": "python",
   "pygments_lexer": "ipython2",
   "version": "2.7.6"
  }
 },
 "nbformat": 4,
 "nbformat_minor": 0
}