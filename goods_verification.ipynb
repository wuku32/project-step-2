{
 "cells": [
  {
   "cell_type": "code",
   "execution_count": 7,
   "outputs": [],
   "source": [
    "from typing import List\n",
    "import os\n",
    "import re\n",
    "import time\n",
    "\n",
    "import numpy as np\n",
    "import pandas as pd\n",
    "from pandas import DataFrame\n",
    "import requests"
   ],
   "metadata": {
    "collapsed": false,
    "pycharm": {
     "name": "#%%\n"
    }
   }
  },
  {
   "cell_type": "code",
   "execution_count": 8,
   "outputs": [],
   "source": [
    "import os\n",
    "\n",
    "from util.widgets import generate_ym, generate_ymd, generate_ymd_HMS, generate_i\n",
    "\n",
    "ym = generate_ym()\n",
    "g = 'cargohose_herren'\n",
    "bd = f'{g}/{ym}'\n",
    "bd_a = f'{bd}/a'\n",
    "b_d = f'{g}_{ym}'\n",
    "\n",
    "os.makedirs(bd, exist_ok=True)\n",
    "os.makedirs(bd_a, exist_ok=True)\n",
    "\n",
    "ymd = generate_ymd()\n",
    "ymd_HMS = generate_ymd_HMS()\n",
    "i = '(08-09)'\n",
    "bd_a_img = f'{bd_a}/{ymd}'\n",
    "os.makedirs(bd_a_img, exist_ok=True)"
   ],
   "metadata": {
    "collapsed": false,
    "pycharm": {
     "name": "#%%\n"
    }
   }
  },
  {
   "cell_type": "code",
   "execution_count": 9,
   "outputs": [
    {
     "data": {
      "text/plain": "                  SKU          父SKU  产品缩略图  \\\n0        AHY240625001           NaN    NaN   \n1     AHY240625001BKL  AHY240625001    NaN   \n2    AHY240625001BKL2  AHY240625001    NaN   \n3    AHY240625001BKL3  AHY240625001    NaN   \n4     AHY240625001BKM  AHY240625001    NaN   \n..                ...           ...    ...   \n683  ZZS210511744GYL5  ZZS210511744    NaN   \n684   ZZS210511744GYS  ZZS210511744    NaN   \n685  ZZS210511744KHL4  ZZS210511744    NaN   \n686  ZZS210511744KHL5  ZZS210511744    NaN   \n687   ZZS210511744KHS  ZZS210511744    NaN   \n\n                                                  产品类型  \\\n0    普通产品 -> Clothing Shoes & Accessories -> 男装 -> ...   \n1    普通产品 -> Clothing Shoes & Accessories -> 男装 -> ...   \n2    普通产品 -> Clothing Shoes & Accessories -> 男装 -> ...   \n3    普通产品 -> Clothing Shoes & Accessories -> 男装 -> ...   \n4    普通产品 -> Clothing Shoes & Accessories -> 男装 -> ...   \n..                                                 ...   \n683  普通产品 -> Clothing Shoes & Accessories -> 男装 -> ...   \n684  普通产品 -> Clothing Shoes & Accessories -> 男装 -> ...   \n685  普通产品 -> Clothing Shoes & Accessories -> 男装 -> ...   \n686  普通产品 -> Clothing Shoes & Accessories -> 男装 -> ...   \n687  普通产品 -> Clothing Shoes & Accessories -> 男装 -> ...   \n\n                                                    标题  \\\n0    Male Summer Cargo Pants Solid Color Pocket Tet...   \n1    Male Summer Cargo Pants Solid Color Pocket Tet...   \n2    Male Summer Cargo Pants Solid Color Pocket Tet...   \n3    Male Summer Cargo Pants Solid Color Pocket Tet...   \n4    Male Summer Cargo Pants Solid Color Pocket Tet...   \n..                                                 ...   \n683  Casual Straight Summer Multi Pocket Men's Pant...   \n684  Casual Straight Summer Multi Pocket Men's Pant...   \n685  Casual Straight Summer Multi Pocket Men's Pant...   \n686  Casual Straight Summer Multi Pocket Men's Pant...   \n687  Casual Straight Summer Multi Pocket Men's Pant...   \n\n                               产品名称  \\\n0                     男士多口袋纽扣五分工装短裤   \n1             男士多口袋纽扣五分工装短裤 黑色 L-31   \n2            男士多口袋纽扣五分工装短裤 黑色XXL-33   \n3          男士多口袋纽扣五分工装短裤 黑色 XXXL-34   \n4             男士多口袋纽扣五分工装短裤 黑色 M-30   \n..                              ...   \n683    男士夏季多口袋直筒休闲裤工装裤长裤  灰色 XXXXXL   \n684         男士夏季多口袋直筒休闲裤工装裤长裤  灰色 S   \n685    男士夏季多口袋直筒休闲裤工装裤长裤  卡其色 XXXXL   \n686  男士夏季多口袋直筒休闲裤工装裤长裤   卡其色 XXXXXL   \n687        男士夏季多口袋直筒休闲裤工装裤长裤  卡其色 S   \n\n                                                    描述  \\\n0    <h1 align=\"center\"><span style=\"font-size:14pt...   \n1    <h1 align=\"center\"><span style=\"font-size:14pt...   \n2    <h1 align=\"center\"><span style=\"font-size:14pt...   \n3    <h1 align=\"center\"><span style=\"font-size:14pt...   \n4    <h1 align=\"center\"><span style=\"font-size:14pt...   \n..                                                 ...   \n683  <h1 align=\"center\"><span style=\"font-size:14pt...   \n684  <h1 align=\"center\"><span style=\"font-size:14pt...   \n685  <h1 align=\"center\"><span style=\"font-size:14pt...   \n686  <h1 align=\"center\"><span style=\"font-size:14pt...   \n687  <h1 align=\"center\"><span style=\"font-size:14pt...   \n\n                                       颜色                 尺寸     亚马逊尺寸  ...  \\\n0    Black,Yellow,Green,Coffee,Khaki,Grey  S,M,L,XL,XXL,XXXL       NaN  ...   \n1                                   Black               L-31       NaN  ...   \n2                                   Black             XXL-33       NaN  ...   \n3                                   Black            XXXL-34       NaN  ...   \n4                                   Black               M-30       NaN  ...   \n..                                    ...                ...       ...  ...   \n683                                  Grey             XXXXXL  5X-Large  ...   \n684                                  Grey                  S     Small  ...   \n685                                 Khaki              XXXXL  4X-Large  ...   \n686                                 Khaki             XXXXXL  5X-Large  ...   \n687                                 Khaki                  S     Small  ...   \n\n    S3图片链接 8缩略图                                           S3图片链接 8  \\\n0           NaN  https://oz1xbcxa3ey1u5sz.imgsapp.com/afsd/1935...   \n1           NaN                                                NaN   \n2           NaN                                                NaN   \n3           NaN                                                NaN   \n4           NaN                                                NaN   \n..          ...                                                ...   \n683         NaN  https://beaqdilces304it4.imgsapp.com/afsd/8802...   \n684         NaN  https://uw04vmkwhu29sfli.imgsapp.com/afsd/8802...   \n685         NaN  https://oz7ag1f8cmj8r9t2.imgsapp.com/afsd/8802...   \n686         NaN  https://pxqulwuv6hvf1d9p.imgsapp.com/afsd/8802...   \n687         NaN  https://62l99ff5lxr2sqaa.imgsapp.com/afsd/8802...   \n\n    S3图片链接 9缩略图                                           S3图片链接 9 子图链接   长  \\\n0           NaN  https://o09tclpn5hvfql24.imgsapp.com/afsd/1935...  NaN  30   \n1           NaN                                                NaN  NaN  33   \n2           NaN                                                NaN  NaN  33   \n3           NaN                                                NaN  NaN  33   \n4           NaN                                                NaN  NaN  33   \n..          ...                                                ...  ...  ..   \n683         NaN  https://xmvlodrvwlswrqur.imgsapp.com/afsd/8802...  NaN  30   \n684         NaN  https://yehpc88ffcmmurw8.imgsapp.com/afsd/8802...  NaN  30   \n685         NaN  https://4g2e6dzvc73tya1m.imgsapp.com/afsd/8802...  NaN  30   \n686         NaN  https://idkvyw32unyuuhqc.imgsapp.com/afsd/8802...  NaN  30   \n687         NaN  https://juwq39uf4a372ymp.imgsapp.com/afsd/8802...  NaN  30   \n\n      宽  高                                                尺码表  印花名称  \n0    20  3  Size: S Waist: 74cm/29.13'' Hip: 121cm/47.64''...    其他  \n1    24  1  Size: S Waist: 74cm/29.13'' Hip: 121cm/47.64''...   NaN  \n2    24  1  Size: S Waist: 74cm/29.13'' Hip: 121cm/47.64''...   NaN  \n3    24  1  Size: S Waist: 74cm/29.13'' Hip: 121cm/47.64''...   NaN  \n4    24  1  Size: S Waist: 74cm/29.13'' Hip: 121cm/47.64''...   NaN  \n..   .. ..                                                ...   ...  \n683  23  1  Size: S US: 4 UK: 8 EU: 34 Waist: 77cm/30.31''...   NaN  \n684  23  1  Size: S US: 4 UK: 8 EU: 34 Waist: 77cm/30.31''...   NaN  \n685  23  1  Size: S US: 4 UK: 8 EU: 34 Waist: 77cm/30.31''...   NaN  \n686  23  1  Size: S US: 4 UK: 8 EU: 34 Waist: 77cm/30.31''...   NaN  \n687  23  1  Size: S US: 4 UK: 8 EU: 34 Waist: 77cm/30.31''...   NaN  \n\n[688 rows x 64 columns]",
      "text/html": "<div>\n<style scoped>\n    .dataframe tbody tr th:only-of-type {\n        vertical-align: middle;\n    }\n\n    .dataframe tbody tr th {\n        vertical-align: top;\n    }\n\n    .dataframe thead th {\n        text-align: right;\n    }\n</style>\n<table border=\"1\" class=\"dataframe\">\n  <thead>\n    <tr style=\"text-align: right;\">\n      <th></th>\n      <th>SKU</th>\n      <th>父SKU</th>\n      <th>产品缩略图</th>\n      <th>产品类型</th>\n      <th>标题</th>\n      <th>产品名称</th>\n      <th>描述</th>\n      <th>颜色</th>\n      <th>尺寸</th>\n      <th>亚马逊尺寸</th>\n      <th>...</th>\n      <th>S3图片链接 8缩略图</th>\n      <th>S3图片链接 8</th>\n      <th>S3图片链接 9缩略图</th>\n      <th>S3图片链接 9</th>\n      <th>子图链接</th>\n      <th>长</th>\n      <th>宽</th>\n      <th>高</th>\n      <th>尺码表</th>\n      <th>印花名称</th>\n    </tr>\n  </thead>\n  <tbody>\n    <tr>\n      <th>0</th>\n      <td>AHY240625001</td>\n      <td>NaN</td>\n      <td>NaN</td>\n      <td>普通产品 -&gt; Clothing Shoes &amp; Accessories -&gt; 男装 -&gt; ...</td>\n      <td>Male Summer Cargo Pants Solid Color Pocket Tet...</td>\n      <td>男士多口袋纽扣五分工装短裤</td>\n      <td>&lt;h1 align=\"center\"&gt;&lt;span style=\"font-size:14pt...</td>\n      <td>Black,Yellow,Green,Coffee,Khaki,Grey</td>\n      <td>S,M,L,XL,XXL,XXXL</td>\n      <td>NaN</td>\n      <td>...</td>\n      <td>NaN</td>\n      <td>https://oz1xbcxa3ey1u5sz.imgsapp.com/afsd/1935...</td>\n      <td>NaN</td>\n      <td>https://o09tclpn5hvfql24.imgsapp.com/afsd/1935...</td>\n      <td>NaN</td>\n      <td>30</td>\n      <td>20</td>\n      <td>3</td>\n      <td>Size: S Waist: 74cm/29.13'' Hip: 121cm/47.64''...</td>\n      <td>其他</td>\n    </tr>\n    <tr>\n      <th>1</th>\n      <td>AHY240625001BKL</td>\n      <td>AHY240625001</td>\n      <td>NaN</td>\n      <td>普通产品 -&gt; Clothing Shoes &amp; Accessories -&gt; 男装 -&gt; ...</td>\n      <td>Male Summer Cargo Pants Solid Color Pocket Tet...</td>\n      <td>男士多口袋纽扣五分工装短裤 黑色 L-31</td>\n      <td>&lt;h1 align=\"center\"&gt;&lt;span style=\"font-size:14pt...</td>\n      <td>Black</td>\n      <td>L-31</td>\n      <td>NaN</td>\n      <td>...</td>\n      <td>NaN</td>\n      <td>NaN</td>\n      <td>NaN</td>\n      <td>NaN</td>\n      <td>NaN</td>\n      <td>33</td>\n      <td>24</td>\n      <td>1</td>\n      <td>Size: S Waist: 74cm/29.13'' Hip: 121cm/47.64''...</td>\n      <td>NaN</td>\n    </tr>\n    <tr>\n      <th>2</th>\n      <td>AHY240625001BKL2</td>\n      <td>AHY240625001</td>\n      <td>NaN</td>\n      <td>普通产品 -&gt; Clothing Shoes &amp; Accessories -&gt; 男装 -&gt; ...</td>\n      <td>Male Summer Cargo Pants Solid Color Pocket Tet...</td>\n      <td>男士多口袋纽扣五分工装短裤 黑色XXL-33</td>\n      <td>&lt;h1 align=\"center\"&gt;&lt;span style=\"font-size:14pt...</td>\n      <td>Black</td>\n      <td>XXL-33</td>\n      <td>NaN</td>\n      <td>...</td>\n      <td>NaN</td>\n      <td>NaN</td>\n      <td>NaN</td>\n      <td>NaN</td>\n      <td>NaN</td>\n      <td>33</td>\n      <td>24</td>\n      <td>1</td>\n      <td>Size: S Waist: 74cm/29.13'' Hip: 121cm/47.64''...</td>\n      <td>NaN</td>\n    </tr>\n    <tr>\n      <th>3</th>\n      <td>AHY240625001BKL3</td>\n      <td>AHY240625001</td>\n      <td>NaN</td>\n      <td>普通产品 -&gt; Clothing Shoes &amp; Accessories -&gt; 男装 -&gt; ...</td>\n      <td>Male Summer Cargo Pants Solid Color Pocket Tet...</td>\n      <td>男士多口袋纽扣五分工装短裤 黑色 XXXL-34</td>\n      <td>&lt;h1 align=\"center\"&gt;&lt;span style=\"font-size:14pt...</td>\n      <td>Black</td>\n      <td>XXXL-34</td>\n      <td>NaN</td>\n      <td>...</td>\n      <td>NaN</td>\n      <td>NaN</td>\n      <td>NaN</td>\n      <td>NaN</td>\n      <td>NaN</td>\n      <td>33</td>\n      <td>24</td>\n      <td>1</td>\n      <td>Size: S Waist: 74cm/29.13'' Hip: 121cm/47.64''...</td>\n      <td>NaN</td>\n    </tr>\n    <tr>\n      <th>4</th>\n      <td>AHY240625001BKM</td>\n      <td>AHY240625001</td>\n      <td>NaN</td>\n      <td>普通产品 -&gt; Clothing Shoes &amp; Accessories -&gt; 男装 -&gt; ...</td>\n      <td>Male Summer Cargo Pants Solid Color Pocket Tet...</td>\n      <td>男士多口袋纽扣五分工装短裤 黑色 M-30</td>\n      <td>&lt;h1 align=\"center\"&gt;&lt;span style=\"font-size:14pt...</td>\n      <td>Black</td>\n      <td>M-30</td>\n      <td>NaN</td>\n      <td>...</td>\n      <td>NaN</td>\n      <td>NaN</td>\n      <td>NaN</td>\n      <td>NaN</td>\n      <td>NaN</td>\n      <td>33</td>\n      <td>24</td>\n      <td>1</td>\n      <td>Size: S Waist: 74cm/29.13'' Hip: 121cm/47.64''...</td>\n      <td>NaN</td>\n    </tr>\n    <tr>\n      <th>...</th>\n      <td>...</td>\n      <td>...</td>\n      <td>...</td>\n      <td>...</td>\n      <td>...</td>\n      <td>...</td>\n      <td>...</td>\n      <td>...</td>\n      <td>...</td>\n      <td>...</td>\n      <td>...</td>\n      <td>...</td>\n      <td>...</td>\n      <td>...</td>\n      <td>...</td>\n      <td>...</td>\n      <td>...</td>\n      <td>...</td>\n      <td>...</td>\n      <td>...</td>\n      <td>...</td>\n    </tr>\n    <tr>\n      <th>683</th>\n      <td>ZZS210511744GYL5</td>\n      <td>ZZS210511744</td>\n      <td>NaN</td>\n      <td>普通产品 -&gt; Clothing Shoes &amp; Accessories -&gt; 男装 -&gt; ...</td>\n      <td>Casual Straight Summer Multi Pocket Men's Pant...</td>\n      <td>男士夏季多口袋直筒休闲裤工装裤长裤  灰色 XXXXXL</td>\n      <td>&lt;h1 align=\"center\"&gt;&lt;span style=\"font-size:14pt...</td>\n      <td>Grey</td>\n      <td>XXXXXL</td>\n      <td>5X-Large</td>\n      <td>...</td>\n      <td>NaN</td>\n      <td>https://beaqdilces304it4.imgsapp.com/afsd/8802...</td>\n      <td>NaN</td>\n      <td>https://xmvlodrvwlswrqur.imgsapp.com/afsd/8802...</td>\n      <td>NaN</td>\n      <td>30</td>\n      <td>23</td>\n      <td>1</td>\n      <td>Size: S US: 4 UK: 8 EU: 34 Waist: 77cm/30.31''...</td>\n      <td>NaN</td>\n    </tr>\n    <tr>\n      <th>684</th>\n      <td>ZZS210511744GYS</td>\n      <td>ZZS210511744</td>\n      <td>NaN</td>\n      <td>普通产品 -&gt; Clothing Shoes &amp; Accessories -&gt; 男装 -&gt; ...</td>\n      <td>Casual Straight Summer Multi Pocket Men's Pant...</td>\n      <td>男士夏季多口袋直筒休闲裤工装裤长裤  灰色 S</td>\n      <td>&lt;h1 align=\"center\"&gt;&lt;span style=\"font-size:14pt...</td>\n      <td>Grey</td>\n      <td>S</td>\n      <td>Small</td>\n      <td>...</td>\n      <td>NaN</td>\n      <td>https://uw04vmkwhu29sfli.imgsapp.com/afsd/8802...</td>\n      <td>NaN</td>\n      <td>https://yehpc88ffcmmurw8.imgsapp.com/afsd/8802...</td>\n      <td>NaN</td>\n      <td>30</td>\n      <td>23</td>\n      <td>1</td>\n      <td>Size: S US: 4 UK: 8 EU: 34 Waist: 77cm/30.31''...</td>\n      <td>NaN</td>\n    </tr>\n    <tr>\n      <th>685</th>\n      <td>ZZS210511744KHL4</td>\n      <td>ZZS210511744</td>\n      <td>NaN</td>\n      <td>普通产品 -&gt; Clothing Shoes &amp; Accessories -&gt; 男装 -&gt; ...</td>\n      <td>Casual Straight Summer Multi Pocket Men's Pant...</td>\n      <td>男士夏季多口袋直筒休闲裤工装裤长裤  卡其色 XXXXL</td>\n      <td>&lt;h1 align=\"center\"&gt;&lt;span style=\"font-size:14pt...</td>\n      <td>Khaki</td>\n      <td>XXXXL</td>\n      <td>4X-Large</td>\n      <td>...</td>\n      <td>NaN</td>\n      <td>https://oz7ag1f8cmj8r9t2.imgsapp.com/afsd/8802...</td>\n      <td>NaN</td>\n      <td>https://4g2e6dzvc73tya1m.imgsapp.com/afsd/8802...</td>\n      <td>NaN</td>\n      <td>30</td>\n      <td>23</td>\n      <td>1</td>\n      <td>Size: S US: 4 UK: 8 EU: 34 Waist: 77cm/30.31''...</td>\n      <td>NaN</td>\n    </tr>\n    <tr>\n      <th>686</th>\n      <td>ZZS210511744KHL5</td>\n      <td>ZZS210511744</td>\n      <td>NaN</td>\n      <td>普通产品 -&gt; Clothing Shoes &amp; Accessories -&gt; 男装 -&gt; ...</td>\n      <td>Casual Straight Summer Multi Pocket Men's Pant...</td>\n      <td>男士夏季多口袋直筒休闲裤工装裤长裤   卡其色 XXXXXL</td>\n      <td>&lt;h1 align=\"center\"&gt;&lt;span style=\"font-size:14pt...</td>\n      <td>Khaki</td>\n      <td>XXXXXL</td>\n      <td>5X-Large</td>\n      <td>...</td>\n      <td>NaN</td>\n      <td>https://pxqulwuv6hvf1d9p.imgsapp.com/afsd/8802...</td>\n      <td>NaN</td>\n      <td>https://idkvyw32unyuuhqc.imgsapp.com/afsd/8802...</td>\n      <td>NaN</td>\n      <td>30</td>\n      <td>23</td>\n      <td>1</td>\n      <td>Size: S US: 4 UK: 8 EU: 34 Waist: 77cm/30.31''...</td>\n      <td>NaN</td>\n    </tr>\n    <tr>\n      <th>687</th>\n      <td>ZZS210511744KHS</td>\n      <td>ZZS210511744</td>\n      <td>NaN</td>\n      <td>普通产品 -&gt; Clothing Shoes &amp; Accessories -&gt; 男装 -&gt; ...</td>\n      <td>Casual Straight Summer Multi Pocket Men's Pant...</td>\n      <td>男士夏季多口袋直筒休闲裤工装裤长裤  卡其色 S</td>\n      <td>&lt;h1 align=\"center\"&gt;&lt;span style=\"font-size:14pt...</td>\n      <td>Khaki</td>\n      <td>S</td>\n      <td>Small</td>\n      <td>...</td>\n      <td>NaN</td>\n      <td>https://62l99ff5lxr2sqaa.imgsapp.com/afsd/8802...</td>\n      <td>NaN</td>\n      <td>https://juwq39uf4a372ymp.imgsapp.com/afsd/8802...</td>\n      <td>NaN</td>\n      <td>30</td>\n      <td>23</td>\n      <td>1</td>\n      <td>Size: S US: 4 UK: 8 EU: 34 Waist: 77cm/30.31''...</td>\n      <td>NaN</td>\n    </tr>\n  </tbody>\n</table>\n<p>688 rows × 64 columns</p>\n</div>"
     },
     "execution_count": 9,
     "metadata": {},
     "output_type": "execute_result"
    }
   ],
   "source": [
    "fp_erp = f'{bd_a}/product_20240729110524847.xls'\n",
    "erp_df: DataFrame = pd.read_excel(fp_erp)\n",
    "\n",
    "erp_df"
   ],
   "metadata": {
    "collapsed": false,
    "pycharm": {
     "name": "#%%\n"
    }
   }
  },
  {
   "cell_type": "code",
   "execution_count": 10,
   "outputs": [
    {
     "data": {
      "text/plain": "'FRL-DE-24-07-29-18-01-40-001-BWL2'"
     },
     "execution_count": 10,
     "metadata": {},
     "output_type": "execute_result"
    }
   ],
   "source": [
    "def generate_amazon_sku(s: str, c: str, n: str, b: int) -> str:\n",
    "    \"\"\"\n",
    "\n",
    "    :param s: ERP的sku\n",
    "    :param c: 仓库编号\n",
    "    :param n: 节点\n",
    "    :param b: 父sku批号\n",
    "    :return:\n",
    "    \"\"\"\n",
    "    p = re.compile(r'^(?P<p>[A-Z]+)(?P<d>\\d{6})(?P<n>\\d+)(?P<cs>.*?)$', re.S)\n",
    "    # for i in p.match(s).groups():\n",
    "    #     print(i)\n",
    "    t = ymd_HMS[2:].replace(' ', '-').replace(':', '-')\n",
    "    cs = p.match(s).group('cs')\n",
    "    result = f'{c}-{n}-{t}-{b:03d}-{cs}'.strip('-')\n",
    "    return result\n",
    "\n",
    "\n",
    "s1 = 'BYJ240716009BWL2'\n",
    "# MKT-DE-24-07-18-001-BWL2\n",
    "generate_amazon_sku(s1, 'FRL', 'DE', 1)"
   ],
   "metadata": {
    "collapsed": false,
    "pycharm": {
     "name": "#%%\n"
    }
   }
  },
  {
   "cell_type": "code",
   "execution_count": 11,
   "outputs": [
    {
     "name": "stderr",
     "output_type": "stream",
     "text": [
      "C:\\Users\\000\\AppData\\Local\\Temp\\ipykernel_12152\\3870049452.py:27: SettingWithCopyWarning: \n",
      "A value is trying to be set on a copy of a slice from a DataFrame.\n",
      "Try using .loc[row_indexer,col_indexer] = value instead\n",
      "\n",
      "See the caveats in the documentation: https://pandas.pydata.org/pandas-docs/stable/user_guide/indexing.html#returning-a-view-versus-a-copy\n",
      "  erp_df['amazon_sku'] = ams.copy()\n",
      "C:\\Users\\000\\AppData\\Local\\Temp\\ipykernel_12152\\3870049452.py:28: SettingWithCopyWarning: \n",
      "A value is trying to be set on a copy of a slice from a DataFrame.\n",
      "Try using .loc[row_indexer,col_indexer] = value instead\n",
      "\n",
      "See the caveats in the documentation: https://pandas.pydata.org/pandas-docs/stable/user_guide/indexing.html#returning-a-view-versus-a-copy\n",
      "  erp_df['amazon_psku'] = amps.copy()\n"
     ]
    },
    {
     "data": {
      "text/plain": "                  SKU          父SKU                         amazon_sku  \\\n38       AWB231219002  AWB231219002       FRL-DE-24-07-29-18-01-40-001   \n39    AWB231219002GNL  AWB231219002   FRL-DE-24-07-29-18-01-40-001-GNL   \n40   AWB231219002GNL2  AWB231219002  FRL-DE-24-07-29-18-01-40-001-GNL2   \n41   AWB231219002GNL3  AWB231219002  FRL-DE-24-07-29-18-01-40-001-GNL3   \n42    AWB231219002GNM  AWB231219002   FRL-DE-24-07-29-18-01-40-001-GNM   \n..                ...           ...                                ...   \n683  ZZS210511744GYL5  ZZS210511744  FRL-DE-24-07-29-18-01-40-038-GYL5   \n684   ZZS210511744GYS  ZZS210511744   FRL-DE-24-07-29-18-01-40-038-GYS   \n685  ZZS210511744KHL4  ZZS210511744  FRL-DE-24-07-29-18-01-40-038-KHL4   \n686  ZZS210511744KHL5  ZZS210511744  FRL-DE-24-07-29-18-01-40-038-KHL5   \n687   ZZS210511744KHS  ZZS210511744   FRL-DE-24-07-29-18-01-40-038-KHS   \n\n                      amazon_psku  \n38   FRL-DE-24-07-29-18-01-40-001  \n39   FRL-DE-24-07-29-18-01-40-001  \n40   FRL-DE-24-07-29-18-01-40-001  \n41   FRL-DE-24-07-29-18-01-40-001  \n42   FRL-DE-24-07-29-18-01-40-001  \n..                            ...  \n683  FRL-DE-24-07-29-18-01-40-038  \n684  FRL-DE-24-07-29-18-01-40-038  \n685  FRL-DE-24-07-29-18-01-40-038  \n686  FRL-DE-24-07-29-18-01-40-038  \n687  FRL-DE-24-07-29-18-01-40-038  \n\n[445 rows x 4 columns]",
      "text/html": "<div>\n<style scoped>\n    .dataframe tbody tr th:only-of-type {\n        vertical-align: middle;\n    }\n\n    .dataframe tbody tr th {\n        vertical-align: top;\n    }\n\n    .dataframe thead th {\n        text-align: right;\n    }\n</style>\n<table border=\"1\" class=\"dataframe\">\n  <thead>\n    <tr style=\"text-align: right;\">\n      <th></th>\n      <th>SKU</th>\n      <th>父SKU</th>\n      <th>amazon_sku</th>\n      <th>amazon_psku</th>\n    </tr>\n  </thead>\n  <tbody>\n    <tr>\n      <th>38</th>\n      <td>AWB231219002</td>\n      <td>AWB231219002</td>\n      <td>FRL-DE-24-07-29-18-01-40-001</td>\n      <td>FRL-DE-24-07-29-18-01-40-001</td>\n    </tr>\n    <tr>\n      <th>39</th>\n      <td>AWB231219002GNL</td>\n      <td>AWB231219002</td>\n      <td>FRL-DE-24-07-29-18-01-40-001-GNL</td>\n      <td>FRL-DE-24-07-29-18-01-40-001</td>\n    </tr>\n    <tr>\n      <th>40</th>\n      <td>AWB231219002GNL2</td>\n      <td>AWB231219002</td>\n      <td>FRL-DE-24-07-29-18-01-40-001-GNL2</td>\n      <td>FRL-DE-24-07-29-18-01-40-001</td>\n    </tr>\n    <tr>\n      <th>41</th>\n      <td>AWB231219002GNL3</td>\n      <td>AWB231219002</td>\n      <td>FRL-DE-24-07-29-18-01-40-001-GNL3</td>\n      <td>FRL-DE-24-07-29-18-01-40-001</td>\n    </tr>\n    <tr>\n      <th>42</th>\n      <td>AWB231219002GNM</td>\n      <td>AWB231219002</td>\n      <td>FRL-DE-24-07-29-18-01-40-001-GNM</td>\n      <td>FRL-DE-24-07-29-18-01-40-001</td>\n    </tr>\n    <tr>\n      <th>...</th>\n      <td>...</td>\n      <td>...</td>\n      <td>...</td>\n      <td>...</td>\n    </tr>\n    <tr>\n      <th>683</th>\n      <td>ZZS210511744GYL5</td>\n      <td>ZZS210511744</td>\n      <td>FRL-DE-24-07-29-18-01-40-038-GYL5</td>\n      <td>FRL-DE-24-07-29-18-01-40-038</td>\n    </tr>\n    <tr>\n      <th>684</th>\n      <td>ZZS210511744GYS</td>\n      <td>ZZS210511744</td>\n      <td>FRL-DE-24-07-29-18-01-40-038-GYS</td>\n      <td>FRL-DE-24-07-29-18-01-40-038</td>\n    </tr>\n    <tr>\n      <th>685</th>\n      <td>ZZS210511744KHL4</td>\n      <td>ZZS210511744</td>\n      <td>FRL-DE-24-07-29-18-01-40-038-KHL4</td>\n      <td>FRL-DE-24-07-29-18-01-40-038</td>\n    </tr>\n    <tr>\n      <th>686</th>\n      <td>ZZS210511744KHL5</td>\n      <td>ZZS210511744</td>\n      <td>FRL-DE-24-07-29-18-01-40-038-KHL5</td>\n      <td>FRL-DE-24-07-29-18-01-40-038</td>\n    </tr>\n    <tr>\n      <th>687</th>\n      <td>ZZS210511744KHS</td>\n      <td>ZZS210511744</td>\n      <td>FRL-DE-24-07-29-18-01-40-038-KHS</td>\n      <td>FRL-DE-24-07-29-18-01-40-038</td>\n    </tr>\n  </tbody>\n</table>\n<p>445 rows × 4 columns</p>\n</div>"
     },
     "execution_count": 11,
     "metadata": {},
     "output_type": "execute_result"
    }
   ],
   "source": [
    "erp_df['父SKU'] = erp_df['父SKU'].fillna(erp_df['SKU']).copy()\n",
    "erp_df['parent_child'] = np.where(erp_df['父SKU'] == erp_df['SKU'], 'Parent', 'Child')\n",
    "\n",
    "inuse_skus = open('./util/skus/inuse_skus.txt', mode='r', encoding='utf-8').readlines()\n",
    "inuse_skus = [i.strip() for i in inuse_skus]\n",
    "archived_skus = open('./util/skus/archived_skus.txt', mode='r', encoding='utf-8').readlines()\n",
    "archived_skus = [i.strip() for i in archived_skus]\n",
    "deleted_skus = open('./util/skus/deleted_skus.txt', mode='r', encoding='utf-8').readlines()\n",
    "deleted_skus = [i.strip() for i in deleted_skus]\n",
    "recalled_skus = open('./util/skus/recalled_skus.txt', mode='r', encoding='utf-8').readlines()\n",
    "recalled_skus = [i.strip() for i in recalled_skus]\n",
    "other_skus = open('./util/skus/other_skus.txt', mode='r', encoding='utf-8').readlines()\n",
    "other_skus = [i.strip() for i in other_skus]\n",
    "\n",
    "erp_df = erp_df[~erp_df['父SKU'].isin(inuse_skus + archived_skus + deleted_skus + recalled_skus + other_skus)]\n",
    "\n",
    "ams = []\n",
    "amps = []\n",
    "\n",
    "for i, (n, g) in enumerate(erp_df.groupby(by=['父SKU'])):\n",
    "    for index, row in g.iterrows():\n",
    "        am_sku = generate_amazon_sku(row['SKU'], 'FRL', 'DE', i + 1)\n",
    "        am_psku = generate_amazon_sku(row['父SKU'], 'FRL', 'DE', i + 1)\n",
    "        ams.append(am_sku)\n",
    "        amps.append(am_psku)\n",
    "\n",
    "erp_df['amazon_sku'] = ams.copy()\n",
    "erp_df['amazon_psku'] = amps.copy()\n",
    "erp_df[['SKU', '父SKU', 'amazon_sku', 'amazon_psku']]"
   ],
   "metadata": {
    "collapsed": false,
    "pycharm": {
     "name": "#%%\n"
    }
   }
  },
  {
   "cell_type": "code",
   "execution_count": 12,
   "outputs": [
    {
     "ename": "ValueError",
     "evalue": "Protocol not known:                   SKU          父SKU  产品缩略图  \\\n678      ZZS210511744  ZZS210511744    NaN   \n679  ZZS210511744AGL4  ZZS210511744    NaN   \n680  ZZS210511744AGL5  ZZS210511744    NaN   \n681   ZZS210511744BKS  ZZS210511744    NaN   \n682  ZZS210511744GYL4  ZZS210511744    NaN   \n683  ZZS210511744GYL5  ZZS210511744    NaN   \n684   ZZS210511744GYS  ZZS210511744    NaN   \n685  ZZS210511744KHL4  ZZS210511744    NaN   \n686  ZZS210511744KHL5  ZZS210511744    NaN   \n687   ZZS210511744KHS  ZZS210511744    NaN   \n\n                                                  产品类型  \\\n678  普通产品 -> Clothing Shoes & Accessories -> 男装 -> ...   \n679  普通产品 -> Clothing Shoes & Accessories -> 男装 -> ...   \n680  普通产品 -> Clothing Shoes & Accessories -> 男装 -> ...   \n681  普通产品 -> Clothing Shoes & Accessories -> 男装 -> ...   \n682  普通产品 -> Clothing Shoes & Accessories -> 男装 -> ...   \n683  普通产品 -> Clothing Shoes & Accessories -> 男装 -> ...   \n684  普通产品 -> Clothing Shoes & Accessories -> 男装 -> ...   \n685  普通产品 -> Clothing Shoes & Accessories -> 男装 -> ...   \n686  普通产品 -> Clothing Shoes & Accessories -> 男装 -> ...   \n687  普通产品 -> Clothing Shoes & Accessories -> 男装 -> ...   \n\n                                                    标题  \\\n678  Casual Straight Summer Pocket Men's Pants Over...   \n679  Casual Straight Summer Multi Pocket Men's Pant...   \n680  Casual Straight Summer Multi Pocket Men's Pant...   \n681  Casual Straight Summer Multi Pocket Men's Pant...   \n682  Casual Straight Summer Multi Pocket Men's Pant...   \n683  Casual Straight Summer Multi Pocket Men's Pant...   \n684  Casual Straight Summer Multi Pocket Men's Pant...   \n685  Casual Straight Summer Multi Pocket Men's Pant...   \n686  Casual Straight Summer Multi Pocket Men's Pant...   \n687  Casual Straight Summer Multi Pocket Men's Pant...   \n\n                               产品名称  \\\n678               男士夏季多口袋直筒休闲裤工装裤长裤   \n679     男士夏季多口袋直筒休闲裤工装裤长裤 军绿色 XXXXL   \n680  男士夏季多口袋直筒休闲裤工装裤长裤   军绿色 XXXXXL   \n681         男士夏季多口袋直筒休闲裤工装裤长裤  黑色 S   \n682     男士夏季多口袋直筒休闲裤工装裤长裤  灰色 XXXXL   \n683    男士夏季多口袋直筒休闲裤工装裤长裤  灰色 XXXXXL   \n684         男士夏季多口袋直筒休闲裤工装裤长裤  灰色 S   \n685    男士夏季多口袋直筒休闲裤工装裤长裤  卡其色 XXXXL   \n686  男士夏季多口袋直筒休闲裤工装裤长裤   卡其色 XXXXXL   \n687        男士夏季多口袋直筒休闲裤工装裤长裤  卡其色 S   \n\n                                                    描述  \\\n678  <h1 align=\"center\"><span style=\"font-size:14pt...   \n679  <h1 align=\"center\"><span style=\"font-size:14pt...   \n680  <h1 align=\"center\"><span style=\"font-size:14pt...   \n681  <h1 align=\"center\"><span style=\"font-size:14pt...   \n682  <h1 align=\"center\"><span style=\"font-size:14pt...   \n683  <h1 align=\"center\"><span style=\"font-size:14pt...   \n684  <h1 align=\"center\"><span style=\"font-size:14pt...   \n685  <h1 align=\"center\"><span style=\"font-size:14pt...   \n686  <h1 align=\"center\"><span style=\"font-size:14pt...   \n687  <h1 align=\"center\"><span style=\"font-size:14pt...   \n\n                              颜色              尺寸     亚马逊尺寸  ...  \\\n678  Black,Gray,Khaki,Army Green  S,XXXXL,XXXXXL       NaN  ...   \n679                   Army Green           XXXXL  4X-Large  ...   \n680                   Army Green          XXXXXL  5X-Large  ...   \n681                        Black               S     Small  ...   \n682                         Grey           XXXXL  4X-Large  ...   \n683                         Grey          XXXXXL  5X-Large  ...   \n684                         Grey               S     Small  ...   \n685                        Khaki           XXXXL  4X-Large  ...   \n686                        Khaki          XXXXXL  5X-Large  ...   \n687                        Khaki               S     Small  ...   \n\n                                              S3图片链接 8 S3图片链接 9缩略图  \\\n678  https",
     "output_type": "error",
     "traceback": [
      "\u001B[1;31m---------------------------------------------------------------------------\u001B[0m",
      "\u001B[1;31mValueError\u001B[0m                                Traceback (most recent call last)",
      "Cell \u001B[1;32mIn[12], line 2\u001B[0m\n\u001B[0;32m      1\u001B[0m fp_title \u001B[38;5;241m=\u001B[39m \u001B[38;5;124mf\u001B[39m\u001B[38;5;124m'\u001B[39m\u001B[38;5;132;01m{\u001B[39;00mg\u001B[38;5;132;01m}\u001B[39;00m\u001B[38;5;124m/\u001B[39m\u001B[38;5;132;01m{\u001B[39;00mg\u001B[38;5;132;01m}\u001B[39;00m\u001B[38;5;124m_title.xlsx\u001B[39m\u001B[38;5;124m'\u001B[39m\n\u001B[1;32m----> 2\u001B[0m title_df: DataFrame \u001B[38;5;241m=\u001B[39m \u001B[43mpd\u001B[49m\u001B[38;5;241;43m.\u001B[39;49m\u001B[43mread_excel\u001B[49m\u001B[43m(\u001B[49m\u001B[43mfp_title\u001B[49m\u001B[43m,\u001B[49m\u001B[43m \u001B[49m\u001B[43msheet_name\u001B[49m\u001B[38;5;241;43m=\u001B[39;49m\u001B[38;5;124;43m'\u001B[39;49m\u001B[38;5;124;43mtitle\u001B[39;49m\u001B[38;5;124;43m'\u001B[39;49m\u001B[43m)\u001B[49m\n\u001B[0;32m      4\u001B[0m \u001B[38;5;28;01mfrom\u001B[39;00m \u001B[38;5;21;01mutil\u001B[39;00m\u001B[38;5;21;01m.\u001B[39;00m\u001B[38;5;21;01mwidgets\u001B[39;00m \u001B[38;5;28;01mimport\u001B[39;00m Status\n\u001B[0;32m      6\u001B[0m title_unused_df \u001B[38;5;241m=\u001B[39m title_df[title_df[\u001B[38;5;124m'\u001B[39m\u001B[38;5;124mstatus\u001B[39m\u001B[38;5;124m'\u001B[39m] \u001B[38;5;241m==\u001B[39m Status\u001B[38;5;241m.\u001B[39mUNUSED\u001B[38;5;241m.\u001B[39mvalue]\n",
      "File \u001B[1;32me:\\aenv\\python-3.8.0(64-bit)\\lib\\site-packages\\pandas\\util\\_decorators.py:296\u001B[0m, in \u001B[0;36mdeprecate_nonkeyword_arguments.<locals>.decorate.<locals>.wrapper\u001B[1;34m(*args, **kwargs)\u001B[0m\n\u001B[0;32m    291\u001B[0m     msg \u001B[38;5;241m=\u001B[39m (\n\u001B[0;32m    292\u001B[0m         \u001B[38;5;124mf\u001B[39m\u001B[38;5;124m\"\u001B[39m\u001B[38;5;124mStarting with Pandas version \u001B[39m\u001B[38;5;132;01m{\u001B[39;00mversion\u001B[38;5;132;01m}\u001B[39;00m\u001B[38;5;124m all arguments of \u001B[39m\u001B[38;5;124m\"\u001B[39m\n\u001B[0;32m    293\u001B[0m         \u001B[38;5;124mf\u001B[39m\u001B[38;5;124m\"\u001B[39m\u001B[38;5;132;01m{\u001B[39;00mfunc\u001B[38;5;241m.\u001B[39m\u001B[38;5;18m__name__\u001B[39m\u001B[38;5;132;01m}\u001B[39;00m\u001B[38;5;132;01m{\u001B[39;00marguments\u001B[38;5;132;01m}\u001B[39;00m\u001B[38;5;124m will be keyword-only\u001B[39m\u001B[38;5;124m\"\u001B[39m\n\u001B[0;32m    294\u001B[0m     )\n\u001B[0;32m    295\u001B[0m     warnings\u001B[38;5;241m.\u001B[39mwarn(msg, \u001B[38;5;167;01mFutureWarning\u001B[39;00m, stacklevel\u001B[38;5;241m=\u001B[39mstacklevel)\n\u001B[1;32m--> 296\u001B[0m \u001B[38;5;28;01mreturn\u001B[39;00m \u001B[43mfunc\u001B[49m\u001B[43m(\u001B[49m\u001B[38;5;241;43m*\u001B[39;49m\u001B[43margs\u001B[49m\u001B[43m,\u001B[49m\u001B[43m \u001B[49m\u001B[38;5;241;43m*\u001B[39;49m\u001B[38;5;241;43m*\u001B[39;49m\u001B[43mkwargs\u001B[49m\u001B[43m)\u001B[49m\n",
      "File \u001B[1;32me:\\aenv\\python-3.8.0(64-bit)\\lib\\site-packages\\pandas\\io\\excel\\_base.py:304\u001B[0m, in \u001B[0;36mread_excel\u001B[1;34m(io, sheet_name, header, names, index_col, usecols, squeeze, dtype, engine, converters, true_values, false_values, skiprows, nrows, na_values, keep_default_na, na_filter, verbose, parse_dates, date_parser, thousands, comment, skipfooter, convert_float, mangle_dupe_cols)\u001B[0m\n\u001B[0;32m    273\u001B[0m \u001B[38;5;129m@deprecate_nonkeyword_arguments\u001B[39m(allowed_args\u001B[38;5;241m=\u001B[39m\u001B[38;5;241m2\u001B[39m, version\u001B[38;5;241m=\u001B[39m\u001B[38;5;124m\"\u001B[39m\u001B[38;5;124m2.0\u001B[39m\u001B[38;5;124m\"\u001B[39m)\n\u001B[0;32m    274\u001B[0m \u001B[38;5;129m@Appender\u001B[39m(_read_excel_doc)\n\u001B[0;32m    275\u001B[0m \u001B[38;5;28;01mdef\u001B[39;00m \u001B[38;5;21mread_excel\u001B[39m(\n\u001B[1;32m   (...)\u001B[0m\n\u001B[0;32m    300\u001B[0m     mangle_dupe_cols\u001B[38;5;241m=\u001B[39m\u001B[38;5;28;01mTrue\u001B[39;00m,\n\u001B[0;32m    301\u001B[0m ):\n\u001B[0;32m    303\u001B[0m     \u001B[38;5;28;01mif\u001B[39;00m \u001B[38;5;129;01mnot\u001B[39;00m \u001B[38;5;28misinstance\u001B[39m(io, ExcelFile):\n\u001B[1;32m--> 304\u001B[0m         io \u001B[38;5;241m=\u001B[39m \u001B[43mExcelFile\u001B[49m\u001B[43m(\u001B[49m\u001B[43mio\u001B[49m\u001B[43m,\u001B[49m\u001B[43m \u001B[49m\u001B[43mengine\u001B[49m\u001B[38;5;241;43m=\u001B[39;49m\u001B[43mengine\u001B[49m\u001B[43m)\u001B[49m\n\u001B[0;32m    305\u001B[0m     \u001B[38;5;28;01melif\u001B[39;00m engine \u001B[38;5;129;01mand\u001B[39;00m engine \u001B[38;5;241m!=\u001B[39m io\u001B[38;5;241m.\u001B[39mengine:\n\u001B[0;32m    306\u001B[0m         \u001B[38;5;28;01mraise\u001B[39;00m \u001B[38;5;167;01mValueError\u001B[39;00m(\n\u001B[0;32m    307\u001B[0m             \u001B[38;5;124m\"\u001B[39m\u001B[38;5;124mEngine should not be specified when passing \u001B[39m\u001B[38;5;124m\"\u001B[39m\n\u001B[0;32m    308\u001B[0m             \u001B[38;5;124m\"\u001B[39m\u001B[38;5;124man ExcelFile - ExcelFile already has the engine set\u001B[39m\u001B[38;5;124m\"\u001B[39m\n\u001B[0;32m    309\u001B[0m         )\n",
      "File \u001B[1;32me:\\aenv\\python-3.8.0(64-bit)\\lib\\site-packages\\pandas\\io\\excel\\_base.py:867\u001B[0m, in \u001B[0;36mExcelFile.__init__\u001B[1;34m(self, path_or_buffer, engine)\u001B[0m\n\u001B[0;32m    864\u001B[0m \u001B[38;5;66;03m# Always a string\u001B[39;00m\n\u001B[0;32m    865\u001B[0m \u001B[38;5;28mself\u001B[39m\u001B[38;5;241m.\u001B[39m_io \u001B[38;5;241m=\u001B[39m stringify_path(path_or_buffer)\n\u001B[1;32m--> 867\u001B[0m \u001B[38;5;28mself\u001B[39m\u001B[38;5;241m.\u001B[39m_reader \u001B[38;5;241m=\u001B[39m \u001B[38;5;28;43mself\u001B[39;49m\u001B[38;5;241;43m.\u001B[39;49m\u001B[43m_engines\u001B[49m\u001B[43m[\u001B[49m\u001B[43mengine\u001B[49m\u001B[43m]\u001B[49m\u001B[43m(\u001B[49m\u001B[38;5;28;43mself\u001B[39;49m\u001B[38;5;241;43m.\u001B[39;49m\u001B[43m_io\u001B[49m\u001B[43m)\u001B[49m\n",
      "File \u001B[1;32me:\\aenv\\python-3.8.0(64-bit)\\lib\\site-packages\\pandas\\io\\excel\\_xlrd.py:22\u001B[0m, in \u001B[0;36m_XlrdReader.__init__\u001B[1;34m(self, filepath_or_buffer)\u001B[0m\n\u001B[0;32m     20\u001B[0m err_msg \u001B[38;5;241m=\u001B[39m \u001B[38;5;124m\"\u001B[39m\u001B[38;5;124mInstall xlrd >= 1.0.0 for Excel support\u001B[39m\u001B[38;5;124m\"\u001B[39m\n\u001B[0;32m     21\u001B[0m import_optional_dependency(\u001B[38;5;124m\"\u001B[39m\u001B[38;5;124mxlrd\u001B[39m\u001B[38;5;124m\"\u001B[39m, extra\u001B[38;5;241m=\u001B[39merr_msg)\n\u001B[1;32m---> 22\u001B[0m \u001B[38;5;28;43msuper\u001B[39;49m\u001B[43m(\u001B[49m\u001B[43m)\u001B[49m\u001B[38;5;241;43m.\u001B[39;49m\u001B[38;5;21;43m__init__\u001B[39;49m\u001B[43m(\u001B[49m\u001B[43mfilepath_or_buffer\u001B[49m\u001B[43m)\u001B[49m\n",
      "File \u001B[1;32me:\\aenv\\python-3.8.0(64-bit)\\lib\\site-packages\\pandas\\io\\excel\\_base.py:344\u001B[0m, in \u001B[0;36m_BaseExcelReader.__init__\u001B[1;34m(self, filepath_or_buffer)\u001B[0m\n\u001B[0;32m    342\u001B[0m     filepath_or_buffer \u001B[38;5;241m=\u001B[39m BytesIO(urlopen(filepath_or_buffer)\u001B[38;5;241m.\u001B[39mread())\n\u001B[0;32m    343\u001B[0m \u001B[38;5;28;01melif\u001B[39;00m \u001B[38;5;129;01mnot\u001B[39;00m \u001B[38;5;28misinstance\u001B[39m(filepath_or_buffer, (ExcelFile, \u001B[38;5;28mself\u001B[39m\u001B[38;5;241m.\u001B[39m_workbook_class)):\n\u001B[1;32m--> 344\u001B[0m     filepath_or_buffer, _, _, _ \u001B[38;5;241m=\u001B[39m \u001B[43mget_filepath_or_buffer\u001B[49m\u001B[43m(\u001B[49m\u001B[43mfilepath_or_buffer\u001B[49m\u001B[43m)\u001B[49m\n\u001B[0;32m    346\u001B[0m \u001B[38;5;28;01mif\u001B[39;00m \u001B[38;5;28misinstance\u001B[39m(filepath_or_buffer, \u001B[38;5;28mself\u001B[39m\u001B[38;5;241m.\u001B[39m_workbook_class):\n\u001B[0;32m    347\u001B[0m     \u001B[38;5;28mself\u001B[39m\u001B[38;5;241m.\u001B[39mbook \u001B[38;5;241m=\u001B[39m filepath_or_buffer\n",
      "File \u001B[1;32me:\\aenv\\python-3.8.0(64-bit)\\lib\\site-packages\\pandas\\io\\common.py:221\u001B[0m, in \u001B[0;36mget_filepath_or_buffer\u001B[1;34m(filepath_or_buffer, encoding, compression, mode, storage_options)\u001B[0m\n\u001B[0;32m    218\u001B[0m     \u001B[38;5;28;01mpass\u001B[39;00m\n\u001B[0;32m    220\u001B[0m \u001B[38;5;28;01mtry\u001B[39;00m:\n\u001B[1;32m--> 221\u001B[0m     file_obj \u001B[38;5;241m=\u001B[39m \u001B[43mfsspec\u001B[49m\u001B[38;5;241;43m.\u001B[39;49m\u001B[43mopen\u001B[49m\u001B[43m(\u001B[49m\n\u001B[0;32m    222\u001B[0m \u001B[43m        \u001B[49m\u001B[43mfilepath_or_buffer\u001B[49m\u001B[43m,\u001B[49m\u001B[43m \u001B[49m\u001B[43mmode\u001B[49m\u001B[38;5;241;43m=\u001B[39;49m\u001B[43mmode\u001B[49m\u001B[43m \u001B[49m\u001B[38;5;129;43;01mor\u001B[39;49;00m\u001B[43m \u001B[49m\u001B[38;5;124;43m\"\u001B[39;49m\u001B[38;5;124;43mrb\u001B[39;49m\u001B[38;5;124;43m\"\u001B[39;49m\u001B[43m,\u001B[49m\u001B[43m \u001B[49m\u001B[38;5;241;43m*\u001B[39;49m\u001B[38;5;241;43m*\u001B[39;49m\u001B[43m(\u001B[49m\u001B[43mstorage_options\u001B[49m\u001B[43m \u001B[49m\u001B[38;5;129;43;01mor\u001B[39;49;00m\u001B[43m \u001B[49m\u001B[43m{\u001B[49m\u001B[43m}\u001B[49m\u001B[43m)\u001B[49m\n\u001B[0;32m    223\u001B[0m \u001B[43m    \u001B[49m\u001B[43m)\u001B[49m\u001B[38;5;241m.\u001B[39mopen()\n\u001B[0;32m    224\u001B[0m \u001B[38;5;66;03m# GH 34626 Reads from Public Buckets without Credentials needs anon=True\u001B[39;00m\n\u001B[0;32m    225\u001B[0m \u001B[38;5;28;01mexcept\u001B[39;00m \u001B[38;5;28mtuple\u001B[39m(err_types_to_retry_with_anon):\n",
      "File \u001B[1;32me:\\aenv\\python-3.8.0(64-bit)\\lib\\site-packages\\fsspec\\core.py:484\u001B[0m, in \u001B[0;36mopen\u001B[1;34m(urlpath, mode, compression, encoding, errors, protocol, newline, expand, **kwargs)\u001B[0m\n\u001B[0;32m    426\u001B[0m \u001B[38;5;250m\u001B[39m\u001B[38;5;124;03m\"\"\"Given a path or paths, return one ``OpenFile`` object.\u001B[39;00m\n\u001B[0;32m    427\u001B[0m \n\u001B[0;32m    428\u001B[0m \u001B[38;5;124;03mParameters\u001B[39;00m\n\u001B[1;32m   (...)\u001B[0m\n\u001B[0;32m    481\u001B[0m \u001B[38;5;124;03m  https://filesystem-spec.readthedocs.io/en/latest/api.html#other-known-implementations\u001B[39;00m\n\u001B[0;32m    482\u001B[0m \u001B[38;5;124;03m\"\"\"\u001B[39;00m\n\u001B[0;32m    483\u001B[0m expand \u001B[38;5;241m=\u001B[39m DEFAULT_EXPAND \u001B[38;5;28;01mif\u001B[39;00m expand \u001B[38;5;129;01mis\u001B[39;00m \u001B[38;5;28;01mNone\u001B[39;00m \u001B[38;5;28;01melse\u001B[39;00m expand\n\u001B[1;32m--> 484\u001B[0m out \u001B[38;5;241m=\u001B[39m \u001B[43mopen_files\u001B[49m\u001B[43m(\u001B[49m\n\u001B[0;32m    485\u001B[0m \u001B[43m    \u001B[49m\u001B[43murlpath\u001B[49m\u001B[38;5;241;43m=\u001B[39;49m\u001B[43m[\u001B[49m\u001B[43murlpath\u001B[49m\u001B[43m]\u001B[49m\u001B[43m,\u001B[49m\n\u001B[0;32m    486\u001B[0m \u001B[43m    \u001B[49m\u001B[43mmode\u001B[49m\u001B[38;5;241;43m=\u001B[39;49m\u001B[43mmode\u001B[49m\u001B[43m,\u001B[49m\n\u001B[0;32m    487\u001B[0m \u001B[43m    \u001B[49m\u001B[43mcompression\u001B[49m\u001B[38;5;241;43m=\u001B[39;49m\u001B[43mcompression\u001B[49m\u001B[43m,\u001B[49m\n\u001B[0;32m    488\u001B[0m \u001B[43m    \u001B[49m\u001B[43mencoding\u001B[49m\u001B[38;5;241;43m=\u001B[39;49m\u001B[43mencoding\u001B[49m\u001B[43m,\u001B[49m\n\u001B[0;32m    489\u001B[0m \u001B[43m    \u001B[49m\u001B[43merrors\u001B[49m\u001B[38;5;241;43m=\u001B[39;49m\u001B[43merrors\u001B[49m\u001B[43m,\u001B[49m\n\u001B[0;32m    490\u001B[0m \u001B[43m    \u001B[49m\u001B[43mprotocol\u001B[49m\u001B[38;5;241;43m=\u001B[39;49m\u001B[43mprotocol\u001B[49m\u001B[43m,\u001B[49m\n\u001B[0;32m    491\u001B[0m \u001B[43m    \u001B[49m\u001B[43mnewline\u001B[49m\u001B[38;5;241;43m=\u001B[39;49m\u001B[43mnewline\u001B[49m\u001B[43m,\u001B[49m\n\u001B[0;32m    492\u001B[0m \u001B[43m    \u001B[49m\u001B[43mexpand\u001B[49m\u001B[38;5;241;43m=\u001B[39;49m\u001B[43mexpand\u001B[49m\u001B[43m,\u001B[49m\n\u001B[0;32m    493\u001B[0m \u001B[43m    \u001B[49m\u001B[38;5;241;43m*\u001B[39;49m\u001B[38;5;241;43m*\u001B[39;49m\u001B[43mkwargs\u001B[49m\u001B[43m,\u001B[49m\n\u001B[0;32m    494\u001B[0m \u001B[43m\u001B[49m\u001B[43m)\u001B[49m\n\u001B[0;32m    495\u001B[0m \u001B[38;5;28;01mif\u001B[39;00m \u001B[38;5;129;01mnot\u001B[39;00m out:\n\u001B[0;32m    496\u001B[0m     \u001B[38;5;28;01mraise\u001B[39;00m \u001B[38;5;167;01mFileNotFoundError\u001B[39;00m(urlpath)\n",
      "File \u001B[1;32me:\\aenv\\python-3.8.0(64-bit)\\lib\\site-packages\\fsspec\\core.py:295\u001B[0m, in \u001B[0;36mopen_files\u001B[1;34m(urlpath, mode, compression, encoding, errors, name_function, num, protocol, newline, auto_mkdir, expand, **kwargs)\u001B[0m\n\u001B[0;32m    216\u001B[0m \u001B[38;5;28;01mdef\u001B[39;00m \u001B[38;5;21mopen_files\u001B[39m(\n\u001B[0;32m    217\u001B[0m     urlpath,\n\u001B[0;32m    218\u001B[0m     mode\u001B[38;5;241m=\u001B[39m\u001B[38;5;124m\"\u001B[39m\u001B[38;5;124mrb\u001B[39m\u001B[38;5;124m\"\u001B[39m,\n\u001B[1;32m   (...)\u001B[0m\n\u001B[0;32m    228\u001B[0m     \u001B[38;5;241m*\u001B[39m\u001B[38;5;241m*\u001B[39mkwargs,\n\u001B[0;32m    229\u001B[0m ):\n\u001B[0;32m    230\u001B[0m \u001B[38;5;250m    \u001B[39m\u001B[38;5;124;03m\"\"\"Given a path or paths, return a list of ``OpenFile`` objects.\u001B[39;00m\n\u001B[0;32m    231\u001B[0m \n\u001B[0;32m    232\u001B[0m \u001B[38;5;124;03m    For writing, a str path must contain the \"*\" character, which will be filled\u001B[39;00m\n\u001B[1;32m   (...)\u001B[0m\n\u001B[0;32m    293\u001B[0m \u001B[38;5;124;03m      https://filesystem-spec.readthedocs.io/en/latest/api.html#other-known-implementations\u001B[39;00m\n\u001B[0;32m    294\u001B[0m \u001B[38;5;124;03m    \"\"\"\u001B[39;00m\n\u001B[1;32m--> 295\u001B[0m     fs, fs_token, paths \u001B[38;5;241m=\u001B[39m \u001B[43mget_fs_token_paths\u001B[49m\u001B[43m(\u001B[49m\n\u001B[0;32m    296\u001B[0m \u001B[43m        \u001B[49m\u001B[43murlpath\u001B[49m\u001B[43m,\u001B[49m\n\u001B[0;32m    297\u001B[0m \u001B[43m        \u001B[49m\u001B[43mmode\u001B[49m\u001B[43m,\u001B[49m\n\u001B[0;32m    298\u001B[0m \u001B[43m        \u001B[49m\u001B[43mnum\u001B[49m\u001B[38;5;241;43m=\u001B[39;49m\u001B[43mnum\u001B[49m\u001B[43m,\u001B[49m\n\u001B[0;32m    299\u001B[0m \u001B[43m        \u001B[49m\u001B[43mname_function\u001B[49m\u001B[38;5;241;43m=\u001B[39;49m\u001B[43mname_function\u001B[49m\u001B[43m,\u001B[49m\n\u001B[0;32m    300\u001B[0m \u001B[43m        \u001B[49m\u001B[43mstorage_options\u001B[49m\u001B[38;5;241;43m=\u001B[39;49m\u001B[43mkwargs\u001B[49m\u001B[43m,\u001B[49m\n\u001B[0;32m    301\u001B[0m \u001B[43m        \u001B[49m\u001B[43mprotocol\u001B[49m\u001B[38;5;241;43m=\u001B[39;49m\u001B[43mprotocol\u001B[49m\u001B[43m,\u001B[49m\n\u001B[0;32m    302\u001B[0m \u001B[43m        \u001B[49m\u001B[43mexpand\u001B[49m\u001B[38;5;241;43m=\u001B[39;49m\u001B[43mexpand\u001B[49m\u001B[43m,\u001B[49m\n\u001B[0;32m    303\u001B[0m \u001B[43m    \u001B[49m\u001B[43m)\u001B[49m\n\u001B[0;32m    304\u001B[0m     \u001B[38;5;28;01mif\u001B[39;00m fs\u001B[38;5;241m.\u001B[39mprotocol \u001B[38;5;241m==\u001B[39m \u001B[38;5;124m\"\u001B[39m\u001B[38;5;124mfile\u001B[39m\u001B[38;5;124m\"\u001B[39m:\n\u001B[0;32m    305\u001B[0m         fs\u001B[38;5;241m.\u001B[39mauto_mkdir \u001B[38;5;241m=\u001B[39m auto_mkdir\n",
      "File \u001B[1;32me:\\aenv\\python-3.8.0(64-bit)\\lib\\site-packages\\fsspec\\core.py:648\u001B[0m, in \u001B[0;36mget_fs_token_paths\u001B[1;34m(urlpath, mode, num, name_function, storage_options, protocol, expand)\u001B[0m\n\u001B[0;32m    646\u001B[0m \u001B[38;5;28;01mif\u001B[39;00m protocol:\n\u001B[0;32m    647\u001B[0m     storage_options[\u001B[38;5;124m\"\u001B[39m\u001B[38;5;124mprotocol\u001B[39m\u001B[38;5;124m\"\u001B[39m] \u001B[38;5;241m=\u001B[39m protocol\n\u001B[1;32m--> 648\u001B[0m chain \u001B[38;5;241m=\u001B[39m \u001B[43m_un_chain\u001B[49m\u001B[43m(\u001B[49m\u001B[43murlpath0\u001B[49m\u001B[43m,\u001B[49m\u001B[43m \u001B[49m\u001B[43mstorage_options\u001B[49m\u001B[43m \u001B[49m\u001B[38;5;129;43;01mor\u001B[39;49;00m\u001B[43m \u001B[49m\u001B[43m{\u001B[49m\u001B[43m}\u001B[49m\u001B[43m)\u001B[49m\n\u001B[0;32m    649\u001B[0m inkwargs \u001B[38;5;241m=\u001B[39m {}\n\u001B[0;32m    650\u001B[0m \u001B[38;5;66;03m# Reverse iterate the chain, creating a nested target_* structure\u001B[39;00m\n",
      "File \u001B[1;32me:\\aenv\\python-3.8.0(64-bit)\\lib\\site-packages\\fsspec\\core.py:344\u001B[0m, in \u001B[0;36m_un_chain\u001B[1;34m(path, kwargs)\u001B[0m\n\u001B[0;32m    342\u001B[0m \u001B[38;5;28;01mfor\u001B[39;00m bit \u001B[38;5;129;01min\u001B[39;00m \u001B[38;5;28mreversed\u001B[39m(bits):\n\u001B[0;32m    343\u001B[0m     protocol \u001B[38;5;241m=\u001B[39m kwargs\u001B[38;5;241m.\u001B[39mpop(\u001B[38;5;124m\"\u001B[39m\u001B[38;5;124mprotocol\u001B[39m\u001B[38;5;124m\"\u001B[39m, \u001B[38;5;28;01mNone\u001B[39;00m) \u001B[38;5;129;01mor\u001B[39;00m split_protocol(bit)[\u001B[38;5;241m0\u001B[39m] \u001B[38;5;129;01mor\u001B[39;00m \u001B[38;5;124m\"\u001B[39m\u001B[38;5;124mfile\u001B[39m\u001B[38;5;124m\"\u001B[39m\n\u001B[1;32m--> 344\u001B[0m     \u001B[38;5;28mcls\u001B[39m \u001B[38;5;241m=\u001B[39m \u001B[43mget_filesystem_class\u001B[49m\u001B[43m(\u001B[49m\u001B[43mprotocol\u001B[49m\u001B[43m)\u001B[49m\n\u001B[0;32m    345\u001B[0m     extra_kwargs \u001B[38;5;241m=\u001B[39m \u001B[38;5;28mcls\u001B[39m\u001B[38;5;241m.\u001B[39m_get_kwargs_from_urls(bit)\n\u001B[0;32m    346\u001B[0m     kws \u001B[38;5;241m=\u001B[39m kwargs\u001B[38;5;241m.\u001B[39mpop(protocol, {})\n",
      "File \u001B[1;32me:\\aenv\\python-3.8.0(64-bit)\\lib\\site-packages\\fsspec\\registry.py:239\u001B[0m, in \u001B[0;36mget_filesystem_class\u001B[1;34m(protocol)\u001B[0m\n\u001B[0;32m    237\u001B[0m \u001B[38;5;28;01mif\u001B[39;00m protocol \u001B[38;5;129;01mnot\u001B[39;00m \u001B[38;5;129;01min\u001B[39;00m registry:\n\u001B[0;32m    238\u001B[0m     \u001B[38;5;28;01mif\u001B[39;00m protocol \u001B[38;5;129;01mnot\u001B[39;00m \u001B[38;5;129;01min\u001B[39;00m known_implementations:\n\u001B[1;32m--> 239\u001B[0m         \u001B[38;5;28;01mraise\u001B[39;00m \u001B[38;5;167;01mValueError\u001B[39;00m(\u001B[38;5;124mf\u001B[39m\u001B[38;5;124m\"\u001B[39m\u001B[38;5;124mProtocol not known: \u001B[39m\u001B[38;5;132;01m{\u001B[39;00mprotocol\u001B[38;5;132;01m}\u001B[39;00m\u001B[38;5;124m\"\u001B[39m)\n\u001B[0;32m    240\u001B[0m     bit \u001B[38;5;241m=\u001B[39m known_implementations[protocol]\n\u001B[0;32m    241\u001B[0m     \u001B[38;5;28;01mtry\u001B[39;00m:\n",
      "\u001B[1;31mValueError\u001B[0m: Protocol not known:                   SKU          父SKU  产品缩略图  \\\n678      ZZS210511744  ZZS210511744    NaN   \n679  ZZS210511744AGL4  ZZS210511744    NaN   \n680  ZZS210511744AGL5  ZZS210511744    NaN   \n681   ZZS210511744BKS  ZZS210511744    NaN   \n682  ZZS210511744GYL4  ZZS210511744    NaN   \n683  ZZS210511744GYL5  ZZS210511744    NaN   \n684   ZZS210511744GYS  ZZS210511744    NaN   \n685  ZZS210511744KHL4  ZZS210511744    NaN   \n686  ZZS210511744KHL5  ZZS210511744    NaN   \n687   ZZS210511744KHS  ZZS210511744    NaN   \n\n                                                  产品类型  \\\n678  普通产品 -> Clothing Shoes & Accessories -> 男装 -> ...   \n679  普通产品 -> Clothing Shoes & Accessories -> 男装 -> ...   \n680  普通产品 -> Clothing Shoes & Accessories -> 男装 -> ...   \n681  普通产品 -> Clothing Shoes & Accessories -> 男装 -> ...   \n682  普通产品 -> Clothing Shoes & Accessories -> 男装 -> ...   \n683  普通产品 -> Clothing Shoes & Accessories -> 男装 -> ...   \n684  普通产品 -> Clothing Shoes & Accessories -> 男装 -> ...   \n685  普通产品 -> Clothing Shoes & Accessories -> 男装 -> ...   \n686  普通产品 -> Clothing Shoes & Accessories -> 男装 -> ...   \n687  普通产品 -> Clothing Shoes & Accessories -> 男装 -> ...   \n\n                                                    标题  \\\n678  Casual Straight Summer Pocket Men's Pants Over...   \n679  Casual Straight Summer Multi Pocket Men's Pant...   \n680  Casual Straight Summer Multi Pocket Men's Pant...   \n681  Casual Straight Summer Multi Pocket Men's Pant...   \n682  Casual Straight Summer Multi Pocket Men's Pant...   \n683  Casual Straight Summer Multi Pocket Men's Pant...   \n684  Casual Straight Summer Multi Pocket Men's Pant...   \n685  Casual Straight Summer Multi Pocket Men's Pant...   \n686  Casual Straight Summer Multi Pocket Men's Pant...   \n687  Casual Straight Summer Multi Pocket Men's Pant...   \n\n                               产品名称  \\\n678               男士夏季多口袋直筒休闲裤工装裤长裤   \n679     男士夏季多口袋直筒休闲裤工装裤长裤 军绿色 XXXXL   \n680  男士夏季多口袋直筒休闲裤工装裤长裤   军绿色 XXXXXL   \n681         男士夏季多口袋直筒休闲裤工装裤长裤  黑色 S   \n682     男士夏季多口袋直筒休闲裤工装裤长裤  灰色 XXXXL   \n683    男士夏季多口袋直筒休闲裤工装裤长裤  灰色 XXXXXL   \n684         男士夏季多口袋直筒休闲裤工装裤长裤  灰色 S   \n685    男士夏季多口袋直筒休闲裤工装裤长裤  卡其色 XXXXL   \n686  男士夏季多口袋直筒休闲裤工装裤长裤   卡其色 XXXXXL   \n687        男士夏季多口袋直筒休闲裤工装裤长裤  卡其色 S   \n\n                                                    描述  \\\n678  <h1 align=\"center\"><span style=\"font-size:14pt...   \n679  <h1 align=\"center\"><span style=\"font-size:14pt...   \n680  <h1 align=\"center\"><span style=\"font-size:14pt...   \n681  <h1 align=\"center\"><span style=\"font-size:14pt...   \n682  <h1 align=\"center\"><span style=\"font-size:14pt...   \n683  <h1 align=\"center\"><span style=\"font-size:14pt...   \n684  <h1 align=\"center\"><span style=\"font-size:14pt...   \n685  <h1 align=\"center\"><span style=\"font-size:14pt...   \n686  <h1 align=\"center\"><span style=\"font-size:14pt...   \n687  <h1 align=\"center\"><span style=\"font-size:14pt...   \n\n                              颜色              尺寸     亚马逊尺寸  ...  \\\n678  Black,Gray,Khaki,Army Green  S,XXXXL,XXXXXL       NaN  ...   \n679                   Army Green           XXXXL  4X-Large  ...   \n680                   Army Green          XXXXXL  5X-Large  ...   \n681                        Black               S     Small  ...   \n682                         Grey           XXXXL  4X-Large  ...   \n683                         Grey          XXXXXL  5X-Large  ...   \n684                         Grey               S     Small  ...   \n685                        Khaki           XXXXL  4X-Large  ...   \n686                        Khaki          XXXXXL  5X-Large  ...   \n687                        Khaki               S     Small  ...   \n\n                                              S3图片链接 8 S3图片链接 9缩略图  \\\n678  https"
     ]
    }
   ],
   "source": [
    "fp_title = f'{g}/{g}_title.xlsx'\n",
    "title_df: DataFrame = pd.read_excel(fp_title, sheet_name='title')\n",
    "\n",
    "from util.widgets import Status\n",
    "\n",
    "title_unused_df = title_df[title_df['status'] == Status.UNUSED.value]\n",
    "\n",
    "# 创建一个字典来跟踪每个 parent_sku 分配的 title\n",
    "title_allocation = {}\n",
    "\n",
    "# 遍历 title_df，按顺序为每个 parent_sku 分配 title\n",
    "for i, row in title_unused_df.iterrows():\n",
    "    title = row['title']\n",
    "    # 如果所有的 parent_sku 都已分配 title，则跳出循环\n",
    "    if set(title_allocation.keys()) == set(erp_df['父SKU'].unique()):\n",
    "        break\n",
    "\n",
    "    # 找到第一个尚未分配 title 的 parent_sku\n",
    "    for parent_sku in erp_df['父SKU'].unique():\n",
    "        if parent_sku not in title_allocation:\n",
    "            title_allocation[parent_sku] = title\n",
    "            break\n",
    "\n",
    "# 更新 title_df 中被分配的 title 的状态\n",
    "title_unused_df.loc[title_unused_df['title'].isin(title_allocation.values()), 'status'] = Status.IN_USE.value\n",
    "\n",
    "# 将分配的 title 添加到 erp_df 中\n",
    "erp_df['title'] = erp_df['父SKU'].map(title_allocation)\n",
    "index = title_unused_df[title_unused_df['status'] == Status.IN_USE.value].index\n",
    "title_df.iloc[index, title_df.columns.get_loc('status')] = Status.IN_USE.value\n",
    "title_df.iloc[index, title_df.columns.get_loc('ymd_HMS')] = ymd_HMS"
   ],
   "metadata": {
    "collapsed": false,
    "pycharm": {
     "name": "#%%\n"
    }
   }
  },
  {
   "cell_type": "code",
   "execution_count": null,
   "outputs": [],
   "source": [
    "fp_st250 = f'{g}/{g}_st250.xlsx'\n",
    "st250_df: DataFrame = pd.read_excel(fp_st250, sheet_name='st250')\n",
    "\n",
    "from util.widgets import Status\n",
    "\n",
    "st250_unused_df = st250_df[st250_df['status'] == Status.UNUSED.value]\n",
    "\n",
    "# 创建一个字典来跟踪每个 parent_sku 分配的 st250\n",
    "st250_allocation = {}\n",
    "\n",
    "# 遍历 st250_df，按顺序为每个 parent_sku 分配 st250\n",
    "for i, row in st250_unused_df.iterrows():\n",
    "    value = row['value']\n",
    "    # 如果所有的 parent_sku 都已分配 title，则跳出循环\n",
    "    if set(st250_allocation.keys()) == set(erp_df['父SKU'].unique()):\n",
    "        break\n",
    "\n",
    "    # 找到第一个尚未分配 title 的 parent_sku\n",
    "    for parent_sku in erp_df['父SKU'].unique():\n",
    "        if parent_sku not in st250_allocation:\n",
    "            st250_allocation[parent_sku] = value\n",
    "            break\n",
    "\n",
    "# 更新 st250_df 中被分配的 title 的状态\n",
    "st250_unused_df.loc[st250_unused_df['value'].isin(st250_allocation.values()), 'status'] = Status.IN_USE.value\n",
    "\n",
    "# 将分配的 title 添加到 erp_df 中\n",
    "erp_df['st250'] = erp_df['父SKU'].map(st250_allocation)\n",
    "index = st250_unused_df[st250_unused_df['status'] == Status.IN_USE.value].index\n",
    "st250_df.iloc[index, st250_df.columns.get_loc('status')] = Status.IN_USE.value\n",
    "st250_df.iloc[index, st250_df.columns.get_loc('ymd_HMS')] = ymd_HMS"
   ],
   "metadata": {
    "collapsed": false,
    "pycharm": {
     "name": "#%%\n"
    }
   }
  },
  {
   "cell_type": "code",
   "execution_count": null,
   "outputs": [],
   "source": [
    "\"\"\"\n",
    "面料/材质：\n",
    "特征/设计：\n",
    "搭配：\n",
    "适用场合：\n",
    "客户服务：\n",
    "\n",
    "【轻质材料】优质涤纶。轻盈、柔软亲肤，舒适、透气、轻便，即使在夏季也能舒适慢跑。\n",
    "【实用设计】运动修身健身运动裤，具有良好的弹性、透气性、重量轻、无摩擦和刺激，腿部贴合，展现肌肉张力并提供最大的运动自由度。\n",
    "【易于搭配】我们的男士工装裤可以与夹克、毛衣等搭配，冬天保暖又时尚。这款裤子也可以搭配T恤和衬衫。一年四季必备的裤子。\n",
    "【更多用途】适合休闲、运动、旅行、户外、家居、其他非正式活动或商务场合等，也可以在日常生活和工作中穿着。这款裤子也是送给朋友、儿子、丈夫或自己的完美礼物。\n",
    "【注意】订购前，请参考产品说明中我们的详细尺码表（不是亚马逊尺码表）。由于手工测量，请允许1-2厘米的误差。我们尽力向您展示正确的颜色，但请接受由于显示器和灯光不同而出现的一些轻微色差。\n",
    "\n",
    "描述：需要转成html格式\n",
    "【特征】\n",
    "材质：聚酯纤维\n",
    "包装内容：1 条工装裤\n",
    "风格: 休闲\n",
    "性别：男\n",
    "合身：宽松\n",
    "长度：长裤\n",
    "季节: 春季，夏季，秋季，冬季\n",
    "【尺寸信息】\n",
    "erp_df['尺码表']\n",
    "【客户服务】\n",
    "我们致力于为客户提供舒适的购物体验。如果您有任何疑问，请写信给我们，您将得到完美的解决方案。\n",
    "\"\"\"\n",
    "\n",
    "bullet_point1 = '【Leichtes Material】Hochwertiges Polyester. Leicht, weich und hautfreundlich, komfortabel, atmungsaktiv und leicht, ideal auch für das Joggen im Sommer.'\n",
    "bullet_point2 = '【Praktisches Design】Sportliche, figurbetonte Trainingshose mit guter Elastizität, Atmungsaktivität, leichtem Gewicht, ohne Reibung und Irritationen. Sie passt sich eng an die Beine an, zeigt die Muskelspannung und bietet maximale Bewegungsfreiheit.'\n",
    "bullet_point3 = '【Einfach zu kombinieren】Unsere Herren Cargohose kann mit Jacken, Pullovern usw. kombiniert werden, um im Winter warm und modisch zu bleiben. Diese Hose kann auch mit T-Shirts und Hemden getragen werden. Eine Hose, die das ganze Jahr über ein Muss ist.'\n",
    "bullet_point4 = '【Vielfältige Verwendungsmöglichkeiten】Geeignet für Freizeit, Sport, Reisen, Outdoor, Zuhause, andere informelle Anlässe oder Geschäftstreffen. Diese Hose ist auch ein perfektes Geschenk für Freunde, Söhne, Ehemänner oder sich selbst.'\n",
    "bullet_point5 = '【Hinweis】Bitte beachten Sie vor der Bestellung unsere detaillierte Größentabelle in der Produktbeschreibung (nicht die Amazon-Größentabelle). Aufgrund manueller Messungen erlauben Sie bitte einen Fehler von 1-2 cm. Wir bemühen uns, Ihnen die richtigen Farben zu zeigen, aber akzeptieren Sie bitte leichte Farbabweichungen aufgrund unterschiedlicher Monitore und Beleuchtung.'\n",
    "\n",
    "\n",
    "def generate_pd(t: str):\n",
    "    \"\"\"\n",
    "    Größe: S Taille: 78-84cm/30.71-33.07'' Hüfte: 100cm/39.37'' Länge: 66cm/25.98''\n",
    "    :param t:\n",
    "    :return:\n",
    "    \"\"\"\n",
    "    de_map = {\n",
    "        'Size': 'Größe',\n",
    "        'Waist': 'Taille',\n",
    "        'Hip': 'Hüfte',\n",
    "        'Length': 'Länge',\n",
    "    }\n",
    "    for k, v in de_map.items():\n",
    "        t = t.replace(k, v)\n",
    "    cs = t.split('\\n')\n",
    "    pd = f\"\"\"<p><b>Merkmale</b><br></p>\n",
    "<p>Material: Polyester</p>\n",
    "<p>Verpackungsinhalt: 1 Cargo-Hose</p>\n",
    "<p>Stil: Freizeit</p>\n",
    "<p>Geschlecht: Herren</p>\n",
    "<p>Passform: Locker</p>\n",
    "<p>Länge: Lange Hose</p>\n",
    "<p>Saison: Frühling, Sommer, Herbst, Winter</p>\n",
    "<p><b>Größeninformationen</b></p>\n",
    "{''.join([f'<p>{c.strip()}</p>' for c in cs])}\n",
    "<p><b>Kundendienst</b></p>\n",
    "<p>Wir sind bestrebt, unseren Kunden ein komfortables Einkaufserlebnis zu bieten. Wenn Sie Fragen haben, schreiben Sie uns bitte, und Sie erhalten eine perfekte Lösung.</p>\"\"\"\n",
    "    return pd.replace('\\n', '')\n",
    "\n",
    "\n",
    "erp_df['product_description'] = erp_df['尺码表'].apply(lambda i: generate_pd(i))\n",
    "erp_df"
   ],
   "metadata": {
    "collapsed": false,
    "pycharm": {
     "name": "#%%\n"
    }
   }
  }
 ],
 "metadata": {
  "kernelspec": {
   "display_name": "Python 3",
   "language": "python",
   "name": "python3"
  },
  "language_info": {
   "codemirror_mode": {
    "name": "ipython",
    "version": 2
   },
   "file_extension": ".py",
   "mimetype": "text/x-python",
   "name": "python",
   "nbconvert_exporter": "python",
   "pygments_lexer": "ipython2",
   "version": "2.7.6"
  }
 },
 "nbformat": 4,
 "nbformat_minor": 0
}