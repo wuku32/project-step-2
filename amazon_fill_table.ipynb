{
 "cells": [
  {
   "cell_type": "code",
   "execution_count": 1,
   "outputs": [],
   "source": [
    "from typing import List\n",
    "import os\n",
    "import re\n",
    "import time\n",
    "\n",
    "import numpy as np\n",
    "import pandas as pd\n",
    "from pandas import DataFrame\n",
    "import requests"
   ],
   "metadata": {
    "collapsed": false,
    "pycharm": {
     "name": "#%%\n"
    }
   }
  },
  {
   "cell_type": "code",
   "execution_count": 2,
   "outputs": [],
   "source": [
    "import os\n",
    "\n",
    "from util.widgets import generate_ym, generate_ymd, generate_ymd_HMS, generate_i\n",
    "\n",
    "ym = generate_ym()\n",
    "g = 'cargohose_herren'\n",
    "bd = f'{g}/{ym}'\n",
    "bd_a = f'{bd}/a'\n",
    "b_d = f'{g}_{ym}'\n",
    "\n",
    "os.makedirs(bd, exist_ok=True)\n",
    "os.makedirs(bd_a, exist_ok=True)\n",
    "\n",
    "ymd = generate_ymd()\n",
    "ymd_HMS = generate_ymd_HMS()\n",
    "i = '(08-09)'\n",
    "bd_a_img = f'{bd_a}/{ymd}'\n",
    "os.makedirs(bd_a_img, exist_ok=True)"
   ],
   "metadata": {
    "collapsed": false,
    "pycharm": {
     "name": "#%%\n"
    }
   }
  },
  {
   "cell_type": "code",
   "execution_count": 3,
   "outputs": [
    {
     "data": {
      "text/plain": "Empty DataFrame\nColumns: []\nIndex: [feed_product_type, item_sku, brand_name, update_delete, external_product_id, external_product_id_type, item_name, product_description, recommended_browse_nodes, outer_material_type, inner_material_type, care_instructions, model_name, model, closure_type, part_number, temperature_rating, manufacturer, gtin_exemption_reason, language_value1, language_value2, language_value3, language_value4, language_value5, standard_price, quantity, target_gender, age_range_description, bottoms_size_system, bottoms_size_class, bottoms_size, bottoms_size_to, bottoms_waist_size, bottoms_inseam_size, bottoms_body_type, bottoms_height_type, main_image_url, other_image_url1, other_image_url2, other_image_url3, other_image_url4, other_image_url5, other_image_url6, other_image_url7, other_image_url8, swatch_image_url, other_image_url_ps01, other_image_url_ps02, other_image_url_ps03, other_image_url_ps04, other_image_url_ps05, other_image_url_ps06, parent_child, parent_sku, relationship_type, variation_theme, package_level, package_contains_quantity, package_contains_identifier, generic_keywords, color_map, color_name, size_name, collection_name, lifestyle, style_name, fit_type, special_features1, special_features2, special_features3, special_features4, special_features5, department_name, bullet_point1, bullet_point2, bullet_point3, bullet_point4, bullet_point5, special_size_type, platinum_keywords1, platinum_keywords2, platinum_keywords3, platinum_keywords4, platinum_keywords5, is_autographed, item_type_name, occasion_type1, occasion_type2, occasion_type3, occasion_type4, occasion_type5, sport_type1, sport_type2, seasons, athlete, team_name, material_type, rise_style, fur_description, front_style, ...]\n\n[236 rows x 0 columns]",
      "text/html": "<div>\n<style scoped>\n    .dataframe tbody tr th:only-of-type {\n        vertical-align: middle;\n    }\n\n    .dataframe tbody tr th {\n        vertical-align: top;\n    }\n\n    .dataframe thead th {\n        text-align: right;\n    }\n</style>\n<table border=\"1\" class=\"dataframe\">\n  <thead>\n    <tr style=\"text-align: right;\">\n      <th></th>\n    </tr>\n  </thead>\n  <tbody>\n    <tr>\n      <th>feed_product_type</th>\n    </tr>\n    <tr>\n      <th>item_sku</th>\n    </tr>\n    <tr>\n      <th>brand_name</th>\n    </tr>\n    <tr>\n      <th>update_delete</th>\n    </tr>\n    <tr>\n      <th>external_product_id</th>\n    </tr>\n    <tr>\n      <th>...</th>\n    </tr>\n    <tr>\n      <th>progressive_discount_lower_bound3</th>\n    </tr>\n    <tr>\n      <th>progressive_discount_value3</th>\n    </tr>\n    <tr>\n      <th>national_stock_number</th>\n    </tr>\n    <tr>\n      <th>unspsc_code</th>\n    </tr>\n    <tr>\n      <th>pricing_action</th>\n    </tr>\n  </tbody>\n</table>\n<p>236 rows × 0 columns</p>\n</div>"
     },
     "execution_count": 3,
     "metadata": {},
     "output_type": "execute_result"
    }
   ],
   "source": [
    "path = f'{bd_a}/PANTS-DE-男士工装裤-240717.xlsm'\n",
    "df: DataFrame = pd.read_excel(path, sheet_name='Vorlage', header=2)\n",
    "\n",
    "df.T"
   ],
   "metadata": {
    "collapsed": false,
    "pycharm": {
     "name": "#%%\n"
    }
   }
  },
  {
   "cell_type": "code",
   "execution_count": 4,
   "outputs": [
    {
     "data": {
      "text/plain": "                  SKU          父SKU  产品缩略图  \\\n0        FBE230705004           NaN    NaN   \n1     FBE230705004BKL  FBE230705004    NaN   \n2    FBE230705004BKL2  FBE230705004    NaN   \n3    FBE230705004BKL3  FBE230705004    NaN   \n4     FBE230705004BKM  FBE230705004    NaN   \n..                ...           ...    ...   \n299  ZUQ210805001KHXL  ZUQ210805001    NaN   \n300   ZUQ210805001WEL  ZUQ210805001    NaN   \n301  ZUQ210805001WEXL  ZUQ210805001    NaN   \n302      ZYN230315007           NaN    NaN   \n303  ZYN230315007BK32  ZYN230315007    NaN   \n\n                                                  产品类型  \\\n0    普通产品 -> Clothing Shoes & Accessories -> 男装 -> ...   \n1    普通产品 -> Clothing Shoes & Accessories -> 男装 -> ...   \n2    普通产品 -> Clothing Shoes & Accessories -> 男装 -> ...   \n3    普通产品 -> Clothing Shoes & Accessories -> 男装 -> ...   \n4    普通产品 -> Clothing Shoes & Accessories -> 男装 -> ...   \n..                                                 ...   \n299  普通产品 -> Clothing Shoes & Accessories -> 男装 -> ...   \n300  普通产品 -> Clothing Shoes & Accessories -> 男装 -> ...   \n301  普通产品 -> Clothing Shoes & Accessories -> 男装 -> ...   \n302  普通产品 -> Clothing Shoes & Accessories -> 男装 -> ...   \n303  普通产品 -> Clothing Shoes & Accessories -> 男装 -> ...   \n\n                                                    标题  \\\n0    Mens Casual Waist Color Sports Hat Woven Pocke...   \n1    Mens Casual Waist Color Sports Hat Multi Woven...   \n2    Mens Casual Waist Color Sports Hat Multi Woven...   \n3    Mens Casual Waist Color Sports Hat Multi Woven...   \n4    Mens Casual Waist Color Sports Hat Multi Woven...   \n..                                                 ...   \n299  Men's Thin Trousers Solid Color High Waist Ela...   \n300  Men's Thin Trousers Solid Color High Waist Ela...   \n301  Men's Thin Trousers Solid Color High Waist Ela...   \n302  Men's Fashion Loose Large Cotton Shorts Men's ...   \n303  Men's Fashion Loose Large Cotton Shorts Men's ...   \n\n                                      产品名称  \\\n0            男士四季街头休闲运动多口袋脚口帽绳腰间系带纯色工装长裤卫裤   \n1       男士四季街头休闲运动多口袋脚口帽绳腰间系带纯色工装长裤卫裤 黑色 L   \n2     男士四季街头休闲运动多口袋脚口帽绳腰间系带纯色工装长裤卫裤 黑色 XXL   \n3    男士四季街头休闲运动多口袋脚口帽绳腰间系带纯色工装长裤卫裤 黑色 XXXL   \n4       男士四季街头休闲运动多口袋脚口帽绳腰间系带纯色工装长裤卫裤 黑色 M   \n..                                     ...   \n299           男士薄款纯色高腰弹力休闲商务西装长裤 卡其色 XL 32   \n300            男士薄款纯色高腰弹力休闲商务西装长裤 酒红色 L 31   \n301           男士薄款纯色高腰弹力休闲商务西装长裤 酒红色 XL 32   \n302               男士潮宽松大码棉短裤男多口袋休闲街头风七分工装裤   \n303         男士潮宽松大码棉短裤男多口袋休闲街头风七分工装裤 黑色 32   \n\n                                                    描述  \\\n0    <h1 align=\"center\"><span style=\"font-size:14pt...   \n1    <h1 align=\"center\"><span style=\"font-size:14pt...   \n2    <h1 align=\"center\"><span style=\"font-size:14pt...   \n3    <h1 align=\"center\"><span style=\"font-size:14pt...   \n4    <h1 align=\"center\"><span style=\"font-size:14pt...   \n..                                                 ...   \n299  <h1 align=\"center\"><span style=\"font-size:14pt...   \n300  <h1 align=\"center\"><span style=\"font-size:14pt...   \n301  <h1 align=\"center\"><span style=\"font-size:14pt...   \n302  <h1 align=\"center\"><span style=\"font-size:14pt...   \n303  <h1 align=\"center\"><span style=\"font-size:14pt...   \n\n                             颜色                            尺寸     亚马逊尺寸  ...  \\\n0    Black,Grey,Khaki,Dark Gray               M,L,XL,XXL,XXXL       NaN  ...   \n1                         Black                             L     Large  ...   \n2                         Black                           XXL  XX-Large  ...   \n3                         Black                          XXXL  3X-Large  ...   \n4                         Black                             M    Medium  ...   \n..                          ...                           ...       ...  ...   \n299                       Khaki                            XL   X-Large  ...   \n300                        Wine                             L     Large  ...   \n301                        Wine                            XL   X-Large  ...   \n302  Black,Beige,Khaki,Brown,AG  29,30,31,32,33,34,36,A,B,C,D       NaN  ...   \n303                       Black                            32       NaN  ...   \n\n    S3图片链接 8缩略图                                           S3图片链接 8  \\\n0           NaN  https://lykjaiqgk57h5yqa.imgsapp.com/afsd/8867...   \n1           NaN                                                NaN   \n2           NaN                                                NaN   \n3           NaN                                                NaN   \n4           NaN                                                NaN   \n..          ...                                                ...   \n299         NaN  https://hx1go8v2wwpz934l.imgsapp.com/afsd/5953...   \n300         NaN  https://8r5puatkpqu0zrez.imgsapp.com/afsd/5953...   \n301         NaN  https://vt27v2ccgf0qmv4e.imgsapp.com/afsd/5953...   \n302         NaN  https://ksuyxp84yskfbm6c.imgsapp.com/afsd/7969...   \n303         NaN  https://zlk6k2rlv0v7xco3.imgsapp.com/afsd/7969...   \n\n    S3图片链接 9缩略图                                           S3图片链接 9 子图链接   长  \\\n0           NaN  https://lg29bdziw7erh33a.imgsapp.com/afsd/0290...  NaN  30   \n1           NaN                                                NaN  NaN  34   \n2           NaN                                                NaN  NaN  34   \n3           NaN                                                NaN  NaN  34   \n4           NaN                                                NaN  NaN  34   \n..          ...                                                ...  ...  ..   \n299         NaN  https://h1j5vfmwyrvs0tcz.imgsapp.com/afsd/5953...  NaN  34   \n300         NaN  https://q3ohinf7053vj4mk.imgsapp.com/afsd/5953...  NaN  40   \n301         NaN  https://wzgtchmjc7fke2w2.imgsapp.com/afsd/5953...  NaN  29   \n302         NaN  https://u0ccd73bi3lghs3c.imgsapp.com/afsd/7969...  NaN  25   \n303         NaN  https://64fihedpsrv3gd2b.imgsapp.com/afsd/7969...  NaN  36   \n\n      宽    高                                                尺码表  印花名称  \n0    20  3.0  Size: M Waist: 72-82cm/28.35-32.28'' Hip: 108c...   NaN  \n1    22  1.0  Size: M Waist: 72-82cm/28.35-32.28'' Hip: 108c...   NaN  \n2    22  1.0  Size: M Waist: 72-82cm/28.35-32.28'' Hip: 108c...   NaN  \n3    22  1.0  Size: M Waist: 72-82cm/28.35-32.28'' Hip: 108c...   NaN  \n4    22  1.0  Size: M Waist: 72-82cm/28.35-32.28'' Hip: 108c...   NaN  \n..   ..  ...                                                ...   ...  \n299  20  2.0  Size: M Waist: 78cm/30.71'' Hip: 94cm/37.01'' ...   NaN  \n300  35  1.0  Size: M Waist: 78cm/30.71'' Hip: 94cm/37.01'' ...   NaN  \n301  20  4.0  Size: M Waist: 78cm/30.71'' Hip: 94cm/37.01'' ...   NaN  \n302  25  2.0  Size: 29 Waist: 73cm/28.74'' Hip: 100cm/39.37'...   NaN  \n303  25  3.0  Size: 29 Waist: 73cm/28.74'' Hip: 100cm/39.37'...   NaN  \n\n[304 rows x 64 columns]",
      "text/html": "<div>\n<style scoped>\n    .dataframe tbody tr th:only-of-type {\n        vertical-align: middle;\n    }\n\n    .dataframe tbody tr th {\n        vertical-align: top;\n    }\n\n    .dataframe thead th {\n        text-align: right;\n    }\n</style>\n<table border=\"1\" class=\"dataframe\">\n  <thead>\n    <tr style=\"text-align: right;\">\n      <th></th>\n      <th>SKU</th>\n      <th>父SKU</th>\n      <th>产品缩略图</th>\n      <th>产品类型</th>\n      <th>标题</th>\n      <th>产品名称</th>\n      <th>描述</th>\n      <th>颜色</th>\n      <th>尺寸</th>\n      <th>亚马逊尺寸</th>\n      <th>...</th>\n      <th>S3图片链接 8缩略图</th>\n      <th>S3图片链接 8</th>\n      <th>S3图片链接 9缩略图</th>\n      <th>S3图片链接 9</th>\n      <th>子图链接</th>\n      <th>长</th>\n      <th>宽</th>\n      <th>高</th>\n      <th>尺码表</th>\n      <th>印花名称</th>\n    </tr>\n  </thead>\n  <tbody>\n    <tr>\n      <th>0</th>\n      <td>FBE230705004</td>\n      <td>NaN</td>\n      <td>NaN</td>\n      <td>普通产品 -&gt; Clothing Shoes &amp; Accessories -&gt; 男装 -&gt; ...</td>\n      <td>Mens Casual Waist Color Sports Hat Woven Pocke...</td>\n      <td>男士四季街头休闲运动多口袋脚口帽绳腰间系带纯色工装长裤卫裤</td>\n      <td>&lt;h1 align=\"center\"&gt;&lt;span style=\"font-size:14pt...</td>\n      <td>Black,Grey,Khaki,Dark Gray</td>\n      <td>M,L,XL,XXL,XXXL</td>\n      <td>NaN</td>\n      <td>...</td>\n      <td>NaN</td>\n      <td>https://lykjaiqgk57h5yqa.imgsapp.com/afsd/8867...</td>\n      <td>NaN</td>\n      <td>https://lg29bdziw7erh33a.imgsapp.com/afsd/0290...</td>\n      <td>NaN</td>\n      <td>30</td>\n      <td>20</td>\n      <td>3.0</td>\n      <td>Size: M Waist: 72-82cm/28.35-32.28'' Hip: 108c...</td>\n      <td>NaN</td>\n    </tr>\n    <tr>\n      <th>1</th>\n      <td>FBE230705004BKL</td>\n      <td>FBE230705004</td>\n      <td>NaN</td>\n      <td>普通产品 -&gt; Clothing Shoes &amp; Accessories -&gt; 男装 -&gt; ...</td>\n      <td>Mens Casual Waist Color Sports Hat Multi Woven...</td>\n      <td>男士四季街头休闲运动多口袋脚口帽绳腰间系带纯色工装长裤卫裤 黑色 L</td>\n      <td>&lt;h1 align=\"center\"&gt;&lt;span style=\"font-size:14pt...</td>\n      <td>Black</td>\n      <td>L</td>\n      <td>Large</td>\n      <td>...</td>\n      <td>NaN</td>\n      <td>NaN</td>\n      <td>NaN</td>\n      <td>NaN</td>\n      <td>NaN</td>\n      <td>34</td>\n      <td>22</td>\n      <td>1.0</td>\n      <td>Size: M Waist: 72-82cm/28.35-32.28'' Hip: 108c...</td>\n      <td>NaN</td>\n    </tr>\n    <tr>\n      <th>2</th>\n      <td>FBE230705004BKL2</td>\n      <td>FBE230705004</td>\n      <td>NaN</td>\n      <td>普通产品 -&gt; Clothing Shoes &amp; Accessories -&gt; 男装 -&gt; ...</td>\n      <td>Mens Casual Waist Color Sports Hat Multi Woven...</td>\n      <td>男士四季街头休闲运动多口袋脚口帽绳腰间系带纯色工装长裤卫裤 黑色 XXL</td>\n      <td>&lt;h1 align=\"center\"&gt;&lt;span style=\"font-size:14pt...</td>\n      <td>Black</td>\n      <td>XXL</td>\n      <td>XX-Large</td>\n      <td>...</td>\n      <td>NaN</td>\n      <td>NaN</td>\n      <td>NaN</td>\n      <td>NaN</td>\n      <td>NaN</td>\n      <td>34</td>\n      <td>22</td>\n      <td>1.0</td>\n      <td>Size: M Waist: 72-82cm/28.35-32.28'' Hip: 108c...</td>\n      <td>NaN</td>\n    </tr>\n    <tr>\n      <th>3</th>\n      <td>FBE230705004BKL3</td>\n      <td>FBE230705004</td>\n      <td>NaN</td>\n      <td>普通产品 -&gt; Clothing Shoes &amp; Accessories -&gt; 男装 -&gt; ...</td>\n      <td>Mens Casual Waist Color Sports Hat Multi Woven...</td>\n      <td>男士四季街头休闲运动多口袋脚口帽绳腰间系带纯色工装长裤卫裤 黑色 XXXL</td>\n      <td>&lt;h1 align=\"center\"&gt;&lt;span style=\"font-size:14pt...</td>\n      <td>Black</td>\n      <td>XXXL</td>\n      <td>3X-Large</td>\n      <td>...</td>\n      <td>NaN</td>\n      <td>NaN</td>\n      <td>NaN</td>\n      <td>NaN</td>\n      <td>NaN</td>\n      <td>34</td>\n      <td>22</td>\n      <td>1.0</td>\n      <td>Size: M Waist: 72-82cm/28.35-32.28'' Hip: 108c...</td>\n      <td>NaN</td>\n    </tr>\n    <tr>\n      <th>4</th>\n      <td>FBE230705004BKM</td>\n      <td>FBE230705004</td>\n      <td>NaN</td>\n      <td>普通产品 -&gt; Clothing Shoes &amp; Accessories -&gt; 男装 -&gt; ...</td>\n      <td>Mens Casual Waist Color Sports Hat Multi Woven...</td>\n      <td>男士四季街头休闲运动多口袋脚口帽绳腰间系带纯色工装长裤卫裤 黑色 M</td>\n      <td>&lt;h1 align=\"center\"&gt;&lt;span style=\"font-size:14pt...</td>\n      <td>Black</td>\n      <td>M</td>\n      <td>Medium</td>\n      <td>...</td>\n      <td>NaN</td>\n      <td>NaN</td>\n      <td>NaN</td>\n      <td>NaN</td>\n      <td>NaN</td>\n      <td>34</td>\n      <td>22</td>\n      <td>1.0</td>\n      <td>Size: M Waist: 72-82cm/28.35-32.28'' Hip: 108c...</td>\n      <td>NaN</td>\n    </tr>\n    <tr>\n      <th>...</th>\n      <td>...</td>\n      <td>...</td>\n      <td>...</td>\n      <td>...</td>\n      <td>...</td>\n      <td>...</td>\n      <td>...</td>\n      <td>...</td>\n      <td>...</td>\n      <td>...</td>\n      <td>...</td>\n      <td>...</td>\n      <td>...</td>\n      <td>...</td>\n      <td>...</td>\n      <td>...</td>\n      <td>...</td>\n      <td>...</td>\n      <td>...</td>\n      <td>...</td>\n      <td>...</td>\n    </tr>\n    <tr>\n      <th>299</th>\n      <td>ZUQ210805001KHXL</td>\n      <td>ZUQ210805001</td>\n      <td>NaN</td>\n      <td>普通产品 -&gt; Clothing Shoes &amp; Accessories -&gt; 男装 -&gt; ...</td>\n      <td>Men's Thin Trousers Solid Color High Waist Ela...</td>\n      <td>男士薄款纯色高腰弹力休闲商务西装长裤 卡其色 XL 32</td>\n      <td>&lt;h1 align=\"center\"&gt;&lt;span style=\"font-size:14pt...</td>\n      <td>Khaki</td>\n      <td>XL</td>\n      <td>X-Large</td>\n      <td>...</td>\n      <td>NaN</td>\n      <td>https://hx1go8v2wwpz934l.imgsapp.com/afsd/5953...</td>\n      <td>NaN</td>\n      <td>https://h1j5vfmwyrvs0tcz.imgsapp.com/afsd/5953...</td>\n      <td>NaN</td>\n      <td>34</td>\n      <td>20</td>\n      <td>2.0</td>\n      <td>Size: M Waist: 78cm/30.71'' Hip: 94cm/37.01'' ...</td>\n      <td>NaN</td>\n    </tr>\n    <tr>\n      <th>300</th>\n      <td>ZUQ210805001WEL</td>\n      <td>ZUQ210805001</td>\n      <td>NaN</td>\n      <td>普通产品 -&gt; Clothing Shoes &amp; Accessories -&gt; 男装 -&gt; ...</td>\n      <td>Men's Thin Trousers Solid Color High Waist Ela...</td>\n      <td>男士薄款纯色高腰弹力休闲商务西装长裤 酒红色 L 31</td>\n      <td>&lt;h1 align=\"center\"&gt;&lt;span style=\"font-size:14pt...</td>\n      <td>Wine</td>\n      <td>L</td>\n      <td>Large</td>\n      <td>...</td>\n      <td>NaN</td>\n      <td>https://8r5puatkpqu0zrez.imgsapp.com/afsd/5953...</td>\n      <td>NaN</td>\n      <td>https://q3ohinf7053vj4mk.imgsapp.com/afsd/5953...</td>\n      <td>NaN</td>\n      <td>40</td>\n      <td>35</td>\n      <td>1.0</td>\n      <td>Size: M Waist: 78cm/30.71'' Hip: 94cm/37.01'' ...</td>\n      <td>NaN</td>\n    </tr>\n    <tr>\n      <th>301</th>\n      <td>ZUQ210805001WEXL</td>\n      <td>ZUQ210805001</td>\n      <td>NaN</td>\n      <td>普通产品 -&gt; Clothing Shoes &amp; Accessories -&gt; 男装 -&gt; ...</td>\n      <td>Men's Thin Trousers Solid Color High Waist Ela...</td>\n      <td>男士薄款纯色高腰弹力休闲商务西装长裤 酒红色 XL 32</td>\n      <td>&lt;h1 align=\"center\"&gt;&lt;span style=\"font-size:14pt...</td>\n      <td>Wine</td>\n      <td>XL</td>\n      <td>X-Large</td>\n      <td>...</td>\n      <td>NaN</td>\n      <td>https://vt27v2ccgf0qmv4e.imgsapp.com/afsd/5953...</td>\n      <td>NaN</td>\n      <td>https://wzgtchmjc7fke2w2.imgsapp.com/afsd/5953...</td>\n      <td>NaN</td>\n      <td>29</td>\n      <td>20</td>\n      <td>4.0</td>\n      <td>Size: M Waist: 78cm/30.71'' Hip: 94cm/37.01'' ...</td>\n      <td>NaN</td>\n    </tr>\n    <tr>\n      <th>302</th>\n      <td>ZYN230315007</td>\n      <td>NaN</td>\n      <td>NaN</td>\n      <td>普通产品 -&gt; Clothing Shoes &amp; Accessories -&gt; 男装 -&gt; ...</td>\n      <td>Men's Fashion Loose Large Cotton Shorts Men's ...</td>\n      <td>男士潮宽松大码棉短裤男多口袋休闲街头风七分工装裤</td>\n      <td>&lt;h1 align=\"center\"&gt;&lt;span style=\"font-size:14pt...</td>\n      <td>Black,Beige,Khaki,Brown,AG</td>\n      <td>29,30,31,32,33,34,36,A,B,C,D</td>\n      <td>NaN</td>\n      <td>...</td>\n      <td>NaN</td>\n      <td>https://ksuyxp84yskfbm6c.imgsapp.com/afsd/7969...</td>\n      <td>NaN</td>\n      <td>https://u0ccd73bi3lghs3c.imgsapp.com/afsd/7969...</td>\n      <td>NaN</td>\n      <td>25</td>\n      <td>25</td>\n      <td>2.0</td>\n      <td>Size: 29 Waist: 73cm/28.74'' Hip: 100cm/39.37'...</td>\n      <td>NaN</td>\n    </tr>\n    <tr>\n      <th>303</th>\n      <td>ZYN230315007BK32</td>\n      <td>ZYN230315007</td>\n      <td>NaN</td>\n      <td>普通产品 -&gt; Clothing Shoes &amp; Accessories -&gt; 男装 -&gt; ...</td>\n      <td>Men's Fashion Loose Large Cotton Shorts Men's ...</td>\n      <td>男士潮宽松大码棉短裤男多口袋休闲街头风七分工装裤 黑色 32</td>\n      <td>&lt;h1 align=\"center\"&gt;&lt;span style=\"font-size:14pt...</td>\n      <td>Black</td>\n      <td>32</td>\n      <td>NaN</td>\n      <td>...</td>\n      <td>NaN</td>\n      <td>https://zlk6k2rlv0v7xco3.imgsapp.com/afsd/7969...</td>\n      <td>NaN</td>\n      <td>https://64fihedpsrv3gd2b.imgsapp.com/afsd/7969...</td>\n      <td>NaN</td>\n      <td>36</td>\n      <td>25</td>\n      <td>3.0</td>\n      <td>Size: 29 Waist: 73cm/28.74'' Hip: 100cm/39.37'...</td>\n      <td>NaN</td>\n    </tr>\n  </tbody>\n</table>\n<p>304 rows × 64 columns</p>\n</div>"
     },
     "execution_count": 4,
     "metadata": {},
     "output_type": "execute_result"
    }
   ],
   "source": [
    "fp_erp = f'{bd_a}/product_20240729110524847_verified.xls'\n",
    "erp_df: DataFrame = pd.read_excel(fp_erp)\n",
    "erp_df"
   ],
   "metadata": {
    "collapsed": false,
    "pycharm": {
     "name": "#%%\n"
    }
   }
  },
  {
   "cell_type": "markdown",
   "source": [
    "# （047）Required"
   ],
   "metadata": {
    "collapsed": false,
    "pycharm": {
     "name": "#%% md\n"
    }
   }
  },
  {
   "cell_type": "markdown",
   "source": [
    "## （006/006）平台sku及恒定不变的值\n",
    "\n",
    "| **参数**                                           | **是否必填** | **默认值** |\n",
    "|-----------------------------|----------|------------------|\n",
    "| **item_sku**                | required | 平台SKU            |\n",
    "| **brand_name**              | required | Generic          |\n",
    "| **update_delete**           | required | Aktualisierung   |\n",
    "| **external_product_id_type** | required | GTIN             |\n",
    "| **parent_child**            | required | 父填Parent,子填Child |\n",
    "| **country_of_origin** | required | China            |\n"
   ],
   "metadata": {
    "collapsed": false,
    "pycharm": {
     "name": "#%% md\n"
    }
   }
  },
  {
   "cell_type": "code",
   "execution_count": 5,
   "outputs": [
    {
     "data": {
      "text/plain": "'FRL-DE-24-07-26-16-06-32-001-BWL2'"
     },
     "execution_count": 5,
     "metadata": {},
     "output_type": "execute_result"
    }
   ],
   "source": [
    "# def generate_amazon_sku(s: str, c: str, n: str, b: int) -> str:\n",
    "#     \"\"\"\n",
    "#\n",
    "#     :param s: ERP的sku\n",
    "#     :param c: 仓库编号\n",
    "#     :param n: 节点\n",
    "#     :param b: 父sku批号\n",
    "#     :return:\n",
    "#     \"\"\"\n",
    "#     p = re.compile(r'^(?P<p>[A-Z]+)(?P<d>\\d{6})(?P<n>\\d+)(?P<cs>.*?)$', re.S)\n",
    "#     # for i in p.match(s).groups():\n",
    "#     #     print(i)\n",
    "#     t = ymd_HMS[2:].replace(' ', '-').replace(':', '-')\n",
    "#     cs = p.match(s).group('cs')\n",
    "#     result = f'{c}-{n}-{t}-{b:03d}-{cs}'.strip('-')\n",
    "#     return result\n",
    "#\n",
    "#\n",
    "# s1 = 'BYJ240716009BWL2'\n",
    "# # MKT-DE-24-07-18-001-BWL2\n",
    "# generate_amazon_sku(s1, 'FRL', 'DE', 1)"
   ],
   "metadata": {
    "collapsed": false,
    "pycharm": {
     "name": "#%%\n"
    }
   }
  },
  {
   "cell_type": "code",
   "execution_count": 6,
   "outputs": [
    {
     "data": {
      "text/plain": "                  SKU          父SKU  产品缩略图  \\\n0        FBE230705004  FBE230705004    NaN   \n1     FBE230705004BKL  FBE230705004    NaN   \n2    FBE230705004BKL2  FBE230705004    NaN   \n3    FBE230705004BKL3  FBE230705004    NaN   \n4     FBE230705004BKM  FBE230705004    NaN   \n..                ...           ...    ...   \n299  ZUQ210805001KHXL  ZUQ210805001    NaN   \n300   ZUQ210805001WEL  ZUQ210805001    NaN   \n301  ZUQ210805001WEXL  ZUQ210805001    NaN   \n302      ZYN230315007  ZYN230315007    NaN   \n303  ZYN230315007BK32  ZYN230315007    NaN   \n\n                                                  产品类型  \\\n0    普通产品 -> Clothing Shoes & Accessories -> 男装 -> ...   \n1    普通产品 -> Clothing Shoes & Accessories -> 男装 -> ...   \n2    普通产品 -> Clothing Shoes & Accessories -> 男装 -> ...   \n3    普通产品 -> Clothing Shoes & Accessories -> 男装 -> ...   \n4    普通产品 -> Clothing Shoes & Accessories -> 男装 -> ...   \n..                                                 ...   \n299  普通产品 -> Clothing Shoes & Accessories -> 男装 -> ...   \n300  普通产品 -> Clothing Shoes & Accessories -> 男装 -> ...   \n301  普通产品 -> Clothing Shoes & Accessories -> 男装 -> ...   \n302  普通产品 -> Clothing Shoes & Accessories -> 男装 -> ...   \n303  普通产品 -> Clothing Shoes & Accessories -> 男装 -> ...   \n\n                                                    标题  \\\n0    Mens Casual Waist Color Sports Hat Woven Pocke...   \n1    Mens Casual Waist Color Sports Hat Multi Woven...   \n2    Mens Casual Waist Color Sports Hat Multi Woven...   \n3    Mens Casual Waist Color Sports Hat Multi Woven...   \n4    Mens Casual Waist Color Sports Hat Multi Woven...   \n..                                                 ...   \n299  Men's Thin Trousers Solid Color High Waist Ela...   \n300  Men's Thin Trousers Solid Color High Waist Ela...   \n301  Men's Thin Trousers Solid Color High Waist Ela...   \n302  Men's Fashion Loose Large Cotton Shorts Men's ...   \n303  Men's Fashion Loose Large Cotton Shorts Men's ...   \n\n                                      产品名称  \\\n0            男士四季街头休闲运动多口袋脚口帽绳腰间系带纯色工装长裤卫裤   \n1       男士四季街头休闲运动多口袋脚口帽绳腰间系带纯色工装长裤卫裤 黑色 L   \n2     男士四季街头休闲运动多口袋脚口帽绳腰间系带纯色工装长裤卫裤 黑色 XXL   \n3    男士四季街头休闲运动多口袋脚口帽绳腰间系带纯色工装长裤卫裤 黑色 XXXL   \n4       男士四季街头休闲运动多口袋脚口帽绳腰间系带纯色工装长裤卫裤 黑色 M   \n..                                     ...   \n299           男士薄款纯色高腰弹力休闲商务西装长裤 卡其色 XL 32   \n300            男士薄款纯色高腰弹力休闲商务西装长裤 酒红色 L 31   \n301           男士薄款纯色高腰弹力休闲商务西装长裤 酒红色 XL 32   \n302               男士潮宽松大码棉短裤男多口袋休闲街头风七分工装裤   \n303         男士潮宽松大码棉短裤男多口袋休闲街头风七分工装裤 黑色 32   \n\n                                                    描述  \\\n0    <h1 align=\"center\"><span style=\"font-size:14pt...   \n1    <h1 align=\"center\"><span style=\"font-size:14pt...   \n2    <h1 align=\"center\"><span style=\"font-size:14pt...   \n3    <h1 align=\"center\"><span style=\"font-size:14pt...   \n4    <h1 align=\"center\"><span style=\"font-size:14pt...   \n..                                                 ...   \n299  <h1 align=\"center\"><span style=\"font-size:14pt...   \n300  <h1 align=\"center\"><span style=\"font-size:14pt...   \n301  <h1 align=\"center\"><span style=\"font-size:14pt...   \n302  <h1 align=\"center\"><span style=\"font-size:14pt...   \n303  <h1 align=\"center\"><span style=\"font-size:14pt...   \n\n                             颜色                            尺寸     亚马逊尺寸  ...  \\\n0    Black,Grey,Khaki,Dark Gray               M,L,XL,XXL,XXXL       NaN  ...   \n1                         Black                             L     Large  ...   \n2                         Black                           XXL  XX-Large  ...   \n3                         Black                          XXXL  3X-Large  ...   \n4                         Black                             M    Medium  ...   \n..                          ...                           ...       ...  ...   \n299                       Khaki                            XL   X-Large  ...   \n300                        Wine                             L     Large  ...   \n301                        Wine                            XL   X-Large  ...   \n302  Black,Beige,Khaki,Brown,AG  29,30,31,32,33,34,36,A,B,C,D       NaN  ...   \n303                       Black                            32       NaN  ...   \n\n                                              S3图片链接 8 S3图片链接 9缩略图  \\\n0    https://lykjaiqgk57h5yqa.imgsapp.com/afsd/8867...         NaN   \n1                                                  NaN         NaN   \n2                                                  NaN         NaN   \n3                                                  NaN         NaN   \n4                                                  NaN         NaN   \n..                                                 ...         ...   \n299  https://hx1go8v2wwpz934l.imgsapp.com/afsd/5953...         NaN   \n300  https://8r5puatkpqu0zrez.imgsapp.com/afsd/5953...         NaN   \n301  https://vt27v2ccgf0qmv4e.imgsapp.com/afsd/5953...         NaN   \n302  https://ksuyxp84yskfbm6c.imgsapp.com/afsd/7969...         NaN   \n303  https://zlk6k2rlv0v7xco3.imgsapp.com/afsd/7969...         NaN   \n\n                                              S3图片链接 9  子图链接   长   宽    高  \\\n0    https://lg29bdziw7erh33a.imgsapp.com/afsd/0290...   NaN  30  20  3.0   \n1                                                  NaN   NaN  34  22  1.0   \n2                                                  NaN   NaN  34  22  1.0   \n3                                                  NaN   NaN  34  22  1.0   \n4                                                  NaN   NaN  34  22  1.0   \n..                                                 ...   ...  ..  ..  ...   \n299  https://h1j5vfmwyrvs0tcz.imgsapp.com/afsd/5953...   NaN  34  20  2.0   \n300  https://q3ohinf7053vj4mk.imgsapp.com/afsd/5953...   NaN  40  35  1.0   \n301  https://wzgtchmjc7fke2w2.imgsapp.com/afsd/5953...   NaN  29  20  4.0   \n302  https://u0ccd73bi3lghs3c.imgsapp.com/afsd/7969...   NaN  25  25  2.0   \n303  https://64fihedpsrv3gd2b.imgsapp.com/afsd/7969...   NaN  36  25  3.0   \n\n                                                   尺码表  印花名称  parent_child  \n0    Size: M Waist: 72-82cm/28.35-32.28'' Hip: 108c...   NaN        Parent  \n1    Size: M Waist: 72-82cm/28.35-32.28'' Hip: 108c...   NaN         Child  \n2    Size: M Waist: 72-82cm/28.35-32.28'' Hip: 108c...   NaN         Child  \n3    Size: M Waist: 72-82cm/28.35-32.28'' Hip: 108c...   NaN         Child  \n4    Size: M Waist: 72-82cm/28.35-32.28'' Hip: 108c...   NaN         Child  \n..                                                 ...   ...           ...  \n299  Size: M Waist: 78cm/30.71'' Hip: 94cm/37.01'' ...   NaN         Child  \n300  Size: M Waist: 78cm/30.71'' Hip: 94cm/37.01'' ...   NaN         Child  \n301  Size: M Waist: 78cm/30.71'' Hip: 94cm/37.01'' ...   NaN         Child  \n302  Size: 29 Waist: 73cm/28.74'' Hip: 100cm/39.37'...   NaN        Parent  \n303  Size: 29 Waist: 73cm/28.74'' Hip: 100cm/39.37'...   NaN         Child  \n\n[246 rows x 65 columns]",
      "text/html": "<div>\n<style scoped>\n    .dataframe tbody tr th:only-of-type {\n        vertical-align: middle;\n    }\n\n    .dataframe tbody tr th {\n        vertical-align: top;\n    }\n\n    .dataframe thead th {\n        text-align: right;\n    }\n</style>\n<table border=\"1\" class=\"dataframe\">\n  <thead>\n    <tr style=\"text-align: right;\">\n      <th></th>\n      <th>SKU</th>\n      <th>父SKU</th>\n      <th>产品缩略图</th>\n      <th>产品类型</th>\n      <th>标题</th>\n      <th>产品名称</th>\n      <th>描述</th>\n      <th>颜色</th>\n      <th>尺寸</th>\n      <th>亚马逊尺寸</th>\n      <th>...</th>\n      <th>S3图片链接 8</th>\n      <th>S3图片链接 9缩略图</th>\n      <th>S3图片链接 9</th>\n      <th>子图链接</th>\n      <th>长</th>\n      <th>宽</th>\n      <th>高</th>\n      <th>尺码表</th>\n      <th>印花名称</th>\n      <th>parent_child</th>\n    </tr>\n  </thead>\n  <tbody>\n    <tr>\n      <th>0</th>\n      <td>FBE230705004</td>\n      <td>FBE230705004</td>\n      <td>NaN</td>\n      <td>普通产品 -&gt; Clothing Shoes &amp; Accessories -&gt; 男装 -&gt; ...</td>\n      <td>Mens Casual Waist Color Sports Hat Woven Pocke...</td>\n      <td>男士四季街头休闲运动多口袋脚口帽绳腰间系带纯色工装长裤卫裤</td>\n      <td>&lt;h1 align=\"center\"&gt;&lt;span style=\"font-size:14pt...</td>\n      <td>Black,Grey,Khaki,Dark Gray</td>\n      <td>M,L,XL,XXL,XXXL</td>\n      <td>NaN</td>\n      <td>...</td>\n      <td>https://lykjaiqgk57h5yqa.imgsapp.com/afsd/8867...</td>\n      <td>NaN</td>\n      <td>https://lg29bdziw7erh33a.imgsapp.com/afsd/0290...</td>\n      <td>NaN</td>\n      <td>30</td>\n      <td>20</td>\n      <td>3.0</td>\n      <td>Size: M Waist: 72-82cm/28.35-32.28'' Hip: 108c...</td>\n      <td>NaN</td>\n      <td>Parent</td>\n    </tr>\n    <tr>\n      <th>1</th>\n      <td>FBE230705004BKL</td>\n      <td>FBE230705004</td>\n      <td>NaN</td>\n      <td>普通产品 -&gt; Clothing Shoes &amp; Accessories -&gt; 男装 -&gt; ...</td>\n      <td>Mens Casual Waist Color Sports Hat Multi Woven...</td>\n      <td>男士四季街头休闲运动多口袋脚口帽绳腰间系带纯色工装长裤卫裤 黑色 L</td>\n      <td>&lt;h1 align=\"center\"&gt;&lt;span style=\"font-size:14pt...</td>\n      <td>Black</td>\n      <td>L</td>\n      <td>Large</td>\n      <td>...</td>\n      <td>NaN</td>\n      <td>NaN</td>\n      <td>NaN</td>\n      <td>NaN</td>\n      <td>34</td>\n      <td>22</td>\n      <td>1.0</td>\n      <td>Size: M Waist: 72-82cm/28.35-32.28'' Hip: 108c...</td>\n      <td>NaN</td>\n      <td>Child</td>\n    </tr>\n    <tr>\n      <th>2</th>\n      <td>FBE230705004BKL2</td>\n      <td>FBE230705004</td>\n      <td>NaN</td>\n      <td>普通产品 -&gt; Clothing Shoes &amp; Accessories -&gt; 男装 -&gt; ...</td>\n      <td>Mens Casual Waist Color Sports Hat Multi Woven...</td>\n      <td>男士四季街头休闲运动多口袋脚口帽绳腰间系带纯色工装长裤卫裤 黑色 XXL</td>\n      <td>&lt;h1 align=\"center\"&gt;&lt;span style=\"font-size:14pt...</td>\n      <td>Black</td>\n      <td>XXL</td>\n      <td>XX-Large</td>\n      <td>...</td>\n      <td>NaN</td>\n      <td>NaN</td>\n      <td>NaN</td>\n      <td>NaN</td>\n      <td>34</td>\n      <td>22</td>\n      <td>1.0</td>\n      <td>Size: M Waist: 72-82cm/28.35-32.28'' Hip: 108c...</td>\n      <td>NaN</td>\n      <td>Child</td>\n    </tr>\n    <tr>\n      <th>3</th>\n      <td>FBE230705004BKL3</td>\n      <td>FBE230705004</td>\n      <td>NaN</td>\n      <td>普通产品 -&gt; Clothing Shoes &amp; Accessories -&gt; 男装 -&gt; ...</td>\n      <td>Mens Casual Waist Color Sports Hat Multi Woven...</td>\n      <td>男士四季街头休闲运动多口袋脚口帽绳腰间系带纯色工装长裤卫裤 黑色 XXXL</td>\n      <td>&lt;h1 align=\"center\"&gt;&lt;span style=\"font-size:14pt...</td>\n      <td>Black</td>\n      <td>XXXL</td>\n      <td>3X-Large</td>\n      <td>...</td>\n      <td>NaN</td>\n      <td>NaN</td>\n      <td>NaN</td>\n      <td>NaN</td>\n      <td>34</td>\n      <td>22</td>\n      <td>1.0</td>\n      <td>Size: M Waist: 72-82cm/28.35-32.28'' Hip: 108c...</td>\n      <td>NaN</td>\n      <td>Child</td>\n    </tr>\n    <tr>\n      <th>4</th>\n      <td>FBE230705004BKM</td>\n      <td>FBE230705004</td>\n      <td>NaN</td>\n      <td>普通产品 -&gt; Clothing Shoes &amp; Accessories -&gt; 男装 -&gt; ...</td>\n      <td>Mens Casual Waist Color Sports Hat Multi Woven...</td>\n      <td>男士四季街头休闲运动多口袋脚口帽绳腰间系带纯色工装长裤卫裤 黑色 M</td>\n      <td>&lt;h1 align=\"center\"&gt;&lt;span style=\"font-size:14pt...</td>\n      <td>Black</td>\n      <td>M</td>\n      <td>Medium</td>\n      <td>...</td>\n      <td>NaN</td>\n      <td>NaN</td>\n      <td>NaN</td>\n      <td>NaN</td>\n      <td>34</td>\n      <td>22</td>\n      <td>1.0</td>\n      <td>Size: M Waist: 72-82cm/28.35-32.28'' Hip: 108c...</td>\n      <td>NaN</td>\n      <td>Child</td>\n    </tr>\n    <tr>\n      <th>...</th>\n      <td>...</td>\n      <td>...</td>\n      <td>...</td>\n      <td>...</td>\n      <td>...</td>\n      <td>...</td>\n      <td>...</td>\n      <td>...</td>\n      <td>...</td>\n      <td>...</td>\n      <td>...</td>\n      <td>...</td>\n      <td>...</td>\n      <td>...</td>\n      <td>...</td>\n      <td>...</td>\n      <td>...</td>\n      <td>...</td>\n      <td>...</td>\n      <td>...</td>\n      <td>...</td>\n    </tr>\n    <tr>\n      <th>299</th>\n      <td>ZUQ210805001KHXL</td>\n      <td>ZUQ210805001</td>\n      <td>NaN</td>\n      <td>普通产品 -&gt; Clothing Shoes &amp; Accessories -&gt; 男装 -&gt; ...</td>\n      <td>Men's Thin Trousers Solid Color High Waist Ela...</td>\n      <td>男士薄款纯色高腰弹力休闲商务西装长裤 卡其色 XL 32</td>\n      <td>&lt;h1 align=\"center\"&gt;&lt;span style=\"font-size:14pt...</td>\n      <td>Khaki</td>\n      <td>XL</td>\n      <td>X-Large</td>\n      <td>...</td>\n      <td>https://hx1go8v2wwpz934l.imgsapp.com/afsd/5953...</td>\n      <td>NaN</td>\n      <td>https://h1j5vfmwyrvs0tcz.imgsapp.com/afsd/5953...</td>\n      <td>NaN</td>\n      <td>34</td>\n      <td>20</td>\n      <td>2.0</td>\n      <td>Size: M Waist: 78cm/30.71'' Hip: 94cm/37.01'' ...</td>\n      <td>NaN</td>\n      <td>Child</td>\n    </tr>\n    <tr>\n      <th>300</th>\n      <td>ZUQ210805001WEL</td>\n      <td>ZUQ210805001</td>\n      <td>NaN</td>\n      <td>普通产品 -&gt; Clothing Shoes &amp; Accessories -&gt; 男装 -&gt; ...</td>\n      <td>Men's Thin Trousers Solid Color High Waist Ela...</td>\n      <td>男士薄款纯色高腰弹力休闲商务西装长裤 酒红色 L 31</td>\n      <td>&lt;h1 align=\"center\"&gt;&lt;span style=\"font-size:14pt...</td>\n      <td>Wine</td>\n      <td>L</td>\n      <td>Large</td>\n      <td>...</td>\n      <td>https://8r5puatkpqu0zrez.imgsapp.com/afsd/5953...</td>\n      <td>NaN</td>\n      <td>https://q3ohinf7053vj4mk.imgsapp.com/afsd/5953...</td>\n      <td>NaN</td>\n      <td>40</td>\n      <td>35</td>\n      <td>1.0</td>\n      <td>Size: M Waist: 78cm/30.71'' Hip: 94cm/37.01'' ...</td>\n      <td>NaN</td>\n      <td>Child</td>\n    </tr>\n    <tr>\n      <th>301</th>\n      <td>ZUQ210805001WEXL</td>\n      <td>ZUQ210805001</td>\n      <td>NaN</td>\n      <td>普通产品 -&gt; Clothing Shoes &amp; Accessories -&gt; 男装 -&gt; ...</td>\n      <td>Men's Thin Trousers Solid Color High Waist Ela...</td>\n      <td>男士薄款纯色高腰弹力休闲商务西装长裤 酒红色 XL 32</td>\n      <td>&lt;h1 align=\"center\"&gt;&lt;span style=\"font-size:14pt...</td>\n      <td>Wine</td>\n      <td>XL</td>\n      <td>X-Large</td>\n      <td>...</td>\n      <td>https://vt27v2ccgf0qmv4e.imgsapp.com/afsd/5953...</td>\n      <td>NaN</td>\n      <td>https://wzgtchmjc7fke2w2.imgsapp.com/afsd/5953...</td>\n      <td>NaN</td>\n      <td>29</td>\n      <td>20</td>\n      <td>4.0</td>\n      <td>Size: M Waist: 78cm/30.71'' Hip: 94cm/37.01'' ...</td>\n      <td>NaN</td>\n      <td>Child</td>\n    </tr>\n    <tr>\n      <th>302</th>\n      <td>ZYN230315007</td>\n      <td>ZYN230315007</td>\n      <td>NaN</td>\n      <td>普通产品 -&gt; Clothing Shoes &amp; Accessories -&gt; 男装 -&gt; ...</td>\n      <td>Men's Fashion Loose Large Cotton Shorts Men's ...</td>\n      <td>男士潮宽松大码棉短裤男多口袋休闲街头风七分工装裤</td>\n      <td>&lt;h1 align=\"center\"&gt;&lt;span style=\"font-size:14pt...</td>\n      <td>Black,Beige,Khaki,Brown,AG</td>\n      <td>29,30,31,32,33,34,36,A,B,C,D</td>\n      <td>NaN</td>\n      <td>...</td>\n      <td>https://ksuyxp84yskfbm6c.imgsapp.com/afsd/7969...</td>\n      <td>NaN</td>\n      <td>https://u0ccd73bi3lghs3c.imgsapp.com/afsd/7969...</td>\n      <td>NaN</td>\n      <td>25</td>\n      <td>25</td>\n      <td>2.0</td>\n      <td>Size: 29 Waist: 73cm/28.74'' Hip: 100cm/39.37'...</td>\n      <td>NaN</td>\n      <td>Parent</td>\n    </tr>\n    <tr>\n      <th>303</th>\n      <td>ZYN230315007BK32</td>\n      <td>ZYN230315007</td>\n      <td>NaN</td>\n      <td>普通产品 -&gt; Clothing Shoes &amp; Accessories -&gt; 男装 -&gt; ...</td>\n      <td>Men's Fashion Loose Large Cotton Shorts Men's ...</td>\n      <td>男士潮宽松大码棉短裤男多口袋休闲街头风七分工装裤 黑色 32</td>\n      <td>&lt;h1 align=\"center\"&gt;&lt;span style=\"font-size:14pt...</td>\n      <td>Black</td>\n      <td>32</td>\n      <td>NaN</td>\n      <td>...</td>\n      <td>https://zlk6k2rlv0v7xco3.imgsapp.com/afsd/7969...</td>\n      <td>NaN</td>\n      <td>https://64fihedpsrv3gd2b.imgsapp.com/afsd/7969...</td>\n      <td>NaN</td>\n      <td>36</td>\n      <td>25</td>\n      <td>3.0</td>\n      <td>Size: 29 Waist: 73cm/28.74'' Hip: 100cm/39.37'...</td>\n      <td>NaN</td>\n      <td>Child</td>\n    </tr>\n  </tbody>\n</table>\n<p>246 rows × 65 columns</p>\n</div>"
     },
     "execution_count": 6,
     "metadata": {},
     "output_type": "execute_result"
    }
   ],
   "source": [
    "# erp_df['父SKU'] = erp_df['父SKU'].fillna(erp_df['SKU'])\n",
    "# erp_df['parent_child'] = np.where(erp_df['父SKU'] == erp_df['SKU'], 'Parent', 'Child')\n",
    "#\n",
    "# inuse_skus = open('./util/skus/inuse_skus.txt', mode='r', encoding='utf-8').readlines()\n",
    "# inuse_skus = [i.strip() for i in inuse_skus]\n",
    "# archived_skus = open('./util/skus/archived_skus.txt', mode='r', encoding='utf-8').readlines()\n",
    "# archived_skus = [i.strip() for i in archived_skus]\n",
    "# deleted_skus = open('./util/skus/deleted_skus.txt', mode='r', encoding='utf-8').readlines()\n",
    "# deleted_skus = [i.strip() for i in deleted_skus]\n",
    "# recalled_skus = open('./util/skus/recalled_skus.txt', mode='r', encoding='utf-8').readlines()\n",
    "# recalled_skus = [i.strip() for i in recalled_skus]\n",
    "# other_skus = open('./util/skus/other_skus.txt', mode='r', encoding='utf-8').readlines()\n",
    "# other_skus = [i.strip() for i in other_skus]\n",
    "#\n",
    "# erp_df = erp_df[~erp_df['父SKU'].isin(inuse_skus + archived_skus + deleted_skus + recalled_skus + other_skus)]\n",
    "#\n",
    "# erp_df"
   ],
   "metadata": {
    "collapsed": false,
    "pycharm": {
     "name": "#%%\n"
    }
   }
  },
  {
   "cell_type": "code",
   "execution_count": 7,
   "outputs": [
    {
     "name": "stderr",
     "output_type": "stream",
     "text": [
      "C:\\Users\\000\\AppData\\Local\\Temp\\ipykernel_8364\\2088424026.py:11: SettingWithCopyWarning: \n",
      "A value is trying to be set on a copy of a slice from a DataFrame.\n",
      "Try using .loc[row_indexer,col_indexer] = value instead\n",
      "\n",
      "See the caveats in the documentation: https://pandas.pydata.org/pandas-docs/stable/user_guide/indexing.html#returning-a-view-versus-a-copy\n",
      "  erp_df['amazon_sku'] = ams\n",
      "C:\\Users\\000\\AppData\\Local\\Temp\\ipykernel_8364\\2088424026.py:12: SettingWithCopyWarning: \n",
      "A value is trying to be set on a copy of a slice from a DataFrame.\n",
      "Try using .loc[row_indexer,col_indexer] = value instead\n",
      "\n",
      "See the caveats in the documentation: https://pandas.pydata.org/pandas-docs/stable/user_guide/indexing.html#returning-a-view-versus-a-copy\n",
      "  erp_df['amazon_psku'] = amps\n"
     ]
    },
    {
     "data": {
      "text/plain": "                  SKU          父SKU                         amazon_sku  \\\n0        FBE230705004  FBE230705004       FRL-DE-24-07-26-16-06-32-001   \n1     FBE230705004BKL  FBE230705004   FRL-DE-24-07-26-16-06-32-001-BKL   \n2    FBE230705004BKL2  FBE230705004  FRL-DE-24-07-26-16-06-32-001-BKL2   \n3    FBE230705004BKL3  FBE230705004  FRL-DE-24-07-26-16-06-32-001-BKL3   \n4     FBE230705004BKM  FBE230705004   FRL-DE-24-07-26-16-06-32-001-BKM   \n..                ...           ...                                ...   \n299  ZUQ210805001KHXL  ZUQ210805001  FRL-DE-24-07-26-16-06-32-012-KHXL   \n300   ZUQ210805001WEL  ZUQ210805001   FRL-DE-24-07-26-16-06-32-012-WEL   \n301  ZUQ210805001WEXL  ZUQ210805001  FRL-DE-24-07-26-16-06-32-012-WEXL   \n302      ZYN230315007  ZYN230315007       FRL-DE-24-07-26-16-06-32-013   \n303  ZYN230315007BK32  ZYN230315007  FRL-DE-24-07-26-16-06-32-013-BK32   \n\n                      amazon_psku  \n0    FRL-DE-24-07-26-16-06-32-001  \n1    FRL-DE-24-07-26-16-06-32-001  \n2    FRL-DE-24-07-26-16-06-32-001  \n3    FRL-DE-24-07-26-16-06-32-001  \n4    FRL-DE-24-07-26-16-06-32-001  \n..                            ...  \n299  FRL-DE-24-07-26-16-06-32-012  \n300  FRL-DE-24-07-26-16-06-32-012  \n301  FRL-DE-24-07-26-16-06-32-012  \n302  FRL-DE-24-07-26-16-06-32-013  \n303  FRL-DE-24-07-26-16-06-32-013  \n\n[246 rows x 4 columns]",
      "text/html": "<div>\n<style scoped>\n    .dataframe tbody tr th:only-of-type {\n        vertical-align: middle;\n    }\n\n    .dataframe tbody tr th {\n        vertical-align: top;\n    }\n\n    .dataframe thead th {\n        text-align: right;\n    }\n</style>\n<table border=\"1\" class=\"dataframe\">\n  <thead>\n    <tr style=\"text-align: right;\">\n      <th></th>\n      <th>SKU</th>\n      <th>父SKU</th>\n      <th>amazon_sku</th>\n      <th>amazon_psku</th>\n    </tr>\n  </thead>\n  <tbody>\n    <tr>\n      <th>0</th>\n      <td>FBE230705004</td>\n      <td>FBE230705004</td>\n      <td>FRL-DE-24-07-26-16-06-32-001</td>\n      <td>FRL-DE-24-07-26-16-06-32-001</td>\n    </tr>\n    <tr>\n      <th>1</th>\n      <td>FBE230705004BKL</td>\n      <td>FBE230705004</td>\n      <td>FRL-DE-24-07-26-16-06-32-001-BKL</td>\n      <td>FRL-DE-24-07-26-16-06-32-001</td>\n    </tr>\n    <tr>\n      <th>2</th>\n      <td>FBE230705004BKL2</td>\n      <td>FBE230705004</td>\n      <td>FRL-DE-24-07-26-16-06-32-001-BKL2</td>\n      <td>FRL-DE-24-07-26-16-06-32-001</td>\n    </tr>\n    <tr>\n      <th>3</th>\n      <td>FBE230705004BKL3</td>\n      <td>FBE230705004</td>\n      <td>FRL-DE-24-07-26-16-06-32-001-BKL3</td>\n      <td>FRL-DE-24-07-26-16-06-32-001</td>\n    </tr>\n    <tr>\n      <th>4</th>\n      <td>FBE230705004BKM</td>\n      <td>FBE230705004</td>\n      <td>FRL-DE-24-07-26-16-06-32-001-BKM</td>\n      <td>FRL-DE-24-07-26-16-06-32-001</td>\n    </tr>\n    <tr>\n      <th>...</th>\n      <td>...</td>\n      <td>...</td>\n      <td>...</td>\n      <td>...</td>\n    </tr>\n    <tr>\n      <th>299</th>\n      <td>ZUQ210805001KHXL</td>\n      <td>ZUQ210805001</td>\n      <td>FRL-DE-24-07-26-16-06-32-012-KHXL</td>\n      <td>FRL-DE-24-07-26-16-06-32-012</td>\n    </tr>\n    <tr>\n      <th>300</th>\n      <td>ZUQ210805001WEL</td>\n      <td>ZUQ210805001</td>\n      <td>FRL-DE-24-07-26-16-06-32-012-WEL</td>\n      <td>FRL-DE-24-07-26-16-06-32-012</td>\n    </tr>\n    <tr>\n      <th>301</th>\n      <td>ZUQ210805001WEXL</td>\n      <td>ZUQ210805001</td>\n      <td>FRL-DE-24-07-26-16-06-32-012-WEXL</td>\n      <td>FRL-DE-24-07-26-16-06-32-012</td>\n    </tr>\n    <tr>\n      <th>302</th>\n      <td>ZYN230315007</td>\n      <td>ZYN230315007</td>\n      <td>FRL-DE-24-07-26-16-06-32-013</td>\n      <td>FRL-DE-24-07-26-16-06-32-013</td>\n    </tr>\n    <tr>\n      <th>303</th>\n      <td>ZYN230315007BK32</td>\n      <td>ZYN230315007</td>\n      <td>FRL-DE-24-07-26-16-06-32-013-BK32</td>\n      <td>FRL-DE-24-07-26-16-06-32-013</td>\n    </tr>\n  </tbody>\n</table>\n<p>246 rows × 4 columns</p>\n</div>"
     },
     "execution_count": 7,
     "metadata": {},
     "output_type": "execute_result"
    }
   ],
   "source": [
    "# ams = []\n",
    "# amps = []\n",
    "#\n",
    "# for i, (n, g) in enumerate(erp_df.groupby(by=['父SKU'])):\n",
    "#     for index, row in g.iterrows():\n",
    "#         am_sku = generate_amazon_sku(row['SKU'], 'FRL', 'DE', i + 1)\n",
    "#         am_psku = generate_amazon_sku(row['父SKU'], 'FRL', 'DE', i + 1)\n",
    "#         ams.append(am_sku)\n",
    "#         amps.append(am_psku)\n",
    "#\n",
    "# erp_df['amazon_sku'] = ams\n",
    "# erp_df['amazon_psku'] = amps\n",
    "# erp_df[['SKU', '父SKU', 'amazon_sku', 'amazon_psku']]"
   ],
   "metadata": {
    "collapsed": false,
    "pycharm": {
     "name": "#%%\n"
    }
   }
  },
  {
   "cell_type": "code",
   "execution_count": 8,
   "outputs": [
    {
     "data": {
      "text/plain": "    feed_product_type                           item_sku brand_name  \\\n0                 NaN       FRL-DE-24-07-26-16-06-32-001    Generic   \n1                 NaN   FRL-DE-24-07-26-16-06-32-001-BKL    Generic   \n2                 NaN  FRL-DE-24-07-26-16-06-32-001-BKL2    Generic   \n3                 NaN  FRL-DE-24-07-26-16-06-32-001-BKL3    Generic   \n4                 NaN   FRL-DE-24-07-26-16-06-32-001-BKM    Generic   \n..                ...                                ...        ...   \n299               NaN  FRL-DE-24-07-26-16-06-32-012-KHXL    Generic   \n300               NaN   FRL-DE-24-07-26-16-06-32-012-WEL    Generic   \n301               NaN  FRL-DE-24-07-26-16-06-32-012-WEXL    Generic   \n302               NaN       FRL-DE-24-07-26-16-06-32-013    Generic   \n303               NaN  FRL-DE-24-07-26-16-06-32-013-BK32    Generic   \n\n      update_delete external_product_id external_product_id_type item_name  \\\n0    Aktualisierung                 NaN                     GTIN       NaN   \n1    Aktualisierung                 NaN                     GTIN       NaN   \n2    Aktualisierung                 NaN                     GTIN       NaN   \n3    Aktualisierung                 NaN                     GTIN       NaN   \n4    Aktualisierung                 NaN                     GTIN       NaN   \n..              ...                 ...                      ...       ...   \n299  Aktualisierung                 NaN                     GTIN       NaN   \n300  Aktualisierung                 NaN                     GTIN       NaN   \n301  Aktualisierung                 NaN                     GTIN       NaN   \n302  Aktualisierung                 NaN                     GTIN       NaN   \n303  Aktualisierung                 NaN                     GTIN       NaN   \n\n    product_description recommended_browse_nodes outer_material_type  ...  \\\n0                   NaN                      NaN                 NaN  ...   \n1                   NaN                      NaN                 NaN  ...   \n2                   NaN                      NaN                 NaN  ...   \n3                   NaN                      NaN                 NaN  ...   \n4                   NaN                      NaN                 NaN  ...   \n..                  ...                      ...                 ...  ...   \n299                 NaN                      NaN                 NaN  ...   \n300                 NaN                      NaN                 NaN  ...   \n301                 NaN                      NaN                 NaN  ...   \n302                 NaN                      NaN                 NaN  ...   \n303                 NaN                      NaN                 NaN  ...   \n\n    progressive_discount_type progressive_discount_lower_bound1  \\\n0                         NaN                               NaN   \n1                         NaN                               NaN   \n2                         NaN                               NaN   \n3                         NaN                               NaN   \n4                         NaN                               NaN   \n..                        ...                               ...   \n299                       NaN                               NaN   \n300                       NaN                               NaN   \n301                       NaN                               NaN   \n302                       NaN                               NaN   \n303                       NaN                               NaN   \n\n    progressive_discount_value1 progressive_discount_lower_bound2  \\\n0                           NaN                               NaN   \n1                           NaN                               NaN   \n2                           NaN                               NaN   \n3                           NaN                               NaN   \n4                           NaN                               NaN   \n..                          ...                               ...   \n299                         NaN                               NaN   \n300                         NaN                               NaN   \n301                         NaN                               NaN   \n302                         NaN                               NaN   \n303                         NaN                               NaN   \n\n    progressive_discount_value2 progressive_discount_lower_bound3  \\\n0                           NaN                               NaN   \n1                           NaN                               NaN   \n2                           NaN                               NaN   \n3                           NaN                               NaN   \n4                           NaN                               NaN   \n..                          ...                               ...   \n299                         NaN                               NaN   \n300                         NaN                               NaN   \n301                         NaN                               NaN   \n302                         NaN                               NaN   \n303                         NaN                               NaN   \n\n    progressive_discount_value3 national_stock_number unspsc_code  \\\n0                           NaN                   NaN         NaN   \n1                           NaN                   NaN         NaN   \n2                           NaN                   NaN         NaN   \n3                           NaN                   NaN         NaN   \n4                           NaN                   NaN         NaN   \n..                          ...                   ...         ...   \n299                         NaN                   NaN         NaN   \n300                         NaN                   NaN         NaN   \n301                         NaN                   NaN         NaN   \n302                         NaN                   NaN         NaN   \n303                         NaN                   NaN         NaN   \n\n    pricing_action  \n0              NaN  \n1              NaN  \n2              NaN  \n3              NaN  \n4              NaN  \n..             ...  \n299            NaN  \n300            NaN  \n301            NaN  \n302            NaN  \n303            NaN  \n\n[246 rows x 236 columns]",
      "text/html": "<div>\n<style scoped>\n    .dataframe tbody tr th:only-of-type {\n        vertical-align: middle;\n    }\n\n    .dataframe tbody tr th {\n        vertical-align: top;\n    }\n\n    .dataframe thead th {\n        text-align: right;\n    }\n</style>\n<table border=\"1\" class=\"dataframe\">\n  <thead>\n    <tr style=\"text-align: right;\">\n      <th></th>\n      <th>feed_product_type</th>\n      <th>item_sku</th>\n      <th>brand_name</th>\n      <th>update_delete</th>\n      <th>external_product_id</th>\n      <th>external_product_id_type</th>\n      <th>item_name</th>\n      <th>product_description</th>\n      <th>recommended_browse_nodes</th>\n      <th>outer_material_type</th>\n      <th>...</th>\n      <th>progressive_discount_type</th>\n      <th>progressive_discount_lower_bound1</th>\n      <th>progressive_discount_value1</th>\n      <th>progressive_discount_lower_bound2</th>\n      <th>progressive_discount_value2</th>\n      <th>progressive_discount_lower_bound3</th>\n      <th>progressive_discount_value3</th>\n      <th>national_stock_number</th>\n      <th>unspsc_code</th>\n      <th>pricing_action</th>\n    </tr>\n  </thead>\n  <tbody>\n    <tr>\n      <th>0</th>\n      <td>NaN</td>\n      <td>FRL-DE-24-07-26-16-06-32-001</td>\n      <td>Generic</td>\n      <td>Aktualisierung</td>\n      <td>NaN</td>\n      <td>GTIN</td>\n      <td>NaN</td>\n      <td>NaN</td>\n      <td>NaN</td>\n      <td>NaN</td>\n      <td>...</td>\n      <td>NaN</td>\n      <td>NaN</td>\n      <td>NaN</td>\n      <td>NaN</td>\n      <td>NaN</td>\n      <td>NaN</td>\n      <td>NaN</td>\n      <td>NaN</td>\n      <td>NaN</td>\n      <td>NaN</td>\n    </tr>\n    <tr>\n      <th>1</th>\n      <td>NaN</td>\n      <td>FRL-DE-24-07-26-16-06-32-001-BKL</td>\n      <td>Generic</td>\n      <td>Aktualisierung</td>\n      <td>NaN</td>\n      <td>GTIN</td>\n      <td>NaN</td>\n      <td>NaN</td>\n      <td>NaN</td>\n      <td>NaN</td>\n      <td>...</td>\n      <td>NaN</td>\n      <td>NaN</td>\n      <td>NaN</td>\n      <td>NaN</td>\n      <td>NaN</td>\n      <td>NaN</td>\n      <td>NaN</td>\n      <td>NaN</td>\n      <td>NaN</td>\n      <td>NaN</td>\n    </tr>\n    <tr>\n      <th>2</th>\n      <td>NaN</td>\n      <td>FRL-DE-24-07-26-16-06-32-001-BKL2</td>\n      <td>Generic</td>\n      <td>Aktualisierung</td>\n      <td>NaN</td>\n      <td>GTIN</td>\n      <td>NaN</td>\n      <td>NaN</td>\n      <td>NaN</td>\n      <td>NaN</td>\n      <td>...</td>\n      <td>NaN</td>\n      <td>NaN</td>\n      <td>NaN</td>\n      <td>NaN</td>\n      <td>NaN</td>\n      <td>NaN</td>\n      <td>NaN</td>\n      <td>NaN</td>\n      <td>NaN</td>\n      <td>NaN</td>\n    </tr>\n    <tr>\n      <th>3</th>\n      <td>NaN</td>\n      <td>FRL-DE-24-07-26-16-06-32-001-BKL3</td>\n      <td>Generic</td>\n      <td>Aktualisierung</td>\n      <td>NaN</td>\n      <td>GTIN</td>\n      <td>NaN</td>\n      <td>NaN</td>\n      <td>NaN</td>\n      <td>NaN</td>\n      <td>...</td>\n      <td>NaN</td>\n      <td>NaN</td>\n      <td>NaN</td>\n      <td>NaN</td>\n      <td>NaN</td>\n      <td>NaN</td>\n      <td>NaN</td>\n      <td>NaN</td>\n      <td>NaN</td>\n      <td>NaN</td>\n    </tr>\n    <tr>\n      <th>4</th>\n      <td>NaN</td>\n      <td>FRL-DE-24-07-26-16-06-32-001-BKM</td>\n      <td>Generic</td>\n      <td>Aktualisierung</td>\n      <td>NaN</td>\n      <td>GTIN</td>\n      <td>NaN</td>\n      <td>NaN</td>\n      <td>NaN</td>\n      <td>NaN</td>\n      <td>...</td>\n      <td>NaN</td>\n      <td>NaN</td>\n      <td>NaN</td>\n      <td>NaN</td>\n      <td>NaN</td>\n      <td>NaN</td>\n      <td>NaN</td>\n      <td>NaN</td>\n      <td>NaN</td>\n      <td>NaN</td>\n    </tr>\n    <tr>\n      <th>...</th>\n      <td>...</td>\n      <td>...</td>\n      <td>...</td>\n      <td>...</td>\n      <td>...</td>\n      <td>...</td>\n      <td>...</td>\n      <td>...</td>\n      <td>...</td>\n      <td>...</td>\n      <td>...</td>\n      <td>...</td>\n      <td>...</td>\n      <td>...</td>\n      <td>...</td>\n      <td>...</td>\n      <td>...</td>\n      <td>...</td>\n      <td>...</td>\n      <td>...</td>\n      <td>...</td>\n    </tr>\n    <tr>\n      <th>299</th>\n      <td>NaN</td>\n      <td>FRL-DE-24-07-26-16-06-32-012-KHXL</td>\n      <td>Generic</td>\n      <td>Aktualisierung</td>\n      <td>NaN</td>\n      <td>GTIN</td>\n      <td>NaN</td>\n      <td>NaN</td>\n      <td>NaN</td>\n      <td>NaN</td>\n      <td>...</td>\n      <td>NaN</td>\n      <td>NaN</td>\n      <td>NaN</td>\n      <td>NaN</td>\n      <td>NaN</td>\n      <td>NaN</td>\n      <td>NaN</td>\n      <td>NaN</td>\n      <td>NaN</td>\n      <td>NaN</td>\n    </tr>\n    <tr>\n      <th>300</th>\n      <td>NaN</td>\n      <td>FRL-DE-24-07-26-16-06-32-012-WEL</td>\n      <td>Generic</td>\n      <td>Aktualisierung</td>\n      <td>NaN</td>\n      <td>GTIN</td>\n      <td>NaN</td>\n      <td>NaN</td>\n      <td>NaN</td>\n      <td>NaN</td>\n      <td>...</td>\n      <td>NaN</td>\n      <td>NaN</td>\n      <td>NaN</td>\n      <td>NaN</td>\n      <td>NaN</td>\n      <td>NaN</td>\n      <td>NaN</td>\n      <td>NaN</td>\n      <td>NaN</td>\n      <td>NaN</td>\n    </tr>\n    <tr>\n      <th>301</th>\n      <td>NaN</td>\n      <td>FRL-DE-24-07-26-16-06-32-012-WEXL</td>\n      <td>Generic</td>\n      <td>Aktualisierung</td>\n      <td>NaN</td>\n      <td>GTIN</td>\n      <td>NaN</td>\n      <td>NaN</td>\n      <td>NaN</td>\n      <td>NaN</td>\n      <td>...</td>\n      <td>NaN</td>\n      <td>NaN</td>\n      <td>NaN</td>\n      <td>NaN</td>\n      <td>NaN</td>\n      <td>NaN</td>\n      <td>NaN</td>\n      <td>NaN</td>\n      <td>NaN</td>\n      <td>NaN</td>\n    </tr>\n    <tr>\n      <th>302</th>\n      <td>NaN</td>\n      <td>FRL-DE-24-07-26-16-06-32-013</td>\n      <td>Generic</td>\n      <td>Aktualisierung</td>\n      <td>NaN</td>\n      <td>GTIN</td>\n      <td>NaN</td>\n      <td>NaN</td>\n      <td>NaN</td>\n      <td>NaN</td>\n      <td>...</td>\n      <td>NaN</td>\n      <td>NaN</td>\n      <td>NaN</td>\n      <td>NaN</td>\n      <td>NaN</td>\n      <td>NaN</td>\n      <td>NaN</td>\n      <td>NaN</td>\n      <td>NaN</td>\n      <td>NaN</td>\n    </tr>\n    <tr>\n      <th>303</th>\n      <td>NaN</td>\n      <td>FRL-DE-24-07-26-16-06-32-013-BK32</td>\n      <td>Generic</td>\n      <td>Aktualisierung</td>\n      <td>NaN</td>\n      <td>GTIN</td>\n      <td>NaN</td>\n      <td>NaN</td>\n      <td>NaN</td>\n      <td>NaN</td>\n      <td>...</td>\n      <td>NaN</td>\n      <td>NaN</td>\n      <td>NaN</td>\n      <td>NaN</td>\n      <td>NaN</td>\n      <td>NaN</td>\n      <td>NaN</td>\n      <td>NaN</td>\n      <td>NaN</td>\n      <td>NaN</td>\n    </tr>\n  </tbody>\n</table>\n<p>246 rows × 236 columns</p>\n</div>"
     },
     "execution_count": 8,
     "metadata": {},
     "output_type": "execute_result"
    }
   ],
   "source": [
    "df['item_sku'] = erp_df['amazon_sku']\n",
    "df['brand_name'] = 'Generic'\n",
    "df['update_delete'] = 'Aktualisierung'\n",
    "df['external_product_id_type'] = 'GTIN'\n",
    "df['parent_child'] = erp_df['parent_child']\n",
    "df['country_of_origin'] = 'China'\n",
    "df"
   ],
   "metadata": {
    "collapsed": false,
    "pycharm": {
     "name": "#%%\n"
    }
   }
  },
  {
   "cell_type": "markdown",
   "source": [
    "## （012/012）需根据情况自行设置的定值\n",
    "\n",
    "| **参数**                                           | **是否必填** | **默认值** | **可选值** |\n",
    "|----------------------------------|----------|------------------------|----------|\n",
    "| **feed_product_type**            | required | 下拉框的第一个值               | pants |\n",
    "| **outer_material_type**          | required | Polyester              | Alpaka, Angora, Baumwolle, Cord, Daunen, Filz, Fleece, Glattleder, Gummi, Hanf, Jeans, Kaschmir, Lackleder, Leder, Leinen, Merino, Mohair, Pailletten, Pelz, Pelzimitat, Samt, Satin, Seide, Synthetisch, Wildleder, Wolle, Angorawolle, Fur, Fellimitat, Paillettenbesetzt, Kashmir, Synthetik, Denim |\n",
    "| **recommended_browse_nodes**          | required | https://sellercentral-europe.amazon.com/gp/help/1641/ref=ag_1641_cont_200700310        | 26086536031, 3024143031, 1981399031 |\n",
    "| **care_instructions**            | required | Maschinenwäsche        | Maschinenwäsche, Nur chemische Reinigung., Nur Handwäsche |\n",
    "| **closure_type**                 | required | Pull-on                | Bindegürtel, Druckknopf, Haken, Knopfleiste, ReiBverschluss, Tunnelzug, Klettverschluss, Schnalle, Haken und Ose, Haken und Stange, Pull On |\n",
    "| **merchant_shipping_group_name** | required | 0                      | Standardvorlage Amazon, 0 |\n",
    "| **target_gender**                | required | 男士Männlich，女士Weiblich  | Männlich, Weiblich, Unisex |\n",
    "| **age_range_description**        | required | 成人Erwachsener          | Erwachsener, Baby, Kind, Kleinkind |\n",
    "| **variation_theme**              | required | color-size             | ItemPackageQuantity-Material, ItemPackageQuantity, Color, color-size, Size, Material, Size-Material, Farbartikelpaketmenge, Itempackagequantity-Size, Color-Material, SizeColor, SizeName-ColorName, SizeName |\n",
    "| **lifestyle**                    | required | Casual                 | Abendmode, Business, Casual, Feierliche Anlasse, Arbeit, Mutterschaft, Stillen, Athletisch, Lassig, Themenorientiert, Kinder-Spielkleidung, Uniform, Kleid, Exotisch |\n",
    "| **style_name**                   | required | Casual                 | Baggy, Boot-Cut, Boyfriend, Bundfalten, Capri, Cargo, Chino, Harem, Jeggings, Karotte, Latzhose, Relaxed, Schlaghose, Skinny, Slim, Straight Leg, Tapered, Drop Crotch, Palazzo, Jogginghose, Matrosenhose |\n",
    "| **department_name**              | required | 默认值Damen               | Baby -Jungen, Baby - Madchen, Damen, Herren, Jungen, Madchen, Unisex Baby, Unisex Kinder, Unisex |\n"
   ],
   "metadata": {
    "collapsed": false
   }
  },
  {
   "cell_type": "code",
   "execution_count": 9,
   "outputs": [],
   "source": [
    "df['feed_product_type'] = 'pants'\n",
    "df['outer_material_type'] = 'Polyester'\n",
    "df['recommended_browse_nodes'] = 1981399031\n",
    "df['care_instructions'] = 'Maschinenwäsche'\n",
    "df['closure_type'] = 'Pull-on'\n",
    "df['merchant_shipping_group_name'] = 0\n",
    "df['target_gender'] = 'Männlich'\n",
    "df['age_range_description'] = 'Erwachsener'\n",
    "df['variation_theme'] = 'color-size'\n",
    "df['lifestyle'] = 'Casual'\n",
    "df['style_name'] = 'Casual'\n",
    "df['department_name'] = 'Herren'"
   ],
   "metadata": {
    "collapsed": false,
    "pycharm": {
     "name": "#%%\n"
    }
   }
  },
  {
   "cell_type": "markdown",
   "source": [
    "## （008/008）需根据情况自行设置的变值\n",
    "\n",
    "| **参数**                                           | **是否必填** | **默认值** |\n",
    "|----------------------------------|----------|------------------------|\n",
    "| **item_name**                    | required | 标题                     |\n",
    "| **product_description**          | required | 描述，需要转为html格式          |\n",
    "| **generic_keywords**             | required | 250st                  |\n",
    "| **bullet_point1**                | required |                        |\n",
    "| **bullet_point2**                | required |                        |\n",
    "| **bullet_point3**                | required |                        |\n",
    "| **bullet_point4**                | required |                        |\n",
    "| **bullet_point5**                | required |                        |\n"
   ],
   "metadata": {
    "collapsed": false,
    "pycharm": {
     "name": "#%% md\n"
    }
   }
  },
  {
   "cell_type": "code",
   "execution_count": 10,
   "outputs": [
    {
     "data": {
      "text/plain": "                  SKU          父SKU  产品缩略图  \\\n0        FBE230705004  FBE230705004    NaN   \n1     FBE230705004BKL  FBE230705004    NaN   \n2    FBE230705004BKL2  FBE230705004    NaN   \n3    FBE230705004BKL3  FBE230705004    NaN   \n4     FBE230705004BKM  FBE230705004    NaN   \n..                ...           ...    ...   \n299  ZUQ210805001KHXL  ZUQ210805001    NaN   \n300   ZUQ210805001WEL  ZUQ210805001    NaN   \n301  ZUQ210805001WEXL  ZUQ210805001    NaN   \n302      ZYN230315007  ZYN230315007    NaN   \n303  ZYN230315007BK32  ZYN230315007    NaN   \n\n                                                  产品类型  \\\n0    普通产品 -> Clothing Shoes & Accessories -> 男装 -> ...   \n1    普通产品 -> Clothing Shoes & Accessories -> 男装 -> ...   \n2    普通产品 -> Clothing Shoes & Accessories -> 男装 -> ...   \n3    普通产品 -> Clothing Shoes & Accessories -> 男装 -> ...   \n4    普通产品 -> Clothing Shoes & Accessories -> 男装 -> ...   \n..                                                 ...   \n299  普通产品 -> Clothing Shoes & Accessories -> 男装 -> ...   \n300  普通产品 -> Clothing Shoes & Accessories -> 男装 -> ...   \n301  普通产品 -> Clothing Shoes & Accessories -> 男装 -> ...   \n302  普通产品 -> Clothing Shoes & Accessories -> 男装 -> ...   \n303  普通产品 -> Clothing Shoes & Accessories -> 男装 -> ...   \n\n                                                    标题  \\\n0    Mens Casual Waist Color Sports Hat Woven Pocke...   \n1    Mens Casual Waist Color Sports Hat Multi Woven...   \n2    Mens Casual Waist Color Sports Hat Multi Woven...   \n3    Mens Casual Waist Color Sports Hat Multi Woven...   \n4    Mens Casual Waist Color Sports Hat Multi Woven...   \n..                                                 ...   \n299  Men's Thin Trousers Solid Color High Waist Ela...   \n300  Men's Thin Trousers Solid Color High Waist Ela...   \n301  Men's Thin Trousers Solid Color High Waist Ela...   \n302  Men's Fashion Loose Large Cotton Shorts Men's ...   \n303  Men's Fashion Loose Large Cotton Shorts Men's ...   \n\n                                      产品名称  \\\n0            男士四季街头休闲运动多口袋脚口帽绳腰间系带纯色工装长裤卫裤   \n1       男士四季街头休闲运动多口袋脚口帽绳腰间系带纯色工装长裤卫裤 黑色 L   \n2     男士四季街头休闲运动多口袋脚口帽绳腰间系带纯色工装长裤卫裤 黑色 XXL   \n3    男士四季街头休闲运动多口袋脚口帽绳腰间系带纯色工装长裤卫裤 黑色 XXXL   \n4       男士四季街头休闲运动多口袋脚口帽绳腰间系带纯色工装长裤卫裤 黑色 M   \n..                                     ...   \n299           男士薄款纯色高腰弹力休闲商务西装长裤 卡其色 XL 32   \n300            男士薄款纯色高腰弹力休闲商务西装长裤 酒红色 L 31   \n301           男士薄款纯色高腰弹力休闲商务西装长裤 酒红色 XL 32   \n302               男士潮宽松大码棉短裤男多口袋休闲街头风七分工装裤   \n303         男士潮宽松大码棉短裤男多口袋休闲街头风七分工装裤 黑色 32   \n\n                                                    描述  \\\n0    <h1 align=\"center\"><span style=\"font-size:14pt...   \n1    <h1 align=\"center\"><span style=\"font-size:14pt...   \n2    <h1 align=\"center\"><span style=\"font-size:14pt...   \n3    <h1 align=\"center\"><span style=\"font-size:14pt...   \n4    <h1 align=\"center\"><span style=\"font-size:14pt...   \n..                                                 ...   \n299  <h1 align=\"center\"><span style=\"font-size:14pt...   \n300  <h1 align=\"center\"><span style=\"font-size:14pt...   \n301  <h1 align=\"center\"><span style=\"font-size:14pt...   \n302  <h1 align=\"center\"><span style=\"font-size:14pt...   \n303  <h1 align=\"center\"><span style=\"font-size:14pt...   \n\n                             颜色                            尺寸     亚马逊尺寸  ...  \\\n0    Black,Grey,Khaki,Dark Gray               M,L,XL,XXL,XXXL       NaN  ...   \n1                         Black                             L     Large  ...   \n2                         Black                           XXL  XX-Large  ...   \n3                         Black                          XXXL  3X-Large  ...   \n4                         Black                             M    Medium  ...   \n..                          ...                           ...       ...  ...   \n299                       Khaki                            XL   X-Large  ...   \n300                        Wine                             L     Large  ...   \n301                        Wine                            XL   X-Large  ...   \n302  Black,Beige,Khaki,Brown,AG  29,30,31,32,33,34,36,A,B,C,D       NaN  ...   \n303                       Black                            32       NaN  ...   \n\n                                              S3图片链接 9 子图链接   长   宽    高  \\\n0    https://lg29bdziw7erh33a.imgsapp.com/afsd/0290...  NaN  30  20  3.0   \n1                                                  NaN  NaN  34  22  1.0   \n2                                                  NaN  NaN  34  22  1.0   \n3                                                  NaN  NaN  34  22  1.0   \n4                                                  NaN  NaN  34  22  1.0   \n..                                                 ...  ...  ..  ..  ...   \n299  https://h1j5vfmwyrvs0tcz.imgsapp.com/afsd/5953...  NaN  34  20  2.0   \n300  https://q3ohinf7053vj4mk.imgsapp.com/afsd/5953...  NaN  40  35  1.0   \n301  https://wzgtchmjc7fke2w2.imgsapp.com/afsd/5953...  NaN  29  20  4.0   \n302  https://u0ccd73bi3lghs3c.imgsapp.com/afsd/7969...  NaN  25  25  2.0   \n303  https://64fihedpsrv3gd2b.imgsapp.com/afsd/7969...  NaN  36  25  3.0   \n\n                                                   尺码表  印花名称  parent_child  \\\n0    Size: M Waist: 72-82cm/28.35-32.28'' Hip: 108c...   NaN        Parent   \n1    Size: M Waist: 72-82cm/28.35-32.28'' Hip: 108c...   NaN         Child   \n2    Size: M Waist: 72-82cm/28.35-32.28'' Hip: 108c...   NaN         Child   \n3    Size: M Waist: 72-82cm/28.35-32.28'' Hip: 108c...   NaN         Child   \n4    Size: M Waist: 72-82cm/28.35-32.28'' Hip: 108c...   NaN         Child   \n..                                                 ...   ...           ...   \n299  Size: M Waist: 78cm/30.71'' Hip: 94cm/37.01'' ...   NaN         Child   \n300  Size: M Waist: 78cm/30.71'' Hip: 94cm/37.01'' ...   NaN         Child   \n301  Size: M Waist: 78cm/30.71'' Hip: 94cm/37.01'' ...   NaN         Child   \n302  Size: 29 Waist: 73cm/28.74'' Hip: 100cm/39.37'...   NaN        Parent   \n303  Size: 29 Waist: 73cm/28.74'' Hip: 100cm/39.37'...   NaN         Child   \n\n                            amazon_sku                   amazon_psku  \n0         FRL-DE-24-07-26-16-06-32-001  FRL-DE-24-07-26-16-06-32-001  \n1     FRL-DE-24-07-26-16-06-32-001-BKL  FRL-DE-24-07-26-16-06-32-001  \n2    FRL-DE-24-07-26-16-06-32-001-BKL2  FRL-DE-24-07-26-16-06-32-001  \n3    FRL-DE-24-07-26-16-06-32-001-BKL3  FRL-DE-24-07-26-16-06-32-001  \n4     FRL-DE-24-07-26-16-06-32-001-BKM  FRL-DE-24-07-26-16-06-32-001  \n..                                 ...                           ...  \n299  FRL-DE-24-07-26-16-06-32-012-KHXL  FRL-DE-24-07-26-16-06-32-012  \n300   FRL-DE-24-07-26-16-06-32-012-WEL  FRL-DE-24-07-26-16-06-32-012  \n301  FRL-DE-24-07-26-16-06-32-012-WEXL  FRL-DE-24-07-26-16-06-32-012  \n302       FRL-DE-24-07-26-16-06-32-013  FRL-DE-24-07-26-16-06-32-013  \n303  FRL-DE-24-07-26-16-06-32-013-BK32  FRL-DE-24-07-26-16-06-32-013  \n\n[246 rows x 67 columns]",
      "text/html": "<div>\n<style scoped>\n    .dataframe tbody tr th:only-of-type {\n        vertical-align: middle;\n    }\n\n    .dataframe tbody tr th {\n        vertical-align: top;\n    }\n\n    .dataframe thead th {\n        text-align: right;\n    }\n</style>\n<table border=\"1\" class=\"dataframe\">\n  <thead>\n    <tr style=\"text-align: right;\">\n      <th></th>\n      <th>SKU</th>\n      <th>父SKU</th>\n      <th>产品缩略图</th>\n      <th>产品类型</th>\n      <th>标题</th>\n      <th>产品名称</th>\n      <th>描述</th>\n      <th>颜色</th>\n      <th>尺寸</th>\n      <th>亚马逊尺寸</th>\n      <th>...</th>\n      <th>S3图片链接 9</th>\n      <th>子图链接</th>\n      <th>长</th>\n      <th>宽</th>\n      <th>高</th>\n      <th>尺码表</th>\n      <th>印花名称</th>\n      <th>parent_child</th>\n      <th>amazon_sku</th>\n      <th>amazon_psku</th>\n    </tr>\n  </thead>\n  <tbody>\n    <tr>\n      <th>0</th>\n      <td>FBE230705004</td>\n      <td>FBE230705004</td>\n      <td>NaN</td>\n      <td>普通产品 -&gt; Clothing Shoes &amp; Accessories -&gt; 男装 -&gt; ...</td>\n      <td>Mens Casual Waist Color Sports Hat Woven Pocke...</td>\n      <td>男士四季街头休闲运动多口袋脚口帽绳腰间系带纯色工装长裤卫裤</td>\n      <td>&lt;h1 align=\"center\"&gt;&lt;span style=\"font-size:14pt...</td>\n      <td>Black,Grey,Khaki,Dark Gray</td>\n      <td>M,L,XL,XXL,XXXL</td>\n      <td>NaN</td>\n      <td>...</td>\n      <td>https://lg29bdziw7erh33a.imgsapp.com/afsd/0290...</td>\n      <td>NaN</td>\n      <td>30</td>\n      <td>20</td>\n      <td>3.0</td>\n      <td>Size: M Waist: 72-82cm/28.35-32.28'' Hip: 108c...</td>\n      <td>NaN</td>\n      <td>Parent</td>\n      <td>FRL-DE-24-07-26-16-06-32-001</td>\n      <td>FRL-DE-24-07-26-16-06-32-001</td>\n    </tr>\n    <tr>\n      <th>1</th>\n      <td>FBE230705004BKL</td>\n      <td>FBE230705004</td>\n      <td>NaN</td>\n      <td>普通产品 -&gt; Clothing Shoes &amp; Accessories -&gt; 男装 -&gt; ...</td>\n      <td>Mens Casual Waist Color Sports Hat Multi Woven...</td>\n      <td>男士四季街头休闲运动多口袋脚口帽绳腰间系带纯色工装长裤卫裤 黑色 L</td>\n      <td>&lt;h1 align=\"center\"&gt;&lt;span style=\"font-size:14pt...</td>\n      <td>Black</td>\n      <td>L</td>\n      <td>Large</td>\n      <td>...</td>\n      <td>NaN</td>\n      <td>NaN</td>\n      <td>34</td>\n      <td>22</td>\n      <td>1.0</td>\n      <td>Size: M Waist: 72-82cm/28.35-32.28'' Hip: 108c...</td>\n      <td>NaN</td>\n      <td>Child</td>\n      <td>FRL-DE-24-07-26-16-06-32-001-BKL</td>\n      <td>FRL-DE-24-07-26-16-06-32-001</td>\n    </tr>\n    <tr>\n      <th>2</th>\n      <td>FBE230705004BKL2</td>\n      <td>FBE230705004</td>\n      <td>NaN</td>\n      <td>普通产品 -&gt; Clothing Shoes &amp; Accessories -&gt; 男装 -&gt; ...</td>\n      <td>Mens Casual Waist Color Sports Hat Multi Woven...</td>\n      <td>男士四季街头休闲运动多口袋脚口帽绳腰间系带纯色工装长裤卫裤 黑色 XXL</td>\n      <td>&lt;h1 align=\"center\"&gt;&lt;span style=\"font-size:14pt...</td>\n      <td>Black</td>\n      <td>XXL</td>\n      <td>XX-Large</td>\n      <td>...</td>\n      <td>NaN</td>\n      <td>NaN</td>\n      <td>34</td>\n      <td>22</td>\n      <td>1.0</td>\n      <td>Size: M Waist: 72-82cm/28.35-32.28'' Hip: 108c...</td>\n      <td>NaN</td>\n      <td>Child</td>\n      <td>FRL-DE-24-07-26-16-06-32-001-BKL2</td>\n      <td>FRL-DE-24-07-26-16-06-32-001</td>\n    </tr>\n    <tr>\n      <th>3</th>\n      <td>FBE230705004BKL3</td>\n      <td>FBE230705004</td>\n      <td>NaN</td>\n      <td>普通产品 -&gt; Clothing Shoes &amp; Accessories -&gt; 男装 -&gt; ...</td>\n      <td>Mens Casual Waist Color Sports Hat Multi Woven...</td>\n      <td>男士四季街头休闲运动多口袋脚口帽绳腰间系带纯色工装长裤卫裤 黑色 XXXL</td>\n      <td>&lt;h1 align=\"center\"&gt;&lt;span style=\"font-size:14pt...</td>\n      <td>Black</td>\n      <td>XXXL</td>\n      <td>3X-Large</td>\n      <td>...</td>\n      <td>NaN</td>\n      <td>NaN</td>\n      <td>34</td>\n      <td>22</td>\n      <td>1.0</td>\n      <td>Size: M Waist: 72-82cm/28.35-32.28'' Hip: 108c...</td>\n      <td>NaN</td>\n      <td>Child</td>\n      <td>FRL-DE-24-07-26-16-06-32-001-BKL3</td>\n      <td>FRL-DE-24-07-26-16-06-32-001</td>\n    </tr>\n    <tr>\n      <th>4</th>\n      <td>FBE230705004BKM</td>\n      <td>FBE230705004</td>\n      <td>NaN</td>\n      <td>普通产品 -&gt; Clothing Shoes &amp; Accessories -&gt; 男装 -&gt; ...</td>\n      <td>Mens Casual Waist Color Sports Hat Multi Woven...</td>\n      <td>男士四季街头休闲运动多口袋脚口帽绳腰间系带纯色工装长裤卫裤 黑色 M</td>\n      <td>&lt;h1 align=\"center\"&gt;&lt;span style=\"font-size:14pt...</td>\n      <td>Black</td>\n      <td>M</td>\n      <td>Medium</td>\n      <td>...</td>\n      <td>NaN</td>\n      <td>NaN</td>\n      <td>34</td>\n      <td>22</td>\n      <td>1.0</td>\n      <td>Size: M Waist: 72-82cm/28.35-32.28'' Hip: 108c...</td>\n      <td>NaN</td>\n      <td>Child</td>\n      <td>FRL-DE-24-07-26-16-06-32-001-BKM</td>\n      <td>FRL-DE-24-07-26-16-06-32-001</td>\n    </tr>\n    <tr>\n      <th>...</th>\n      <td>...</td>\n      <td>...</td>\n      <td>...</td>\n      <td>...</td>\n      <td>...</td>\n      <td>...</td>\n      <td>...</td>\n      <td>...</td>\n      <td>...</td>\n      <td>...</td>\n      <td>...</td>\n      <td>...</td>\n      <td>...</td>\n      <td>...</td>\n      <td>...</td>\n      <td>...</td>\n      <td>...</td>\n      <td>...</td>\n      <td>...</td>\n      <td>...</td>\n      <td>...</td>\n    </tr>\n    <tr>\n      <th>299</th>\n      <td>ZUQ210805001KHXL</td>\n      <td>ZUQ210805001</td>\n      <td>NaN</td>\n      <td>普通产品 -&gt; Clothing Shoes &amp; Accessories -&gt; 男装 -&gt; ...</td>\n      <td>Men's Thin Trousers Solid Color High Waist Ela...</td>\n      <td>男士薄款纯色高腰弹力休闲商务西装长裤 卡其色 XL 32</td>\n      <td>&lt;h1 align=\"center\"&gt;&lt;span style=\"font-size:14pt...</td>\n      <td>Khaki</td>\n      <td>XL</td>\n      <td>X-Large</td>\n      <td>...</td>\n      <td>https://h1j5vfmwyrvs0tcz.imgsapp.com/afsd/5953...</td>\n      <td>NaN</td>\n      <td>34</td>\n      <td>20</td>\n      <td>2.0</td>\n      <td>Size: M Waist: 78cm/30.71'' Hip: 94cm/37.01'' ...</td>\n      <td>NaN</td>\n      <td>Child</td>\n      <td>FRL-DE-24-07-26-16-06-32-012-KHXL</td>\n      <td>FRL-DE-24-07-26-16-06-32-012</td>\n    </tr>\n    <tr>\n      <th>300</th>\n      <td>ZUQ210805001WEL</td>\n      <td>ZUQ210805001</td>\n      <td>NaN</td>\n      <td>普通产品 -&gt; Clothing Shoes &amp; Accessories -&gt; 男装 -&gt; ...</td>\n      <td>Men's Thin Trousers Solid Color High Waist Ela...</td>\n      <td>男士薄款纯色高腰弹力休闲商务西装长裤 酒红色 L 31</td>\n      <td>&lt;h1 align=\"center\"&gt;&lt;span style=\"font-size:14pt...</td>\n      <td>Wine</td>\n      <td>L</td>\n      <td>Large</td>\n      <td>...</td>\n      <td>https://q3ohinf7053vj4mk.imgsapp.com/afsd/5953...</td>\n      <td>NaN</td>\n      <td>40</td>\n      <td>35</td>\n      <td>1.0</td>\n      <td>Size: M Waist: 78cm/30.71'' Hip: 94cm/37.01'' ...</td>\n      <td>NaN</td>\n      <td>Child</td>\n      <td>FRL-DE-24-07-26-16-06-32-012-WEL</td>\n      <td>FRL-DE-24-07-26-16-06-32-012</td>\n    </tr>\n    <tr>\n      <th>301</th>\n      <td>ZUQ210805001WEXL</td>\n      <td>ZUQ210805001</td>\n      <td>NaN</td>\n      <td>普通产品 -&gt; Clothing Shoes &amp; Accessories -&gt; 男装 -&gt; ...</td>\n      <td>Men's Thin Trousers Solid Color High Waist Ela...</td>\n      <td>男士薄款纯色高腰弹力休闲商务西装长裤 酒红色 XL 32</td>\n      <td>&lt;h1 align=\"center\"&gt;&lt;span style=\"font-size:14pt...</td>\n      <td>Wine</td>\n      <td>XL</td>\n      <td>X-Large</td>\n      <td>...</td>\n      <td>https://wzgtchmjc7fke2w2.imgsapp.com/afsd/5953...</td>\n      <td>NaN</td>\n      <td>29</td>\n      <td>20</td>\n      <td>4.0</td>\n      <td>Size: M Waist: 78cm/30.71'' Hip: 94cm/37.01'' ...</td>\n      <td>NaN</td>\n      <td>Child</td>\n      <td>FRL-DE-24-07-26-16-06-32-012-WEXL</td>\n      <td>FRL-DE-24-07-26-16-06-32-012</td>\n    </tr>\n    <tr>\n      <th>302</th>\n      <td>ZYN230315007</td>\n      <td>ZYN230315007</td>\n      <td>NaN</td>\n      <td>普通产品 -&gt; Clothing Shoes &amp; Accessories -&gt; 男装 -&gt; ...</td>\n      <td>Men's Fashion Loose Large Cotton Shorts Men's ...</td>\n      <td>男士潮宽松大码棉短裤男多口袋休闲街头风七分工装裤</td>\n      <td>&lt;h1 align=\"center\"&gt;&lt;span style=\"font-size:14pt...</td>\n      <td>Black,Beige,Khaki,Brown,AG</td>\n      <td>29,30,31,32,33,34,36,A,B,C,D</td>\n      <td>NaN</td>\n      <td>...</td>\n      <td>https://u0ccd73bi3lghs3c.imgsapp.com/afsd/7969...</td>\n      <td>NaN</td>\n      <td>25</td>\n      <td>25</td>\n      <td>2.0</td>\n      <td>Size: 29 Waist: 73cm/28.74'' Hip: 100cm/39.37'...</td>\n      <td>NaN</td>\n      <td>Parent</td>\n      <td>FRL-DE-24-07-26-16-06-32-013</td>\n      <td>FRL-DE-24-07-26-16-06-32-013</td>\n    </tr>\n    <tr>\n      <th>303</th>\n      <td>ZYN230315007BK32</td>\n      <td>ZYN230315007</td>\n      <td>NaN</td>\n      <td>普通产品 -&gt; Clothing Shoes &amp; Accessories -&gt; 男装 -&gt; ...</td>\n      <td>Men's Fashion Loose Large Cotton Shorts Men's ...</td>\n      <td>男士潮宽松大码棉短裤男多口袋休闲街头风七分工装裤 黑色 32</td>\n      <td>&lt;h1 align=\"center\"&gt;&lt;span style=\"font-size:14pt...</td>\n      <td>Black</td>\n      <td>32</td>\n      <td>NaN</td>\n      <td>...</td>\n      <td>https://64fihedpsrv3gd2b.imgsapp.com/afsd/7969...</td>\n      <td>NaN</td>\n      <td>36</td>\n      <td>25</td>\n      <td>3.0</td>\n      <td>Size: 29 Waist: 73cm/28.74'' Hip: 100cm/39.37'...</td>\n      <td>NaN</td>\n      <td>Child</td>\n      <td>FRL-DE-24-07-26-16-06-32-013-BK32</td>\n      <td>FRL-DE-24-07-26-16-06-32-013</td>\n    </tr>\n  </tbody>\n</table>\n<p>246 rows × 67 columns</p>\n</div>"
     },
     "execution_count": 10,
     "metadata": {},
     "output_type": "execute_result"
    }
   ],
   "source": [
    "erp_df"
   ],
   "metadata": {
    "collapsed": false,
    "pycharm": {
     "name": "#%%\n"
    }
   }
  },
  {
   "cell_type": "code",
   "execution_count": 11,
   "outputs": [
    {
     "name": "stderr",
     "output_type": "stream",
     "text": [
      "C:\\Users\\000\\AppData\\Local\\Temp\\ipykernel_8364\\3826962489.py:28: SettingWithCopyWarning: \n",
      "A value is trying to be set on a copy of a slice from a DataFrame.\n",
      "Try using .loc[row_indexer,col_indexer] = value instead\n",
      "\n",
      "See the caveats in the documentation: https://pandas.pydata.org/pandas-docs/stable/user_guide/indexing.html#returning-a-view-versus-a-copy\n",
      "  erp_df['title'] = erp_df['父SKU'].map(title_allocation)\n"
     ]
    },
    {
     "data": {
      "text/plain": "                  SKU          父SKU  产品缩略图  \\\n0        FBE230705004  FBE230705004    NaN   \n1     FBE230705004BKL  FBE230705004    NaN   \n2    FBE230705004BKL2  FBE230705004    NaN   \n3    FBE230705004BKL3  FBE230705004    NaN   \n4     FBE230705004BKM  FBE230705004    NaN   \n..                ...           ...    ...   \n299  ZUQ210805001KHXL  ZUQ210805001    NaN   \n300   ZUQ210805001WEL  ZUQ210805001    NaN   \n301  ZUQ210805001WEXL  ZUQ210805001    NaN   \n302      ZYN230315007  ZYN230315007    NaN   \n303  ZYN230315007BK32  ZYN230315007    NaN   \n\n                                                  产品类型  \\\n0    普通产品 -> Clothing Shoes & Accessories -> 男装 -> ...   \n1    普通产品 -> Clothing Shoes & Accessories -> 男装 -> ...   \n2    普通产品 -> Clothing Shoes & Accessories -> 男装 -> ...   \n3    普通产品 -> Clothing Shoes & Accessories -> 男装 -> ...   \n4    普通产品 -> Clothing Shoes & Accessories -> 男装 -> ...   \n..                                                 ...   \n299  普通产品 -> Clothing Shoes & Accessories -> 男装 -> ...   \n300  普通产品 -> Clothing Shoes & Accessories -> 男装 -> ...   \n301  普通产品 -> Clothing Shoes & Accessories -> 男装 -> ...   \n302  普通产品 -> Clothing Shoes & Accessories -> 男装 -> ...   \n303  普通产品 -> Clothing Shoes & Accessories -> 男装 -> ...   \n\n                                                    标题  \\\n0    Mens Casual Waist Color Sports Hat Woven Pocke...   \n1    Mens Casual Waist Color Sports Hat Multi Woven...   \n2    Mens Casual Waist Color Sports Hat Multi Woven...   \n3    Mens Casual Waist Color Sports Hat Multi Woven...   \n4    Mens Casual Waist Color Sports Hat Multi Woven...   \n..                                                 ...   \n299  Men's Thin Trousers Solid Color High Waist Ela...   \n300  Men's Thin Trousers Solid Color High Waist Ela...   \n301  Men's Thin Trousers Solid Color High Waist Ela...   \n302  Men's Fashion Loose Large Cotton Shorts Men's ...   \n303  Men's Fashion Loose Large Cotton Shorts Men's ...   \n\n                                      产品名称  \\\n0            男士四季街头休闲运动多口袋脚口帽绳腰间系带纯色工装长裤卫裤   \n1       男士四季街头休闲运动多口袋脚口帽绳腰间系带纯色工装长裤卫裤 黑色 L   \n2     男士四季街头休闲运动多口袋脚口帽绳腰间系带纯色工装长裤卫裤 黑色 XXL   \n3    男士四季街头休闲运动多口袋脚口帽绳腰间系带纯色工装长裤卫裤 黑色 XXXL   \n4       男士四季街头休闲运动多口袋脚口帽绳腰间系带纯色工装长裤卫裤 黑色 M   \n..                                     ...   \n299           男士薄款纯色高腰弹力休闲商务西装长裤 卡其色 XL 32   \n300            男士薄款纯色高腰弹力休闲商务西装长裤 酒红色 L 31   \n301           男士薄款纯色高腰弹力休闲商务西装长裤 酒红色 XL 32   \n302               男士潮宽松大码棉短裤男多口袋休闲街头风七分工装裤   \n303         男士潮宽松大码棉短裤男多口袋休闲街头风七分工装裤 黑色 32   \n\n                                                    描述  \\\n0    <h1 align=\"center\"><span style=\"font-size:14pt...   \n1    <h1 align=\"center\"><span style=\"font-size:14pt...   \n2    <h1 align=\"center\"><span style=\"font-size:14pt...   \n3    <h1 align=\"center\"><span style=\"font-size:14pt...   \n4    <h1 align=\"center\"><span style=\"font-size:14pt...   \n..                                                 ...   \n299  <h1 align=\"center\"><span style=\"font-size:14pt...   \n300  <h1 align=\"center\"><span style=\"font-size:14pt...   \n301  <h1 align=\"center\"><span style=\"font-size:14pt...   \n302  <h1 align=\"center\"><span style=\"font-size:14pt...   \n303  <h1 align=\"center\"><span style=\"font-size:14pt...   \n\n                             颜色                            尺寸     亚马逊尺寸  ...  \\\n0    Black,Grey,Khaki,Dark Gray               M,L,XL,XXL,XXXL       NaN  ...   \n1                         Black                             L     Large  ...   \n2                         Black                           XXL  XX-Large  ...   \n3                         Black                          XXXL  3X-Large  ...   \n4                         Black                             M    Medium  ...   \n..                          ...                           ...       ...  ...   \n299                       Khaki                            XL   X-Large  ...   \n300                        Wine                             L     Large  ...   \n301                        Wine                            XL   X-Large  ...   \n302  Black,Beige,Khaki,Brown,AG  29,30,31,32,33,34,36,A,B,C,D       NaN  ...   \n303                       Black                            32       NaN  ...   \n\n    子图链接   长   宽    高                                                尺码表  \\\n0    NaN  30  20  3.0  Size: M Waist: 72-82cm/28.35-32.28'' Hip: 108c...   \n1    NaN  34  22  1.0  Size: M Waist: 72-82cm/28.35-32.28'' Hip: 108c...   \n2    NaN  34  22  1.0  Size: M Waist: 72-82cm/28.35-32.28'' Hip: 108c...   \n3    NaN  34  22  1.0  Size: M Waist: 72-82cm/28.35-32.28'' Hip: 108c...   \n4    NaN  34  22  1.0  Size: M Waist: 72-82cm/28.35-32.28'' Hip: 108c...   \n..   ...  ..  ..  ...                                                ...   \n299  NaN  34  20  2.0  Size: M Waist: 78cm/30.71'' Hip: 94cm/37.01'' ...   \n300  NaN  40  35  1.0  Size: M Waist: 78cm/30.71'' Hip: 94cm/37.01'' ...   \n301  NaN  29  20  4.0  Size: M Waist: 78cm/30.71'' Hip: 94cm/37.01'' ...   \n302  NaN  25  25  2.0  Size: 29 Waist: 73cm/28.74'' Hip: 100cm/39.37'...   \n303  NaN  36  25  3.0  Size: 29 Waist: 73cm/28.74'' Hip: 100cm/39.37'...   \n\n     印花名称  parent_child                         amazon_sku  \\\n0     NaN        Parent       FRL-DE-24-07-26-16-06-32-001   \n1     NaN         Child   FRL-DE-24-07-26-16-06-32-001-BKL   \n2     NaN         Child  FRL-DE-24-07-26-16-06-32-001-BKL2   \n3     NaN         Child  FRL-DE-24-07-26-16-06-32-001-BKL3   \n4     NaN         Child   FRL-DE-24-07-26-16-06-32-001-BKM   \n..    ...           ...                                ...   \n299   NaN         Child  FRL-DE-24-07-26-16-06-32-012-KHXL   \n300   NaN         Child   FRL-DE-24-07-26-16-06-32-012-WEL   \n301   NaN         Child  FRL-DE-24-07-26-16-06-32-012-WEXL   \n302   NaN        Parent       FRL-DE-24-07-26-16-06-32-013   \n303   NaN         Child  FRL-DE-24-07-26-16-06-32-013-BK32   \n\n                      amazon_psku  \\\n0    FRL-DE-24-07-26-16-06-32-001   \n1    FRL-DE-24-07-26-16-06-32-001   \n2    FRL-DE-24-07-26-16-06-32-001   \n3    FRL-DE-24-07-26-16-06-32-001   \n4    FRL-DE-24-07-26-16-06-32-001   \n..                            ...   \n299  FRL-DE-24-07-26-16-06-32-012   \n300  FRL-DE-24-07-26-16-06-32-012   \n301  FRL-DE-24-07-26-16-06-32-012   \n302  FRL-DE-24-07-26-16-06-32-013   \n303  FRL-DE-24-07-26-16-06-32-013   \n\n                                                 title  \n0    Cargohose Herren Cargohosen Hose Men Sommer He...  \n1    Cargohose Herren Cargohosen Hose Men Sommer He...  \n2    Cargohose Herren Cargohosen Hose Men Sommer He...  \n3    Cargohose Herren Cargohosen Hose Men Sommer He...  \n4    Cargohose Herren Cargohosen Hose Men Sommer He...  \n..                                                 ...  \n299  Cargohose Herren Baggy Hose Herren Hose Pants ...  \n300  Cargohose Herren Baggy Hose Herren Hose Pants ...  \n301  Cargohose Herren Baggy Hose Herren Hose Pants ...  \n302  Cargohose Herren Cargo Pants Herren Sommer Lei...  \n303  Cargohose Herren Cargo Pants Herren Sommer Lei...  \n\n[246 rows x 68 columns]",
      "text/html": "<div>\n<style scoped>\n    .dataframe tbody tr th:only-of-type {\n        vertical-align: middle;\n    }\n\n    .dataframe tbody tr th {\n        vertical-align: top;\n    }\n\n    .dataframe thead th {\n        text-align: right;\n    }\n</style>\n<table border=\"1\" class=\"dataframe\">\n  <thead>\n    <tr style=\"text-align: right;\">\n      <th></th>\n      <th>SKU</th>\n      <th>父SKU</th>\n      <th>产品缩略图</th>\n      <th>产品类型</th>\n      <th>标题</th>\n      <th>产品名称</th>\n      <th>描述</th>\n      <th>颜色</th>\n      <th>尺寸</th>\n      <th>亚马逊尺寸</th>\n      <th>...</th>\n      <th>子图链接</th>\n      <th>长</th>\n      <th>宽</th>\n      <th>高</th>\n      <th>尺码表</th>\n      <th>印花名称</th>\n      <th>parent_child</th>\n      <th>amazon_sku</th>\n      <th>amazon_psku</th>\n      <th>title</th>\n    </tr>\n  </thead>\n  <tbody>\n    <tr>\n      <th>0</th>\n      <td>FBE230705004</td>\n      <td>FBE230705004</td>\n      <td>NaN</td>\n      <td>普通产品 -&gt; Clothing Shoes &amp; Accessories -&gt; 男装 -&gt; ...</td>\n      <td>Mens Casual Waist Color Sports Hat Woven Pocke...</td>\n      <td>男士四季街头休闲运动多口袋脚口帽绳腰间系带纯色工装长裤卫裤</td>\n      <td>&lt;h1 align=\"center\"&gt;&lt;span style=\"font-size:14pt...</td>\n      <td>Black,Grey,Khaki,Dark Gray</td>\n      <td>M,L,XL,XXL,XXXL</td>\n      <td>NaN</td>\n      <td>...</td>\n      <td>NaN</td>\n      <td>30</td>\n      <td>20</td>\n      <td>3.0</td>\n      <td>Size: M Waist: 72-82cm/28.35-32.28'' Hip: 108c...</td>\n      <td>NaN</td>\n      <td>Parent</td>\n      <td>FRL-DE-24-07-26-16-06-32-001</td>\n      <td>FRL-DE-24-07-26-16-06-32-001</td>\n      <td>Cargohose Herren Cargohosen Hose Men Sommer He...</td>\n    </tr>\n    <tr>\n      <th>1</th>\n      <td>FBE230705004BKL</td>\n      <td>FBE230705004</td>\n      <td>NaN</td>\n      <td>普通产品 -&gt; Clothing Shoes &amp; Accessories -&gt; 男装 -&gt; ...</td>\n      <td>Mens Casual Waist Color Sports Hat Multi Woven...</td>\n      <td>男士四季街头休闲运动多口袋脚口帽绳腰间系带纯色工装长裤卫裤 黑色 L</td>\n      <td>&lt;h1 align=\"center\"&gt;&lt;span style=\"font-size:14pt...</td>\n      <td>Black</td>\n      <td>L</td>\n      <td>Large</td>\n      <td>...</td>\n      <td>NaN</td>\n      <td>34</td>\n      <td>22</td>\n      <td>1.0</td>\n      <td>Size: M Waist: 72-82cm/28.35-32.28'' Hip: 108c...</td>\n      <td>NaN</td>\n      <td>Child</td>\n      <td>FRL-DE-24-07-26-16-06-32-001-BKL</td>\n      <td>FRL-DE-24-07-26-16-06-32-001</td>\n      <td>Cargohose Herren Cargohosen Hose Men Sommer He...</td>\n    </tr>\n    <tr>\n      <th>2</th>\n      <td>FBE230705004BKL2</td>\n      <td>FBE230705004</td>\n      <td>NaN</td>\n      <td>普通产品 -&gt; Clothing Shoes &amp; Accessories -&gt; 男装 -&gt; ...</td>\n      <td>Mens Casual Waist Color Sports Hat Multi Woven...</td>\n      <td>男士四季街头休闲运动多口袋脚口帽绳腰间系带纯色工装长裤卫裤 黑色 XXL</td>\n      <td>&lt;h1 align=\"center\"&gt;&lt;span style=\"font-size:14pt...</td>\n      <td>Black</td>\n      <td>XXL</td>\n      <td>XX-Large</td>\n      <td>...</td>\n      <td>NaN</td>\n      <td>34</td>\n      <td>22</td>\n      <td>1.0</td>\n      <td>Size: M Waist: 72-82cm/28.35-32.28'' Hip: 108c...</td>\n      <td>NaN</td>\n      <td>Child</td>\n      <td>FRL-DE-24-07-26-16-06-32-001-BKL2</td>\n      <td>FRL-DE-24-07-26-16-06-32-001</td>\n      <td>Cargohose Herren Cargohosen Hose Men Sommer He...</td>\n    </tr>\n    <tr>\n      <th>3</th>\n      <td>FBE230705004BKL3</td>\n      <td>FBE230705004</td>\n      <td>NaN</td>\n      <td>普通产品 -&gt; Clothing Shoes &amp; Accessories -&gt; 男装 -&gt; ...</td>\n      <td>Mens Casual Waist Color Sports Hat Multi Woven...</td>\n      <td>男士四季街头休闲运动多口袋脚口帽绳腰间系带纯色工装长裤卫裤 黑色 XXXL</td>\n      <td>&lt;h1 align=\"center\"&gt;&lt;span style=\"font-size:14pt...</td>\n      <td>Black</td>\n      <td>XXXL</td>\n      <td>3X-Large</td>\n      <td>...</td>\n      <td>NaN</td>\n      <td>34</td>\n      <td>22</td>\n      <td>1.0</td>\n      <td>Size: M Waist: 72-82cm/28.35-32.28'' Hip: 108c...</td>\n      <td>NaN</td>\n      <td>Child</td>\n      <td>FRL-DE-24-07-26-16-06-32-001-BKL3</td>\n      <td>FRL-DE-24-07-26-16-06-32-001</td>\n      <td>Cargohose Herren Cargohosen Hose Men Sommer He...</td>\n    </tr>\n    <tr>\n      <th>4</th>\n      <td>FBE230705004BKM</td>\n      <td>FBE230705004</td>\n      <td>NaN</td>\n      <td>普通产品 -&gt; Clothing Shoes &amp; Accessories -&gt; 男装 -&gt; ...</td>\n      <td>Mens Casual Waist Color Sports Hat Multi Woven...</td>\n      <td>男士四季街头休闲运动多口袋脚口帽绳腰间系带纯色工装长裤卫裤 黑色 M</td>\n      <td>&lt;h1 align=\"center\"&gt;&lt;span style=\"font-size:14pt...</td>\n      <td>Black</td>\n      <td>M</td>\n      <td>Medium</td>\n      <td>...</td>\n      <td>NaN</td>\n      <td>34</td>\n      <td>22</td>\n      <td>1.0</td>\n      <td>Size: M Waist: 72-82cm/28.35-32.28'' Hip: 108c...</td>\n      <td>NaN</td>\n      <td>Child</td>\n      <td>FRL-DE-24-07-26-16-06-32-001-BKM</td>\n      <td>FRL-DE-24-07-26-16-06-32-001</td>\n      <td>Cargohose Herren Cargohosen Hose Men Sommer He...</td>\n    </tr>\n    <tr>\n      <th>...</th>\n      <td>...</td>\n      <td>...</td>\n      <td>...</td>\n      <td>...</td>\n      <td>...</td>\n      <td>...</td>\n      <td>...</td>\n      <td>...</td>\n      <td>...</td>\n      <td>...</td>\n      <td>...</td>\n      <td>...</td>\n      <td>...</td>\n      <td>...</td>\n      <td>...</td>\n      <td>...</td>\n      <td>...</td>\n      <td>...</td>\n      <td>...</td>\n      <td>...</td>\n      <td>...</td>\n    </tr>\n    <tr>\n      <th>299</th>\n      <td>ZUQ210805001KHXL</td>\n      <td>ZUQ210805001</td>\n      <td>NaN</td>\n      <td>普通产品 -&gt; Clothing Shoes &amp; Accessories -&gt; 男装 -&gt; ...</td>\n      <td>Men's Thin Trousers Solid Color High Waist Ela...</td>\n      <td>男士薄款纯色高腰弹力休闲商务西装长裤 卡其色 XL 32</td>\n      <td>&lt;h1 align=\"center\"&gt;&lt;span style=\"font-size:14pt...</td>\n      <td>Khaki</td>\n      <td>XL</td>\n      <td>X-Large</td>\n      <td>...</td>\n      <td>NaN</td>\n      <td>34</td>\n      <td>20</td>\n      <td>2.0</td>\n      <td>Size: M Waist: 78cm/30.71'' Hip: 94cm/37.01'' ...</td>\n      <td>NaN</td>\n      <td>Child</td>\n      <td>FRL-DE-24-07-26-16-06-32-012-KHXL</td>\n      <td>FRL-DE-24-07-26-16-06-32-012</td>\n      <td>Cargohose Herren Baggy Hose Herren Hose Pants ...</td>\n    </tr>\n    <tr>\n      <th>300</th>\n      <td>ZUQ210805001WEL</td>\n      <td>ZUQ210805001</td>\n      <td>NaN</td>\n      <td>普通产品 -&gt; Clothing Shoes &amp; Accessories -&gt; 男装 -&gt; ...</td>\n      <td>Men's Thin Trousers Solid Color High Waist Ela...</td>\n      <td>男士薄款纯色高腰弹力休闲商务西装长裤 酒红色 L 31</td>\n      <td>&lt;h1 align=\"center\"&gt;&lt;span style=\"font-size:14pt...</td>\n      <td>Wine</td>\n      <td>L</td>\n      <td>Large</td>\n      <td>...</td>\n      <td>NaN</td>\n      <td>40</td>\n      <td>35</td>\n      <td>1.0</td>\n      <td>Size: M Waist: 78cm/30.71'' Hip: 94cm/37.01'' ...</td>\n      <td>NaN</td>\n      <td>Child</td>\n      <td>FRL-DE-24-07-26-16-06-32-012-WEL</td>\n      <td>FRL-DE-24-07-26-16-06-32-012</td>\n      <td>Cargohose Herren Baggy Hose Herren Hose Pants ...</td>\n    </tr>\n    <tr>\n      <th>301</th>\n      <td>ZUQ210805001WEXL</td>\n      <td>ZUQ210805001</td>\n      <td>NaN</td>\n      <td>普通产品 -&gt; Clothing Shoes &amp; Accessories -&gt; 男装 -&gt; ...</td>\n      <td>Men's Thin Trousers Solid Color High Waist Ela...</td>\n      <td>男士薄款纯色高腰弹力休闲商务西装长裤 酒红色 XL 32</td>\n      <td>&lt;h1 align=\"center\"&gt;&lt;span style=\"font-size:14pt...</td>\n      <td>Wine</td>\n      <td>XL</td>\n      <td>X-Large</td>\n      <td>...</td>\n      <td>NaN</td>\n      <td>29</td>\n      <td>20</td>\n      <td>4.0</td>\n      <td>Size: M Waist: 78cm/30.71'' Hip: 94cm/37.01'' ...</td>\n      <td>NaN</td>\n      <td>Child</td>\n      <td>FRL-DE-24-07-26-16-06-32-012-WEXL</td>\n      <td>FRL-DE-24-07-26-16-06-32-012</td>\n      <td>Cargohose Herren Baggy Hose Herren Hose Pants ...</td>\n    </tr>\n    <tr>\n      <th>302</th>\n      <td>ZYN230315007</td>\n      <td>ZYN230315007</td>\n      <td>NaN</td>\n      <td>普通产品 -&gt; Clothing Shoes &amp; Accessories -&gt; 男装 -&gt; ...</td>\n      <td>Men's Fashion Loose Large Cotton Shorts Men's ...</td>\n      <td>男士潮宽松大码棉短裤男多口袋休闲街头风七分工装裤</td>\n      <td>&lt;h1 align=\"center\"&gt;&lt;span style=\"font-size:14pt...</td>\n      <td>Black,Beige,Khaki,Brown,AG</td>\n      <td>29,30,31,32,33,34,36,A,B,C,D</td>\n      <td>NaN</td>\n      <td>...</td>\n      <td>NaN</td>\n      <td>25</td>\n      <td>25</td>\n      <td>2.0</td>\n      <td>Size: 29 Waist: 73cm/28.74'' Hip: 100cm/39.37'...</td>\n      <td>NaN</td>\n      <td>Parent</td>\n      <td>FRL-DE-24-07-26-16-06-32-013</td>\n      <td>FRL-DE-24-07-26-16-06-32-013</td>\n      <td>Cargohose Herren Cargo Pants Herren Sommer Lei...</td>\n    </tr>\n    <tr>\n      <th>303</th>\n      <td>ZYN230315007BK32</td>\n      <td>ZYN230315007</td>\n      <td>NaN</td>\n      <td>普通产品 -&gt; Clothing Shoes &amp; Accessories -&gt; 男装 -&gt; ...</td>\n      <td>Men's Fashion Loose Large Cotton Shorts Men's ...</td>\n      <td>男士潮宽松大码棉短裤男多口袋休闲街头风七分工装裤 黑色 32</td>\n      <td>&lt;h1 align=\"center\"&gt;&lt;span style=\"font-size:14pt...</td>\n      <td>Black</td>\n      <td>32</td>\n      <td>NaN</td>\n      <td>...</td>\n      <td>NaN</td>\n      <td>36</td>\n      <td>25</td>\n      <td>3.0</td>\n      <td>Size: 29 Waist: 73cm/28.74'' Hip: 100cm/39.37'...</td>\n      <td>NaN</td>\n      <td>Child</td>\n      <td>FRL-DE-24-07-26-16-06-32-013-BK32</td>\n      <td>FRL-DE-24-07-26-16-06-32-013</td>\n      <td>Cargohose Herren Cargo Pants Herren Sommer Lei...</td>\n    </tr>\n  </tbody>\n</table>\n<p>246 rows × 68 columns</p>\n</div>"
     },
     "execution_count": 11,
     "metadata": {},
     "output_type": "execute_result"
    }
   ],
   "source": [
    "# fp_title = f'{g}/{g}_title.xlsx'\n",
    "# title_df: DataFrame = pd.read_excel(fp_title, sheet_name='title')\n",
    "#\n",
    "# from util.widgets import Status\n",
    "#\n",
    "# title_unused_df = title_df[title_df['status'] == Status.UNUSED.value]\n",
    "#\n",
    "# # 创建一个字典来跟踪每个 parent_sku 分配的 title\n",
    "# title_allocation = {}\n",
    "#\n",
    "# # 遍历 title_df，按顺序为每个 parent_sku 分配 title\n",
    "# for i, row in title_unused_df.iterrows():\n",
    "#     title = row['title']\n",
    "#     # 如果所有的 parent_sku 都已分配 title，则跳出循环\n",
    "#     if set(title_allocation.keys()) == set(erp_df['父SKU'].unique()):\n",
    "#         break\n",
    "#\n",
    "#     # 找到第一个尚未分配 title 的 parent_sku\n",
    "#     for parent_sku in erp_df['父SKU'].unique():\n",
    "#         if parent_sku not in title_allocation:\n",
    "#             title_allocation[parent_sku] = title\n",
    "#             break\n",
    "#\n",
    "# # 更新 title_df 中被分配的 title 的状态\n",
    "# title_unused_df.loc[title_unused_df['title'].isin(title_allocation.values()), 'status'] = Status.IN_USE.value\n",
    "#\n",
    "# # 将分配的 title 添加到 erp_df 中\n",
    "# erp_df['title'] = erp_df['父SKU'].map(title_allocation)\n",
    "# erp_df"
   ],
   "metadata": {
    "collapsed": false,
    "pycharm": {
     "name": "#%%\n"
    }
   }
  },
  {
   "cell_type": "code",
   "execution_count": 12,
   "outputs": [
    {
     "data": {
      "text/plain": "                                                title  status         ymd\n0   Cargohose Herren Cargohosen Hose Men Sommer He...   InUse  2024_07_26\n1   Cargohose Herren Cargo Hose Men Sommer Lange H...   InUse  2024_07_26\n2   Cargohose Herren Cargo Hosen Men Sommer Cargoh...   InUse  2024_07_26\n3   Cargohose Herren Lang Sommer Hose Herren Leich...   InUse  2024_07_26\n4   Cargohose Herren Lang Sommer Herren Hose Baggy...   InUse  2024_07_26\n..                                                ...     ...         ...\n95  Cargohose Herren Schwarze Cargo Men Sommerhose...  Unused         NaN\n96  Cargohose Herren Cargo Hose Pants Men Herren H...  Unused         NaN\n97  Cargohose Herren Pants Men Sommerhosen Schwarz...  Unused         NaN\n98  Cargohose Herren Lang Sommer Leichte Arbeitsho...  Unused         NaN\n99  Cargohose Herren Hose Lang Herren Sommer Pants...  Unused         NaN\n\n[100 rows x 3 columns]",
      "text/html": "<div>\n<style scoped>\n    .dataframe tbody tr th:only-of-type {\n        vertical-align: middle;\n    }\n\n    .dataframe tbody tr th {\n        vertical-align: top;\n    }\n\n    .dataframe thead th {\n        text-align: right;\n    }\n</style>\n<table border=\"1\" class=\"dataframe\">\n  <thead>\n    <tr style=\"text-align: right;\">\n      <th></th>\n      <th>title</th>\n      <th>status</th>\n      <th>ymd</th>\n    </tr>\n  </thead>\n  <tbody>\n    <tr>\n      <th>0</th>\n      <td>Cargohose Herren Cargohosen Hose Men Sommer He...</td>\n      <td>InUse</td>\n      <td>2024_07_26</td>\n    </tr>\n    <tr>\n      <th>1</th>\n      <td>Cargohose Herren Cargo Hose Men Sommer Lange H...</td>\n      <td>InUse</td>\n      <td>2024_07_26</td>\n    </tr>\n    <tr>\n      <th>2</th>\n      <td>Cargohose Herren Cargo Hosen Men Sommer Cargoh...</td>\n      <td>InUse</td>\n      <td>2024_07_26</td>\n    </tr>\n    <tr>\n      <th>3</th>\n      <td>Cargohose Herren Lang Sommer Hose Herren Leich...</td>\n      <td>InUse</td>\n      <td>2024_07_26</td>\n    </tr>\n    <tr>\n      <th>4</th>\n      <td>Cargohose Herren Lang Sommer Herren Hose Baggy...</td>\n      <td>InUse</td>\n      <td>2024_07_26</td>\n    </tr>\n    <tr>\n      <th>...</th>\n      <td>...</td>\n      <td>...</td>\n      <td>...</td>\n    </tr>\n    <tr>\n      <th>95</th>\n      <td>Cargohose Herren Schwarze Cargo Men Sommerhose...</td>\n      <td>Unused</td>\n      <td>NaN</td>\n    </tr>\n    <tr>\n      <th>96</th>\n      <td>Cargohose Herren Cargo Hose Pants Men Herren H...</td>\n      <td>Unused</td>\n      <td>NaN</td>\n    </tr>\n    <tr>\n      <th>97</th>\n      <td>Cargohose Herren Pants Men Sommerhosen Schwarz...</td>\n      <td>Unused</td>\n      <td>NaN</td>\n    </tr>\n    <tr>\n      <th>98</th>\n      <td>Cargohose Herren Lang Sommer Leichte Arbeitsho...</td>\n      <td>Unused</td>\n      <td>NaN</td>\n    </tr>\n    <tr>\n      <th>99</th>\n      <td>Cargohose Herren Hose Lang Herren Sommer Pants...</td>\n      <td>Unused</td>\n      <td>NaN</td>\n    </tr>\n  </tbody>\n</table>\n<p>100 rows × 3 columns</p>\n</div>"
     },
     "execution_count": 12,
     "metadata": {},
     "output_type": "execute_result"
    }
   ],
   "source": [
    "# index = title_unused_df[title_unused_df['status'] == Status.IN_USE.value].index\n",
    "# title_df.iloc[index, title_df.columns.get_loc('status')] = Status.IN_USE.value\n",
    "# title_df.iloc[index, title_df.columns.get_loc('ymd_HMS')] = ymd_HMS\n",
    "# title_df"
   ],
   "metadata": {
    "collapsed": false,
    "pycharm": {
     "name": "#%%\n"
    }
   }
  },
  {
   "cell_type": "code",
   "execution_count": 13,
   "outputs": [
    {
     "name": "stderr",
     "output_type": "stream",
     "text": [
      "C:\\Users\\000\\AppData\\Local\\Temp\\ipykernel_8364\\3057857270.py:28: SettingWithCopyWarning: \n",
      "A value is trying to be set on a copy of a slice from a DataFrame.\n",
      "Try using .loc[row_indexer,col_indexer] = value instead\n",
      "\n",
      "See the caveats in the documentation: https://pandas.pydata.org/pandas-docs/stable/user_guide/indexing.html#returning-a-view-versus-a-copy\n",
      "  erp_df['st250'] = erp_df['父SKU'].map(st250_allocation)\n"
     ]
    },
    {
     "data": {
      "text/plain": "                  SKU          父SKU  产品缩略图  \\\n0        FBE230705004  FBE230705004    NaN   \n1     FBE230705004BKL  FBE230705004    NaN   \n2    FBE230705004BKL2  FBE230705004    NaN   \n3    FBE230705004BKL3  FBE230705004    NaN   \n4     FBE230705004BKM  FBE230705004    NaN   \n..                ...           ...    ...   \n299  ZUQ210805001KHXL  ZUQ210805001    NaN   \n300   ZUQ210805001WEL  ZUQ210805001    NaN   \n301  ZUQ210805001WEXL  ZUQ210805001    NaN   \n302      ZYN230315007  ZYN230315007    NaN   \n303  ZYN230315007BK32  ZYN230315007    NaN   \n\n                                                  产品类型  \\\n0    普通产品 -> Clothing Shoes & Accessories -> 男装 -> ...   \n1    普通产品 -> Clothing Shoes & Accessories -> 男装 -> ...   \n2    普通产品 -> Clothing Shoes & Accessories -> 男装 -> ...   \n3    普通产品 -> Clothing Shoes & Accessories -> 男装 -> ...   \n4    普通产品 -> Clothing Shoes & Accessories -> 男装 -> ...   \n..                                                 ...   \n299  普通产品 -> Clothing Shoes & Accessories -> 男装 -> ...   \n300  普通产品 -> Clothing Shoes & Accessories -> 男装 -> ...   \n301  普通产品 -> Clothing Shoes & Accessories -> 男装 -> ...   \n302  普通产品 -> Clothing Shoes & Accessories -> 男装 -> ...   \n303  普通产品 -> Clothing Shoes & Accessories -> 男装 -> ...   \n\n                                                    标题  \\\n0    Mens Casual Waist Color Sports Hat Woven Pocke...   \n1    Mens Casual Waist Color Sports Hat Multi Woven...   \n2    Mens Casual Waist Color Sports Hat Multi Woven...   \n3    Mens Casual Waist Color Sports Hat Multi Woven...   \n4    Mens Casual Waist Color Sports Hat Multi Woven...   \n..                                                 ...   \n299  Men's Thin Trousers Solid Color High Waist Ela...   \n300  Men's Thin Trousers Solid Color High Waist Ela...   \n301  Men's Thin Trousers Solid Color High Waist Ela...   \n302  Men's Fashion Loose Large Cotton Shorts Men's ...   \n303  Men's Fashion Loose Large Cotton Shorts Men's ...   \n\n                                      产品名称  \\\n0            男士四季街头休闲运动多口袋脚口帽绳腰间系带纯色工装长裤卫裤   \n1       男士四季街头休闲运动多口袋脚口帽绳腰间系带纯色工装长裤卫裤 黑色 L   \n2     男士四季街头休闲运动多口袋脚口帽绳腰间系带纯色工装长裤卫裤 黑色 XXL   \n3    男士四季街头休闲运动多口袋脚口帽绳腰间系带纯色工装长裤卫裤 黑色 XXXL   \n4       男士四季街头休闲运动多口袋脚口帽绳腰间系带纯色工装长裤卫裤 黑色 M   \n..                                     ...   \n299           男士薄款纯色高腰弹力休闲商务西装长裤 卡其色 XL 32   \n300            男士薄款纯色高腰弹力休闲商务西装长裤 酒红色 L 31   \n301           男士薄款纯色高腰弹力休闲商务西装长裤 酒红色 XL 32   \n302               男士潮宽松大码棉短裤男多口袋休闲街头风七分工装裤   \n303         男士潮宽松大码棉短裤男多口袋休闲街头风七分工装裤 黑色 32   \n\n                                                    描述  \\\n0    <h1 align=\"center\"><span style=\"font-size:14pt...   \n1    <h1 align=\"center\"><span style=\"font-size:14pt...   \n2    <h1 align=\"center\"><span style=\"font-size:14pt...   \n3    <h1 align=\"center\"><span style=\"font-size:14pt...   \n4    <h1 align=\"center\"><span style=\"font-size:14pt...   \n..                                                 ...   \n299  <h1 align=\"center\"><span style=\"font-size:14pt...   \n300  <h1 align=\"center\"><span style=\"font-size:14pt...   \n301  <h1 align=\"center\"><span style=\"font-size:14pt...   \n302  <h1 align=\"center\"><span style=\"font-size:14pt...   \n303  <h1 align=\"center\"><span style=\"font-size:14pt...   \n\n                             颜色                            尺寸     亚马逊尺寸  ...  \\\n0    Black,Grey,Khaki,Dark Gray               M,L,XL,XXL,XXXL       NaN  ...   \n1                         Black                             L     Large  ...   \n2                         Black                           XXL  XX-Large  ...   \n3                         Black                          XXXL  3X-Large  ...   \n4                         Black                             M    Medium  ...   \n..                          ...                           ...       ...  ...   \n299                       Khaki                            XL   X-Large  ...   \n300                        Wine                             L     Large  ...   \n301                        Wine                            XL   X-Large  ...   \n302  Black,Beige,Khaki,Brown,AG  29,30,31,32,33,34,36,A,B,C,D       NaN  ...   \n303                       Black                            32       NaN  ...   \n\n      长   宽    高                                                尺码表 印花名称  \\\n0    30  20  3.0  Size: M Waist: 72-82cm/28.35-32.28'' Hip: 108c...  NaN   \n1    34  22  1.0  Size: M Waist: 72-82cm/28.35-32.28'' Hip: 108c...  NaN   \n2    34  22  1.0  Size: M Waist: 72-82cm/28.35-32.28'' Hip: 108c...  NaN   \n3    34  22  1.0  Size: M Waist: 72-82cm/28.35-32.28'' Hip: 108c...  NaN   \n4    34  22  1.0  Size: M Waist: 72-82cm/28.35-32.28'' Hip: 108c...  NaN   \n..   ..  ..  ...                                                ...  ...   \n299  34  20  2.0  Size: M Waist: 78cm/30.71'' Hip: 94cm/37.01'' ...  NaN   \n300  40  35  1.0  Size: M Waist: 78cm/30.71'' Hip: 94cm/37.01'' ...  NaN   \n301  29  20  4.0  Size: M Waist: 78cm/30.71'' Hip: 94cm/37.01'' ...  NaN   \n302  25  25  2.0  Size: 29 Waist: 73cm/28.74'' Hip: 100cm/39.37'...  NaN   \n303  36  25  3.0  Size: 29 Waist: 73cm/28.74'' Hip: 100cm/39.37'...  NaN   \n\n     parent_child                         amazon_sku  \\\n0          Parent       FRL-DE-24-07-26-16-06-32-001   \n1           Child   FRL-DE-24-07-26-16-06-32-001-BKL   \n2           Child  FRL-DE-24-07-26-16-06-32-001-BKL2   \n3           Child  FRL-DE-24-07-26-16-06-32-001-BKL3   \n4           Child   FRL-DE-24-07-26-16-06-32-001-BKM   \n..            ...                                ...   \n299         Child  FRL-DE-24-07-26-16-06-32-012-KHXL   \n300         Child   FRL-DE-24-07-26-16-06-32-012-WEL   \n301         Child  FRL-DE-24-07-26-16-06-32-012-WEXL   \n302        Parent       FRL-DE-24-07-26-16-06-32-013   \n303         Child  FRL-DE-24-07-26-16-06-32-013-BK32   \n\n                      amazon_psku  \\\n0    FRL-DE-24-07-26-16-06-32-001   \n1    FRL-DE-24-07-26-16-06-32-001   \n2    FRL-DE-24-07-26-16-06-32-001   \n3    FRL-DE-24-07-26-16-06-32-001   \n4    FRL-DE-24-07-26-16-06-32-001   \n..                            ...   \n299  FRL-DE-24-07-26-16-06-32-012   \n300  FRL-DE-24-07-26-16-06-32-012   \n301  FRL-DE-24-07-26-16-06-32-012   \n302  FRL-DE-24-07-26-16-06-32-013   \n303  FRL-DE-24-07-26-16-06-32-013   \n\n                                                 title  \\\n0    Cargohose Herren Cargohosen Hose Men Sommer He...   \n1    Cargohose Herren Cargohosen Hose Men Sommer He...   \n2    Cargohose Herren Cargohosen Hose Men Sommer He...   \n3    Cargohose Herren Cargohosen Hose Men Sommer He...   \n4    Cargohose Herren Cargohosen Hose Men Sommer He...   \n..                                                 ...   \n299  Cargohose Herren Baggy Hose Herren Hose Pants ...   \n300  Cargohose Herren Baggy Hose Herren Hose Pants ...   \n301  Cargohose Herren Baggy Hose Herren Hose Pants ...   \n302  Cargohose Herren Cargo Pants Herren Sommer Lei...   \n303  Cargohose Herren Cargo Pants Herren Sommer Lei...   \n\n                                                 st250  \n0    cargohose herren baggy cargohose herren sommer...  \n1    cargohose herren baggy cargohose herren sommer...  \n2    cargohose herren baggy cargohose herren sommer...  \n3    cargohose herren baggy cargohose herren sommer...  \n4    cargohose herren baggy cargohose herren sommer...  \n..                                                 ...  \n299  cargohose herren schwarz cargohose herren bagg...  \n300  cargohose herren schwarz cargohose herren bagg...  \n301  cargohose herren schwarz cargohose herren bagg...  \n302  cargohose herren baggy cargohose herren schwar...  \n303  cargohose herren baggy cargohose herren schwar...  \n\n[246 rows x 69 columns]",
      "text/html": "<div>\n<style scoped>\n    .dataframe tbody tr th:only-of-type {\n        vertical-align: middle;\n    }\n\n    .dataframe tbody tr th {\n        vertical-align: top;\n    }\n\n    .dataframe thead th {\n        text-align: right;\n    }\n</style>\n<table border=\"1\" class=\"dataframe\">\n  <thead>\n    <tr style=\"text-align: right;\">\n      <th></th>\n      <th>SKU</th>\n      <th>父SKU</th>\n      <th>产品缩略图</th>\n      <th>产品类型</th>\n      <th>标题</th>\n      <th>产品名称</th>\n      <th>描述</th>\n      <th>颜色</th>\n      <th>尺寸</th>\n      <th>亚马逊尺寸</th>\n      <th>...</th>\n      <th>长</th>\n      <th>宽</th>\n      <th>高</th>\n      <th>尺码表</th>\n      <th>印花名称</th>\n      <th>parent_child</th>\n      <th>amazon_sku</th>\n      <th>amazon_psku</th>\n      <th>title</th>\n      <th>st250</th>\n    </tr>\n  </thead>\n  <tbody>\n    <tr>\n      <th>0</th>\n      <td>FBE230705004</td>\n      <td>FBE230705004</td>\n      <td>NaN</td>\n      <td>普通产品 -&gt; Clothing Shoes &amp; Accessories -&gt; 男装 -&gt; ...</td>\n      <td>Mens Casual Waist Color Sports Hat Woven Pocke...</td>\n      <td>男士四季街头休闲运动多口袋脚口帽绳腰间系带纯色工装长裤卫裤</td>\n      <td>&lt;h1 align=\"center\"&gt;&lt;span style=\"font-size:14pt...</td>\n      <td>Black,Grey,Khaki,Dark Gray</td>\n      <td>M,L,XL,XXL,XXXL</td>\n      <td>NaN</td>\n      <td>...</td>\n      <td>30</td>\n      <td>20</td>\n      <td>3.0</td>\n      <td>Size: M Waist: 72-82cm/28.35-32.28'' Hip: 108c...</td>\n      <td>NaN</td>\n      <td>Parent</td>\n      <td>FRL-DE-24-07-26-16-06-32-001</td>\n      <td>FRL-DE-24-07-26-16-06-32-001</td>\n      <td>Cargohose Herren Cargohosen Hose Men Sommer He...</td>\n      <td>cargohose herren baggy cargohose herren sommer...</td>\n    </tr>\n    <tr>\n      <th>1</th>\n      <td>FBE230705004BKL</td>\n      <td>FBE230705004</td>\n      <td>NaN</td>\n      <td>普通产品 -&gt; Clothing Shoes &amp; Accessories -&gt; 男装 -&gt; ...</td>\n      <td>Mens Casual Waist Color Sports Hat Multi Woven...</td>\n      <td>男士四季街头休闲运动多口袋脚口帽绳腰间系带纯色工装长裤卫裤 黑色 L</td>\n      <td>&lt;h1 align=\"center\"&gt;&lt;span style=\"font-size:14pt...</td>\n      <td>Black</td>\n      <td>L</td>\n      <td>Large</td>\n      <td>...</td>\n      <td>34</td>\n      <td>22</td>\n      <td>1.0</td>\n      <td>Size: M Waist: 72-82cm/28.35-32.28'' Hip: 108c...</td>\n      <td>NaN</td>\n      <td>Child</td>\n      <td>FRL-DE-24-07-26-16-06-32-001-BKL</td>\n      <td>FRL-DE-24-07-26-16-06-32-001</td>\n      <td>Cargohose Herren Cargohosen Hose Men Sommer He...</td>\n      <td>cargohose herren baggy cargohose herren sommer...</td>\n    </tr>\n    <tr>\n      <th>2</th>\n      <td>FBE230705004BKL2</td>\n      <td>FBE230705004</td>\n      <td>NaN</td>\n      <td>普通产品 -&gt; Clothing Shoes &amp; Accessories -&gt; 男装 -&gt; ...</td>\n      <td>Mens Casual Waist Color Sports Hat Multi Woven...</td>\n      <td>男士四季街头休闲运动多口袋脚口帽绳腰间系带纯色工装长裤卫裤 黑色 XXL</td>\n      <td>&lt;h1 align=\"center\"&gt;&lt;span style=\"font-size:14pt...</td>\n      <td>Black</td>\n      <td>XXL</td>\n      <td>XX-Large</td>\n      <td>...</td>\n      <td>34</td>\n      <td>22</td>\n      <td>1.0</td>\n      <td>Size: M Waist: 72-82cm/28.35-32.28'' Hip: 108c...</td>\n      <td>NaN</td>\n      <td>Child</td>\n      <td>FRL-DE-24-07-26-16-06-32-001-BKL2</td>\n      <td>FRL-DE-24-07-26-16-06-32-001</td>\n      <td>Cargohose Herren Cargohosen Hose Men Sommer He...</td>\n      <td>cargohose herren baggy cargohose herren sommer...</td>\n    </tr>\n    <tr>\n      <th>3</th>\n      <td>FBE230705004BKL3</td>\n      <td>FBE230705004</td>\n      <td>NaN</td>\n      <td>普通产品 -&gt; Clothing Shoes &amp; Accessories -&gt; 男装 -&gt; ...</td>\n      <td>Mens Casual Waist Color Sports Hat Multi Woven...</td>\n      <td>男士四季街头休闲运动多口袋脚口帽绳腰间系带纯色工装长裤卫裤 黑色 XXXL</td>\n      <td>&lt;h1 align=\"center\"&gt;&lt;span style=\"font-size:14pt...</td>\n      <td>Black</td>\n      <td>XXXL</td>\n      <td>3X-Large</td>\n      <td>...</td>\n      <td>34</td>\n      <td>22</td>\n      <td>1.0</td>\n      <td>Size: M Waist: 72-82cm/28.35-32.28'' Hip: 108c...</td>\n      <td>NaN</td>\n      <td>Child</td>\n      <td>FRL-DE-24-07-26-16-06-32-001-BKL3</td>\n      <td>FRL-DE-24-07-26-16-06-32-001</td>\n      <td>Cargohose Herren Cargohosen Hose Men Sommer He...</td>\n      <td>cargohose herren baggy cargohose herren sommer...</td>\n    </tr>\n    <tr>\n      <th>4</th>\n      <td>FBE230705004BKM</td>\n      <td>FBE230705004</td>\n      <td>NaN</td>\n      <td>普通产品 -&gt; Clothing Shoes &amp; Accessories -&gt; 男装 -&gt; ...</td>\n      <td>Mens Casual Waist Color Sports Hat Multi Woven...</td>\n      <td>男士四季街头休闲运动多口袋脚口帽绳腰间系带纯色工装长裤卫裤 黑色 M</td>\n      <td>&lt;h1 align=\"center\"&gt;&lt;span style=\"font-size:14pt...</td>\n      <td>Black</td>\n      <td>M</td>\n      <td>Medium</td>\n      <td>...</td>\n      <td>34</td>\n      <td>22</td>\n      <td>1.0</td>\n      <td>Size: M Waist: 72-82cm/28.35-32.28'' Hip: 108c...</td>\n      <td>NaN</td>\n      <td>Child</td>\n      <td>FRL-DE-24-07-26-16-06-32-001-BKM</td>\n      <td>FRL-DE-24-07-26-16-06-32-001</td>\n      <td>Cargohose Herren Cargohosen Hose Men Sommer He...</td>\n      <td>cargohose herren baggy cargohose herren sommer...</td>\n    </tr>\n    <tr>\n      <th>...</th>\n      <td>...</td>\n      <td>...</td>\n      <td>...</td>\n      <td>...</td>\n      <td>...</td>\n      <td>...</td>\n      <td>...</td>\n      <td>...</td>\n      <td>...</td>\n      <td>...</td>\n      <td>...</td>\n      <td>...</td>\n      <td>...</td>\n      <td>...</td>\n      <td>...</td>\n      <td>...</td>\n      <td>...</td>\n      <td>...</td>\n      <td>...</td>\n      <td>...</td>\n      <td>...</td>\n    </tr>\n    <tr>\n      <th>299</th>\n      <td>ZUQ210805001KHXL</td>\n      <td>ZUQ210805001</td>\n      <td>NaN</td>\n      <td>普通产品 -&gt; Clothing Shoes &amp; Accessories -&gt; 男装 -&gt; ...</td>\n      <td>Men's Thin Trousers Solid Color High Waist Ela...</td>\n      <td>男士薄款纯色高腰弹力休闲商务西装长裤 卡其色 XL 32</td>\n      <td>&lt;h1 align=\"center\"&gt;&lt;span style=\"font-size:14pt...</td>\n      <td>Khaki</td>\n      <td>XL</td>\n      <td>X-Large</td>\n      <td>...</td>\n      <td>34</td>\n      <td>20</td>\n      <td>2.0</td>\n      <td>Size: M Waist: 78cm/30.71'' Hip: 94cm/37.01'' ...</td>\n      <td>NaN</td>\n      <td>Child</td>\n      <td>FRL-DE-24-07-26-16-06-32-012-KHXL</td>\n      <td>FRL-DE-24-07-26-16-06-32-012</td>\n      <td>Cargohose Herren Baggy Hose Herren Hose Pants ...</td>\n      <td>cargohose herren schwarz cargohose herren bagg...</td>\n    </tr>\n    <tr>\n      <th>300</th>\n      <td>ZUQ210805001WEL</td>\n      <td>ZUQ210805001</td>\n      <td>NaN</td>\n      <td>普通产品 -&gt; Clothing Shoes &amp; Accessories -&gt; 男装 -&gt; ...</td>\n      <td>Men's Thin Trousers Solid Color High Waist Ela...</td>\n      <td>男士薄款纯色高腰弹力休闲商务西装长裤 酒红色 L 31</td>\n      <td>&lt;h1 align=\"center\"&gt;&lt;span style=\"font-size:14pt...</td>\n      <td>Wine</td>\n      <td>L</td>\n      <td>Large</td>\n      <td>...</td>\n      <td>40</td>\n      <td>35</td>\n      <td>1.0</td>\n      <td>Size: M Waist: 78cm/30.71'' Hip: 94cm/37.01'' ...</td>\n      <td>NaN</td>\n      <td>Child</td>\n      <td>FRL-DE-24-07-26-16-06-32-012-WEL</td>\n      <td>FRL-DE-24-07-26-16-06-32-012</td>\n      <td>Cargohose Herren Baggy Hose Herren Hose Pants ...</td>\n      <td>cargohose herren schwarz cargohose herren bagg...</td>\n    </tr>\n    <tr>\n      <th>301</th>\n      <td>ZUQ210805001WEXL</td>\n      <td>ZUQ210805001</td>\n      <td>NaN</td>\n      <td>普通产品 -&gt; Clothing Shoes &amp; Accessories -&gt; 男装 -&gt; ...</td>\n      <td>Men's Thin Trousers Solid Color High Waist Ela...</td>\n      <td>男士薄款纯色高腰弹力休闲商务西装长裤 酒红色 XL 32</td>\n      <td>&lt;h1 align=\"center\"&gt;&lt;span style=\"font-size:14pt...</td>\n      <td>Wine</td>\n      <td>XL</td>\n      <td>X-Large</td>\n      <td>...</td>\n      <td>29</td>\n      <td>20</td>\n      <td>4.0</td>\n      <td>Size: M Waist: 78cm/30.71'' Hip: 94cm/37.01'' ...</td>\n      <td>NaN</td>\n      <td>Child</td>\n      <td>FRL-DE-24-07-26-16-06-32-012-WEXL</td>\n      <td>FRL-DE-24-07-26-16-06-32-012</td>\n      <td>Cargohose Herren Baggy Hose Herren Hose Pants ...</td>\n      <td>cargohose herren schwarz cargohose herren bagg...</td>\n    </tr>\n    <tr>\n      <th>302</th>\n      <td>ZYN230315007</td>\n      <td>ZYN230315007</td>\n      <td>NaN</td>\n      <td>普通产品 -&gt; Clothing Shoes &amp; Accessories -&gt; 男装 -&gt; ...</td>\n      <td>Men's Fashion Loose Large Cotton Shorts Men's ...</td>\n      <td>男士潮宽松大码棉短裤男多口袋休闲街头风七分工装裤</td>\n      <td>&lt;h1 align=\"center\"&gt;&lt;span style=\"font-size:14pt...</td>\n      <td>Black,Beige,Khaki,Brown,AG</td>\n      <td>29,30,31,32,33,34,36,A,B,C,D</td>\n      <td>NaN</td>\n      <td>...</td>\n      <td>25</td>\n      <td>25</td>\n      <td>2.0</td>\n      <td>Size: 29 Waist: 73cm/28.74'' Hip: 100cm/39.37'...</td>\n      <td>NaN</td>\n      <td>Parent</td>\n      <td>FRL-DE-24-07-26-16-06-32-013</td>\n      <td>FRL-DE-24-07-26-16-06-32-013</td>\n      <td>Cargohose Herren Cargo Pants Herren Sommer Lei...</td>\n      <td>cargohose herren baggy cargohose herren schwar...</td>\n    </tr>\n    <tr>\n      <th>303</th>\n      <td>ZYN230315007BK32</td>\n      <td>ZYN230315007</td>\n      <td>NaN</td>\n      <td>普通产品 -&gt; Clothing Shoes &amp; Accessories -&gt; 男装 -&gt; ...</td>\n      <td>Men's Fashion Loose Large Cotton Shorts Men's ...</td>\n      <td>男士潮宽松大码棉短裤男多口袋休闲街头风七分工装裤 黑色 32</td>\n      <td>&lt;h1 align=\"center\"&gt;&lt;span style=\"font-size:14pt...</td>\n      <td>Black</td>\n      <td>32</td>\n      <td>NaN</td>\n      <td>...</td>\n      <td>36</td>\n      <td>25</td>\n      <td>3.0</td>\n      <td>Size: 29 Waist: 73cm/28.74'' Hip: 100cm/39.37'...</td>\n      <td>NaN</td>\n      <td>Child</td>\n      <td>FRL-DE-24-07-26-16-06-32-013-BK32</td>\n      <td>FRL-DE-24-07-26-16-06-32-013</td>\n      <td>Cargohose Herren Cargo Pants Herren Sommer Lei...</td>\n      <td>cargohose herren baggy cargohose herren schwar...</td>\n    </tr>\n  </tbody>\n</table>\n<p>246 rows × 69 columns</p>\n</div>"
     },
     "execution_count": 13,
     "metadata": {},
     "output_type": "execute_result"
    }
   ],
   "source": [
    "# fp_st250 = f'{g}/{g}_st250.xlsx'\n",
    "# st250_df: DataFrame = pd.read_excel(fp_st250, sheet_name='st250')\n",
    "#\n",
    "# from util.widgets import Status\n",
    "#\n",
    "# st250_unused_df = st250_df[st250_df['status'] == Status.UNUSED.value]\n",
    "#\n",
    "# # 创建一个字典来跟踪每个 parent_sku 分配的 st250\n",
    "# st250_allocation = {}\n",
    "#\n",
    "# # 遍历 st250_df，按顺序为每个 parent_sku 分配 st250\n",
    "# for i, row in st250_unused_df.iterrows():\n",
    "#     value = row['value']\n",
    "#     # 如果所有的 parent_sku 都已分配 title，则跳出循环\n",
    "#     if set(st250_allocation.keys()) == set(erp_df['父SKU'].unique()):\n",
    "#         break\n",
    "#\n",
    "#     # 找到第一个尚未分配 title 的 parent_sku\n",
    "#     for parent_sku in erp_df['父SKU'].unique():\n",
    "#         if parent_sku not in st250_allocation:\n",
    "#             st250_allocation[parent_sku] = value\n",
    "#             break\n",
    "#\n",
    "# # 更新 st250_df 中被分配的 title 的状态\n",
    "# st250_unused_df.loc[st250_unused_df['value'].isin(st250_allocation.values()), 'status'] = Status.IN_USE.value\n",
    "#\n",
    "# # 将分配的 title 添加到 erp_df 中\n",
    "# erp_df['st250'] = erp_df['父SKU'].map(st250_allocation)\n",
    "# erp_df"
   ],
   "metadata": {
    "collapsed": false,
    "pycharm": {
     "name": "#%%\n"
    }
   }
  },
  {
   "cell_type": "code",
   "execution_count": 14,
   "outputs": [
    {
     "data": {
      "text/plain": "                group                    parent  len  \\\n0    cargohose herren          cargohose herren  240   \n1    cargohose herren          cargohose herren  231   \n2    cargohose herren          cargohose herren  244   \n3    cargohose herren          cargohose herren  237   \n4    cargohose herren          cargohose herren  248   \n..                ...                       ...  ...   \n104  cargohose herren  cargohose herren stretch  246   \n105  cargohose herren  cargohose herren stretch  247   \n106  cargohose herren  cargohose herren stretch  245   \n107  cargohose herren  cargohose herren stretch  242   \n108  cargohose herren  cargohose herren stretch  241   \n\n                                                 value  status         ymd  \n0    cargohose herren baggy cargohose herren sommer...   InUse  2024_07_26  \n1    cargohose herren stretch cargohose herren somm...   InUse  2024_07_26  \n2    cargohose herren schwarz cargohose herren somm...   InUse  2024_07_26  \n3    cargohose herren stretch cargohose herren schw...   InUse  2024_07_26  \n4    cargohose herren stretch cargohose herren stre...   InUse  2024_07_26  \n..                                                 ...     ...         ...  \n104  cargohose herren stretch slim fit cargohose he...  Unused         NaN  \n105  cargohose herren stretch sommer cargohose herr...  Unused         NaN  \n106  cargohose herren stretch übergröße cargohose h...  Unused         NaN  \n107  cargohose herren stretch lang cargohose herren...  Unused         NaN  \n108  cargohose herren stretch übergröße cargohose h...  Unused         NaN  \n\n[109 rows x 6 columns]",
      "text/html": "<div>\n<style scoped>\n    .dataframe tbody tr th:only-of-type {\n        vertical-align: middle;\n    }\n\n    .dataframe tbody tr th {\n        vertical-align: top;\n    }\n\n    .dataframe thead th {\n        text-align: right;\n    }\n</style>\n<table border=\"1\" class=\"dataframe\">\n  <thead>\n    <tr style=\"text-align: right;\">\n      <th></th>\n      <th>group</th>\n      <th>parent</th>\n      <th>len</th>\n      <th>value</th>\n      <th>status</th>\n      <th>ymd</th>\n    </tr>\n  </thead>\n  <tbody>\n    <tr>\n      <th>0</th>\n      <td>cargohose herren</td>\n      <td>cargohose herren</td>\n      <td>240</td>\n      <td>cargohose herren baggy cargohose herren sommer...</td>\n      <td>InUse</td>\n      <td>2024_07_26</td>\n    </tr>\n    <tr>\n      <th>1</th>\n      <td>cargohose herren</td>\n      <td>cargohose herren</td>\n      <td>231</td>\n      <td>cargohose herren stretch cargohose herren somm...</td>\n      <td>InUse</td>\n      <td>2024_07_26</td>\n    </tr>\n    <tr>\n      <th>2</th>\n      <td>cargohose herren</td>\n      <td>cargohose herren</td>\n      <td>244</td>\n      <td>cargohose herren schwarz cargohose herren somm...</td>\n      <td>InUse</td>\n      <td>2024_07_26</td>\n    </tr>\n    <tr>\n      <th>3</th>\n      <td>cargohose herren</td>\n      <td>cargohose herren</td>\n      <td>237</td>\n      <td>cargohose herren stretch cargohose herren schw...</td>\n      <td>InUse</td>\n      <td>2024_07_26</td>\n    </tr>\n    <tr>\n      <th>4</th>\n      <td>cargohose herren</td>\n      <td>cargohose herren</td>\n      <td>248</td>\n      <td>cargohose herren stretch cargohose herren stre...</td>\n      <td>InUse</td>\n      <td>2024_07_26</td>\n    </tr>\n    <tr>\n      <th>...</th>\n      <td>...</td>\n      <td>...</td>\n      <td>...</td>\n      <td>...</td>\n      <td>...</td>\n      <td>...</td>\n    </tr>\n    <tr>\n      <th>104</th>\n      <td>cargohose herren</td>\n      <td>cargohose herren stretch</td>\n      <td>246</td>\n      <td>cargohose herren stretch slim fit cargohose he...</td>\n      <td>Unused</td>\n      <td>NaN</td>\n    </tr>\n    <tr>\n      <th>105</th>\n      <td>cargohose herren</td>\n      <td>cargohose herren stretch</td>\n      <td>247</td>\n      <td>cargohose herren stretch sommer cargohose herr...</td>\n      <td>Unused</td>\n      <td>NaN</td>\n    </tr>\n    <tr>\n      <th>106</th>\n      <td>cargohose herren</td>\n      <td>cargohose herren stretch</td>\n      <td>245</td>\n      <td>cargohose herren stretch übergröße cargohose h...</td>\n      <td>Unused</td>\n      <td>NaN</td>\n    </tr>\n    <tr>\n      <th>107</th>\n      <td>cargohose herren</td>\n      <td>cargohose herren stretch</td>\n      <td>242</td>\n      <td>cargohose herren stretch lang cargohose herren...</td>\n      <td>Unused</td>\n      <td>NaN</td>\n    </tr>\n    <tr>\n      <th>108</th>\n      <td>cargohose herren</td>\n      <td>cargohose herren stretch</td>\n      <td>241</td>\n      <td>cargohose herren stretch übergröße cargohose h...</td>\n      <td>Unused</td>\n      <td>NaN</td>\n    </tr>\n  </tbody>\n</table>\n<p>109 rows × 6 columns</p>\n</div>"
     },
     "execution_count": 14,
     "metadata": {},
     "output_type": "execute_result"
    }
   ],
   "source": [
    "# index = st250_unused_df[st250_unused_df['status'] == Status.IN_USE.value].index\n",
    "# st250_df.iloc[index, st250_df.columns.get_loc('status')] = Status.IN_USE.value\n",
    "# st250_df.iloc[index, st250_df.columns.get_loc('ymd_HMS')] = ymd_HMS\n",
    "# st250_df"
   ],
   "metadata": {
    "collapsed": false,
    "pycharm": {
     "name": "#%%\n"
    }
   }
  },
  {
   "cell_type": "code",
   "execution_count": 15,
   "outputs": [
    {
     "name": "stdout",
     "output_type": "stream",
     "text": [
      "<p><b>Merkmale</b><br></p><p>Material: Polyester</p><p>Verpackungsinhalt: 1 Cargo-Hose</p><p>Stil: Freizeit</p><p>Geschlecht: Herren</p><p>Passform: Locker</p><p>Länge: Lange Hose</p><p>Saison: Frühling, Sommer, Herbst, Winter</p><p><b>Größeninformationen</b></p><p>Größe: M Taille: 72-82cm/28.35-32.28'' Hüfte: 108cm/42.52'' Länge: 104cm/40.94''</p><p>Größe: L Taille: 76-86cm/29.92-33.86'' Hüfte: 112cm/44.09'' Länge: 106cm/41.73''</p><p>Größe: XL Taille: 81-91cm/31.89-35.83'' Hüfte: 117cm/46.06'' Länge: 108cm/42.52''</p><p>Größe: XXL Taille: 86-96cm/33.86-37.80'' Hüfte: 122cm/48.03'' Länge: 110cm/43.31''</p><p>Größe: XXXL Taille: 91-101cm/35.83-39.76'' Hüfte: 127cm/50.00'' Länge: 112cm/44.09''</p><p></p><p><b>Kundendienst</b></p><p>Wir sind bestrebt, unseren Kunden ein komfortables Einkaufserlebnis zu bieten. Wenn Sie Fragen haben, schreiben Sie uns bitte, und Sie erhalten eine perfekte Lösung.</p>\n"
     ]
    }
   ],
   "source": [
    "# \"\"\"\n",
    "# 面料/材质：\n",
    "# 特征/设计：\n",
    "# 搭配：\n",
    "# 适用场合：\n",
    "# 客户服务：\n",
    "#\n",
    "# 【轻质材料】优质涤纶。轻盈、柔软亲肤，舒适、透气、轻便，即使在夏季也能舒适慢跑。\n",
    "# 【实用设计】运动修身健身运动裤，具有良好的弹性、透气性、重量轻、无摩擦和刺激，腿部贴合，展现肌肉张力并提供最大的运动自由度。\n",
    "# 【易于搭配】我们的男士工装裤可以与夹克、毛衣等搭配，冬天保暖又时尚。这款裤子也可以搭配T恤和衬衫。一年四季必备的裤子。\n",
    "# 【更多用途】适合休闲、运动、旅行、户外、家居、其他非正式活动或商务场合等，也可以在日常生活和工作中穿着。这款裤子也是送给朋友、儿子、丈夫或自己的完美礼物。\n",
    "# 【注意】订购前，请参考产品说明中我们的详细尺码表（不是亚马逊尺码表）。由于手工测量，请允许1-2厘米的误差。我们尽力向您展示正确的颜色，但请接受由于显示器和灯光不同而出现的一些轻微色差。\n",
    "#\n",
    "# 描述：需要转成html格式\n",
    "# 【特征】\n",
    "# 材质：聚酯纤维\n",
    "# 包装内容：1 条工装裤\n",
    "# 风格: 休闲\n",
    "# 性别：男\n",
    "# 合身：宽松\n",
    "# 长度：长裤\n",
    "# 季节: 春季，夏季，秋季，冬季\n",
    "# 【尺寸信息】\n",
    "# erp_df['尺码表']\n",
    "# 【客户服务】\n",
    "# 我们致力于为客户提供舒适的购物体验。如果您有任何疑问，请写信给我们，您将得到完美的解决方案。\n",
    "# \"\"\"\n",
    "#\n",
    "# bullet_point1 = '【Leichtes Material】Hochwertiges Polyester. Leicht, weich und hautfreundlich, komfortabel, atmungsaktiv und leicht, ideal auch für das Joggen im Sommer.'\n",
    "# bullet_point2 = '【Praktisches Design】Sportliche, figurbetonte Trainingshose mit guter Elastizität, Atmungsaktivität, leichtem Gewicht, ohne Reibung und Irritationen. Sie passt sich eng an die Beine an, zeigt die Muskelspannung und bietet maximale Bewegungsfreiheit.'\n",
    "# bullet_point3 = '【Einfach zu kombinieren】Unsere Herren Cargohose kann mit Jacken, Pullovern usw. kombiniert werden, um im Winter warm und modisch zu bleiben. Diese Hose kann auch mit T-Shirts und Hemden getragen werden. Eine Hose, die das ganze Jahr über ein Muss ist.'\n",
    "# bullet_point4 = '【Vielfältige Verwendungsmöglichkeiten】Geeignet für Freizeit, Sport, Reisen, Outdoor, Zuhause, andere informelle Anlässe oder Geschäftstreffen. Diese Hose ist auch ein perfektes Geschenk für Freunde, Söhne, Ehemänner oder sich selbst.'\n",
    "# bullet_point5 = '【Hinweis】Bitte beachten Sie vor der Bestellung unsere detaillierte Größentabelle in der Produktbeschreibung (nicht die Amazon-Größentabelle). Aufgrund manueller Messungen erlauben Sie bitte einen Fehler von 1-2 cm. Wir bemühen uns, Ihnen die richtigen Farben zu zeigen, aber akzeptieren Sie bitte leichte Farbabweichungen aufgrund unterschiedlicher Monitore und Beleuchtung.'\n",
    "#\n",
    "#\n",
    "# def generate_pd(t: str):\n",
    "#     \"\"\"\n",
    "#     Größe: S Taille: 78-84cm/30.71-33.07'' Hüfte: 100cm/39.37'' Länge: 66cm/25.98''\n",
    "#     :param t:\n",
    "#     :return:\n",
    "#     \"\"\"\n",
    "#     de_map = {\n",
    "#         'Size': 'Größe',\n",
    "#         'Waist': 'Taille',\n",
    "#         'Hip': 'Hüfte',\n",
    "#         'Length': 'Länge',\n",
    "#     }\n",
    "#     for k, v in de_map.items():\n",
    "#         t = t.replace(k, v)\n",
    "#     cs = t.split('\\n')\n",
    "#     pd = f\"\"\"<p><b>Merkmale</b><br></p>\n",
    "# <p>Material: Polyester</p>\n",
    "# <p>Verpackungsinhalt: 1 Cargo-Hose</p>\n",
    "# <p>Stil: Freizeit</p>\n",
    "# <p>Geschlecht: Herren</p>\n",
    "# <p>Passform: Locker</p>\n",
    "# <p>Länge: Lange Hose</p>\n",
    "# <p>Saison: Frühling, Sommer, Herbst, Winter</p>\n",
    "# <p><b>Größeninformationen</b></p>\n",
    "# {''.join([f'<p>{c.strip()}</p>' for c in cs])}\n",
    "# <p><b>Kundendienst</b></p>\n",
    "# <p>Wir sind bestrebt, unseren Kunden ein komfortables Einkaufserlebnis zu bieten. Wenn Sie Fragen haben, schreiben Sie uns bitte, und Sie erhalten eine perfekte Lösung.</p>\"\"\"\n",
    "#     return pd.replace('\\n', '')\n",
    "#\n",
    "#"
   ],
   "metadata": {
    "collapsed": false,
    "pycharm": {
     "name": "#%%\n"
    }
   }
  },
  {
   "cell_type": "code",
   "execution_count": null,
   "outputs": [],
   "source": [
    "df['item_name'] = erp_df['title']\n",
    "df['generic_keywords'] = erp_df['st250']\n",
    "df['bullet_point1'] = erp_df['bullet_point1']\n",
    "df['bullet_point2'] = erp_df['bullet_point2']\n",
    "df['bullet_point3'] = erp_df['bullet_point3']\n",
    "df['bullet_point4'] = erp_df['bullet_point4']\n",
    "df['bullet_point5'] = erp_df['bullet_point5']\n",
    "df['product_description'] = erp_df['product_description']\n",
    "print(df['product_description'][0])"
   ],
   "metadata": {
    "collapsed": false,
    "pycharm": {
     "name": "#%%\n"
    }
   }
  },
  {
   "cell_type": "markdown",
   "source": [
    "## （011/011）父留空，子为定值或从父\n",
    "\n",
    "| **参数**                                           | **是否必填** | **默认值** | **可选值** |\n",
    "|-------------------------|----------|-------------------------------------------|----------|\n",
    "| **bottoms_size_system** | required | 父留空，德国DE / NL / SE / PL                   | DE / NL / SE / PL |\n",
    "| **bottoms_size_class**  | required | 父留空，字母Alphanumerisch                      | Alter, Alphanumerisch, Numerisch, Bundweite, Bundweite & Schrittlänge |\n",
    "| **bottoms_size**        | required | 父留空，尺码，从sku处可获取                           | required |\n",
    "| **bottoms_body_type**   | required | 父留空，Regular                               | Regular, GroBe GröBen, Slim |\n",
    "| **bottoms_height_type** | required | 父留空，Regular                               | Regular, Extra Tall, Tall, Kurz, Extra Kurz, Petite, Lang, Extra Lang |\n",
    "| **parent_sku**          | required | 父留空，子填父sku                                | required |\n",
    "| **relationship_type**   | required | 父留空，子填Variation                           | Accessory, Variation, package_contains |\n",
    "| **color_map**           | required | 父留空，结果页显示颜色（Beige, Schwarz, Grau, Khaki）  | Beige, Blau, Braun, Elfenbein, Gelb, Gold, Grau, Grün, Mehrfarbig, Orange, Rosa, Rot, Schwarz, Silber, Turkis, Violett, WeiB, Bronze, Lila, Durchsichtig, Cremefarben, Metallisch |\n",
    "| **color_name**          | required | 父留空，详情页显示颜色（Beige, Schwarz, Grau, Khaki）  | required |\n",
    "| **size_name**           | required | 父留空，结果页显示尺寸（S, M, L,XL, XXL）              | required |\n",
    "| **size_map**            | required | 父留空，详情页显示尺寸（S, M, L,XL, XXL）              | required |\n"
   ],
   "metadata": {
    "collapsed": false
   }
  },
  {
   "cell_type": "code",
   "execution_count": 16,
   "outputs": [
    {
     "data": {
      "text/plain": "('Schwarz', 'XL')"
     },
     "execution_count": 16,
     "metadata": {},
     "output_type": "execute_result"
    }
   ],
   "source": [
    "# # 选择parent_child字段值为'Parent'的行\n",
    "# is_parent = df['parent_child'] == 'Parent'\n",
    "# c_s = re.compile(r'(?P<s>\\d{2}|\\d[A-Z]|[A-Z]{1,2})(?P<c>\\d[A-Z]{2}|[A-Z]{2})')\n",
    "#\n",
    "# color_map = {\n",
    "#     'AG': 'Armeegrün',  # AG\n",
    "#     'BG': 'Beige',  # Beige\n",
    "#     'BK': 'Schwarz',  # Black\n",
    "#     'BU': 'Blau',  # Blue\n",
    "#     'BW': 'Braun',  # Brown\n",
    "#     'CE': 'Camo',  # Camouflage\n",
    "#     'CO': 'Kaffee',  # Coffee\n",
    "#     'DB': 'Dunkelblau',  # Dark Blue\n",
    "#     'DY': 'Dunkelgrau',  # Dark Gray\n",
    "#     'GN': 'Grün',  # Green\n",
    "#     'GY': 'Grau',  # Grey\n",
    "#     'GY1': 'Grau-1',  # Grey\n",
    "#     'GY2': 'Grau-2',  # Grey\n",
    "#     'LN': 'Hellgrün',  # Light Green\n",
    "#     'LR': 'Hellgrau',  # Light Gray\n",
    "#     'KH': 'Khaki',  # Khaki\n",
    "#     'NY': 'Navy',  # Navy\n",
    "#     'RD': 'Rot',  # Red\n",
    "#     'WE': 'Wine',  # Wine\n",
    "#     'WH': 'WeiB',  # White\n",
    "#     'YE': 'Gelb',  # Yellow\n",
    "# }\n",
    "#\n",
    "#\n",
    "# def get_color(r: str):\n",
    "#     try:\n",
    "#         c = c_s.match(r[::-1]).group('c')[::-1]\n",
    "#     except AttributeError:\n",
    "#         c = ''\n",
    "#     try:\n",
    "#         clr = color_map[c]\n",
    "#     except KeyError:\n",
    "#         clr = c\n",
    "#\n",
    "#     return clr\n",
    "#\n",
    "#\n",
    "# size_map = {\n",
    "#     'S': 'S',\n",
    "#     'M': 'M',\n",
    "#     'L': 'L',\n",
    "#     'XL': 'XL',\n",
    "#     'L1': 'XL',\n",
    "#     'L2': 'XXL',\n",
    "#     'L3': '3XL',\n",
    "#     'L4': '4XL',\n",
    "#     'L5': '5XL',\n",
    "#     'L6': '6XL',\n",
    "# }\n",
    "#\n",
    "#\n",
    "# def get_size(r: str):\n",
    "#     try:  # L, L2, 23, ''\n",
    "#         s = c_s.match(r[::-1]).group('s')[::-1]\n",
    "#     except AttributeError:\n",
    "#         s = ''\n",
    "#     try:\n",
    "#         se = size_map[s]\n",
    "#     except KeyError:\n",
    "#         if s:\n",
    "#             se = int(s)\n",
    "#         else:\n",
    "#             se = s\n",
    "#\n",
    "#     return se\n",
    "#\n",
    "#\n",
    "# s2 = 'MKT-DE-24-07-18-001-BKL1'\n",
    "# get_color(s2), get_size(s2)"
   ],
   "metadata": {
    "collapsed": false,
    "pycharm": {
     "name": "#%%\n"
    }
   }
  },
  {
   "cell_type": "code",
   "execution_count": 17,
   "outputs": [],
   "source": [
    "def get_bsc(s: str or int):\n",
    "    if isinstance(s, str):\n",
    "        return 'Alphanumerisch'\n",
    "    if isinstance(s, int):\n",
    "        return 'Numerisch'"
   ],
   "metadata": {
    "collapsed": false,
    "pycharm": {
     "name": "#%%\n"
    }
   }
  },
  {
   "cell_type": "code",
   "execution_count": 18,
   "outputs": [
    {
     "data": {
      "text/plain": "    bottoms_size_system bottoms_size_class bottoms_size bottoms_body_type  \\\n0                   NaN                NaN          NaN               NaN   \n1     DE / NL / SE / PL     Alphanumerisch            L           Regular   \n2     DE / NL / SE / PL     Alphanumerisch          XXL           Regular   \n3     DE / NL / SE / PL     Alphanumerisch          3XL           Regular   \n4     DE / NL / SE / PL     Alphanumerisch            M           Regular   \n..                  ...                ...          ...               ...   \n299   DE / NL / SE / PL     Alphanumerisch           XL           Regular   \n300   DE / NL / SE / PL     Alphanumerisch            L           Regular   \n301   DE / NL / SE / PL     Alphanumerisch           XL           Regular   \n302                 NaN                NaN          NaN               NaN   \n303   DE / NL / SE / PL          Numerisch           32           Regular   \n\n    bottoms_height_type                    parent_sku relationship_type  \\\n0                   NaN                           NaN               NaN   \n1               Regular  FRL-DE-24-07-26-16-06-32-001         Variation   \n2               Regular  FRL-DE-24-07-26-16-06-32-001         Variation   \n3               Regular  FRL-DE-24-07-26-16-06-32-001         Variation   \n4               Regular  FRL-DE-24-07-26-16-06-32-001         Variation   \n..                  ...                           ...               ...   \n299             Regular  FRL-DE-24-07-26-16-06-32-012         Variation   \n300             Regular  FRL-DE-24-07-26-16-06-32-012         Variation   \n301             Regular  FRL-DE-24-07-26-16-06-32-012         Variation   \n302                 NaN                           NaN               NaN   \n303             Regular  FRL-DE-24-07-26-16-06-32-013         Variation   \n\n    color_map color_name size_name size_map  \n0         NaN        NaN       NaN      NaN  \n1     Schwarz    Schwarz         L        L  \n2     Schwarz    Schwarz       XXL      XXL  \n3     Schwarz    Schwarz       3XL      3XL  \n4     Schwarz    Schwarz         M        M  \n..        ...        ...       ...      ...  \n299     Khaki      Khaki        XL       XL  \n300      Wine       Wine         L        L  \n301      Wine       Wine        XL       XL  \n302       NaN        NaN       NaN      NaN  \n303   Schwarz    Schwarz        32       32  \n\n[246 rows x 11 columns]",
      "text/html": "<div>\n<style scoped>\n    .dataframe tbody tr th:only-of-type {\n        vertical-align: middle;\n    }\n\n    .dataframe tbody tr th {\n        vertical-align: top;\n    }\n\n    .dataframe thead th {\n        text-align: right;\n    }\n</style>\n<table border=\"1\" class=\"dataframe\">\n  <thead>\n    <tr style=\"text-align: right;\">\n      <th></th>\n      <th>bottoms_size_system</th>\n      <th>bottoms_size_class</th>\n      <th>bottoms_size</th>\n      <th>bottoms_body_type</th>\n      <th>bottoms_height_type</th>\n      <th>parent_sku</th>\n      <th>relationship_type</th>\n      <th>color_map</th>\n      <th>color_name</th>\n      <th>size_name</th>\n      <th>size_map</th>\n    </tr>\n  </thead>\n  <tbody>\n    <tr>\n      <th>0</th>\n      <td>NaN</td>\n      <td>NaN</td>\n      <td>NaN</td>\n      <td>NaN</td>\n      <td>NaN</td>\n      <td>NaN</td>\n      <td>NaN</td>\n      <td>NaN</td>\n      <td>NaN</td>\n      <td>NaN</td>\n      <td>NaN</td>\n    </tr>\n    <tr>\n      <th>1</th>\n      <td>DE / NL / SE / PL</td>\n      <td>Alphanumerisch</td>\n      <td>L</td>\n      <td>Regular</td>\n      <td>Regular</td>\n      <td>FRL-DE-24-07-26-16-06-32-001</td>\n      <td>Variation</td>\n      <td>Schwarz</td>\n      <td>Schwarz</td>\n      <td>L</td>\n      <td>L</td>\n    </tr>\n    <tr>\n      <th>2</th>\n      <td>DE / NL / SE / PL</td>\n      <td>Alphanumerisch</td>\n      <td>XXL</td>\n      <td>Regular</td>\n      <td>Regular</td>\n      <td>FRL-DE-24-07-26-16-06-32-001</td>\n      <td>Variation</td>\n      <td>Schwarz</td>\n      <td>Schwarz</td>\n      <td>XXL</td>\n      <td>XXL</td>\n    </tr>\n    <tr>\n      <th>3</th>\n      <td>DE / NL / SE / PL</td>\n      <td>Alphanumerisch</td>\n      <td>3XL</td>\n      <td>Regular</td>\n      <td>Regular</td>\n      <td>FRL-DE-24-07-26-16-06-32-001</td>\n      <td>Variation</td>\n      <td>Schwarz</td>\n      <td>Schwarz</td>\n      <td>3XL</td>\n      <td>3XL</td>\n    </tr>\n    <tr>\n      <th>4</th>\n      <td>DE / NL / SE / PL</td>\n      <td>Alphanumerisch</td>\n      <td>M</td>\n      <td>Regular</td>\n      <td>Regular</td>\n      <td>FRL-DE-24-07-26-16-06-32-001</td>\n      <td>Variation</td>\n      <td>Schwarz</td>\n      <td>Schwarz</td>\n      <td>M</td>\n      <td>M</td>\n    </tr>\n    <tr>\n      <th>...</th>\n      <td>...</td>\n      <td>...</td>\n      <td>...</td>\n      <td>...</td>\n      <td>...</td>\n      <td>...</td>\n      <td>...</td>\n      <td>...</td>\n      <td>...</td>\n      <td>...</td>\n      <td>...</td>\n    </tr>\n    <tr>\n      <th>299</th>\n      <td>DE / NL / SE / PL</td>\n      <td>Alphanumerisch</td>\n      <td>XL</td>\n      <td>Regular</td>\n      <td>Regular</td>\n      <td>FRL-DE-24-07-26-16-06-32-012</td>\n      <td>Variation</td>\n      <td>Khaki</td>\n      <td>Khaki</td>\n      <td>XL</td>\n      <td>XL</td>\n    </tr>\n    <tr>\n      <th>300</th>\n      <td>DE / NL / SE / PL</td>\n      <td>Alphanumerisch</td>\n      <td>L</td>\n      <td>Regular</td>\n      <td>Regular</td>\n      <td>FRL-DE-24-07-26-16-06-32-012</td>\n      <td>Variation</td>\n      <td>Wine</td>\n      <td>Wine</td>\n      <td>L</td>\n      <td>L</td>\n    </tr>\n    <tr>\n      <th>301</th>\n      <td>DE / NL / SE / PL</td>\n      <td>Alphanumerisch</td>\n      <td>XL</td>\n      <td>Regular</td>\n      <td>Regular</td>\n      <td>FRL-DE-24-07-26-16-06-32-012</td>\n      <td>Variation</td>\n      <td>Wine</td>\n      <td>Wine</td>\n      <td>XL</td>\n      <td>XL</td>\n    </tr>\n    <tr>\n      <th>302</th>\n      <td>NaN</td>\n      <td>NaN</td>\n      <td>NaN</td>\n      <td>NaN</td>\n      <td>NaN</td>\n      <td>NaN</td>\n      <td>NaN</td>\n      <td>NaN</td>\n      <td>NaN</td>\n      <td>NaN</td>\n      <td>NaN</td>\n    </tr>\n    <tr>\n      <th>303</th>\n      <td>DE / NL / SE / PL</td>\n      <td>Numerisch</td>\n      <td>32</td>\n      <td>Regular</td>\n      <td>Regular</td>\n      <td>FRL-DE-24-07-26-16-06-32-013</td>\n      <td>Variation</td>\n      <td>Schwarz</td>\n      <td>Schwarz</td>\n      <td>32</td>\n      <td>32</td>\n    </tr>\n  </tbody>\n</table>\n<p>246 rows × 11 columns</p>\n</div>"
     },
     "execution_count": 18,
     "metadata": {},
     "output_type": "execute_result"
    }
   ],
   "source": [
    "df['bottoms_size_system'] = 'DE / NL / SE / PL'\n",
    "df['bottoms_size'] = erp_df['size']\n",
    "df['bottoms_size_class'] = df['bottoms_size'].apply(lambda i: get_bsc(i))\n",
    "df['bottoms_body_type'] = 'Regular'\n",
    "df['bottoms_height_type'] = 'Regular'\n",
    "df['parent_sku'] = erp_df['amazon_psku']\n",
    "df['relationship_type'] = 'Variation'\n",
    "df['color_map'] = erp_df['color']\n",
    "df['color_name'] = df['color_map']\n",
    "df['size_name'] = df['bottoms_size']\n",
    "df['size_map'] = df['bottoms_size']\n",
    "\n",
    "ng_1 = [\n",
    "    'bottoms_size_system',\n",
    "    'bottoms_size_class',\n",
    "    'bottoms_size',\n",
    "    'bottoms_body_type',\n",
    "    'bottoms_height_type',\n",
    "    'parent_sku',\n",
    "    'relationship_type',\n",
    "    'color_map',\n",
    "    'color_name',\n",
    "    'size_name',\n",
    "    'size_map',\n",
    "]\n",
    "\n",
    "is_parent = df['parent_child'] == 'Parent'\n",
    "# 将选中的行的color_map和color_size字段设置为NaN\n",
    "df.loc[is_parent, ng_1] = np.nan\n",
    "\n",
    "df[ng_1]"
   ],
   "metadata": {
    "collapsed": false,
    "pycharm": {
     "name": "#%%\n"
    }
   }
  },
  {
   "cell_type": "markdown",
   "source": [
    "## （010/010）父留空，子需自行设置\n",
    "\n",
    "| **参数**                  | **是否必填** | **默认值** |\n",
    "|-------------------------|----------|-------------------------------------------|\n",
    "| **standard_price**      | required | 父留空，德国站计算价                            |\n",
    "| **quantity**            | required | 父留空，150                                   |\n",
    "| **main_image_url**      | required | 父留空                                       |\n",
    "| **other_image_url1**    | required | 父留空                                       |\n",
    "| **other_image_url2**    | required | 父留空                                       |\n",
    "| **other_image_url3**    | required | 父留空                                       |\n",
    "| **other_image_url4**    | required | 父留空                                       |\n",
    "| **other_image_url5**    | required | 父留空                                       |\n",
    "| **other_image_url6**    | required | 父留空                                       |\n",
    "| **list_price_with_tax** | required | 父留空，子填同standard_price                   |\n"
   ],
   "metadata": {
    "collapsed": false
   }
  },
  {
   "cell_type": "code",
   "execution_count": 19,
   "outputs": [
    {
     "name": "stderr",
     "output_type": "stream",
     "text": [
      "C:\\Users\\000\\AppData\\Local\\Temp\\ipykernel_8364\\3520407535.py:17: SettingWithCopyWarning: \n",
      "A value is trying to be set on a copy of a slice from a DataFrame.\n",
      "Try using .loc[row_indexer,col_indexer] = value instead\n",
      "\n",
      "See the caveats in the documentation: https://pandas.pydata.org/pandas-docs/stable/user_guide/indexing.html#returning-a-view-versus-a-copy\n",
      "  erp_df[f'gitee{_}'] = erp_df[_].apply(lambda i: redirect(i))\n"
     ]
    },
    {
     "data": {
      "text/plain": "                  SKU          父SKU  产品缩略图  \\\n0        FBE230705004  FBE230705004    NaN   \n1     FBE230705004BKL  FBE230705004    NaN   \n2    FBE230705004BKL2  FBE230705004    NaN   \n3    FBE230705004BKL3  FBE230705004    NaN   \n4     FBE230705004BKM  FBE230705004    NaN   \n..                ...           ...    ...   \n299  ZUQ210805001KHXL  ZUQ210805001    NaN   \n300   ZUQ210805001WEL  ZUQ210805001    NaN   \n301  ZUQ210805001WEXL  ZUQ210805001    NaN   \n302      ZYN230315007  ZYN230315007    NaN   \n303  ZYN230315007BK32  ZYN230315007    NaN   \n\n                                                  产品类型  \\\n0    普通产品 -> Clothing Shoes & Accessories -> 男装 -> ...   \n1    普通产品 -> Clothing Shoes & Accessories -> 男装 -> ...   \n2    普通产品 -> Clothing Shoes & Accessories -> 男装 -> ...   \n3    普通产品 -> Clothing Shoes & Accessories -> 男装 -> ...   \n4    普通产品 -> Clothing Shoes & Accessories -> 男装 -> ...   \n..                                                 ...   \n299  普通产品 -> Clothing Shoes & Accessories -> 男装 -> ...   \n300  普通产品 -> Clothing Shoes & Accessories -> 男装 -> ...   \n301  普通产品 -> Clothing Shoes & Accessories -> 男装 -> ...   \n302  普通产品 -> Clothing Shoes & Accessories -> 男装 -> ...   \n303  普通产品 -> Clothing Shoes & Accessories -> 男装 -> ...   \n\n                                                    标题  \\\n0    Mens Casual Waist Color Sports Hat Woven Pocke...   \n1    Mens Casual Waist Color Sports Hat Multi Woven...   \n2    Mens Casual Waist Color Sports Hat Multi Woven...   \n3    Mens Casual Waist Color Sports Hat Multi Woven...   \n4    Mens Casual Waist Color Sports Hat Multi Woven...   \n..                                                 ...   \n299  Men's Thin Trousers Solid Color High Waist Ela...   \n300  Men's Thin Trousers Solid Color High Waist Ela...   \n301  Men's Thin Trousers Solid Color High Waist Ela...   \n302  Men's Fashion Loose Large Cotton Shorts Men's ...   \n303  Men's Fashion Loose Large Cotton Shorts Men's ...   \n\n                                      产品名称  \\\n0            男士四季街头休闲运动多口袋脚口帽绳腰间系带纯色工装长裤卫裤   \n1       男士四季街头休闲运动多口袋脚口帽绳腰间系带纯色工装长裤卫裤 黑色 L   \n2     男士四季街头休闲运动多口袋脚口帽绳腰间系带纯色工装长裤卫裤 黑色 XXL   \n3    男士四季街头休闲运动多口袋脚口帽绳腰间系带纯色工装长裤卫裤 黑色 XXXL   \n4       男士四季街头休闲运动多口袋脚口帽绳腰间系带纯色工装长裤卫裤 黑色 M   \n..                                     ...   \n299           男士薄款纯色高腰弹力休闲商务西装长裤 卡其色 XL 32   \n300            男士薄款纯色高腰弹力休闲商务西装长裤 酒红色 L 31   \n301           男士薄款纯色高腰弹力休闲商务西装长裤 酒红色 XL 32   \n302               男士潮宽松大码棉短裤男多口袋休闲街头风七分工装裤   \n303         男士潮宽松大码棉短裤男多口袋休闲街头风七分工装裤 黑色 32   \n\n                                                    描述  \\\n0    <h1 align=\"center\"><span style=\"font-size:14pt...   \n1    <h1 align=\"center\"><span style=\"font-size:14pt...   \n2    <h1 align=\"center\"><span style=\"font-size:14pt...   \n3    <h1 align=\"center\"><span style=\"font-size:14pt...   \n4    <h1 align=\"center\"><span style=\"font-size:14pt...   \n..                                                 ...   \n299  <h1 align=\"center\"><span style=\"font-size:14pt...   \n300  <h1 align=\"center\"><span style=\"font-size:14pt...   \n301  <h1 align=\"center\"><span style=\"font-size:14pt...   \n302  <h1 align=\"center\"><span style=\"font-size:14pt...   \n303  <h1 align=\"center\"><span style=\"font-size:14pt...   \n\n                             颜色                            尺寸     亚马逊尺寸  ...  \\\n0    Black,Grey,Khaki,Dark Gray               M,L,XL,XXL,XXXL       NaN  ...   \n1                         Black                             L     Large  ...   \n2                         Black                           XXL  XX-Large  ...   \n3                         Black                          XXXL  3X-Large  ...   \n4                         Black                             M    Medium  ...   \n..                          ...                           ...       ...  ...   \n299                       Khaki                            XL   X-Large  ...   \n300                        Wine                             L     Large  ...   \n301                        Wine                            XL   X-Large  ...   \n302  Black,Beige,Khaki,Brown,AG  29,30,31,32,33,34,36,A,B,C,D       NaN  ...   \n303                       Black                            32       NaN  ...   \n\n                                                 st250  \\\n0    cargohose herren baggy cargohose herren sommer...   \n1    cargohose herren baggy cargohose herren sommer...   \n2    cargohose herren baggy cargohose herren sommer...   \n3    cargohose herren baggy cargohose herren sommer...   \n4    cargohose herren baggy cargohose herren sommer...   \n..                                                 ...   \n299  cargohose herren schwarz cargohose herren bagg...   \n300  cargohose herren schwarz cargohose herren bagg...   \n301  cargohose herren schwarz cargohose herren bagg...   \n302  cargohose herren baggy cargohose herren schwar...   \n303  cargohose herren baggy cargohose herren schwar...   \n\n                                           gitee图片链接 1  \\\n0    https://raw.githubusercontent.com/wuku32/proje...   \n1    https://raw.githubusercontent.com/wuku32/proje...   \n2    https://raw.githubusercontent.com/wuku32/proje...   \n3    https://raw.githubusercontent.com/wuku32/proje...   \n4    https://raw.githubusercontent.com/wuku32/proje...   \n..                                                 ...   \n299  https://raw.githubusercontent.com/wuku32/proje...   \n300  https://raw.githubusercontent.com/wuku32/proje...   \n301  https://raw.githubusercontent.com/wuku32/proje...   \n302  https://raw.githubusercontent.com/wuku32/proje...   \n303  https://raw.githubusercontent.com/wuku32/proje...   \n\n                                           gitee图片链接 2  \\\n0    https://raw.githubusercontent.com/wuku32/proje...   \n1    https://raw.githubusercontent.com/wuku32/proje...   \n2    https://raw.githubusercontent.com/wuku32/proje...   \n3    https://raw.githubusercontent.com/wuku32/proje...   \n4    https://raw.githubusercontent.com/wuku32/proje...   \n..                                                 ...   \n299  https://raw.githubusercontent.com/wuku32/proje...   \n300  https://raw.githubusercontent.com/wuku32/proje...   \n301  https://raw.githubusercontent.com/wuku32/proje...   \n302  https://raw.githubusercontent.com/wuku32/proje...   \n303  https://raw.githubusercontent.com/wuku32/proje...   \n\n                                           gitee图片链接 3  \\\n0    https://raw.githubusercontent.com/wuku32/proje...   \n1    https://raw.githubusercontent.com/wuku32/proje...   \n2    https://raw.githubusercontent.com/wuku32/proje...   \n3    https://raw.githubusercontent.com/wuku32/proje...   \n4    https://raw.githubusercontent.com/wuku32/proje...   \n..                                                 ...   \n299  https://raw.githubusercontent.com/wuku32/proje...   \n300  https://raw.githubusercontent.com/wuku32/proje...   \n301  https://raw.githubusercontent.com/wuku32/proje...   \n302  https://raw.githubusercontent.com/wuku32/proje...   \n303  https://raw.githubusercontent.com/wuku32/proje...   \n\n                                           gitee图片链接 4  \\\n0    https://raw.githubusercontent.com/wuku32/proje...   \n1    https://raw.githubusercontent.com/wuku32/proje...   \n2    https://raw.githubusercontent.com/wuku32/proje...   \n3    https://raw.githubusercontent.com/wuku32/proje...   \n4    https://raw.githubusercontent.com/wuku32/proje...   \n..                                                 ...   \n299  https://raw.githubusercontent.com/wuku32/proje...   \n300  https://raw.githubusercontent.com/wuku32/proje...   \n301  https://raw.githubusercontent.com/wuku32/proje...   \n302  https://raw.githubusercontent.com/wuku32/proje...   \n303  https://raw.githubusercontent.com/wuku32/proje...   \n\n                                           gitee图片链接 5  \\\n0    https://raw.githubusercontent.com/wuku32/proje...   \n1    https://raw.githubusercontent.com/wuku32/proje...   \n2    https://raw.githubusercontent.com/wuku32/proje...   \n3    https://raw.githubusercontent.com/wuku32/proje...   \n4    https://raw.githubusercontent.com/wuku32/proje...   \n..                                                 ...   \n299  https://raw.githubusercontent.com/wuku32/proje...   \n300  https://raw.githubusercontent.com/wuku32/proje...   \n301  https://raw.githubusercontent.com/wuku32/proje...   \n302  https://raw.githubusercontent.com/wuku32/proje...   \n303  https://raw.githubusercontent.com/wuku32/proje...   \n\n                                           gitee图片链接 6  \\\n0    https://raw.githubusercontent.com/wuku32/proje...   \n1                                                 None   \n2                                                 None   \n3                                                 None   \n4                                                 None   \n..                                                 ...   \n299  https://raw.githubusercontent.com/wuku32/proje...   \n300  https://raw.githubusercontent.com/wuku32/proje...   \n301  https://raw.githubusercontent.com/wuku32/proje...   \n302  https://raw.githubusercontent.com/wuku32/proje...   \n303  https://raw.githubusercontent.com/wuku32/proje...   \n\n                                           gitee图片链接 7  \\\n0    https://raw.githubusercontent.com/wuku32/proje...   \n1                                                 None   \n2                                                 None   \n3                                                 None   \n4                                                 None   \n..                                                 ...   \n299  https://raw.githubusercontent.com/wuku32/proje...   \n300  https://raw.githubusercontent.com/wuku32/proje...   \n301  https://raw.githubusercontent.com/wuku32/proje...   \n302  https://raw.githubusercontent.com/wuku32/proje...   \n303  https://raw.githubusercontent.com/wuku32/proje...   \n\n                                           gitee图片链接 8  \\\n0    https://raw.githubusercontent.com/wuku32/proje...   \n1                                                 None   \n2                                                 None   \n3                                                 None   \n4                                                 None   \n..                                                 ...   \n299  https://raw.githubusercontent.com/wuku32/proje...   \n300  https://raw.githubusercontent.com/wuku32/proje...   \n301  https://raw.githubusercontent.com/wuku32/proje...   \n302  https://raw.githubusercontent.com/wuku32/proje...   \n303  https://raw.githubusercontent.com/wuku32/proje...   \n\n                                           gitee图片链接 9  \n0    https://raw.githubusercontent.com/wuku32/proje...  \n1                                                 None  \n2                                                 None  \n3                                                 None  \n4                                                 None  \n..                                                 ...  \n299  https://raw.githubusercontent.com/wuku32/proje...  \n300  https://raw.githubusercontent.com/wuku32/proje...  \n301  https://raw.githubusercontent.com/wuku32/proje...  \n302  https://raw.githubusercontent.com/wuku32/proje...  \n303  https://raw.githubusercontent.com/wuku32/proje...  \n\n[246 rows x 78 columns]",
      "text/html": "<div>\n<style scoped>\n    .dataframe tbody tr th:only-of-type {\n        vertical-align: middle;\n    }\n\n    .dataframe tbody tr th {\n        vertical-align: top;\n    }\n\n    .dataframe thead th {\n        text-align: right;\n    }\n</style>\n<table border=\"1\" class=\"dataframe\">\n  <thead>\n    <tr style=\"text-align: right;\">\n      <th></th>\n      <th>SKU</th>\n      <th>父SKU</th>\n      <th>产品缩略图</th>\n      <th>产品类型</th>\n      <th>标题</th>\n      <th>产品名称</th>\n      <th>描述</th>\n      <th>颜色</th>\n      <th>尺寸</th>\n      <th>亚马逊尺寸</th>\n      <th>...</th>\n      <th>st250</th>\n      <th>gitee图片链接 1</th>\n      <th>gitee图片链接 2</th>\n      <th>gitee图片链接 3</th>\n      <th>gitee图片链接 4</th>\n      <th>gitee图片链接 5</th>\n      <th>gitee图片链接 6</th>\n      <th>gitee图片链接 7</th>\n      <th>gitee图片链接 8</th>\n      <th>gitee图片链接 9</th>\n    </tr>\n  </thead>\n  <tbody>\n    <tr>\n      <th>0</th>\n      <td>FBE230705004</td>\n      <td>FBE230705004</td>\n      <td>NaN</td>\n      <td>普通产品 -&gt; Clothing Shoes &amp; Accessories -&gt; 男装 -&gt; ...</td>\n      <td>Mens Casual Waist Color Sports Hat Woven Pocke...</td>\n      <td>男士四季街头休闲运动多口袋脚口帽绳腰间系带纯色工装长裤卫裤</td>\n      <td>&lt;h1 align=\"center\"&gt;&lt;span style=\"font-size:14pt...</td>\n      <td>Black,Grey,Khaki,Dark Gray</td>\n      <td>M,L,XL,XXL,XXXL</td>\n      <td>NaN</td>\n      <td>...</td>\n      <td>cargohose herren baggy cargohose herren sommer...</td>\n      <td>https://raw.githubusercontent.com/wuku32/proje...</td>\n      <td>https://raw.githubusercontent.com/wuku32/proje...</td>\n      <td>https://raw.githubusercontent.com/wuku32/proje...</td>\n      <td>https://raw.githubusercontent.com/wuku32/proje...</td>\n      <td>https://raw.githubusercontent.com/wuku32/proje...</td>\n      <td>https://raw.githubusercontent.com/wuku32/proje...</td>\n      <td>https://raw.githubusercontent.com/wuku32/proje...</td>\n      <td>https://raw.githubusercontent.com/wuku32/proje...</td>\n      <td>https://raw.githubusercontent.com/wuku32/proje...</td>\n    </tr>\n    <tr>\n      <th>1</th>\n      <td>FBE230705004BKL</td>\n      <td>FBE230705004</td>\n      <td>NaN</td>\n      <td>普通产品 -&gt; Clothing Shoes &amp; Accessories -&gt; 男装 -&gt; ...</td>\n      <td>Mens Casual Waist Color Sports Hat Multi Woven...</td>\n      <td>男士四季街头休闲运动多口袋脚口帽绳腰间系带纯色工装长裤卫裤 黑色 L</td>\n      <td>&lt;h1 align=\"center\"&gt;&lt;span style=\"font-size:14pt...</td>\n      <td>Black</td>\n      <td>L</td>\n      <td>Large</td>\n      <td>...</td>\n      <td>cargohose herren baggy cargohose herren sommer...</td>\n      <td>https://raw.githubusercontent.com/wuku32/proje...</td>\n      <td>https://raw.githubusercontent.com/wuku32/proje...</td>\n      <td>https://raw.githubusercontent.com/wuku32/proje...</td>\n      <td>https://raw.githubusercontent.com/wuku32/proje...</td>\n      <td>https://raw.githubusercontent.com/wuku32/proje...</td>\n      <td>None</td>\n      <td>None</td>\n      <td>None</td>\n      <td>None</td>\n    </tr>\n    <tr>\n      <th>2</th>\n      <td>FBE230705004BKL2</td>\n      <td>FBE230705004</td>\n      <td>NaN</td>\n      <td>普通产品 -&gt; Clothing Shoes &amp; Accessories -&gt; 男装 -&gt; ...</td>\n      <td>Mens Casual Waist Color Sports Hat Multi Woven...</td>\n      <td>男士四季街头休闲运动多口袋脚口帽绳腰间系带纯色工装长裤卫裤 黑色 XXL</td>\n      <td>&lt;h1 align=\"center\"&gt;&lt;span style=\"font-size:14pt...</td>\n      <td>Black</td>\n      <td>XXL</td>\n      <td>XX-Large</td>\n      <td>...</td>\n      <td>cargohose herren baggy cargohose herren sommer...</td>\n      <td>https://raw.githubusercontent.com/wuku32/proje...</td>\n      <td>https://raw.githubusercontent.com/wuku32/proje...</td>\n      <td>https://raw.githubusercontent.com/wuku32/proje...</td>\n      <td>https://raw.githubusercontent.com/wuku32/proje...</td>\n      <td>https://raw.githubusercontent.com/wuku32/proje...</td>\n      <td>None</td>\n      <td>None</td>\n      <td>None</td>\n      <td>None</td>\n    </tr>\n    <tr>\n      <th>3</th>\n      <td>FBE230705004BKL3</td>\n      <td>FBE230705004</td>\n      <td>NaN</td>\n      <td>普通产品 -&gt; Clothing Shoes &amp; Accessories -&gt; 男装 -&gt; ...</td>\n      <td>Mens Casual Waist Color Sports Hat Multi Woven...</td>\n      <td>男士四季街头休闲运动多口袋脚口帽绳腰间系带纯色工装长裤卫裤 黑色 XXXL</td>\n      <td>&lt;h1 align=\"center\"&gt;&lt;span style=\"font-size:14pt...</td>\n      <td>Black</td>\n      <td>XXXL</td>\n      <td>3X-Large</td>\n      <td>...</td>\n      <td>cargohose herren baggy cargohose herren sommer...</td>\n      <td>https://raw.githubusercontent.com/wuku32/proje...</td>\n      <td>https://raw.githubusercontent.com/wuku32/proje...</td>\n      <td>https://raw.githubusercontent.com/wuku32/proje...</td>\n      <td>https://raw.githubusercontent.com/wuku32/proje...</td>\n      <td>https://raw.githubusercontent.com/wuku32/proje...</td>\n      <td>None</td>\n      <td>None</td>\n      <td>None</td>\n      <td>None</td>\n    </tr>\n    <tr>\n      <th>4</th>\n      <td>FBE230705004BKM</td>\n      <td>FBE230705004</td>\n      <td>NaN</td>\n      <td>普通产品 -&gt; Clothing Shoes &amp; Accessories -&gt; 男装 -&gt; ...</td>\n      <td>Mens Casual Waist Color Sports Hat Multi Woven...</td>\n      <td>男士四季街头休闲运动多口袋脚口帽绳腰间系带纯色工装长裤卫裤 黑色 M</td>\n      <td>&lt;h1 align=\"center\"&gt;&lt;span style=\"font-size:14pt...</td>\n      <td>Black</td>\n      <td>M</td>\n      <td>Medium</td>\n      <td>...</td>\n      <td>cargohose herren baggy cargohose herren sommer...</td>\n      <td>https://raw.githubusercontent.com/wuku32/proje...</td>\n      <td>https://raw.githubusercontent.com/wuku32/proje...</td>\n      <td>https://raw.githubusercontent.com/wuku32/proje...</td>\n      <td>https://raw.githubusercontent.com/wuku32/proje...</td>\n      <td>https://raw.githubusercontent.com/wuku32/proje...</td>\n      <td>None</td>\n      <td>None</td>\n      <td>None</td>\n      <td>None</td>\n    </tr>\n    <tr>\n      <th>...</th>\n      <td>...</td>\n      <td>...</td>\n      <td>...</td>\n      <td>...</td>\n      <td>...</td>\n      <td>...</td>\n      <td>...</td>\n      <td>...</td>\n      <td>...</td>\n      <td>...</td>\n      <td>...</td>\n      <td>...</td>\n      <td>...</td>\n      <td>...</td>\n      <td>...</td>\n      <td>...</td>\n      <td>...</td>\n      <td>...</td>\n      <td>...</td>\n      <td>...</td>\n      <td>...</td>\n    </tr>\n    <tr>\n      <th>299</th>\n      <td>ZUQ210805001KHXL</td>\n      <td>ZUQ210805001</td>\n      <td>NaN</td>\n      <td>普通产品 -&gt; Clothing Shoes &amp; Accessories -&gt; 男装 -&gt; ...</td>\n      <td>Men's Thin Trousers Solid Color High Waist Ela...</td>\n      <td>男士薄款纯色高腰弹力休闲商务西装长裤 卡其色 XL 32</td>\n      <td>&lt;h1 align=\"center\"&gt;&lt;span style=\"font-size:14pt...</td>\n      <td>Khaki</td>\n      <td>XL</td>\n      <td>X-Large</td>\n      <td>...</td>\n      <td>cargohose herren schwarz cargohose herren bagg...</td>\n      <td>https://raw.githubusercontent.com/wuku32/proje...</td>\n      <td>https://raw.githubusercontent.com/wuku32/proje...</td>\n      <td>https://raw.githubusercontent.com/wuku32/proje...</td>\n      <td>https://raw.githubusercontent.com/wuku32/proje...</td>\n      <td>https://raw.githubusercontent.com/wuku32/proje...</td>\n      <td>https://raw.githubusercontent.com/wuku32/proje...</td>\n      <td>https://raw.githubusercontent.com/wuku32/proje...</td>\n      <td>https://raw.githubusercontent.com/wuku32/proje...</td>\n      <td>https://raw.githubusercontent.com/wuku32/proje...</td>\n    </tr>\n    <tr>\n      <th>300</th>\n      <td>ZUQ210805001WEL</td>\n      <td>ZUQ210805001</td>\n      <td>NaN</td>\n      <td>普通产品 -&gt; Clothing Shoes &amp; Accessories -&gt; 男装 -&gt; ...</td>\n      <td>Men's Thin Trousers Solid Color High Waist Ela...</td>\n      <td>男士薄款纯色高腰弹力休闲商务西装长裤 酒红色 L 31</td>\n      <td>&lt;h1 align=\"center\"&gt;&lt;span style=\"font-size:14pt...</td>\n      <td>Wine</td>\n      <td>L</td>\n      <td>Large</td>\n      <td>...</td>\n      <td>cargohose herren schwarz cargohose herren bagg...</td>\n      <td>https://raw.githubusercontent.com/wuku32/proje...</td>\n      <td>https://raw.githubusercontent.com/wuku32/proje...</td>\n      <td>https://raw.githubusercontent.com/wuku32/proje...</td>\n      <td>https://raw.githubusercontent.com/wuku32/proje...</td>\n      <td>https://raw.githubusercontent.com/wuku32/proje...</td>\n      <td>https://raw.githubusercontent.com/wuku32/proje...</td>\n      <td>https://raw.githubusercontent.com/wuku32/proje...</td>\n      <td>https://raw.githubusercontent.com/wuku32/proje...</td>\n      <td>https://raw.githubusercontent.com/wuku32/proje...</td>\n    </tr>\n    <tr>\n      <th>301</th>\n      <td>ZUQ210805001WEXL</td>\n      <td>ZUQ210805001</td>\n      <td>NaN</td>\n      <td>普通产品 -&gt; Clothing Shoes &amp; Accessories -&gt; 男装 -&gt; ...</td>\n      <td>Men's Thin Trousers Solid Color High Waist Ela...</td>\n      <td>男士薄款纯色高腰弹力休闲商务西装长裤 酒红色 XL 32</td>\n      <td>&lt;h1 align=\"center\"&gt;&lt;span style=\"font-size:14pt...</td>\n      <td>Wine</td>\n      <td>XL</td>\n      <td>X-Large</td>\n      <td>...</td>\n      <td>cargohose herren schwarz cargohose herren bagg...</td>\n      <td>https://raw.githubusercontent.com/wuku32/proje...</td>\n      <td>https://raw.githubusercontent.com/wuku32/proje...</td>\n      <td>https://raw.githubusercontent.com/wuku32/proje...</td>\n      <td>https://raw.githubusercontent.com/wuku32/proje...</td>\n      <td>https://raw.githubusercontent.com/wuku32/proje...</td>\n      <td>https://raw.githubusercontent.com/wuku32/proje...</td>\n      <td>https://raw.githubusercontent.com/wuku32/proje...</td>\n      <td>https://raw.githubusercontent.com/wuku32/proje...</td>\n      <td>https://raw.githubusercontent.com/wuku32/proje...</td>\n    </tr>\n    <tr>\n      <th>302</th>\n      <td>ZYN230315007</td>\n      <td>ZYN230315007</td>\n      <td>NaN</td>\n      <td>普通产品 -&gt; Clothing Shoes &amp; Accessories -&gt; 男装 -&gt; ...</td>\n      <td>Men's Fashion Loose Large Cotton Shorts Men's ...</td>\n      <td>男士潮宽松大码棉短裤男多口袋休闲街头风七分工装裤</td>\n      <td>&lt;h1 align=\"center\"&gt;&lt;span style=\"font-size:14pt...</td>\n      <td>Black,Beige,Khaki,Brown,AG</td>\n      <td>29,30,31,32,33,34,36,A,B,C,D</td>\n      <td>NaN</td>\n      <td>...</td>\n      <td>cargohose herren baggy cargohose herren schwar...</td>\n      <td>https://raw.githubusercontent.com/wuku32/proje...</td>\n      <td>https://raw.githubusercontent.com/wuku32/proje...</td>\n      <td>https://raw.githubusercontent.com/wuku32/proje...</td>\n      <td>https://raw.githubusercontent.com/wuku32/proje...</td>\n      <td>https://raw.githubusercontent.com/wuku32/proje...</td>\n      <td>https://raw.githubusercontent.com/wuku32/proje...</td>\n      <td>https://raw.githubusercontent.com/wuku32/proje...</td>\n      <td>https://raw.githubusercontent.com/wuku32/proje...</td>\n      <td>https://raw.githubusercontent.com/wuku32/proje...</td>\n    </tr>\n    <tr>\n      <th>303</th>\n      <td>ZYN230315007BK32</td>\n      <td>ZYN230315007</td>\n      <td>NaN</td>\n      <td>普通产品 -&gt; Clothing Shoes &amp; Accessories -&gt; 男装 -&gt; ...</td>\n      <td>Men's Fashion Loose Large Cotton Shorts Men's ...</td>\n      <td>男士潮宽松大码棉短裤男多口袋休闲街头风七分工装裤 黑色 32</td>\n      <td>&lt;h1 align=\"center\"&gt;&lt;span style=\"font-size:14pt...</td>\n      <td>Black</td>\n      <td>32</td>\n      <td>NaN</td>\n      <td>...</td>\n      <td>cargohose herren baggy cargohose herren schwar...</td>\n      <td>https://raw.githubusercontent.com/wuku32/proje...</td>\n      <td>https://raw.githubusercontent.com/wuku32/proje...</td>\n      <td>https://raw.githubusercontent.com/wuku32/proje...</td>\n      <td>https://raw.githubusercontent.com/wuku32/proje...</td>\n      <td>https://raw.githubusercontent.com/wuku32/proje...</td>\n      <td>https://raw.githubusercontent.com/wuku32/proje...</td>\n      <td>https://raw.githubusercontent.com/wuku32/proje...</td>\n      <td>https://raw.githubusercontent.com/wuku32/proje...</td>\n      <td>https://raw.githubusercontent.com/wuku32/proje...</td>\n    </tr>\n  </tbody>\n</table>\n<p>246 rows × 78 columns</p>\n</div>"
     },
     "execution_count": 19,
     "metadata": {},
     "output_type": "execute_result"
    }
   ],
   "source": [
    "# # img_home = f'https://www.gitee.com/wuku32/project-step-2/{bd_a_img}/'\n",
    "# # 'https://raw.githubusercontent.com/wuku32/farewellEvony/master/img/img_11.png'\n",
    "# # img_home = f'https://www.gitee.com/wuku32/project-step-2/raw/master/{bd_a_img}/'\n",
    "# img_home = f'https://raw.githubusercontent.com/wuku32/project-step-2/master/{bd_a_img}/'\n",
    "#\n",
    "#\n",
    "# def redirect(u: str):\n",
    "#     try:\n",
    "#         u = re.sub(r'http://.*/', img_home, u)\n",
    "#         return u\n",
    "#     except TypeError:\n",
    "#         pass\n",
    "#\n",
    "#\n",
    "# s1 = [f'图片链接 {i}' for i in range(1, 10)]\n",
    "# for _ in s1:\n",
    "#     erp_df[f'github{_}'] = erp_df[_].apply(lambda i: redirect(i))\n",
    "#\n",
    "# erp_df"
   ],
   "metadata": {
    "collapsed": false,
    "pycharm": {
     "name": "#%%\n"
    }
   }
  },
  {
   "cell_type": "code",
   "execution_count": 20,
   "outputs": [
    {
     "data": {
      "text/plain": "                                                图片链接 1  \\\n0    http://www.welenespicshop.com/tfkmg5/FBE230705...   \n1    http://www.welenespicshop.com/tfkmg3/FBE230705...   \n2    http://www.welenespicshop.com/tfkmg3/FBE230705...   \n3    http://www.welenespicshop.com/tfkmg3/FBE230705...   \n4    http://www.welenespicshop.com/tfkmg3/FBE230705...   \n..                                                 ...   \n299  http://www.welenespicshop.com/tupian13/ZUQ2108...   \n300  http://www.welenespicshop.com/tupian13/ZUQ2108...   \n301  http://www.welenespicshop.com/tupian13/ZUQ2108...   \n302  http://www.welenespicshop.com/tfkmg1/ZYN230315...   \n303  http://mp3.ser.ltd:28099/image/product/ftp/tfk...   \n\n                                                图片链接 2  \\\n0    http://www.welenespicshop.com/tfkmg3/FBE230705...   \n1    http://www.welenespicshop.com/tfkmg3/FBE230705...   \n2    http://www.welenespicshop.com/tfkmg3/FBE230705...   \n3    http://www.welenespicshop.com/tfkmg3/FBE230705...   \n4    http://www.welenespicshop.com/tfkmg3/FBE230705...   \n..                                                 ...   \n299  http://www.welenespicshop.com/tupian13/ZUQ2108...   \n300  http://www.welenespicshop.com/tupian13/ZUQ2108...   \n301  http://www.welenespicshop.com/tupian13/ZUQ2108...   \n302  http://www.welenespicshop.com/tfkmg1/ZYN230315...   \n303  http://mp3.ser.ltd:28099/image/product/ftp/tfk...   \n\n                                                图片链接 3  \\\n0    http://www.welenespicshop.com/tfkmg3/FBE230705...   \n1    http://www.welenespicshop.com/tfkmg3/FBE230705...   \n2    http://www.welenespicshop.com/tfkmg3/FBE230705...   \n3    http://www.welenespicshop.com/tfkmg3/FBE230705...   \n4    http://www.welenespicshop.com/tfkmg3/FBE230705...   \n..                                                 ...   \n299  http://www.welenespicshop.com/tupian13/ZUQ2108...   \n300  http://www.welenespicshop.com/tupian13/ZUQ2108...   \n301  http://www.welenespicshop.com/tupian13/ZUQ2108...   \n302  http://www.welenespicshop.com/tfkmg1/ZYN230315...   \n303  http://mp3.ser.ltd:28099/image/product/ftp/tfk...   \n\n                                                图片链接 4  \\\n0    http://www.welenespicshop.com/tfkmg3/FBE230705...   \n1    http://www.welenespicshop.com/tfkmg3/FBE230705...   \n2    http://www.welenespicshop.com/tfkmg3/FBE230705...   \n3    http://www.welenespicshop.com/tfkmg3/FBE230705...   \n4    http://www.welenespicshop.com/tfkmg3/FBE230705...   \n..                                                 ...   \n299  http://www.welenespicshop.com/tupian13/ZUQ2108...   \n300  http://www.welenespicshop.com/tupian13/ZUQ2108...   \n301  http://www.welenespicshop.com/tupian13/ZUQ2108...   \n302  http://www.welenespicshop.com/tfkmg1/ZYN230315...   \n303  http://mp3.ser.ltd:28099/image/product/ftp/tfk...   \n\n                                                图片链接 5  \\\n0    http://www.welenespicshop.com/tfkmg5/FBE230705...   \n1    http://www.welenespicshop.com/tfkmg3/FBE230705...   \n2    http://www.welenespicshop.com/tfkmg3/FBE230705...   \n3    http://www.welenespicshop.com/tfkmg3/FBE230705...   \n4    http://www.welenespicshop.com/tfkmg3/FBE230705...   \n..                                                 ...   \n299  http://www.welenespicshop.com/tupian13/ZUQ2108...   \n300  http://www.welenespicshop.com/tupian13/ZUQ2108...   \n301  http://www.welenespicshop.com/tupian13/ZUQ2108...   \n302  http://www.welenespicshop.com/tfkmg1/ZYN230315...   \n303  http://mp3.ser.ltd:28099/image/product/ftp/tfk...   \n\n                                                图片链接 6  \\\n0    http://www.welenespicshop.com/tfkmg3/FBE230705...   \n1                                                  NaN   \n2                                                  NaN   \n3                                                  NaN   \n4                                                  NaN   \n..                                                 ...   \n299  http://www.welenespicshop.com/tupian13/ZUQ2108...   \n300  http://www.welenespicshop.com/tupian13/ZUQ2108...   \n301  http://www.welenespicshop.com/tupian13/ZUQ2108...   \n302  http://www.welenespicshop.com/tfkmg1/ZYN230315...   \n303  http://mp3.ser.ltd:28099/image/product/ftp/tfk...   \n\n                                                图片链接 7  \\\n0    http://www.welenespicshop.com/tfkmg3/FBE230705...   \n1                                                  NaN   \n2                                                  NaN   \n3                                                  NaN   \n4                                                  NaN   \n..                                                 ...   \n299  http://www.welenespicshop.com/tupian13/ZUQ2108...   \n300  http://www.welenespicshop.com/tupian13/ZUQ2108...   \n301  http://www.welenespicshop.com/tupian13/ZUQ2108...   \n302  http://www.welenespicshop.com/tfkmg1/ZYN230315...   \n303  http://mp3.ser.ltd:28099/image/product/ftp/tfk...   \n\n                                                图片链接 8  \\\n0    http://www.welenespicshop.com/tfkmg3/FBE230705...   \n1                                                  NaN   \n2                                                  NaN   \n3                                                  NaN   \n4                                                  NaN   \n..                                                 ...   \n299  http://www.welenespicshop.com/tupian13/ZUQ2108...   \n300  http://www.welenespicshop.com/tupian13/ZUQ2108...   \n301  http://www.welenespicshop.com/tupian13/ZUQ2108...   \n302  http://www.welenespicshop.com/tfkmg1/ZYN230315...   \n303  http://mp3.ser.ltd:28099/image/product/ftp/tfk...   \n\n                                                图片链接 9  \\\n0    http://www.welenespicshop.com/tfkmg3/FBE230705...   \n1                                                  NaN   \n2                                                  NaN   \n3                                                  NaN   \n4                                                  NaN   \n..                                                 ...   \n299  http://www.welenespicshop.com/tupian13/ZUQ2108...   \n300  http://www.welenespicshop.com/tupian13/ZUQ2108...   \n301  http://www.welenespicshop.com/tupian13/ZUQ2108...   \n302  http://www.welenespicshop.com/tfkmg1/ZYN230315...   \n303  http://mp3.ser.ltd:28099/image/product/ftp/tfk...   \n\n                                              S3图片链接 1  \\\n0    https://0pskaph6ux75hs2f.imgsapp.com/afsd/0290...   \n1    https://7g4ekjo4hy8cunoy.imgsapp.com/afsd/8867...   \n2    https://gwwbg4i3shjqcntl.imgsapp.com/afsd/8867...   \n3    https://lf8munj703juy0st.imgsapp.com/afsd/8867...   \n4    https://cp8yyoqz1xg4u7c1.imgsapp.com/afsd/8867...   \n..                                                 ...   \n299  https://2qjcrnhs21cjbvqf.imgsapp.com/afsd/5953...   \n300  https://n4yzqjha3rvw2yxp.imgsapp.com/afsd/5953...   \n301  https://a4d0rldey2q6qce1.imgsapp.com/afsd/5953...   \n302  https://0wkcnd2399g0g04r.imgsapp.com/afsd/7969...   \n303  https://zhpsxy84nurt7cu4.imgsapp.com/afsd/7969...   \n\n                                              S3图片链接 2  \\\n0    https://wnuw0l6qtra55la3.imgsapp.com/afsd/8867...   \n1    https://j88ygb2vsvregeby.imgsapp.com/afsd/8867...   \n2    https://kkbx83onk6tj9rfl.imgsapp.com/afsd/8867...   \n3    https://uehvtongl40wu7vn.imgsapp.com/afsd/8867...   \n4    https://q9ijv13euxw1qj6x.imgsapp.com/afsd/8867...   \n..                                                 ...   \n299  https://jjeqqorfv1nd8ej4.imgsapp.com/afsd/5953...   \n300  https://svutw5pyfkw8kq2m.imgsapp.com/afsd/5953...   \n301  https://igy8b1ofux3w9qgr.imgsapp.com/afsd/5953...   \n302  https://ugoupwiykw0km6fq.imgsapp.com/afsd/7969...   \n303  https://ygdlb2n4xswucjvv.imgsapp.com/afsd/7969...   \n\n                                              S3图片链接 3  \\\n0    https://ljur1adde1ygi9uy.imgsapp.com/afsd/8867...   \n1    https://2m1qlzvv31ya0v8h.imgsapp.com/afsd/8867...   \n2    https://j7wo61eime7h4upk.imgsapp.com/afsd/8867...   \n3    https://yenpqa1ap7m3doz4.imgsapp.com/afsd/8867...   \n4    https://7f7ikbr9dvs6g34w.imgsapp.com/afsd/8867...   \n..                                                 ...   \n299  https://z49v4roez86gw80d.imgsapp.com/afsd/5953...   \n300  https://xjspc5cjqauufovf.imgsapp.com/afsd/5953...   \n301  https://1pzcfz6ykd1eb2vh.imgsapp.com/afsd/5953...   \n302  https://y19jy81aohcx7luy.imgsapp.com/afsd/7969...   \n303  https://oyrz57vz7lbi035a.imgsapp.com/afsd/7969...   \n\n                                              S3图片链接 4  \\\n0    https://gsw2n0xlhdq7gr2v.imgsapp.com/afsd/8867...   \n1    https://y4npn7vhqmr0qrf7.imgsapp.com/afsd/8867...   \n2    https://gqh17mrxvy30pmzu.imgsapp.com/afsd/8867...   \n3    https://5e2iougmhd3bpftg.imgsapp.com/afsd/8867...   \n4    https://tzwq8jirb8ll8bgw.imgsapp.com/afsd/8867...   \n..                                                 ...   \n299  https://sapre39bl9xosxiz.imgsapp.com/afsd/5953...   \n300  https://cl2exm11fz9zgru1.imgsapp.com/afsd/5953...   \n301  https://haj5isugjoxqnr21.imgsapp.com/afsd/5953...   \n302  https://v0iylx3d9x6mhqho.imgsapp.com/afsd/7969...   \n303  https://2zo3dk3ef9bqujfh.imgsapp.com/afsd/7969...   \n\n                                              S3图片链接 5  \\\n0    https://n0odient09wy29g4.imgsapp.com/afsd/8867...   \n1    https://4qb8319ym7j28btn.imgsapp.com/afsd/8867...   \n2    https://kt7xekbbf5vxglq3.imgsapp.com/afsd/8867...   \n3    https://jofxvjto5er0310l.imgsapp.com/afsd/8867...   \n4    https://y8vwh0evtu12gjpc.imgsapp.com/afsd/8867...   \n..                                                 ...   \n299  https://trit2gpxrz0dubxv.imgsapp.com/afsd/5953...   \n300  https://pcaqo8wf5kqg9yeo.imgsapp.com/afsd/5953...   \n301  https://9uacsjmg7ebgiok6.imgsapp.com/afsd/5953...   \n302  https://91520bn7j6lmbff7.imgsapp.com/afsd/7969...   \n303  https://1oe9xo7jf5x6l68f.imgsapp.com/afsd/7969...   \n\n                                              S3图片链接 6  \\\n0    https://t3289gvjzou0wdf6.imgsapp.com/afsd/8867...   \n1                                                  NaN   \n2                                                  NaN   \n3                                                  NaN   \n4                                                  NaN   \n..                                                 ...   \n299  https://a8fzcoyut1ozs11j.imgsapp.com/afsd/5953...   \n300  https://jg8w4m706gjet2bt.imgsapp.com/afsd/5953...   \n301  https://uy5shrtpcvqyvtep.imgsapp.com/afsd/5953...   \n302  https://uexrn4kk4hig4ea4.imgsapp.com/afsd/7969...   \n303  https://rqdnouji75xdrepk.imgsapp.com/afsd/7969...   \n\n                                              S3图片链接 7  \\\n0    https://ukza98ci67f4ng0a.imgsapp.com/afsd/8867...   \n1                                                  NaN   \n2                                                  NaN   \n3                                                  NaN   \n4                                                  NaN   \n..                                                 ...   \n299  https://ogzgznl1ymros807.imgsapp.com/afsd/5953...   \n300  https://1ooukascmmu2jbzy.imgsapp.com/afsd/5953...   \n301  https://kf69ci5fhnv5pl8i.imgsapp.com/afsd/5953...   \n302  https://j6pw5lkh7wvluhuc.imgsapp.com/afsd/7969...   \n303  https://vmo0zvlla0we90fx.imgsapp.com/afsd/7969...   \n\n                                              S3图片链接 8  \\\n0    https://lykjaiqgk57h5yqa.imgsapp.com/afsd/8867...   \n1                                                  NaN   \n2                                                  NaN   \n3                                                  NaN   \n4                                                  NaN   \n..                                                 ...   \n299  https://hx1go8v2wwpz934l.imgsapp.com/afsd/5953...   \n300  https://8r5puatkpqu0zrez.imgsapp.com/afsd/5953...   \n301  https://vt27v2ccgf0qmv4e.imgsapp.com/afsd/5953...   \n302  https://ksuyxp84yskfbm6c.imgsapp.com/afsd/7969...   \n303  https://zlk6k2rlv0v7xco3.imgsapp.com/afsd/7969...   \n\n                                              S3图片链接 9  \n0    https://lg29bdziw7erh33a.imgsapp.com/afsd/0290...  \n1                                                  NaN  \n2                                                  NaN  \n3                                                  NaN  \n4                                                  NaN  \n..                                                 ...  \n299  https://h1j5vfmwyrvs0tcz.imgsapp.com/afsd/5953...  \n300  https://q3ohinf7053vj4mk.imgsapp.com/afsd/5953...  \n301  https://wzgtchmjc7fke2w2.imgsapp.com/afsd/5953...  \n302  https://u0ccd73bi3lghs3c.imgsapp.com/afsd/7969...  \n303  https://64fihedpsrv3gd2b.imgsapp.com/afsd/7969...  \n\n[246 rows x 18 columns]",
      "text/html": "<div>\n<style scoped>\n    .dataframe tbody tr th:only-of-type {\n        vertical-align: middle;\n    }\n\n    .dataframe tbody tr th {\n        vertical-align: top;\n    }\n\n    .dataframe thead th {\n        text-align: right;\n    }\n</style>\n<table border=\"1\" class=\"dataframe\">\n  <thead>\n    <tr style=\"text-align: right;\">\n      <th></th>\n      <th>图片链接 1</th>\n      <th>图片链接 2</th>\n      <th>图片链接 3</th>\n      <th>图片链接 4</th>\n      <th>图片链接 5</th>\n      <th>图片链接 6</th>\n      <th>图片链接 7</th>\n      <th>图片链接 8</th>\n      <th>图片链接 9</th>\n      <th>S3图片链接 1</th>\n      <th>S3图片链接 2</th>\n      <th>S3图片链接 3</th>\n      <th>S3图片链接 4</th>\n      <th>S3图片链接 5</th>\n      <th>S3图片链接 6</th>\n      <th>S3图片链接 7</th>\n      <th>S3图片链接 8</th>\n      <th>S3图片链接 9</th>\n    </tr>\n  </thead>\n  <tbody>\n    <tr>\n      <th>0</th>\n      <td>http://www.welenespicshop.com/tfkmg5/FBE230705...</td>\n      <td>http://www.welenespicshop.com/tfkmg3/FBE230705...</td>\n      <td>http://www.welenespicshop.com/tfkmg3/FBE230705...</td>\n      <td>http://www.welenespicshop.com/tfkmg3/FBE230705...</td>\n      <td>http://www.welenespicshop.com/tfkmg5/FBE230705...</td>\n      <td>http://www.welenespicshop.com/tfkmg3/FBE230705...</td>\n      <td>http://www.welenespicshop.com/tfkmg3/FBE230705...</td>\n      <td>http://www.welenespicshop.com/tfkmg3/FBE230705...</td>\n      <td>http://www.welenespicshop.com/tfkmg3/FBE230705...</td>\n      <td>https://0pskaph6ux75hs2f.imgsapp.com/afsd/0290...</td>\n      <td>https://wnuw0l6qtra55la3.imgsapp.com/afsd/8867...</td>\n      <td>https://ljur1adde1ygi9uy.imgsapp.com/afsd/8867...</td>\n      <td>https://gsw2n0xlhdq7gr2v.imgsapp.com/afsd/8867...</td>\n      <td>https://n0odient09wy29g4.imgsapp.com/afsd/8867...</td>\n      <td>https://t3289gvjzou0wdf6.imgsapp.com/afsd/8867...</td>\n      <td>https://ukza98ci67f4ng0a.imgsapp.com/afsd/8867...</td>\n      <td>https://lykjaiqgk57h5yqa.imgsapp.com/afsd/8867...</td>\n      <td>https://lg29bdziw7erh33a.imgsapp.com/afsd/0290...</td>\n    </tr>\n    <tr>\n      <th>1</th>\n      <td>http://www.welenespicshop.com/tfkmg3/FBE230705...</td>\n      <td>http://www.welenespicshop.com/tfkmg3/FBE230705...</td>\n      <td>http://www.welenespicshop.com/tfkmg3/FBE230705...</td>\n      <td>http://www.welenespicshop.com/tfkmg3/FBE230705...</td>\n      <td>http://www.welenespicshop.com/tfkmg3/FBE230705...</td>\n      <td>NaN</td>\n      <td>NaN</td>\n      <td>NaN</td>\n      <td>NaN</td>\n      <td>https://7g4ekjo4hy8cunoy.imgsapp.com/afsd/8867...</td>\n      <td>https://j88ygb2vsvregeby.imgsapp.com/afsd/8867...</td>\n      <td>https://2m1qlzvv31ya0v8h.imgsapp.com/afsd/8867...</td>\n      <td>https://y4npn7vhqmr0qrf7.imgsapp.com/afsd/8867...</td>\n      <td>https://4qb8319ym7j28btn.imgsapp.com/afsd/8867...</td>\n      <td>NaN</td>\n      <td>NaN</td>\n      <td>NaN</td>\n      <td>NaN</td>\n    </tr>\n    <tr>\n      <th>2</th>\n      <td>http://www.welenespicshop.com/tfkmg3/FBE230705...</td>\n      <td>http://www.welenespicshop.com/tfkmg3/FBE230705...</td>\n      <td>http://www.welenespicshop.com/tfkmg3/FBE230705...</td>\n      <td>http://www.welenespicshop.com/tfkmg3/FBE230705...</td>\n      <td>http://www.welenespicshop.com/tfkmg3/FBE230705...</td>\n      <td>NaN</td>\n      <td>NaN</td>\n      <td>NaN</td>\n      <td>NaN</td>\n      <td>https://gwwbg4i3shjqcntl.imgsapp.com/afsd/8867...</td>\n      <td>https://kkbx83onk6tj9rfl.imgsapp.com/afsd/8867...</td>\n      <td>https://j7wo61eime7h4upk.imgsapp.com/afsd/8867...</td>\n      <td>https://gqh17mrxvy30pmzu.imgsapp.com/afsd/8867...</td>\n      <td>https://kt7xekbbf5vxglq3.imgsapp.com/afsd/8867...</td>\n      <td>NaN</td>\n      <td>NaN</td>\n      <td>NaN</td>\n      <td>NaN</td>\n    </tr>\n    <tr>\n      <th>3</th>\n      <td>http://www.welenespicshop.com/tfkmg3/FBE230705...</td>\n      <td>http://www.welenespicshop.com/tfkmg3/FBE230705...</td>\n      <td>http://www.welenespicshop.com/tfkmg3/FBE230705...</td>\n      <td>http://www.welenespicshop.com/tfkmg3/FBE230705...</td>\n      <td>http://www.welenespicshop.com/tfkmg3/FBE230705...</td>\n      <td>NaN</td>\n      <td>NaN</td>\n      <td>NaN</td>\n      <td>NaN</td>\n      <td>https://lf8munj703juy0st.imgsapp.com/afsd/8867...</td>\n      <td>https://uehvtongl40wu7vn.imgsapp.com/afsd/8867...</td>\n      <td>https://yenpqa1ap7m3doz4.imgsapp.com/afsd/8867...</td>\n      <td>https://5e2iougmhd3bpftg.imgsapp.com/afsd/8867...</td>\n      <td>https://jofxvjto5er0310l.imgsapp.com/afsd/8867...</td>\n      <td>NaN</td>\n      <td>NaN</td>\n      <td>NaN</td>\n      <td>NaN</td>\n    </tr>\n    <tr>\n      <th>4</th>\n      <td>http://www.welenespicshop.com/tfkmg3/FBE230705...</td>\n      <td>http://www.welenespicshop.com/tfkmg3/FBE230705...</td>\n      <td>http://www.welenespicshop.com/tfkmg3/FBE230705...</td>\n      <td>http://www.welenespicshop.com/tfkmg3/FBE230705...</td>\n      <td>http://www.welenespicshop.com/tfkmg3/FBE230705...</td>\n      <td>NaN</td>\n      <td>NaN</td>\n      <td>NaN</td>\n      <td>NaN</td>\n      <td>https://cp8yyoqz1xg4u7c1.imgsapp.com/afsd/8867...</td>\n      <td>https://q9ijv13euxw1qj6x.imgsapp.com/afsd/8867...</td>\n      <td>https://7f7ikbr9dvs6g34w.imgsapp.com/afsd/8867...</td>\n      <td>https://tzwq8jirb8ll8bgw.imgsapp.com/afsd/8867...</td>\n      <td>https://y8vwh0evtu12gjpc.imgsapp.com/afsd/8867...</td>\n      <td>NaN</td>\n      <td>NaN</td>\n      <td>NaN</td>\n      <td>NaN</td>\n    </tr>\n    <tr>\n      <th>...</th>\n      <td>...</td>\n      <td>...</td>\n      <td>...</td>\n      <td>...</td>\n      <td>...</td>\n      <td>...</td>\n      <td>...</td>\n      <td>...</td>\n      <td>...</td>\n      <td>...</td>\n      <td>...</td>\n      <td>...</td>\n      <td>...</td>\n      <td>...</td>\n      <td>...</td>\n      <td>...</td>\n      <td>...</td>\n      <td>...</td>\n    </tr>\n    <tr>\n      <th>299</th>\n      <td>http://www.welenespicshop.com/tupian13/ZUQ2108...</td>\n      <td>http://www.welenespicshop.com/tupian13/ZUQ2108...</td>\n      <td>http://www.welenespicshop.com/tupian13/ZUQ2108...</td>\n      <td>http://www.welenespicshop.com/tupian13/ZUQ2108...</td>\n      <td>http://www.welenespicshop.com/tupian13/ZUQ2108...</td>\n      <td>http://www.welenespicshop.com/tupian13/ZUQ2108...</td>\n      <td>http://www.welenespicshop.com/tupian13/ZUQ2108...</td>\n      <td>http://www.welenespicshop.com/tupian13/ZUQ2108...</td>\n      <td>http://www.welenespicshop.com/tupian13/ZUQ2108...</td>\n      <td>https://2qjcrnhs21cjbvqf.imgsapp.com/afsd/5953...</td>\n      <td>https://jjeqqorfv1nd8ej4.imgsapp.com/afsd/5953...</td>\n      <td>https://z49v4roez86gw80d.imgsapp.com/afsd/5953...</td>\n      <td>https://sapre39bl9xosxiz.imgsapp.com/afsd/5953...</td>\n      <td>https://trit2gpxrz0dubxv.imgsapp.com/afsd/5953...</td>\n      <td>https://a8fzcoyut1ozs11j.imgsapp.com/afsd/5953...</td>\n      <td>https://ogzgznl1ymros807.imgsapp.com/afsd/5953...</td>\n      <td>https://hx1go8v2wwpz934l.imgsapp.com/afsd/5953...</td>\n      <td>https://h1j5vfmwyrvs0tcz.imgsapp.com/afsd/5953...</td>\n    </tr>\n    <tr>\n      <th>300</th>\n      <td>http://www.welenespicshop.com/tupian13/ZUQ2108...</td>\n      <td>http://www.welenespicshop.com/tupian13/ZUQ2108...</td>\n      <td>http://www.welenespicshop.com/tupian13/ZUQ2108...</td>\n      <td>http://www.welenespicshop.com/tupian13/ZUQ2108...</td>\n      <td>http://www.welenespicshop.com/tupian13/ZUQ2108...</td>\n      <td>http://www.welenespicshop.com/tupian13/ZUQ2108...</td>\n      <td>http://www.welenespicshop.com/tupian13/ZUQ2108...</td>\n      <td>http://www.welenespicshop.com/tupian13/ZUQ2108...</td>\n      <td>http://www.welenespicshop.com/tupian13/ZUQ2108...</td>\n      <td>https://n4yzqjha3rvw2yxp.imgsapp.com/afsd/5953...</td>\n      <td>https://svutw5pyfkw8kq2m.imgsapp.com/afsd/5953...</td>\n      <td>https://xjspc5cjqauufovf.imgsapp.com/afsd/5953...</td>\n      <td>https://cl2exm11fz9zgru1.imgsapp.com/afsd/5953...</td>\n      <td>https://pcaqo8wf5kqg9yeo.imgsapp.com/afsd/5953...</td>\n      <td>https://jg8w4m706gjet2bt.imgsapp.com/afsd/5953...</td>\n      <td>https://1ooukascmmu2jbzy.imgsapp.com/afsd/5953...</td>\n      <td>https://8r5puatkpqu0zrez.imgsapp.com/afsd/5953...</td>\n      <td>https://q3ohinf7053vj4mk.imgsapp.com/afsd/5953...</td>\n    </tr>\n    <tr>\n      <th>301</th>\n      <td>http://www.welenespicshop.com/tupian13/ZUQ2108...</td>\n      <td>http://www.welenespicshop.com/tupian13/ZUQ2108...</td>\n      <td>http://www.welenespicshop.com/tupian13/ZUQ2108...</td>\n      <td>http://www.welenespicshop.com/tupian13/ZUQ2108...</td>\n      <td>http://www.welenespicshop.com/tupian13/ZUQ2108...</td>\n      <td>http://www.welenespicshop.com/tupian13/ZUQ2108...</td>\n      <td>http://www.welenespicshop.com/tupian13/ZUQ2108...</td>\n      <td>http://www.welenespicshop.com/tupian13/ZUQ2108...</td>\n      <td>http://www.welenespicshop.com/tupian13/ZUQ2108...</td>\n      <td>https://a4d0rldey2q6qce1.imgsapp.com/afsd/5953...</td>\n      <td>https://igy8b1ofux3w9qgr.imgsapp.com/afsd/5953...</td>\n      <td>https://1pzcfz6ykd1eb2vh.imgsapp.com/afsd/5953...</td>\n      <td>https://haj5isugjoxqnr21.imgsapp.com/afsd/5953...</td>\n      <td>https://9uacsjmg7ebgiok6.imgsapp.com/afsd/5953...</td>\n      <td>https://uy5shrtpcvqyvtep.imgsapp.com/afsd/5953...</td>\n      <td>https://kf69ci5fhnv5pl8i.imgsapp.com/afsd/5953...</td>\n      <td>https://vt27v2ccgf0qmv4e.imgsapp.com/afsd/5953...</td>\n      <td>https://wzgtchmjc7fke2w2.imgsapp.com/afsd/5953...</td>\n    </tr>\n    <tr>\n      <th>302</th>\n      <td>http://www.welenespicshop.com/tfkmg1/ZYN230315...</td>\n      <td>http://www.welenespicshop.com/tfkmg1/ZYN230315...</td>\n      <td>http://www.welenespicshop.com/tfkmg1/ZYN230315...</td>\n      <td>http://www.welenespicshop.com/tfkmg1/ZYN230315...</td>\n      <td>http://www.welenespicshop.com/tfkmg1/ZYN230315...</td>\n      <td>http://www.welenespicshop.com/tfkmg1/ZYN230315...</td>\n      <td>http://www.welenespicshop.com/tfkmg1/ZYN230315...</td>\n      <td>http://www.welenespicshop.com/tfkmg1/ZYN230315...</td>\n      <td>http://www.welenespicshop.com/tfkmg1/ZYN230315...</td>\n      <td>https://0wkcnd2399g0g04r.imgsapp.com/afsd/7969...</td>\n      <td>https://ugoupwiykw0km6fq.imgsapp.com/afsd/7969...</td>\n      <td>https://y19jy81aohcx7luy.imgsapp.com/afsd/7969...</td>\n      <td>https://v0iylx3d9x6mhqho.imgsapp.com/afsd/7969...</td>\n      <td>https://91520bn7j6lmbff7.imgsapp.com/afsd/7969...</td>\n      <td>https://uexrn4kk4hig4ea4.imgsapp.com/afsd/7969...</td>\n      <td>https://j6pw5lkh7wvluhuc.imgsapp.com/afsd/7969...</td>\n      <td>https://ksuyxp84yskfbm6c.imgsapp.com/afsd/7969...</td>\n      <td>https://u0ccd73bi3lghs3c.imgsapp.com/afsd/7969...</td>\n    </tr>\n    <tr>\n      <th>303</th>\n      <td>http://mp3.ser.ltd:28099/image/product/ftp/tfk...</td>\n      <td>http://mp3.ser.ltd:28099/image/product/ftp/tfk...</td>\n      <td>http://mp3.ser.ltd:28099/image/product/ftp/tfk...</td>\n      <td>http://mp3.ser.ltd:28099/image/product/ftp/tfk...</td>\n      <td>http://mp3.ser.ltd:28099/image/product/ftp/tfk...</td>\n      <td>http://mp3.ser.ltd:28099/image/product/ftp/tfk...</td>\n      <td>http://mp3.ser.ltd:28099/image/product/ftp/tfk...</td>\n      <td>http://mp3.ser.ltd:28099/image/product/ftp/tfk...</td>\n      <td>http://mp3.ser.ltd:28099/image/product/ftp/tfk...</td>\n      <td>https://zhpsxy84nurt7cu4.imgsapp.com/afsd/7969...</td>\n      <td>https://ygdlb2n4xswucjvv.imgsapp.com/afsd/7969...</td>\n      <td>https://oyrz57vz7lbi035a.imgsapp.com/afsd/7969...</td>\n      <td>https://2zo3dk3ef9bqujfh.imgsapp.com/afsd/7969...</td>\n      <td>https://1oe9xo7jf5x6l68f.imgsapp.com/afsd/7969...</td>\n      <td>https://rqdnouji75xdrepk.imgsapp.com/afsd/7969...</td>\n      <td>https://vmo0zvlla0we90fx.imgsapp.com/afsd/7969...</td>\n      <td>https://zlk6k2rlv0v7xco3.imgsapp.com/afsd/7969...</td>\n      <td>https://64fihedpsrv3gd2b.imgsapp.com/afsd/7969...</td>\n    </tr>\n  </tbody>\n</table>\n<p>246 rows × 18 columns</p>\n</div>"
     },
     "execution_count": 20,
     "metadata": {},
     "output_type": "execute_result"
    }
   ],
   "source": [
    "# s2 = [f'S3图片链接 {i}' for i in range(1, 10)]\n",
    "#\n",
    "# src_df = pd.concat([erp_df[s1], erp_df[s2]], axis=1)\n",
    "# src_df"
   ],
   "metadata": {
    "collapsed": false,
    "pycharm": {
     "name": "#%%\n"
    }
   }
  },
  {
   "cell_type": "code",
   "execution_count": 21,
   "outputs": [],
   "source": [
    "# def get_p(text: str):\n",
    "#     a = re.compile(r'.*?欧洲_挂号价.*?：(?P<rp>.*?) EUR')\n",
    "#     rp = a.match(text).group('rp')\n",
    "#     x = 1.6\n",
    "#     return float(int(rp / x + 0.5) - 0.01)"
   ],
   "metadata": {
    "collapsed": false,
    "pycharm": {
     "name": "#%%\n"
    }
   }
  },
  {
   "cell_type": "code",
   "execution_count": 22,
   "outputs": [
    {
     "data": {
      "text/plain": "     standard_price  quantity  \\\n0               NaN       NaN   \n1             22.07     150.0   \n2             20.72     150.0   \n3             22.52     150.0   \n4             20.72     150.0   \n..              ...       ...   \n299           23.29     150.0   \n300           23.29     150.0   \n301           23.29     150.0   \n302             NaN       NaN   \n303           29.64     150.0   \n\n                                        main_image_url  \\\n0                                                  NaN   \n1    https://raw.githubusercontent.com/wuku32/proje...   \n2    https://raw.githubusercontent.com/wuku32/proje...   \n3    https://raw.githubusercontent.com/wuku32/proje...   \n4    https://raw.githubusercontent.com/wuku32/proje...   \n..                                                 ...   \n299  https://raw.githubusercontent.com/wuku32/proje...   \n300  https://raw.githubusercontent.com/wuku32/proje...   \n301  https://raw.githubusercontent.com/wuku32/proje...   \n302                                                NaN   \n303  https://raw.githubusercontent.com/wuku32/proje...   \n\n                                      other_image_url1  \\\n0                                                  NaN   \n1    https://raw.githubusercontent.com/wuku32/proje...   \n2    https://raw.githubusercontent.com/wuku32/proje...   \n3    https://raw.githubusercontent.com/wuku32/proje...   \n4    https://raw.githubusercontent.com/wuku32/proje...   \n..                                                 ...   \n299  https://raw.githubusercontent.com/wuku32/proje...   \n300  https://raw.githubusercontent.com/wuku32/proje...   \n301  https://raw.githubusercontent.com/wuku32/proje...   \n302                                                NaN   \n303  https://raw.githubusercontent.com/wuku32/proje...   \n\n                                      other_image_url2  \\\n0                                                  NaN   \n1    https://raw.githubusercontent.com/wuku32/proje...   \n2    https://raw.githubusercontent.com/wuku32/proje...   \n3    https://raw.githubusercontent.com/wuku32/proje...   \n4    https://raw.githubusercontent.com/wuku32/proje...   \n..                                                 ...   \n299  https://raw.githubusercontent.com/wuku32/proje...   \n300  https://raw.githubusercontent.com/wuku32/proje...   \n301  https://raw.githubusercontent.com/wuku32/proje...   \n302                                                NaN   \n303  https://raw.githubusercontent.com/wuku32/proje...   \n\n                                      other_image_url3  \\\n0                                                  NaN   \n1    https://raw.githubusercontent.com/wuku32/proje...   \n2    https://raw.githubusercontent.com/wuku32/proje...   \n3    https://raw.githubusercontent.com/wuku32/proje...   \n4    https://raw.githubusercontent.com/wuku32/proje...   \n..                                                 ...   \n299  https://raw.githubusercontent.com/wuku32/proje...   \n300  https://raw.githubusercontent.com/wuku32/proje...   \n301  https://raw.githubusercontent.com/wuku32/proje...   \n302                                                NaN   \n303  https://raw.githubusercontent.com/wuku32/proje...   \n\n                                      other_image_url4  \\\n0                                                  NaN   \n1    https://raw.githubusercontent.com/wuku32/proje...   \n2    https://raw.githubusercontent.com/wuku32/proje...   \n3    https://raw.githubusercontent.com/wuku32/proje...   \n4    https://raw.githubusercontent.com/wuku32/proje...   \n..                                                 ...   \n299  https://raw.githubusercontent.com/wuku32/proje...   \n300  https://raw.githubusercontent.com/wuku32/proje...   \n301  https://raw.githubusercontent.com/wuku32/proje...   \n302                                                NaN   \n303  https://raw.githubusercontent.com/wuku32/proje...   \n\n                                      other_image_url5  \\\n0                                                  NaN   \n1                                                 None   \n2                                                 None   \n3                                                 None   \n4                                                 None   \n..                                                 ...   \n299  https://raw.githubusercontent.com/wuku32/proje...   \n300  https://raw.githubusercontent.com/wuku32/proje...   \n301  https://raw.githubusercontent.com/wuku32/proje...   \n302                                                NaN   \n303  https://raw.githubusercontent.com/wuku32/proje...   \n\n                                      other_image_url6  list_price_with_tax  \n0                                                  NaN                  NaN  \n1                                                 None                22.07  \n2                                                 None                20.72  \n3                                                 None                22.52  \n4                                                 None                20.72  \n..                                                 ...                  ...  \n299  https://raw.githubusercontent.com/wuku32/proje...                23.29  \n300  https://raw.githubusercontent.com/wuku32/proje...                23.29  \n301  https://raw.githubusercontent.com/wuku32/proje...                23.29  \n302                                                NaN                  NaN  \n303  https://raw.githubusercontent.com/wuku32/proje...                29.64  \n\n[246 rows x 10 columns]",
      "text/html": "<div>\n<style scoped>\n    .dataframe tbody tr th:only-of-type {\n        vertical-align: middle;\n    }\n\n    .dataframe tbody tr th {\n        vertical-align: top;\n    }\n\n    .dataframe thead th {\n        text-align: right;\n    }\n</style>\n<table border=\"1\" class=\"dataframe\">\n  <thead>\n    <tr style=\"text-align: right;\">\n      <th></th>\n      <th>standard_price</th>\n      <th>quantity</th>\n      <th>main_image_url</th>\n      <th>other_image_url1</th>\n      <th>other_image_url2</th>\n      <th>other_image_url3</th>\n      <th>other_image_url4</th>\n      <th>other_image_url5</th>\n      <th>other_image_url6</th>\n      <th>list_price_with_tax</th>\n    </tr>\n  </thead>\n  <tbody>\n    <tr>\n      <th>0</th>\n      <td>NaN</td>\n      <td>NaN</td>\n      <td>NaN</td>\n      <td>NaN</td>\n      <td>NaN</td>\n      <td>NaN</td>\n      <td>NaN</td>\n      <td>NaN</td>\n      <td>NaN</td>\n      <td>NaN</td>\n    </tr>\n    <tr>\n      <th>1</th>\n      <td>22.07</td>\n      <td>150.0</td>\n      <td>https://raw.githubusercontent.com/wuku32/proje...</td>\n      <td>https://raw.githubusercontent.com/wuku32/proje...</td>\n      <td>https://raw.githubusercontent.com/wuku32/proje...</td>\n      <td>https://raw.githubusercontent.com/wuku32/proje...</td>\n      <td>https://raw.githubusercontent.com/wuku32/proje...</td>\n      <td>None</td>\n      <td>None</td>\n      <td>22.07</td>\n    </tr>\n    <tr>\n      <th>2</th>\n      <td>20.72</td>\n      <td>150.0</td>\n      <td>https://raw.githubusercontent.com/wuku32/proje...</td>\n      <td>https://raw.githubusercontent.com/wuku32/proje...</td>\n      <td>https://raw.githubusercontent.com/wuku32/proje...</td>\n      <td>https://raw.githubusercontent.com/wuku32/proje...</td>\n      <td>https://raw.githubusercontent.com/wuku32/proje...</td>\n      <td>None</td>\n      <td>None</td>\n      <td>20.72</td>\n    </tr>\n    <tr>\n      <th>3</th>\n      <td>22.52</td>\n      <td>150.0</td>\n      <td>https://raw.githubusercontent.com/wuku32/proje...</td>\n      <td>https://raw.githubusercontent.com/wuku32/proje...</td>\n      <td>https://raw.githubusercontent.com/wuku32/proje...</td>\n      <td>https://raw.githubusercontent.com/wuku32/proje...</td>\n      <td>https://raw.githubusercontent.com/wuku32/proje...</td>\n      <td>None</td>\n      <td>None</td>\n      <td>22.52</td>\n    </tr>\n    <tr>\n      <th>4</th>\n      <td>20.72</td>\n      <td>150.0</td>\n      <td>https://raw.githubusercontent.com/wuku32/proje...</td>\n      <td>https://raw.githubusercontent.com/wuku32/proje...</td>\n      <td>https://raw.githubusercontent.com/wuku32/proje...</td>\n      <td>https://raw.githubusercontent.com/wuku32/proje...</td>\n      <td>https://raw.githubusercontent.com/wuku32/proje...</td>\n      <td>None</td>\n      <td>None</td>\n      <td>20.72</td>\n    </tr>\n    <tr>\n      <th>...</th>\n      <td>...</td>\n      <td>...</td>\n      <td>...</td>\n      <td>...</td>\n      <td>...</td>\n      <td>...</td>\n      <td>...</td>\n      <td>...</td>\n      <td>...</td>\n      <td>...</td>\n    </tr>\n    <tr>\n      <th>299</th>\n      <td>23.29</td>\n      <td>150.0</td>\n      <td>https://raw.githubusercontent.com/wuku32/proje...</td>\n      <td>https://raw.githubusercontent.com/wuku32/proje...</td>\n      <td>https://raw.githubusercontent.com/wuku32/proje...</td>\n      <td>https://raw.githubusercontent.com/wuku32/proje...</td>\n      <td>https://raw.githubusercontent.com/wuku32/proje...</td>\n      <td>https://raw.githubusercontent.com/wuku32/proje...</td>\n      <td>https://raw.githubusercontent.com/wuku32/proje...</td>\n      <td>23.29</td>\n    </tr>\n    <tr>\n      <th>300</th>\n      <td>23.29</td>\n      <td>150.0</td>\n      <td>https://raw.githubusercontent.com/wuku32/proje...</td>\n      <td>https://raw.githubusercontent.com/wuku32/proje...</td>\n      <td>https://raw.githubusercontent.com/wuku32/proje...</td>\n      <td>https://raw.githubusercontent.com/wuku32/proje...</td>\n      <td>https://raw.githubusercontent.com/wuku32/proje...</td>\n      <td>https://raw.githubusercontent.com/wuku32/proje...</td>\n      <td>https://raw.githubusercontent.com/wuku32/proje...</td>\n      <td>23.29</td>\n    </tr>\n    <tr>\n      <th>301</th>\n      <td>23.29</td>\n      <td>150.0</td>\n      <td>https://raw.githubusercontent.com/wuku32/proje...</td>\n      <td>https://raw.githubusercontent.com/wuku32/proje...</td>\n      <td>https://raw.githubusercontent.com/wuku32/proje...</td>\n      <td>https://raw.githubusercontent.com/wuku32/proje...</td>\n      <td>https://raw.githubusercontent.com/wuku32/proje...</td>\n      <td>https://raw.githubusercontent.com/wuku32/proje...</td>\n      <td>https://raw.githubusercontent.com/wuku32/proje...</td>\n      <td>23.29</td>\n    </tr>\n    <tr>\n      <th>302</th>\n      <td>NaN</td>\n      <td>NaN</td>\n      <td>NaN</td>\n      <td>NaN</td>\n      <td>NaN</td>\n      <td>NaN</td>\n      <td>NaN</td>\n      <td>NaN</td>\n      <td>NaN</td>\n      <td>NaN</td>\n    </tr>\n    <tr>\n      <th>303</th>\n      <td>29.64</td>\n      <td>150.0</td>\n      <td>https://raw.githubusercontent.com/wuku32/proje...</td>\n      <td>https://raw.githubusercontent.com/wuku32/proje...</td>\n      <td>https://raw.githubusercontent.com/wuku32/proje...</td>\n      <td>https://raw.githubusercontent.com/wuku32/proje...</td>\n      <td>https://raw.githubusercontent.com/wuku32/proje...</td>\n      <td>https://raw.githubusercontent.com/wuku32/proje...</td>\n      <td>https://raw.githubusercontent.com/wuku32/proje...</td>\n      <td>29.64</td>\n    </tr>\n  </tbody>\n</table>\n<p>246 rows × 10 columns</p>\n</div>"
     },
     "execution_count": 22,
     "metadata": {},
     "output_type": "execute_result"
    }
   ],
   "source": [
    "df['quantity'] = 150\n",
    "df['main_image_url'] = erp_df['gitee图片链接 1']\n",
    "df['other_image_url1'] = erp_df['gitee图片链接 2']\n",
    "df['other_image_url2'] = erp_df['gitee图片链接 3']\n",
    "df['other_image_url3'] = erp_df['gitee图片链接 4']\n",
    "df['other_image_url4'] = erp_df['gitee图片链接 5']\n",
    "df['other_image_url5'] = erp_df['gitee图片链接 6']\n",
    "df['other_image_url6'] = erp_df['gitee图片链接 7']\n",
    "df['standard_price'] = erp_df['standard_price']\n",
    "df['list_price_with_tax'] = df['standard_price']\n",
    "\n",
    "ng_2 = [\n",
    "    'standard_price',\n",
    "    'quantity',\n",
    "    'main_image_url',\n",
    "    'other_image_url1',\n",
    "    'other_image_url2',\n",
    "    'other_image_url3',\n",
    "    'other_image_url4',\n",
    "    'other_image_url5',\n",
    "    'other_image_url6',\n",
    "    'list_price_with_tax',\n",
    "]\n",
    "\n",
    "# 将选中的行的color_map和color_size字段设置为NaN\n",
    "df.loc[is_parent, ng_2] = np.nan\n",
    "\n",
    "df[ng_2]"
   ],
   "metadata": {
    "collapsed": false,
    "pycharm": {
     "name": "#%%\n"
    }
   }
  },
  {
   "cell_type": "markdown",
   "source": [
    "# （141）Optional"
   ],
   "metadata": {
    "collapsed": false,
    "pycharm": {
     "name": "#%% md\n"
    }
   }
  },
  {
   "cell_type": "markdown",
   "source": [
    "## （002/002）平台sku及恒定不变的值\n",
    "\n",
    "| **参数**         | **是否必填** | **默认值** |\n",
    "|------------------|--------------|------------|\n",
    "| **model**        | optional     | 平台SKU    |\n",
    "| **manufacturer** | optional     | Generic    |"
   ],
   "metadata": {
    "collapsed": false,
    "pycharm": {
     "name": "#%% md\n"
    }
   }
  },
  {
   "cell_type": "code",
   "execution_count": 23,
   "outputs": [],
   "source": [
    "df['model'] = erp_df['amazon_sku']\n",
    "df['manufacturer'] = 'Generic'"
   ],
   "metadata": {
    "collapsed": false,
    "pycharm": {
     "name": "#%%\n"
    }
   }
  },
  {
   "cell_type": "markdown",
   "source": [
    "## （005/005）需根据情况自行设置的定值\n",
    "\n",
    "| **参数**          | **是否必填** | **默认值** | **可选值** |\n",
    "|-----------------|--------------|-----------------------------------------------------------------------------------------------------------------------------|--------------|\n",
    "| **leg_style**   | optional     | 裤腿类型 该属性指定商品的裤腿类型。靴子切，胡萝卜可选 | Ausgestellt, Weit, Steigbügel, Manschette, Bootcut, Bleistift, Verjüngt, Abgeschnitten     |\n",
    "| **fit_type**    | optional     | 默认值slim fit   | stretch, loose, slim, overall, Tailliert, western, Normal, Weit geschnitten, Skinny     |\n",
    "| **sport_type1** | optional     | Multi-Sport                                                                                                                 | Motorschlitten, Fahren, Kajakfahren, Rugby, Bogenschießen, Trekking, Kampfsport, Badminton, T-Ball, Pferderennen, Rennen, Taktisch & Militar, Cricket, Ringen, Training & Training, Straßenradfahren, Surfen, Paddel-Boarding, Fischen, Cheerleading, Softair, Golf, Triathlon, Bowling, Volleyball, Bootfahren, Cyclocross, Snowboarden, Mountainbiken, Bergsteigen, Laufen, Roller Hockey, Segeln, Wasserball, Baseball, Kitesurfen, Wasserski, Yoga, Softball, Tanz, FuBball, Skateboarden, Wandern, Boxen, Gewichtheben, Schwimmen, Reiter, Wiffle Ball, Tischtennis, Camping & Wandern, Segelsport, Gehen, Basketball, Eislaufen, Skifahren, Squash, Racquetball, Paintball, Klettern, Exercise & Fitness, Jagd, Wakeboarden, Auto Racing, Billard, Multi-Sport, Radfahren, Tennis, Gymnastik, Gemischte Kampfkünste, Hockey, Ski Alpin, Tauchen, Kanufahren, BMX, Outdoor-Lifestyle, Schnorcheln, Skitourengehen, Rollschuhlaufen, Lacrosse, Klette, Rafting, Spur, Windsurfen, Eis-Tauchen     |\n",
    "| **waist_style**  | optional     | 牛仔裤腰围和衬衫剪裁 | Hoher Bund, Normaler Bund, Sehr tiefer Bund, Tiefer Bund     |\n",
    "| **fabric_type** | optional     | Baumwolle Polyester                                                                                                         | optional     |"
   ],
   "metadata": {
    "collapsed": false,
    "pycharm": {
     "name": "#%% md\n"
    }
   }
  },
  {
   "cell_type": "code",
   "execution_count": 24,
   "outputs": [],
   "source": [
    "df['leg_style'] = 'Weit'\n",
    "df['fit_type'] = 'slim'\n",
    "df['sport_type1'] = 'Multi-Sport'\n",
    "df['waist_style'] = 'Normaler Bund'\n",
    "df['fabric_type'] = 'Baumwolle Polyester'"
   ],
   "metadata": {
    "collapsed": false,
    "pycharm": {
     "name": "#%%\n"
    }
   }
  },
  {
   "cell_type": "markdown",
   "source": [
    "## （003/003）留空或者埋词\n",
    "\n",
    "| **参数**           | **是否必填** | **默认值**                                       |\n",
    "|--------------------|--------------|--------------------------------------------------|\n",
    "| **model_name**     | optional     | 留空或者埋词（pullover damen elegant winter）    |\n",
    "| **part_number**    | optional     | 留空或者埋词（sweatshirt damen oversized sport） |\n",
    "| **item_type_name** | optional     | 留空或者埋词（Kapuzenpullover）                  |"
   ],
   "metadata": {
    "collapsed": false,
    "pycharm": {
     "name": "#%% md\n"
    }
   }
  },
  {
   "cell_type": "code",
   "execution_count": 25,
   "outputs": [],
   "source": [
    "df['model_name'] = 'cargohose herren'\n",
    "df['part_number'] = 'cargohose herren'\n",
    "df['item_type_name'] = 'cargohose herren'"
   ],
   "metadata": {
    "collapsed": false,
    "pycharm": {
     "name": "#%%\n"
    }
   }
  },
  {
   "cell_type": "markdown",
   "source": [
    "## （131/131）留空\n",
    "\n",
    "| **参数**                                           | **是否必填** | **默认值** |\n",
    "|----------------------------------------------------|--------------|------------|\n",
    "| **external_product_id**                            | optional     | 留空       |\n",
    "| **language_value1**                                | optional     | 留空       |\n",
    "| **language_value2**                                | optional     | 留空       |\n",
    "| **language_value3**                                | optional     | 留空       |\n",
    "| **language_value4**                                | optional     | 留空       |\n",
    "| **language_value5**                                | optional     | 留空       |\n",
    "| **apparel_size_to**                                | optional     | 留空       |\n",
    "| **other_image_url6**                               | optional     | 留空       |\n",
    "| **other_image_url7**                               | optional     | 留空       |\n",
    "| **other_image_url8**                               | optional     | 留空       |\n",
    "| **swatch_image_url**                               | optional     | 留空       |\n",
    "| **other_image_url_ps01**                           | optional     | 留空       |\n",
    "| **other_image_url_ps02**                           | optional     | 留空       |\n",
    "| **other_image_url_ps03**                           | optional     | 留空       |\n",
    "| **other_image_url_ps04**                           | optional     | 留空       |\n",
    "| **other_image_url_ps05**                           | optional     | 留空       |\n",
    "| **other_image_url_ps06**                           | optional     | 留空       |\n",
    "| **package_level**                                  | optional     | 留空       |\n",
    "| **package_contains_quantity**                      | optional     | 留空       |\n",
    "| **package_contains_identifier**                    | optional     | 留空       |\n",
    "| **collection_name**                                | optional     | 留空       |\n",
    "| **special_size_type**                              | optional     | 留空       |\n",
    "| **is_autographed**                                 | optional     | 留空       |\n",
    "| **occasion_type1**                                 | optional     | 留空       |\n",
    "| **occasion_type2**                                 | optional     | 留空       |\n",
    "| **occasion_type3**                                 | optional     | 留空       |\n",
    "| **occasion_type4**                                 | optional     | 留空       |\n",
    "| **occasion_type5**                                 | optional     | 留空       |\n",
    "| **sport_type2**                                    | optional     | 留空       |\n",
    "| **athlete**                                        | optional     | 留空       |\n",
    "| **team_name**                                      | optional     | 留空       |\n",
    "| **material_type**                                  | optional     | 留空       |\n",
    "| **fur_description**                                | optional     | 留空       |\n",
    "| **weave_type**                                     | optional     | 留空       |\n",
    "| **theme**                                          | optional     | 留空       |\n",
    "| **league_name**                                    | optional     | 留空       |\n",
    "| **lifecycle_supply_type**                          | optional     | 留空       |\n",
    "| **item_booking_date**                              | optional     | 留空       |\n",
    "| **subject_character**                              | optional     | 留空       |\n",
    "| **sub_brand_name**                                 | optional     | 留空       |\n",
    "| **flash_point_unit_of_measure**                    | optional     | 留空       |\n",
    "| **item_width_unit_of_measure**                     | optional     | 留空       |\n",
    "| **item_height_unit_of_measure**                    | optional     | 留空       |\n",
    "| **item_length_unit_of_measure**                    | optional     | 留空       |\n",
    "| **fulfillment_center_id**                          | optional     | 留空       |\n",
    "| **package_length**                                 | optional     | 留空       |\n",
    "| **package_width**                                  | optional     | 留空       |\n",
    "| **package_height**                                 | optional     | 留空       |\n",
    "| **package_length_unit_of_measure**                 | optional     | 留空       |\n",
    "| **package_weight**                                 | optional     | 留空       |\n",
    "| **package_weight_unit_of_measure**                 | optional     | 留空       |\n",
    "| **package_height_unit_of_measure**                 | optional     | 留空       |\n",
    "| **package_width_unit_of_measure**                  | optional     | 留空       |\n",
    "| **batteries_required**                             | optional     | 留空       |\n",
    "| **are_batteries_included**                         | optional     | 留空       |\n",
    "| **battery_cell_composition**                       | optional     | 留空       |\n",
    "| **battery_type1**                                  | optional     | 留空       |\n",
    "| **battery_type2**                                  | optional     | 留空       |\n",
    "| **battery_type3**                                  | optional     | 留空       |\n",
    "| **number_of_batteries1**                           | optional     | 留空       |\n",
    "| **number_of_batteries2**                           | optional     | 留空       |\n",
    "| **number_of_batteries3**                           | optional     | 留空       |\n",
    "| **battery_weight**                                 | optional     | 留空       |\n",
    "| **battery_weight_unit_of_measure**                 | optional     | 留空       |\n",
    "| **number_of_lithium_metal_cells**                  | optional     | 留空       |\n",
    "| **number_of_lithium_ion_cells**                    | optional     | 留空       |\n",
    "| **lithium_battery_packaging**                      | optional     | 留空       |\n",
    "| **lithium_battery_energy_content**                 | optional     | 留空       |\n",
    "| **lithium_battery_energy_content_unit_of_measure** | optional     | 留空       |\n",
    "| **lithium_battery_weight**                         | optional     | 留空       |\n",
    "| **lithium_battery_weight_unit_of_measure**         | optional     | 留空       |\n",
    "| **supplier_declared_dg_hz_regulation1**            | optional     | 留空       |\n",
    "| **supplier_declared_dg_hz_regulation2**            | optional     | 留空       |\n",
    "| **supplier_declared_dg_hz_regulation3**            | optional     | 留空       |\n",
    "| **supplier_declared_dg_hz_regulation4**            | optional     | 留空       |\n",
    "| **supplier_declared_dg_hz_regulation5**            | optional     | 留空       |\n",
    "| **hazmat_united_nations_regulatory_id**            | optional     | 留空       |\n",
    "| **safety_data_sheet_url**                          | optional     | 留空       |\n",
    "| **item_weight**                                    | optional     | 留空       |\n",
    "| **item_weight_unit_of_measure**                    | optional     | 留空       |\n",
    "| **item_volume**                                    | optional     | 留空       |\n",
    "| **item_volume_unit_of_measure**                    | optional     | 留空       |\n",
    "| **dsa_responsible_party_address**                  | optional     | 留空       |\n",
    "| **flash_point**                                    | optional     | 留空       |\n",
    "| **supplier_declared_material_regulation1**         | optional     | 留空       |\n",
    "| **supplier_declared_material_regulation2**         | optional     | 留空       |\n",
    "| **supplier_declared_material_regulation3**         | optional     | 留空       |\n",
    "| **ghs_classification_class1**                      | optional     | 留空       |\n",
    "| **ghs_classification_class2**                      | optional     | 留空       |\n",
    "| **ghs_classification_class3**                      | optional     | 留空       |\n",
    "| **condition_type**                                 | optional     | 留空       |\n",
    "| **condition_note**                                 | optional     | 留空       |\n",
    "| **currency**                                       | optional     | 留空       |\n",
    "| **fulfillment_latency**                            | optional     | 留空       |\n",
    "| **sale_price**                                     | optional     | 留空       |\n",
    "| **sale_from_date**                                 | optional     | 留空       |\n",
    "| **sale_end_date**                                  | optional     | 留空       |\n",
    "| **item_package_quantity**                          | optional     | 留空       |\n",
    "| **number_of_items**                                | optional     | 留空       |\n",
    "| **offering_can_be_gift_messaged**                  | optional     | 留空       |\n",
    "| **offering_can_be_giftwrapped**                    | optional     | 留空       |\n",
    "| **restock_date**                                   | optional     | 留空       |\n",
    "| **product_tax_code**                               | optional     | 留空       |\n",
    "| **map_price**                                      | optional     | 留空       |\n",
    "| **merchant_release_date**                          | optional     | 留空       |\n",
    "| **offering_end_date**                              | optional     | 留空       |\n",
    "| **max_order_quantity**                             | optional     | 留空       |\n",
    "| **offering_start_date**                            | optional     | 留空       |\n",
    "| **uvp_list_price**                                 | optional     | 留空       |\n",
    "| **business_price**                                 | optional     | 留空       |\n",
    "| **quantity_price_type**                            | optional     | 留空       |\n",
    "| **quantity_lower_bound1**                          | optional     | 留空       |\n",
    "| **quantity_price1**                                | optional     | 留空       |\n",
    "| **quantity_lower_bound2**                          | optional     | 留空       |\n",
    "| **quantity_price2**                                | optional     | 留空       |\n",
    "| **quantity_lower_bound3**                          | optional     | 留空       |\n",
    "| **quantity_price3**                                | optional     | 留空       |\n",
    "| **quantity_lower_bound4**                          | optional     | 留空       |\n",
    "| **quantity_price4**                                | optional     | 留空       |\n",
    "| **quantity_lower_bound5**                          | optional     | 留空       |\n",
    "| **quantity_price5**                                | optional     | 留空       |\n",
    "| **progressive_discount_type**                      | optional     | 留空       |\n",
    "| **progressive_discount_lower_bound1**              | optional     | 留空       |\n",
    "| **progressive_discount_value1**                    | optional     | 留空       |\n",
    "| **progressive_discount_lower_bound2**              | optional     | 留空       |\n",
    "| **progressive_discount_value2**                    | optional     | 留空       |\n",
    "| **progressive_discount_lower_bound3**              | optional     | 留空       |\n",
    "| **progressive_discount_value3**                    | optional     | 留空       |\n",
    "| **national_stock_number**                          | optional     | 留空       |\n",
    "| **unspsc_code**                                    | optional     | 留空       |\n",
    "| **pricing_action**                                 | optional     | 留空       |"
   ],
   "metadata": {
    "collapsed": false,
    "pycharm": {
     "name": "#%% md\n"
    }
   }
  },
  {
   "cell_type": "code",
   "execution_count": 26,
   "outputs": [
    {
     "data": {
      "text/plain": "Empty DataFrame\nColumns: [feed_product_type, item_sku, brand_name, update_delete, external_product_id, external_product_id_type, item_name, product_description, recommended_browse_nodes, outer_material_type, inner_material_type, care_instructions, model_name, model, closure_type, part_number, temperature_rating, manufacturer, gtin_exemption_reason, language_value1, language_value2, language_value3, language_value4, language_value5, standard_price, quantity, target_gender, age_range_description, bottoms_size_system, bottoms_size_class, bottoms_size, bottoms_size_to, bottoms_waist_size, bottoms_inseam_size, bottoms_body_type, bottoms_height_type, main_image_url, other_image_url1, other_image_url2, other_image_url3, other_image_url4, other_image_url5, other_image_url6, other_image_url7, other_image_url8, swatch_image_url, other_image_url_ps01, other_image_url_ps02, other_image_url_ps03, other_image_url_ps04, other_image_url_ps05, other_image_url_ps06, parent_child, parent_sku, relationship_type, variation_theme, package_level, package_contains_quantity, package_contains_identifier, generic_keywords, color_map, color_name, size_name, collection_name, lifestyle, style_name, fit_type, special_features1, special_features2, special_features3, special_features4, special_features5, department_name, bullet_point1, bullet_point2, bullet_point3, bullet_point4, bullet_point5, special_size_type, platinum_keywords1, platinum_keywords2, platinum_keywords3, platinum_keywords4, platinum_keywords5, is_autographed, item_type_name, occasion_type1, occasion_type2, occasion_type3, occasion_type4, occasion_type5, sport_type1, sport_type2, seasons, athlete, team_name, material_type, rise_style, fur_description, front_style, ...]\nIndex: []\n\n[0 rows x 236 columns]",
      "text/html": "<div>\n<style scoped>\n    .dataframe tbody tr th:only-of-type {\n        vertical-align: middle;\n    }\n\n    .dataframe tbody tr th {\n        vertical-align: top;\n    }\n\n    .dataframe thead th {\n        text-align: right;\n    }\n</style>\n<table border=\"1\" class=\"dataframe\">\n  <thead>\n    <tr style=\"text-align: right;\">\n      <th></th>\n      <th>feed_product_type</th>\n      <th>item_sku</th>\n      <th>brand_name</th>\n      <th>update_delete</th>\n      <th>external_product_id</th>\n      <th>external_product_id_type</th>\n      <th>item_name</th>\n      <th>product_description</th>\n      <th>recommended_browse_nodes</th>\n      <th>outer_material_type</th>\n      <th>...</th>\n      <th>progressive_discount_type</th>\n      <th>progressive_discount_lower_bound1</th>\n      <th>progressive_discount_value1</th>\n      <th>progressive_discount_lower_bound2</th>\n      <th>progressive_discount_value2</th>\n      <th>progressive_discount_lower_bound3</th>\n      <th>progressive_discount_value3</th>\n      <th>national_stock_number</th>\n      <th>unspsc_code</th>\n      <th>pricing_action</th>\n    </tr>\n  </thead>\n  <tbody>\n  </tbody>\n</table>\n<p>0 rows × 236 columns</p>\n</div>"
     },
     "execution_count": 26,
     "metadata": {},
     "output_type": "execute_result"
    }
   ],
   "source": [
    "df[df.duplicated(subset=['item_sku'])]"
   ],
   "metadata": {
    "collapsed": false,
    "pycharm": {
     "name": "#%%\n"
    }
   }
  },
  {
   "cell_type": "code",
   "execution_count": 30,
   "outputs": [
    {
     "data": {
      "text/plain": "    feed_product_type                           item_sku brand_name  \\\n0               pants       FRL-DE-24-07-26-16-06-32-001    Generic   \n1               pants   FRL-DE-24-07-26-16-06-32-001-BKL    Generic   \n2               pants  FRL-DE-24-07-26-16-06-32-001-BKL2    Generic   \n3               pants  FRL-DE-24-07-26-16-06-32-001-BKL3    Generic   \n4               pants   FRL-DE-24-07-26-16-06-32-001-BKM    Generic   \n..                ...                                ...        ...   \n299             pants  FRL-DE-24-07-26-16-06-32-012-KHXL    Generic   \n300             pants   FRL-DE-24-07-26-16-06-32-012-WEL    Generic   \n301             pants  FRL-DE-24-07-26-16-06-32-012-WEXL    Generic   \n302             pants       FRL-DE-24-07-26-16-06-32-013    Generic   \n303             pants  FRL-DE-24-07-26-16-06-32-013-BK32    Generic   \n\n      update_delete external_product_id external_product_id_type  \\\n0    Aktualisierung                 NaN                     GTIN   \n1    Aktualisierung                 NaN                     GTIN   \n2    Aktualisierung                 NaN                     GTIN   \n3    Aktualisierung                 NaN                     GTIN   \n4    Aktualisierung                 NaN                     GTIN   \n..              ...                 ...                      ...   \n299  Aktualisierung                 NaN                     GTIN   \n300  Aktualisierung                 NaN                     GTIN   \n301  Aktualisierung                 NaN                     GTIN   \n302  Aktualisierung                 NaN                     GTIN   \n303  Aktualisierung                 NaN                     GTIN   \n\n                                             item_name  \\\n0    Cargohose Herren Cargohosen Hose Men Sommer He...   \n1    Cargohose Herren Cargohosen Hose Men Sommer He...   \n2    Cargohose Herren Cargohosen Hose Men Sommer He...   \n3    Cargohose Herren Cargohosen Hose Men Sommer He...   \n4    Cargohose Herren Cargohosen Hose Men Sommer He...   \n..                                                 ...   \n299  Cargohose Herren Baggy Hose Herren Hose Pants ...   \n300  Cargohose Herren Baggy Hose Herren Hose Pants ...   \n301  Cargohose Herren Baggy Hose Herren Hose Pants ...   \n302  Cargohose Herren Cargo Pants Herren Sommer Lei...   \n303  Cargohose Herren Cargo Pants Herren Sommer Lei...   \n\n                                   product_description  \\\n0    <p><b>Merkmale</b><br></p><p>Material: Polyest...   \n1    <p><b>Merkmale</b><br></p><p>Material: Polyest...   \n2    <p><b>Merkmale</b><br></p><p>Material: Polyest...   \n3    <p><b>Merkmale</b><br></p><p>Material: Polyest...   \n4    <p><b>Merkmale</b><br></p><p>Material: Polyest...   \n..                                                 ...   \n299  <p><b>Merkmale</b><br></p><p>Material: Polyest...   \n300  <p><b>Merkmale</b><br></p><p>Material: Polyest...   \n301  <p><b>Merkmale</b><br></p><p>Material: Polyest...   \n302  <p><b>Merkmale</b><br></p><p>Material: Polyest...   \n303  <p><b>Merkmale</b><br></p><p>Material: Polyest...   \n\n     recommended_browse_nodes outer_material_type  ...  \\\n0                  1981399031           Polyester  ...   \n1                  1981399031           Polyester  ...   \n2                  1981399031           Polyester  ...   \n3                  1981399031           Polyester  ...   \n4                  1981399031           Polyester  ...   \n..                        ...                 ...  ...   \n299                1981399031           Polyester  ...   \n300                1981399031           Polyester  ...   \n301                1981399031           Polyester  ...   \n302                1981399031           Polyester  ...   \n303                1981399031           Polyester  ...   \n\n    progressive_discount_type progressive_discount_lower_bound1  \\\n0                         NaN                               NaN   \n1                         NaN                               NaN   \n2                         NaN                               NaN   \n3                         NaN                               NaN   \n4                         NaN                               NaN   \n..                        ...                               ...   \n299                       NaN                               NaN   \n300                       NaN                               NaN   \n301                       NaN                               NaN   \n302                       NaN                               NaN   \n303                       NaN                               NaN   \n\n    progressive_discount_value1 progressive_discount_lower_bound2  \\\n0                           NaN                               NaN   \n1                           NaN                               NaN   \n2                           NaN                               NaN   \n3                           NaN                               NaN   \n4                           NaN                               NaN   \n..                          ...                               ...   \n299                         NaN                               NaN   \n300                         NaN                               NaN   \n301                         NaN                               NaN   \n302                         NaN                               NaN   \n303                         NaN                               NaN   \n\n    progressive_discount_value2 progressive_discount_lower_bound3  \\\n0                           NaN                               NaN   \n1                           NaN                               NaN   \n2                           NaN                               NaN   \n3                           NaN                               NaN   \n4                           NaN                               NaN   \n..                          ...                               ...   \n299                         NaN                               NaN   \n300                         NaN                               NaN   \n301                         NaN                               NaN   \n302                         NaN                               NaN   \n303                         NaN                               NaN   \n\n    progressive_discount_value3 national_stock_number unspsc_code  \\\n0                           NaN                   NaN         NaN   \n1                           NaN                   NaN         NaN   \n2                           NaN                   NaN         NaN   \n3                           NaN                   NaN         NaN   \n4                           NaN                   NaN         NaN   \n..                          ...                   ...         ...   \n299                         NaN                   NaN         NaN   \n300                         NaN                   NaN         NaN   \n301                         NaN                   NaN         NaN   \n302                         NaN                   NaN         NaN   \n303                         NaN                   NaN         NaN   \n\n    pricing_action  \n0              NaN  \n1              NaN  \n2              NaN  \n3              NaN  \n4              NaN  \n..             ...  \n299            NaN  \n300            NaN  \n301            NaN  \n302            NaN  \n303            NaN  \n\n[246 rows x 236 columns]",
      "text/html": "<div>\n<style scoped>\n    .dataframe tbody tr th:only-of-type {\n        vertical-align: middle;\n    }\n\n    .dataframe tbody tr th {\n        vertical-align: top;\n    }\n\n    .dataframe thead th {\n        text-align: right;\n    }\n</style>\n<table border=\"1\" class=\"dataframe\">\n  <thead>\n    <tr style=\"text-align: right;\">\n      <th></th>\n      <th>feed_product_type</th>\n      <th>item_sku</th>\n      <th>brand_name</th>\n      <th>update_delete</th>\n      <th>external_product_id</th>\n      <th>external_product_id_type</th>\n      <th>item_name</th>\n      <th>product_description</th>\n      <th>recommended_browse_nodes</th>\n      <th>outer_material_type</th>\n      <th>...</th>\n      <th>progressive_discount_type</th>\n      <th>progressive_discount_lower_bound1</th>\n      <th>progressive_discount_value1</th>\n      <th>progressive_discount_lower_bound2</th>\n      <th>progressive_discount_value2</th>\n      <th>progressive_discount_lower_bound3</th>\n      <th>progressive_discount_value3</th>\n      <th>national_stock_number</th>\n      <th>unspsc_code</th>\n      <th>pricing_action</th>\n    </tr>\n  </thead>\n  <tbody>\n    <tr>\n      <th>0</th>\n      <td>pants</td>\n      <td>FRL-DE-24-07-26-16-06-32-001</td>\n      <td>Generic</td>\n      <td>Aktualisierung</td>\n      <td>NaN</td>\n      <td>GTIN</td>\n      <td>Cargohose Herren Cargohosen Hose Men Sommer He...</td>\n      <td>&lt;p&gt;&lt;b&gt;Merkmale&lt;/b&gt;&lt;br&gt;&lt;/p&gt;&lt;p&gt;Material: Polyest...</td>\n      <td>1981399031</td>\n      <td>Polyester</td>\n      <td>...</td>\n      <td>NaN</td>\n      <td>NaN</td>\n      <td>NaN</td>\n      <td>NaN</td>\n      <td>NaN</td>\n      <td>NaN</td>\n      <td>NaN</td>\n      <td>NaN</td>\n      <td>NaN</td>\n      <td>NaN</td>\n    </tr>\n    <tr>\n      <th>1</th>\n      <td>pants</td>\n      <td>FRL-DE-24-07-26-16-06-32-001-BKL</td>\n      <td>Generic</td>\n      <td>Aktualisierung</td>\n      <td>NaN</td>\n      <td>GTIN</td>\n      <td>Cargohose Herren Cargohosen Hose Men Sommer He...</td>\n      <td>&lt;p&gt;&lt;b&gt;Merkmale&lt;/b&gt;&lt;br&gt;&lt;/p&gt;&lt;p&gt;Material: Polyest...</td>\n      <td>1981399031</td>\n      <td>Polyester</td>\n      <td>...</td>\n      <td>NaN</td>\n      <td>NaN</td>\n      <td>NaN</td>\n      <td>NaN</td>\n      <td>NaN</td>\n      <td>NaN</td>\n      <td>NaN</td>\n      <td>NaN</td>\n      <td>NaN</td>\n      <td>NaN</td>\n    </tr>\n    <tr>\n      <th>2</th>\n      <td>pants</td>\n      <td>FRL-DE-24-07-26-16-06-32-001-BKL2</td>\n      <td>Generic</td>\n      <td>Aktualisierung</td>\n      <td>NaN</td>\n      <td>GTIN</td>\n      <td>Cargohose Herren Cargohosen Hose Men Sommer He...</td>\n      <td>&lt;p&gt;&lt;b&gt;Merkmale&lt;/b&gt;&lt;br&gt;&lt;/p&gt;&lt;p&gt;Material: Polyest...</td>\n      <td>1981399031</td>\n      <td>Polyester</td>\n      <td>...</td>\n      <td>NaN</td>\n      <td>NaN</td>\n      <td>NaN</td>\n      <td>NaN</td>\n      <td>NaN</td>\n      <td>NaN</td>\n      <td>NaN</td>\n      <td>NaN</td>\n      <td>NaN</td>\n      <td>NaN</td>\n    </tr>\n    <tr>\n      <th>3</th>\n      <td>pants</td>\n      <td>FRL-DE-24-07-26-16-06-32-001-BKL3</td>\n      <td>Generic</td>\n      <td>Aktualisierung</td>\n      <td>NaN</td>\n      <td>GTIN</td>\n      <td>Cargohose Herren Cargohosen Hose Men Sommer He...</td>\n      <td>&lt;p&gt;&lt;b&gt;Merkmale&lt;/b&gt;&lt;br&gt;&lt;/p&gt;&lt;p&gt;Material: Polyest...</td>\n      <td>1981399031</td>\n      <td>Polyester</td>\n      <td>...</td>\n      <td>NaN</td>\n      <td>NaN</td>\n      <td>NaN</td>\n      <td>NaN</td>\n      <td>NaN</td>\n      <td>NaN</td>\n      <td>NaN</td>\n      <td>NaN</td>\n      <td>NaN</td>\n      <td>NaN</td>\n    </tr>\n    <tr>\n      <th>4</th>\n      <td>pants</td>\n      <td>FRL-DE-24-07-26-16-06-32-001-BKM</td>\n      <td>Generic</td>\n      <td>Aktualisierung</td>\n      <td>NaN</td>\n      <td>GTIN</td>\n      <td>Cargohose Herren Cargohosen Hose Men Sommer He...</td>\n      <td>&lt;p&gt;&lt;b&gt;Merkmale&lt;/b&gt;&lt;br&gt;&lt;/p&gt;&lt;p&gt;Material: Polyest...</td>\n      <td>1981399031</td>\n      <td>Polyester</td>\n      <td>...</td>\n      <td>NaN</td>\n      <td>NaN</td>\n      <td>NaN</td>\n      <td>NaN</td>\n      <td>NaN</td>\n      <td>NaN</td>\n      <td>NaN</td>\n      <td>NaN</td>\n      <td>NaN</td>\n      <td>NaN</td>\n    </tr>\n    <tr>\n      <th>...</th>\n      <td>...</td>\n      <td>...</td>\n      <td>...</td>\n      <td>...</td>\n      <td>...</td>\n      <td>...</td>\n      <td>...</td>\n      <td>...</td>\n      <td>...</td>\n      <td>...</td>\n      <td>...</td>\n      <td>...</td>\n      <td>...</td>\n      <td>...</td>\n      <td>...</td>\n      <td>...</td>\n      <td>...</td>\n      <td>...</td>\n      <td>...</td>\n      <td>...</td>\n      <td>...</td>\n    </tr>\n    <tr>\n      <th>299</th>\n      <td>pants</td>\n      <td>FRL-DE-24-07-26-16-06-32-012-KHXL</td>\n      <td>Generic</td>\n      <td>Aktualisierung</td>\n      <td>NaN</td>\n      <td>GTIN</td>\n      <td>Cargohose Herren Baggy Hose Herren Hose Pants ...</td>\n      <td>&lt;p&gt;&lt;b&gt;Merkmale&lt;/b&gt;&lt;br&gt;&lt;/p&gt;&lt;p&gt;Material: Polyest...</td>\n      <td>1981399031</td>\n      <td>Polyester</td>\n      <td>...</td>\n      <td>NaN</td>\n      <td>NaN</td>\n      <td>NaN</td>\n      <td>NaN</td>\n      <td>NaN</td>\n      <td>NaN</td>\n      <td>NaN</td>\n      <td>NaN</td>\n      <td>NaN</td>\n      <td>NaN</td>\n    </tr>\n    <tr>\n      <th>300</th>\n      <td>pants</td>\n      <td>FRL-DE-24-07-26-16-06-32-012-WEL</td>\n      <td>Generic</td>\n      <td>Aktualisierung</td>\n      <td>NaN</td>\n      <td>GTIN</td>\n      <td>Cargohose Herren Baggy Hose Herren Hose Pants ...</td>\n      <td>&lt;p&gt;&lt;b&gt;Merkmale&lt;/b&gt;&lt;br&gt;&lt;/p&gt;&lt;p&gt;Material: Polyest...</td>\n      <td>1981399031</td>\n      <td>Polyester</td>\n      <td>...</td>\n      <td>NaN</td>\n      <td>NaN</td>\n      <td>NaN</td>\n      <td>NaN</td>\n      <td>NaN</td>\n      <td>NaN</td>\n      <td>NaN</td>\n      <td>NaN</td>\n      <td>NaN</td>\n      <td>NaN</td>\n    </tr>\n    <tr>\n      <th>301</th>\n      <td>pants</td>\n      <td>FRL-DE-24-07-26-16-06-32-012-WEXL</td>\n      <td>Generic</td>\n      <td>Aktualisierung</td>\n      <td>NaN</td>\n      <td>GTIN</td>\n      <td>Cargohose Herren Baggy Hose Herren Hose Pants ...</td>\n      <td>&lt;p&gt;&lt;b&gt;Merkmale&lt;/b&gt;&lt;br&gt;&lt;/p&gt;&lt;p&gt;Material: Polyest...</td>\n      <td>1981399031</td>\n      <td>Polyester</td>\n      <td>...</td>\n      <td>NaN</td>\n      <td>NaN</td>\n      <td>NaN</td>\n      <td>NaN</td>\n      <td>NaN</td>\n      <td>NaN</td>\n      <td>NaN</td>\n      <td>NaN</td>\n      <td>NaN</td>\n      <td>NaN</td>\n    </tr>\n    <tr>\n      <th>302</th>\n      <td>pants</td>\n      <td>FRL-DE-24-07-26-16-06-32-013</td>\n      <td>Generic</td>\n      <td>Aktualisierung</td>\n      <td>NaN</td>\n      <td>GTIN</td>\n      <td>Cargohose Herren Cargo Pants Herren Sommer Lei...</td>\n      <td>&lt;p&gt;&lt;b&gt;Merkmale&lt;/b&gt;&lt;br&gt;&lt;/p&gt;&lt;p&gt;Material: Polyest...</td>\n      <td>1981399031</td>\n      <td>Polyester</td>\n      <td>...</td>\n      <td>NaN</td>\n      <td>NaN</td>\n      <td>NaN</td>\n      <td>NaN</td>\n      <td>NaN</td>\n      <td>NaN</td>\n      <td>NaN</td>\n      <td>NaN</td>\n      <td>NaN</td>\n      <td>NaN</td>\n    </tr>\n    <tr>\n      <th>303</th>\n      <td>pants</td>\n      <td>FRL-DE-24-07-26-16-06-32-013-BK32</td>\n      <td>Generic</td>\n      <td>Aktualisierung</td>\n      <td>NaN</td>\n      <td>GTIN</td>\n      <td>Cargohose Herren Cargo Pants Herren Sommer Lei...</td>\n      <td>&lt;p&gt;&lt;b&gt;Merkmale&lt;/b&gt;&lt;br&gt;&lt;/p&gt;&lt;p&gt;Material: Polyest...</td>\n      <td>1981399031</td>\n      <td>Polyester</td>\n      <td>...</td>\n      <td>NaN</td>\n      <td>NaN</td>\n      <td>NaN</td>\n      <td>NaN</td>\n      <td>NaN</td>\n      <td>NaN</td>\n      <td>NaN</td>\n      <td>NaN</td>\n      <td>NaN</td>\n      <td>NaN</td>\n    </tr>\n  </tbody>\n</table>\n<p>246 rows × 236 columns</p>\n</div>"
     },
     "execution_count": 30,
     "metadata": {},
     "output_type": "execute_result"
    }
   ],
   "source": [
    "df"
   ],
   "metadata": {
    "collapsed": false,
    "pycharm": {
     "name": "#%%\n"
    }
   }
  },
  {
   "cell_type": "code",
   "execution_count": 28,
   "outputs": [],
   "source": [
    "# df.to_excel(f'{bd_a}/1.xlsx', index=False)"
   ],
   "metadata": {
    "collapsed": false,
    "pycharm": {
     "name": "#%%\n"
    }
   }
  },
  {
   "cell_type": "code",
   "execution_count": 29,
   "outputs": [],
   "source": [
    "# erp_df.to_excel(fp_erp.replace('.xls', '_verified.xls'), index=False)\n",
    "#\n",
    "# fp_tgt = f'{g}/{g}_tgt.xlsx'\n",
    "# tgt_df: DataFrame = pd.read_excel(fp_tgt, sheet_name='tgt')\n",
    "# # 创建一个映射字典，将父SKU映射到对应的amazon_psku\n",
    "# mapping_dict = erp_df.set_index('父SKU')['amazon_psku'].to_dict()\n",
    "# # 使用map函数将父SKU映射到amazon_psku\n",
    "# tgt_df['amazon_psku'] = tgt_df['productSku'].map(mapping_dict)\n",
    "# tgt_df.loc[tgt_df['productSku'].isin(erp_df['父SKU'].unique()), 'status'] = Status.IN_USE.value\n",
    "# tgt_df.loc[tgt_df['productSku'].isin(erp_df['父SKU'].unique()), 'ymd_HMS'] = ymd_HMS\n",
    "# tgt_df.to_excel(fp_tgt, index=False)\n",
    "#\n",
    "# # 将修改后的DataFrame写回到Excel文件中的特定工作簿\n",
    "#\n",
    "# from openpyxl import load_workbook\n",
    "#\n",
    "# # 加载现有的工作簿\n",
    "# book = load_workbook(fp_title)\n",
    "#\n",
    "# # 使用openpyxl的方式选择要修改的工作表\n",
    "# with pd.ExcelWriter(fp_title, engine='openpyxl') as writer:\n",
    "#     writer.book = book\n",
    "#\n",
    "#     if 'title' in book.sheetnames:\n",
    "#         book.remove(book['title'])\n",
    "#\n",
    "#     # 将修改后的工作表写回工作簿\n",
    "#     title_df.to_excel(writer, index=False, sheet_name='title')\n",
    "#\n",
    "# book = load_workbook(fp_st250)\n",
    "#\n",
    "# # 使用openpyxl的方式选择要修改的工作表\n",
    "# with pd.ExcelWriter(fp_st250, engine='openpyxl') as writer:\n",
    "#     writer.book = book\n",
    "#\n",
    "#     if 'st250' in book.sheetnames:\n",
    "#         book.remove(book['st250'])\n",
    "#\n",
    "#     # 将修改后的工作表写回工作簿\n",
    "#     st250_df.to_excel(writer, index=False, sheet_name='st250')"
   ],
   "metadata": {
    "collapsed": false,
    "pycharm": {
     "name": "#%%\n"
    }
   }
  },
  {
   "cell_type": "code",
   "execution_count": 29,
   "outputs": [],
   "source": [],
   "metadata": {
    "collapsed": false,
    "pycharm": {
     "name": "#%%\n"
    }
   }
  }
 ],
 "metadata": {
  "kernelspec": {
   "display_name": "Python 3",
   "language": "python",
   "name": "python3"
  },
  "language_info": {
   "codemirror_mode": {
    "name": "ipython",
    "version": 2
   },
   "file_extension": ".py",
   "mimetype": "text/x-python",
   "name": "python",
   "nbconvert_exporter": "python",
   "pygments_lexer": "ipython2",
   "version": "2.7.6"
  }
 },
 "nbformat": 4,
 "nbformat_minor": 0
}