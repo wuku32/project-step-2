{
 "cells": [
  {
   "cell_type": "code",
   "execution_count": 1,
   "metadata": {
    "collapsed": true
   },
   "outputs": [],
   "source": [
    "import os\n",
    "import re\n",
    "import time\n",
    "\n",
    "import pandas as pd\n",
    "from pandas import DataFrame\n",
    "from openpyxl import load_workbook\n",
    "import requests"
   ]
  },
  {
   "cell_type": "code",
   "execution_count": 2,
   "outputs": [],
   "source": [
    "from util.widgets import generate_ym, generate_ymd, generate_i\n",
    "\n",
    "ym = generate_ym()\n",
    "g = 'cargohose_herren'\n",
    "bd = f'{g}/{ym}'\n",
    "b_d = f'{g}_{ym}'\n",
    "\n",
    "os.makedirs(bd, exist_ok=True)\n",
    "\n",
    "ymd = generate_ymd()\n",
    "\n",
    "fp_tgt = f'{bd}/{b_d}_tgt.xlsx'"
   ],
   "metadata": {
    "collapsed": false,
    "pycharm": {
     "name": "#%%\n"
    }
   }
  },
  {
   "cell_type": "code",
   "execution_count": 3,
   "outputs": [
    {
     "data": {
      "text/plain": "           sf                                                 fp         ymd  \\\n0     default  cargohose_herren/2024_07_22_(08-09)/img/defaul...  2024_07_24   \n1     default  cargohose_herren/2024_07_22_(08-09)/img/defaul...  2024_07_24   \n2     default  cargohose_herren/2024_07_22_(08-09)/img/defaul...  2024_07_24   \n3     default  cargohose_herren/2024_07_22_(08-09)/img/defaul...  2024_07_24   \n4     default  cargohose_herren/2024_07_22_(08-09)/img/defaul...  2024_07_24   \n...       ...                                                ...         ...   \n1241     best  cargohose_herren/2024_07_22_(08-09)/img/best/c...         NaN   \n1242     best  cargohose_herren/2024_07_22_(08-09)/img/best/c...         NaN   \n1243     best  cargohose_herren/2024_07_22_(08-09)/img/best/c...         NaN   \n1244     best  cargohose_herren/2024_07_22_(08-09)/img/best/c...         NaN   \n1245     best  cargohose_herren/2024_07_22_(08-09)/img/best/c...         NaN   \n\n                                               imageUrl    productSku  \\\n0     http://183.62.143.166:28099/image/product/ftp/...  LBB230821017   \n1     http://183.62.143.166:28099/image/product/ftp/...   LJH90722333   \n2     http://183.62.143.166:28099/image/product/ftp/...  LBB230904033   \n3     http://183.62.143.166:28099/image/product/ftp/...  HRR210316820   \n4     http://183.62.143.166:28099/image/product/ftp/...  LBB230904025   \n...                                                 ...           ...   \n1241  http://183.62.143.166:28099/image/product/ftp/...  CJN211214321   \n1242  http://183.62.143.166:28099/image/product/ftp/...  ZRR240624003   \n1243  http://183.62.143.166:28099/image/product/ftp/...  HYM231006008   \n1244  http://183.62.143.166:28099/image/product/ftp/...  XJJ221028015   \n1245  http://183.62.143.166:28099/image/product/ftp/...   YAY91105377   \n\n                       productLabelList                categoryName  \\\n0                   ['可压缩产品', '部分停产下架']    Men's Casual Pants 男士休闲裤   \n1           ['可压缩产品', '部分停产下架', '部分缺货']    Men's Casual Pants 男士休闲裤   \n2     ['可压缩产品', '冬季', '一件起订', '部分停产下架']    Men's Casual Pants 男士休闲裤   \n3                   ['可压缩产品', '部分停产下架']       Men's Gym Pants 男士健身裤   \n4     ['可压缩产品', '冬季', '一件起订', '部分停产下架']    Men's Casual Pants 男士休闲裤   \n...                                 ...                         ...   \n1241                ['可压缩产品', '部分停产下架']  Women's Casual Pants 女士休闲裤   \n1242                                 []     Men's Cargo Pants 男士工装裤   \n1243                          ['可压缩产品']    Men's Casual Pants 男士休闲裤   \n1244       ['圣诞节产品', '可压缩产品', '部分停产下架']  Women's Casual Pants 女士休闲裤   \n1245                ['部分停产下架', '可压缩产品']    Men's Casual Pants 男士休闲裤   \n\n     warehouseName developerName buyerName  vectorDistance  buyingPrice  \\\n0             顺德仓库            刘邦       罗智斌          0.4770         45.0   \n1             顺德仓库           刘佳辉       罗智斌          0.4822         34.5   \n2             顺德仓库            刘邦       罗智斌          0.4943         19.0   \n3             顺德仓库            黄睿       陆声哲          0.4984         33.0   \n4             顺德仓库            刘邦       罗智斌          0.5005         19.0   \n...            ...           ...       ...             ...          ...   \n1241          顺德仓库           畅佳敏       杨汉玉          0.3919         26.0   \n1242          顺德仓库            郑睿       郑楚薇          0.2931         65.0   \n1243          顺德仓库           黄易明       罗智斌          0.3094         37.0   \n1244          顺德仓库           谢静静       罗智斌          0.3265         21.0   \n1245          顺德仓库            杨阳       董俊晓          0.3290         40.0   \n\n           material  withholdStock  \\\n0         polyester            0.0   \n1         Polyester            0.0   \n2         Polyester            0.0   \n3         Polyester            0.0   \n4         Polyester            0.0   \n...             ...            ...   \n1241         Cotton            0.0   \n1242  Nylon,Spandex            1.0   \n1243  Nylon,Spandex            2.0   \n1244      Polyester            0.0   \n1245        Acrylic            0.0   \n\n                                         productSkuHref  similarity    status  \n0     /links/erp/products?query.productSku=LBB230821017      0.5230     InUse  \n1      /links/erp/products?query.productSku=LJH90722333      0.5178  Archived  \n2     /links/erp/products?query.productSku=LBB230904033      0.5057  Archived  \n3     /links/erp/products?query.productSku=HRR210316820      0.5016     InUse  \n4     /links/erp/products?query.productSku=LBB230904025      0.4995  Archived  \n...                                                 ...         ...       ...  \n1241  /links/erp/products?query.productSku=CJN211214321      0.6081    Unused  \n1242  /links/erp/products?query.productSku=ZRR240624003      0.7069    Unused  \n1243  /links/erp/products?query.productSku=HYM231006008      0.6906    Unused  \n1244  /links/erp/products?query.productSku=XJJ221028015      0.6735    Unused  \n1245   /links/erp/products?query.productSku=YAY91105377      0.6710    Unused  \n\n[1246 rows x 17 columns]",
      "text/html": "<div>\n<style scoped>\n    .dataframe tbody tr th:only-of-type {\n        vertical-align: middle;\n    }\n\n    .dataframe tbody tr th {\n        vertical-align: top;\n    }\n\n    .dataframe thead th {\n        text-align: right;\n    }\n</style>\n<table border=\"1\" class=\"dataframe\">\n  <thead>\n    <tr style=\"text-align: right;\">\n      <th></th>\n      <th>sf</th>\n      <th>fp</th>\n      <th>ymd</th>\n      <th>imageUrl</th>\n      <th>productSku</th>\n      <th>productLabelList</th>\n      <th>categoryName</th>\n      <th>warehouseName</th>\n      <th>developerName</th>\n      <th>buyerName</th>\n      <th>vectorDistance</th>\n      <th>buyingPrice</th>\n      <th>material</th>\n      <th>withholdStock</th>\n      <th>productSkuHref</th>\n      <th>similarity</th>\n      <th>status</th>\n    </tr>\n  </thead>\n  <tbody>\n    <tr>\n      <th>0</th>\n      <td>default</td>\n      <td>cargohose_herren/2024_07_22_(08-09)/img/defaul...</td>\n      <td>2024_07_24</td>\n      <td>http://183.62.143.166:28099/image/product/ftp/...</td>\n      <td>LBB230821017</td>\n      <td>['可压缩产品', '部分停产下架']</td>\n      <td>Men's Casual Pants 男士休闲裤</td>\n      <td>顺德仓库</td>\n      <td>刘邦</td>\n      <td>罗智斌</td>\n      <td>0.4770</td>\n      <td>45.0</td>\n      <td>polyester</td>\n      <td>0.0</td>\n      <td>/links/erp/products?query.productSku=LBB230821017</td>\n      <td>0.5230</td>\n      <td>InUse</td>\n    </tr>\n    <tr>\n      <th>1</th>\n      <td>default</td>\n      <td>cargohose_herren/2024_07_22_(08-09)/img/defaul...</td>\n      <td>2024_07_24</td>\n      <td>http://183.62.143.166:28099/image/product/ftp/...</td>\n      <td>LJH90722333</td>\n      <td>['可压缩产品', '部分停产下架', '部分缺货']</td>\n      <td>Men's Casual Pants 男士休闲裤</td>\n      <td>顺德仓库</td>\n      <td>刘佳辉</td>\n      <td>罗智斌</td>\n      <td>0.4822</td>\n      <td>34.5</td>\n      <td>Polyester</td>\n      <td>0.0</td>\n      <td>/links/erp/products?query.productSku=LJH90722333</td>\n      <td>0.5178</td>\n      <td>Archived</td>\n    </tr>\n    <tr>\n      <th>2</th>\n      <td>default</td>\n      <td>cargohose_herren/2024_07_22_(08-09)/img/defaul...</td>\n      <td>2024_07_24</td>\n      <td>http://183.62.143.166:28099/image/product/ftp/...</td>\n      <td>LBB230904033</td>\n      <td>['可压缩产品', '冬季', '一件起订', '部分停产下架']</td>\n      <td>Men's Casual Pants 男士休闲裤</td>\n      <td>顺德仓库</td>\n      <td>刘邦</td>\n      <td>罗智斌</td>\n      <td>0.4943</td>\n      <td>19.0</td>\n      <td>Polyester</td>\n      <td>0.0</td>\n      <td>/links/erp/products?query.productSku=LBB230904033</td>\n      <td>0.5057</td>\n      <td>Archived</td>\n    </tr>\n    <tr>\n      <th>3</th>\n      <td>default</td>\n      <td>cargohose_herren/2024_07_22_(08-09)/img/defaul...</td>\n      <td>2024_07_24</td>\n      <td>http://183.62.143.166:28099/image/product/ftp/...</td>\n      <td>HRR210316820</td>\n      <td>['可压缩产品', '部分停产下架']</td>\n      <td>Men's Gym Pants 男士健身裤</td>\n      <td>顺德仓库</td>\n      <td>黄睿</td>\n      <td>陆声哲</td>\n      <td>0.4984</td>\n      <td>33.0</td>\n      <td>Polyester</td>\n      <td>0.0</td>\n      <td>/links/erp/products?query.productSku=HRR210316820</td>\n      <td>0.5016</td>\n      <td>InUse</td>\n    </tr>\n    <tr>\n      <th>4</th>\n      <td>default</td>\n      <td>cargohose_herren/2024_07_22_(08-09)/img/defaul...</td>\n      <td>2024_07_24</td>\n      <td>http://183.62.143.166:28099/image/product/ftp/...</td>\n      <td>LBB230904025</td>\n      <td>['可压缩产品', '冬季', '一件起订', '部分停产下架']</td>\n      <td>Men's Casual Pants 男士休闲裤</td>\n      <td>顺德仓库</td>\n      <td>刘邦</td>\n      <td>罗智斌</td>\n      <td>0.5005</td>\n      <td>19.0</td>\n      <td>Polyester</td>\n      <td>0.0</td>\n      <td>/links/erp/products?query.productSku=LBB230904025</td>\n      <td>0.4995</td>\n      <td>Archived</td>\n    </tr>\n    <tr>\n      <th>...</th>\n      <td>...</td>\n      <td>...</td>\n      <td>...</td>\n      <td>...</td>\n      <td>...</td>\n      <td>...</td>\n      <td>...</td>\n      <td>...</td>\n      <td>...</td>\n      <td>...</td>\n      <td>...</td>\n      <td>...</td>\n      <td>...</td>\n      <td>...</td>\n      <td>...</td>\n      <td>...</td>\n      <td>...</td>\n    </tr>\n    <tr>\n      <th>1241</th>\n      <td>best</td>\n      <td>cargohose_herren/2024_07_22_(08-09)/img/best/c...</td>\n      <td>NaN</td>\n      <td>http://183.62.143.166:28099/image/product/ftp/...</td>\n      <td>CJN211214321</td>\n      <td>['可压缩产品', '部分停产下架']</td>\n      <td>Women's Casual Pants 女士休闲裤</td>\n      <td>顺德仓库</td>\n      <td>畅佳敏</td>\n      <td>杨汉玉</td>\n      <td>0.3919</td>\n      <td>26.0</td>\n      <td>Cotton</td>\n      <td>0.0</td>\n      <td>/links/erp/products?query.productSku=CJN211214321</td>\n      <td>0.6081</td>\n      <td>Unused</td>\n    </tr>\n    <tr>\n      <th>1242</th>\n      <td>best</td>\n      <td>cargohose_herren/2024_07_22_(08-09)/img/best/c...</td>\n      <td>NaN</td>\n      <td>http://183.62.143.166:28099/image/product/ftp/...</td>\n      <td>ZRR240624003</td>\n      <td>[]</td>\n      <td>Men's Cargo Pants 男士工装裤</td>\n      <td>顺德仓库</td>\n      <td>郑睿</td>\n      <td>郑楚薇</td>\n      <td>0.2931</td>\n      <td>65.0</td>\n      <td>Nylon,Spandex</td>\n      <td>1.0</td>\n      <td>/links/erp/products?query.productSku=ZRR240624003</td>\n      <td>0.7069</td>\n      <td>Unused</td>\n    </tr>\n    <tr>\n      <th>1243</th>\n      <td>best</td>\n      <td>cargohose_herren/2024_07_22_(08-09)/img/best/c...</td>\n      <td>NaN</td>\n      <td>http://183.62.143.166:28099/image/product/ftp/...</td>\n      <td>HYM231006008</td>\n      <td>['可压缩产品']</td>\n      <td>Men's Casual Pants 男士休闲裤</td>\n      <td>顺德仓库</td>\n      <td>黄易明</td>\n      <td>罗智斌</td>\n      <td>0.3094</td>\n      <td>37.0</td>\n      <td>Nylon,Spandex</td>\n      <td>2.0</td>\n      <td>/links/erp/products?query.productSku=HYM231006008</td>\n      <td>0.6906</td>\n      <td>Unused</td>\n    </tr>\n    <tr>\n      <th>1244</th>\n      <td>best</td>\n      <td>cargohose_herren/2024_07_22_(08-09)/img/best/c...</td>\n      <td>NaN</td>\n      <td>http://183.62.143.166:28099/image/product/ftp/...</td>\n      <td>XJJ221028015</td>\n      <td>['圣诞节产品', '可压缩产品', '部分停产下架']</td>\n      <td>Women's Casual Pants 女士休闲裤</td>\n      <td>顺德仓库</td>\n      <td>谢静静</td>\n      <td>罗智斌</td>\n      <td>0.3265</td>\n      <td>21.0</td>\n      <td>Polyester</td>\n      <td>0.0</td>\n      <td>/links/erp/products?query.productSku=XJJ221028015</td>\n      <td>0.6735</td>\n      <td>Unused</td>\n    </tr>\n    <tr>\n      <th>1245</th>\n      <td>best</td>\n      <td>cargohose_herren/2024_07_22_(08-09)/img/best/c...</td>\n      <td>NaN</td>\n      <td>http://183.62.143.166:28099/image/product/ftp/...</td>\n      <td>YAY91105377</td>\n      <td>['部分停产下架', '可压缩产品']</td>\n      <td>Men's Casual Pants 男士休闲裤</td>\n      <td>顺德仓库</td>\n      <td>杨阳</td>\n      <td>董俊晓</td>\n      <td>0.3290</td>\n      <td>40.0</td>\n      <td>Acrylic</td>\n      <td>0.0</td>\n      <td>/links/erp/products?query.productSku=YAY91105377</td>\n      <td>0.6710</td>\n      <td>Unused</td>\n    </tr>\n  </tbody>\n</table>\n<p>1246 rows × 17 columns</p>\n</div>"
     },
     "execution_count": 3,
     "metadata": {},
     "output_type": "execute_result"
    }
   ],
   "source": [
    "tgt_df: DataFrame = pd.read_excel(fp_tgt, sheet_name='tgt')\n",
    "from util.widgets import note_archived_sku, note_deleted_sku, note_other_sku\n",
    "\n",
    "tgt_df = note_archived_sku(tgt_df)\n",
    "tgt_df = note_deleted_sku(tgt_df)\n",
    "tgt_df = note_other_sku(tgt_df)\n",
    "tgt_df"
   ],
   "metadata": {
    "collapsed": false,
    "pycharm": {
     "name": "#%%\n"
    }
   }
  },
  {
   "cell_type": "code",
   "execution_count": 5,
   "outputs": [],
   "source": [
    "# 将修改后的DataFrame写回到Excel文件中的特定工作簿\n",
    "with pd.ExcelWriter(fp_tgt) as writer:\n",
    "    tgt_df.to_excel(writer, index=False, sheet_name='tgt')"
   ],
   "metadata": {
    "collapsed": false,
    "pycharm": {
     "name": "#%%\n"
    }
   }
  },
  {
   "cell_type": "code",
   "execution_count": 4,
   "outputs": [],
   "source": [],
   "metadata": {
    "collapsed": false,
    "pycharm": {
     "name": "#%%\n"
    }
   }
  }
 ],
 "metadata": {
  "kernelspec": {
   "display_name": "Python 3",
   "language": "python",
   "name": "python3"
  },
  "language_info": {
   "codemirror_mode": {
    "name": "ipython",
    "version": 2
   },
   "file_extension": ".py",
   "mimetype": "text/x-python",
   "name": "python",
   "nbconvert_exporter": "python",
   "pygments_lexer": "ipython2",
   "version": "2.7.6"
  }
 },
 "nbformat": 4,
 "nbformat_minor": 0
}