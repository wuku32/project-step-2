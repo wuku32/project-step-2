{
 "cells": [
  {
   "cell_type": "code",
   "execution_count": 1,
   "metadata": {
    "collapsed": true
   },
   "outputs": [],
   "source": [
    "import os\n",
    "import re\n",
    "import time\n",
    "\n",
    "import pandas as pd\n",
    "from pandas import DataFrame\n",
    "from openpyxl import load_workbook\n",
    "import requests"
   ]
  },
  {
   "cell_type": "code",
   "execution_count": 2,
   "outputs": [],
   "source": [
    "from util.widgets import generate_ym, generate_ymd, generate_i\n",
    "\n",
    "ym = generate_ym()\n",
    "g = 'cargohose_herren'\n",
    "bd = f'{g}/{ym}'\n",
    "b_d = f'{g}_{ym}'\n",
    "\n",
    "os.makedirs(bd, exist_ok=True)\n",
    "\n",
    "ymd = generate_ymd()\n",
    "\n",
    "fp_title = f'{g}/{g}_title.xlsx'\n",
    "fp_title_copy = f'{g}/{g}_title_copy.xlsx'\n",
    "fp_st250 = f'{g}/{g}_st250.xlsx'\n",
    "fp_st250_copy = f'{g}/{g}_st250_copy.xlsx'\n",
    "fp_tgt = f'{g}/{g}_tgt.xlsx'\n",
    "fp_tgt_copy = f'{g}/{g}_tgt_copy.xlsx'"
   ],
   "metadata": {
    "collapsed": false,
    "pycharm": {
     "name": "#%%\n"
    }
   }
  },
  {
   "cell_type": "code",
   "execution_count": 3,
   "outputs": [],
   "source": [
    "import shutil\n",
    "import tkinter as tk\n",
    "\n",
    "\n",
    "def show_dialog():\n",
    "    # 主窗口\n",
    "    root = tk.Tk()\n",
    "    root.withdraw()  # 隐藏主窗口\n",
    "\n",
    "    # 创建一个顶级窗口作为对话框\n",
    "    dialog = tk.Toplevel(root)\n",
    "    dialog.title(\"Confirm Dialog\")\n",
    "\n",
    "    # 添加一些文本\n",
    "    label = tk.Label(dialog, text=\"确定用copy副本覆写主文件？\")\n",
    "    label.pack(padx=10, pady=10)\n",
    "\n",
    "    # 定义按钮的回调函数\n",
    "    def on_confirm():\n",
    "        shutil.copy2(fp_title_copy, fp_title)\n",
    "        shutil.copy2(fp_st250_copy, fp_st250)\n",
    "        shutil.copy2(fp_tgt_copy, fp_tgt)\n",
    "        dialog.destroy()  # 关闭对话框\n",
    "        root.destroy()  # 关闭主窗口\n",
    "\n",
    "    def on_cancel():\n",
    "        dialog.destroy()  # 关闭对话框\n",
    "        root.destroy()  # 关闭主窗口\n",
    "\n",
    "    # 创建按钮\n",
    "    confirm_button = tk.Button(dialog, text=\"Confirm\", command=on_confirm)\n",
    "    cancel_button = tk.Button(dialog, text=\"Cancel\", command=on_cancel)\n",
    "\n",
    "    # 布局按钮\n",
    "    confirm_button.pack(pady=5)\n",
    "    cancel_button.pack(pady=5)\n",
    "\n",
    "    # # 主窗口\n",
    "    # root = tk.Tk()\n",
    "    # root.withdraw()  # 隐藏主窗口\n",
    "    #\n",
    "    # # 直接显示对话框\n",
    "    # show_dialog()\n",
    "\n",
    "    # 运行主循环\n",
    "    root.mainloop()\n",
    "\n",
    "\n",
    "show_dialog()"
   ],
   "metadata": {
    "collapsed": false,
    "pycharm": {
     "name": "#%%\n"
    }
   }
  },
  {
   "cell_type": "code",
   "execution_count": 3,
   "outputs": [],
   "source": [],
   "metadata": {
    "collapsed": false,
    "pycharm": {
     "name": "#%%\n"
    }
   }
  }
 ],
 "metadata": {
  "kernelspec": {
   "display_name": "Python 3",
   "language": "python",
   "name": "python3"
  },
  "language_info": {
   "codemirror_mode": {
    "name": "ipython",
    "version": 2
   },
   "file_extension": ".py",
   "mimetype": "text/x-python",
   "name": "python",
   "nbconvert_exporter": "python",
   "pygments_lexer": "ipython2",
   "version": "2.7.6"
  }
 },
 "nbformat": 4,
 "nbformat_minor": 0
}