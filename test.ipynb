{
 "cells": [
  {
   "cell_type": "code",
   "execution_count": 12,
   "metadata": {
    "collapsed": true
   },
   "outputs": [
    {
     "ename": "RuntimeError",
     "evalue": "generator didn't stop after throw()",
     "output_type": "error",
     "traceback": [
      "\u001B[1;31m---------------------------------------------------------------------------\u001B[0m",
      "\u001B[1;31mKeyError\u001B[0m                                  Traceback (most recent call last)",
      "File \u001B[1;32me:\\aenv\\python-3.8.0(64-bit)\\lib\\site-packages\\llvmlite\\binding\\ffi.py:134\u001B[0m, in \u001B[0;36m_lib_wrapper.__getattr__\u001B[1;34m(self, name)\u001B[0m\n\u001B[0;32m    133\u001B[0m \u001B[38;5;28;01mtry\u001B[39;00m:\n\u001B[1;32m--> 134\u001B[0m     \u001B[38;5;28;01mreturn\u001B[39;00m \u001B[38;5;28;43mself\u001B[39;49m\u001B[38;5;241;43m.\u001B[39;49m\u001B[43m_fntab\u001B[49m\u001B[43m[\u001B[49m\u001B[43mname\u001B[49m\u001B[43m]\u001B[49m\n\u001B[0;32m    135\u001B[0m \u001B[38;5;28;01mexcept\u001B[39;00m \u001B[38;5;167;01mKeyError\u001B[39;00m:\n\u001B[0;32m    136\u001B[0m     \u001B[38;5;66;03m# Lazily wraps new functions as they are requested\u001B[39;00m\n",
      "\u001B[1;31mKeyError\u001B[0m: 'LLVMPY_AddSymbol'",
      "\nDuring handling of the above exception, another exception occurred:\n",
      "\u001B[1;31mFileNotFoundError\u001B[0m                         Traceback (most recent call last)",
      "File \u001B[1;32me:\\aenv\\python-3.8.0(64-bit)\\lib\\importlib\\resources.py:188\u001B[0m, in \u001B[0;36mpath\u001B[1;34m(package, resource)\u001B[0m\n\u001B[0;32m    187\u001B[0m \u001B[38;5;28;01mtry\u001B[39;00m:\n\u001B[1;32m--> 188\u001B[0m     \u001B[38;5;28;01myield\u001B[39;00m Path(reader\u001B[38;5;241m.\u001B[39mresource_path(resource))\n\u001B[0;32m    189\u001B[0m     \u001B[38;5;28;01mreturn\u001B[39;00m\n",
      "File \u001B[1;32me:\\aenv\\python-3.8.0(64-bit)\\lib\\site-packages\\llvmlite\\binding\\ffi.py:115\u001B[0m, in \u001B[0;36m_lib_wrapper._load_lib\u001B[1;34m(self)\u001B[0m\n\u001B[0;32m    112\u001B[0m \u001B[38;5;28;01mwith\u001B[39;00m _suppress_cleanup_errors(_importlib_resources_path(\n\u001B[0;32m    113\u001B[0m         \u001B[38;5;18m__name__\u001B[39m\u001B[38;5;241m.\u001B[39mrpartition(\u001B[38;5;124m\"\u001B[39m\u001B[38;5;124m.\u001B[39m\u001B[38;5;124m\"\u001B[39m)[\u001B[38;5;241m0\u001B[39m],\n\u001B[0;32m    114\u001B[0m         get_library_name())) \u001B[38;5;28;01mas\u001B[39;00m lib_path:\n\u001B[1;32m--> 115\u001B[0m     \u001B[38;5;28mself\u001B[39m\u001B[38;5;241m.\u001B[39m_lib_handle \u001B[38;5;241m=\u001B[39m \u001B[43mctypes\u001B[49m\u001B[38;5;241;43m.\u001B[39;49m\u001B[43mCDLL\u001B[49m\u001B[43m(\u001B[49m\u001B[38;5;28;43mstr\u001B[39;49m\u001B[43m(\u001B[49m\u001B[43mlib_path\u001B[49m\u001B[43m)\u001B[49m\u001B[43m)\u001B[49m\n\u001B[0;32m    116\u001B[0m     \u001B[38;5;66;03m# Check that we can look up expected symbols.\u001B[39;00m\n",
      "File \u001B[1;32me:\\aenv\\python-3.8.0(64-bit)\\lib\\ctypes\\__init__.py:369\u001B[0m, in \u001B[0;36mCDLL.__init__\u001B[1;34m(self, name, mode, handle, use_errno, use_last_error, winmode)\u001B[0m\n\u001B[0;32m    368\u001B[0m \u001B[38;5;28;01mif\u001B[39;00m handle \u001B[38;5;129;01mis\u001B[39;00m \u001B[38;5;28;01mNone\u001B[39;00m:\n\u001B[1;32m--> 369\u001B[0m     \u001B[38;5;28mself\u001B[39m\u001B[38;5;241m.\u001B[39m_handle \u001B[38;5;241m=\u001B[39m \u001B[43m_dlopen\u001B[49m\u001B[43m(\u001B[49m\u001B[38;5;28;43mself\u001B[39;49m\u001B[38;5;241;43m.\u001B[39;49m\u001B[43m_name\u001B[49m\u001B[43m,\u001B[49m\u001B[43m \u001B[49m\u001B[43mmode\u001B[49m\u001B[43m)\u001B[49m\n\u001B[0;32m    370\u001B[0m \u001B[38;5;28;01melse\u001B[39;00m:\n",
      "\u001B[1;31mFileNotFoundError\u001B[0m: Could not find module 'e:\\aenv\\python-3.8.0(64-bit)\\lib\\site-packages\\llvmlite\\binding\\llvmlite.dll'. Try using the full path with constructor syntax.",
      "\nDuring handling of the above exception, another exception occurred:\n",
      "\u001B[1;31mRuntimeError\u001B[0m                              Traceback (most recent call last)",
      "Cell \u001B[1;32mIn[12], line 2\u001B[0m\n\u001B[0;32m      1\u001B[0m \u001B[38;5;28;01mfrom\u001B[39;00m \u001B[38;5;21;01mPIL\u001B[39;00m \u001B[38;5;28;01mimport\u001B[39;00m Image\n\u001B[1;32m----> 2\u001B[0m \u001B[38;5;28;01mfrom\u001B[39;00m \u001B[38;5;21;01mrembg\u001B[39;00m \u001B[38;5;28;01mimport\u001B[39;00m remove\n\u001B[0;32m      3\u001B[0m \u001B[38;5;28;01mimport\u001B[39;00m \u001B[38;5;21;01mos\u001B[39;00m\n\u001B[0;32m      6\u001B[0m \u001B[38;5;28;01mdef\u001B[39;00m \u001B[38;5;21mresize\u001B[39m(im, new_width):\n",
      "File \u001B[1;32me:\\aenv\\python-3.8.0(64-bit)\\lib\\site-packages\\rembg\\__init__.py:5\u001B[0m\n\u001B[0;32m      1\u001B[0m \u001B[38;5;28;01mfrom\u001B[39;00m \u001B[38;5;21;01m.\u001B[39;00m \u001B[38;5;28;01mimport\u001B[39;00m _version\n\u001B[0;32m      3\u001B[0m __version__ \u001B[38;5;241m=\u001B[39m _version\u001B[38;5;241m.\u001B[39mget_versions()[\u001B[38;5;124m\"\u001B[39m\u001B[38;5;124mversion\u001B[39m\u001B[38;5;124m\"\u001B[39m]\n\u001B[1;32m----> 5\u001B[0m \u001B[38;5;28;01mfrom\u001B[39;00m \u001B[38;5;21;01m.\u001B[39;00m\u001B[38;5;21;01mbg\u001B[39;00m \u001B[38;5;28;01mimport\u001B[39;00m remove\n\u001B[0;32m      6\u001B[0m \u001B[38;5;28;01mfrom\u001B[39;00m \u001B[38;5;21;01m.\u001B[39;00m\u001B[38;5;21;01msession_factory\u001B[39;00m \u001B[38;5;28;01mimport\u001B[39;00m new_session\n",
      "File \u001B[1;32me:\\aenv\\python-3.8.0(64-bit)\\lib\\site-packages\\rembg\\bg.py:16\u001B[0m\n\u001B[0;32m     14\u001B[0m \u001B[38;5;28;01mfrom\u001B[39;00m \u001B[38;5;21;01mPIL\u001B[39;00m \u001B[38;5;28;01mimport\u001B[39;00m Image, ImageOps\n\u001B[0;32m     15\u001B[0m \u001B[38;5;28;01mfrom\u001B[39;00m \u001B[38;5;21;01mPIL\u001B[39;00m\u001B[38;5;21;01m.\u001B[39;00m\u001B[38;5;21;01mImage\u001B[39;00m \u001B[38;5;28;01mimport\u001B[39;00m Image \u001B[38;5;28;01mas\u001B[39;00m PILImage\n\u001B[1;32m---> 16\u001B[0m \u001B[38;5;28;01mfrom\u001B[39;00m \u001B[38;5;21;01mpymatting\u001B[39;00m\u001B[38;5;21;01m.\u001B[39;00m\u001B[38;5;21;01malpha\u001B[39;00m\u001B[38;5;21;01m.\u001B[39;00m\u001B[38;5;21;01mestimate_alpha_cf\u001B[39;00m \u001B[38;5;28;01mimport\u001B[39;00m estimate_alpha_cf\n\u001B[0;32m     17\u001B[0m \u001B[38;5;28;01mfrom\u001B[39;00m \u001B[38;5;21;01mpymatting\u001B[39;00m\u001B[38;5;21;01m.\u001B[39;00m\u001B[38;5;21;01mforeground\u001B[39;00m\u001B[38;5;21;01m.\u001B[39;00m\u001B[38;5;21;01mestimate_foreground_ml\u001B[39;00m \u001B[38;5;28;01mimport\u001B[39;00m estimate_foreground_ml\n\u001B[0;32m     18\u001B[0m \u001B[38;5;28;01mfrom\u001B[39;00m \u001B[38;5;21;01mpymatting\u001B[39;00m\u001B[38;5;21;01m.\u001B[39;00m\u001B[38;5;21;01mutil\u001B[39;00m\u001B[38;5;21;01m.\u001B[39;00m\u001B[38;5;21;01mutil\u001B[39;00m \u001B[38;5;28;01mimport\u001B[39;00m stack_images\n",
      "File \u001B[1;32me:\\aenv\\python-3.8.0(64-bit)\\lib\\site-packages\\pymatting\\__init__.py:2\u001B[0m\n\u001B[0;32m      1\u001B[0m \u001B[38;5;66;03m# Import relevant submodules for ease-of-use\u001B[39;00m\n\u001B[1;32m----> 2\u001B[0m \u001B[38;5;28;01mfrom\u001B[39;00m \u001B[38;5;21;01mpymatting\u001B[39;00m\u001B[38;5;21;01m.\u001B[39;00m\u001B[38;5;21;01mutil\u001B[39;00m \u001B[38;5;28;01mimport\u001B[39;00m \u001B[38;5;241m*\u001B[39m\n\u001B[0;32m      3\u001B[0m \u001B[38;5;28;01mfrom\u001B[39;00m \u001B[38;5;21;01mpymatting\u001B[39;00m\u001B[38;5;21;01m.\u001B[39;00m\u001B[38;5;21;01mlaplacian\u001B[39;00m \u001B[38;5;28;01mimport\u001B[39;00m \u001B[38;5;241m*\u001B[39m\n\u001B[0;32m      4\u001B[0m \u001B[38;5;28;01mfrom\u001B[39;00m \u001B[38;5;21;01mpymatting\u001B[39;00m\u001B[38;5;21;01m.\u001B[39;00m\u001B[38;5;21;01msolver\u001B[39;00m \u001B[38;5;28;01mimport\u001B[39;00m \u001B[38;5;241m*\u001B[39m\n",
      "File \u001B[1;32me:\\aenv\\python-3.8.0(64-bit)\\lib\\site-packages\\pymatting\\util\\__init__.py:2\u001B[0m\n\u001B[0;32m      1\u001B[0m \u001B[38;5;28;01mfrom\u001B[39;00m \u001B[38;5;21;01mpymatting\u001B[39;00m\u001B[38;5;21;01m.\u001B[39;00m\u001B[38;5;21;01mutil\u001B[39;00m\u001B[38;5;21;01m.\u001B[39;00m\u001B[38;5;21;01mtimer\u001B[39;00m \u001B[38;5;28;01mimport\u001B[39;00m Timer\n\u001B[1;32m----> 2\u001B[0m \u001B[38;5;28;01mfrom\u001B[39;00m \u001B[38;5;21;01mpymatting\u001B[39;00m\u001B[38;5;21;01m.\u001B[39;00m\u001B[38;5;21;01mutil\u001B[39;00m\u001B[38;5;21;01m.\u001B[39;00m\u001B[38;5;21;01mkdtree\u001B[39;00m \u001B[38;5;28;01mimport\u001B[39;00m KDTree, knn\n\u001B[0;32m      3\u001B[0m \u001B[38;5;28;01mfrom\u001B[39;00m \u001B[38;5;21;01mpymatting\u001B[39;00m\u001B[38;5;21;01m.\u001B[39;00m\u001B[38;5;21;01mutil\u001B[39;00m\u001B[38;5;21;01m.\u001B[39;00m\u001B[38;5;21;01mboxfilter\u001B[39;00m \u001B[38;5;28;01mimport\u001B[39;00m boxfilter\n\u001B[0;32m      4\u001B[0m \u001B[38;5;28;01mfrom\u001B[39;00m \u001B[38;5;21;01mpymatting\u001B[39;00m\u001B[38;5;21;01m.\u001B[39;00m\u001B[38;5;21;01mutil\u001B[39;00m\u001B[38;5;21;01m.\u001B[39;00m\u001B[38;5;21;01mutil\u001B[39;00m \u001B[38;5;28;01mimport\u001B[39;00m (\n\u001B[0;32m      5\u001B[0m     apply_to_channels,\n\u001B[0;32m      6\u001B[0m     blend,\n\u001B[1;32m   (...)\u001B[0m\n\u001B[0;32m     27\u001B[0m     weights_to_laplacian,\n\u001B[0;32m     28\u001B[0m )\n",
      "File \u001B[1;32me:\\aenv\\python-3.8.0(64-bit)\\lib\\site-packages\\pymatting\\util\\kdtree.py:2\u001B[0m\n\u001B[0;32m      1\u001B[0m \u001B[38;5;28;01mimport\u001B[39;00m \u001B[38;5;21;01mnumpy\u001B[39;00m \u001B[38;5;28;01mas\u001B[39;00m \u001B[38;5;21;01mnp\u001B[39;00m\n\u001B[1;32m----> 2\u001B[0m \u001B[38;5;28;01mfrom\u001B[39;00m \u001B[38;5;21;01mnumba\u001B[39;00m \u001B[38;5;28;01mimport\u001B[39;00m njit, prange\n\u001B[0;32m      4\u001B[0m \u001B[38;5;66;03m# Numba support for object pointers is currently (Q4 2019) wonky,\u001B[39;00m\n\u001B[0;32m      5\u001B[0m \u001B[38;5;66;03m# which is why plain arrays with indices are used instead.\u001B[39;00m\n\u001B[0;32m      7\u001B[0m \u001B[38;5;129m@njit\u001B[39m(\u001B[38;5;124m\"\u001B[39m\u001B[38;5;124mi8(i8[:], i8[:], i8[:], i8[:], i8[:], f4[:, :, :], f4[:], f4[:, :], i8[:], i8)\u001B[39m\u001B[38;5;124m\"\u001B[39m, cache\u001B[38;5;241m=\u001B[39m\u001B[38;5;28;01mTrue\u001B[39;00m, nogil\u001B[38;5;241m=\u001B[39m\u001B[38;5;28;01mTrue\u001B[39;00m)\n\u001B[0;32m      8\u001B[0m \u001B[38;5;28;01mdef\u001B[39;00m \u001B[38;5;21m_make_tree\u001B[39m(\n\u001B[0;32m      9\u001B[0m     i0_inds,\n\u001B[1;32m   (...)\u001B[0m\n\u001B[0;32m     18\u001B[0m     min_leaf_size,\n\u001B[0;32m     19\u001B[0m ):\n",
      "File \u001B[1;32me:\\aenv\\python-3.8.0(64-bit)\\lib\\site-packages\\numba\\__init__.py:69\u001B[0m\n\u001B[0;32m     65\u001B[0m \u001B[38;5;28;01mdel\u001B[39;00m get_versions\n\u001B[0;32m     66\u001B[0m \u001B[38;5;28;01mdel\u001B[39;00m generate_version_info\n\u001B[1;32m---> 69\u001B[0m \u001B[38;5;28;01mfrom\u001B[39;00m \u001B[38;5;21;01mnumba\u001B[39;00m\u001B[38;5;21;01m.\u001B[39;00m\u001B[38;5;21;01mcore\u001B[39;00m \u001B[38;5;28;01mimport\u001B[39;00m config\n\u001B[0;32m     70\u001B[0m \u001B[38;5;28;01mfrom\u001B[39;00m \u001B[38;5;21;01mnumba\u001B[39;00m\u001B[38;5;21;01m.\u001B[39;00m\u001B[38;5;21;01mcore\u001B[39;00m \u001B[38;5;28;01mimport\u001B[39;00m types, errors\n\u001B[0;32m     72\u001B[0m \u001B[38;5;66;03m# Re-export typeof\u001B[39;00m\n",
      "File \u001B[1;32me:\\aenv\\python-3.8.0(64-bit)\\lib\\site-packages\\numba\\core\\config.py:16\u001B[0m\n\u001B[0;32m     12\u001B[0m \u001B[38;5;28;01mexcept\u001B[39;00m \u001B[38;5;167;01mImportError\u001B[39;00m:\n\u001B[0;32m     13\u001B[0m     _HAVE_YAML \u001B[38;5;241m=\u001B[39m \u001B[38;5;28;01mFalse\u001B[39;00m\n\u001B[1;32m---> 16\u001B[0m \u001B[38;5;28;01mimport\u001B[39;00m \u001B[38;5;21;01mllvmlite\u001B[39;00m\u001B[38;5;21;01m.\u001B[39;00m\u001B[38;5;21;01mbinding\u001B[39;00m \u001B[38;5;28;01mas\u001B[39;00m \u001B[38;5;21;01mll\u001B[39;00m\n\u001B[0;32m     19\u001B[0m IS_WIN32 \u001B[38;5;241m=\u001B[39m sys\u001B[38;5;241m.\u001B[39mplatform\u001B[38;5;241m.\u001B[39mstartswith(\u001B[38;5;124m'\u001B[39m\u001B[38;5;124mwin32\u001B[39m\u001B[38;5;124m'\u001B[39m)\n\u001B[0;32m     20\u001B[0m IS_OSX \u001B[38;5;241m=\u001B[39m sys\u001B[38;5;241m.\u001B[39mplatform\u001B[38;5;241m.\u001B[39mstartswith(\u001B[38;5;124m'\u001B[39m\u001B[38;5;124mdarwin\u001B[39m\u001B[38;5;124m'\u001B[39m)\n",
      "File \u001B[1;32me:\\aenv\\python-3.8.0(64-bit)\\lib\\site-packages\\llvmlite\\binding\\__init__.py:4\u001B[0m\n\u001B[0;32m      1\u001B[0m \u001B[38;5;124;03m\"\"\"\u001B[39;00m\n\u001B[0;32m      2\u001B[0m \u001B[38;5;124;03mThings that rely on the LLVM library\u001B[39;00m\n\u001B[0;32m      3\u001B[0m \u001B[38;5;124;03m\"\"\"\u001B[39;00m\n\u001B[1;32m----> 4\u001B[0m \u001B[38;5;28;01mfrom\u001B[39;00m \u001B[38;5;21;01m.\u001B[39;00m\u001B[38;5;21;01mdylib\u001B[39;00m \u001B[38;5;28;01mimport\u001B[39;00m \u001B[38;5;241m*\u001B[39m\n\u001B[0;32m      5\u001B[0m \u001B[38;5;28;01mfrom\u001B[39;00m \u001B[38;5;21;01m.\u001B[39;00m\u001B[38;5;21;01mexecutionengine\u001B[39;00m \u001B[38;5;28;01mimport\u001B[39;00m \u001B[38;5;241m*\u001B[39m\n\u001B[0;32m      6\u001B[0m \u001B[38;5;28;01mfrom\u001B[39;00m \u001B[38;5;21;01m.\u001B[39;00m\u001B[38;5;21;01minitfini\u001B[39;00m \u001B[38;5;28;01mimport\u001B[39;00m \u001B[38;5;241m*\u001B[39m\n",
      "File \u001B[1;32me:\\aenv\\python-3.8.0(64-bit)\\lib\\site-packages\\llvmlite\\binding\\dylib.py:36\u001B[0m\n\u001B[0;32m     30\u001B[0m             \u001B[38;5;28;01mraise\u001B[39;00m \u001B[38;5;167;01mRuntimeError\u001B[39;00m(\u001B[38;5;28mstr\u001B[39m(outerr))\n\u001B[0;32m     32\u001B[0m \u001B[38;5;66;03m# ============================================================================\u001B[39;00m\n\u001B[0;32m     33\u001B[0m \u001B[38;5;66;03m# FFI\u001B[39;00m\n\u001B[1;32m---> 36\u001B[0m \u001B[43mffi\u001B[49m\u001B[38;5;241;43m.\u001B[39;49m\u001B[43mlib\u001B[49m\u001B[38;5;241;43m.\u001B[39;49m\u001B[43mLLVMPY_AddSymbol\u001B[49m\u001B[38;5;241m.\u001B[39margtypes \u001B[38;5;241m=\u001B[39m [\n\u001B[0;32m     37\u001B[0m     c_char_p,\n\u001B[0;32m     38\u001B[0m     c_void_p,\n\u001B[0;32m     39\u001B[0m ]\n\u001B[0;32m     41\u001B[0m ffi\u001B[38;5;241m.\u001B[39mlib\u001B[38;5;241m.\u001B[39mLLVMPY_SearchAddressOfSymbol\u001B[38;5;241m.\u001B[39margtypes \u001B[38;5;241m=\u001B[39m [c_char_p]\n\u001B[0;32m     42\u001B[0m ffi\u001B[38;5;241m.\u001B[39mlib\u001B[38;5;241m.\u001B[39mLLVMPY_SearchAddressOfSymbol\u001B[38;5;241m.\u001B[39mrestype \u001B[38;5;241m=\u001B[39m c_void_p\n",
      "File \u001B[1;32me:\\aenv\\python-3.8.0(64-bit)\\lib\\site-packages\\llvmlite\\binding\\ffi.py:137\u001B[0m, in \u001B[0;36m_lib_wrapper.__getattr__\u001B[1;34m(self, name)\u001B[0m\n\u001B[0;32m    134\u001B[0m     \u001B[38;5;28;01mreturn\u001B[39;00m \u001B[38;5;28mself\u001B[39m\u001B[38;5;241m.\u001B[39m_fntab[name]\n\u001B[0;32m    135\u001B[0m \u001B[38;5;28;01mexcept\u001B[39;00m \u001B[38;5;167;01mKeyError\u001B[39;00m:\n\u001B[0;32m    136\u001B[0m     \u001B[38;5;66;03m# Lazily wraps new functions as they are requested\u001B[39;00m\n\u001B[1;32m--> 137\u001B[0m     cfn \u001B[38;5;241m=\u001B[39m \u001B[38;5;28mgetattr\u001B[39m(\u001B[38;5;28;43mself\u001B[39;49m\u001B[38;5;241;43m.\u001B[39;49m\u001B[43m_lib\u001B[49m, name)\n\u001B[0;32m    138\u001B[0m     wrapped \u001B[38;5;241m=\u001B[39m _lib_fn_wrapper(\u001B[38;5;28mself\u001B[39m\u001B[38;5;241m.\u001B[39m_lock, cfn)\n\u001B[0;32m    139\u001B[0m     \u001B[38;5;28mself\u001B[39m\u001B[38;5;241m.\u001B[39m_fntab[name] \u001B[38;5;241m=\u001B[39m wrapped\n",
      "File \u001B[1;32me:\\aenv\\python-3.8.0(64-bit)\\lib\\site-packages\\llvmlite\\binding\\ffi.py:129\u001B[0m, in \u001B[0;36m_lib_wrapper._lib\u001B[1;34m(self)\u001B[0m\n\u001B[0;32m    125\u001B[0m \u001B[38;5;129m@property\u001B[39m\n\u001B[0;32m    126\u001B[0m \u001B[38;5;28;01mdef\u001B[39;00m \u001B[38;5;21m_lib\u001B[39m(\u001B[38;5;28mself\u001B[39m):\n\u001B[0;32m    127\u001B[0m     \u001B[38;5;66;03m# Not threadsafe.\u001B[39;00m\n\u001B[0;32m    128\u001B[0m     \u001B[38;5;28;01mif\u001B[39;00m \u001B[38;5;129;01mnot\u001B[39;00m \u001B[38;5;28mself\u001B[39m\u001B[38;5;241m.\u001B[39m_lib_handle:\n\u001B[1;32m--> 129\u001B[0m         \u001B[38;5;28;43mself\u001B[39;49m\u001B[38;5;241;43m.\u001B[39;49m\u001B[43m_load_lib\u001B[49m\u001B[43m(\u001B[49m\u001B[43m)\u001B[49m\n\u001B[0;32m    130\u001B[0m     \u001B[38;5;28;01mreturn\u001B[39;00m \u001B[38;5;28mself\u001B[39m\u001B[38;5;241m.\u001B[39m_lib_handle\n",
      "File \u001B[1;32me:\\aenv\\python-3.8.0(64-bit)\\lib\\site-packages\\llvmlite\\binding\\ffi.py:117\u001B[0m, in \u001B[0;36m_lib_wrapper._load_lib\u001B[1;34m(self)\u001B[0m\n\u001B[0;32m    115\u001B[0m         \u001B[38;5;28mself\u001B[39m\u001B[38;5;241m.\u001B[39m_lib_handle \u001B[38;5;241m=\u001B[39m ctypes\u001B[38;5;241m.\u001B[39mCDLL(\u001B[38;5;28mstr\u001B[39m(lib_path))\n\u001B[0;32m    116\u001B[0m         \u001B[38;5;66;03m# Check that we can look up expected symbols.\u001B[39;00m\n\u001B[1;32m--> 117\u001B[0m         _ \u001B[38;5;241m=\u001B[39m \u001B[38;5;28mself\u001B[39m\u001B[38;5;241m.\u001B[39m_lib_handle\u001B[38;5;241m.\u001B[39mLLVMPY_GetVersionInfo()\n\u001B[0;32m    118\u001B[0m \u001B[38;5;28;01mexcept\u001B[39;00m (\u001B[38;5;167;01mOSError\u001B[39;00m, \u001B[38;5;167;01mAttributeError\u001B[39;00m) \u001B[38;5;28;01mas\u001B[39;00m e:\n\u001B[0;32m    119\u001B[0m     \u001B[38;5;66;03m# OSError may be raised if the file cannot be opened, or is not\u001B[39;00m\n\u001B[0;32m    120\u001B[0m     \u001B[38;5;66;03m# a shared library.\u001B[39;00m\n\u001B[0;32m    121\u001B[0m     \u001B[38;5;66;03m# AttributeError is raised if LLVMPY_GetVersionInfo does not\u001B[39;00m\n\u001B[0;32m    122\u001B[0m     \u001B[38;5;66;03m# exist.\u001B[39;00m\n\u001B[0;32m    123\u001B[0m     \u001B[38;5;28;01mraise\u001B[39;00m \u001B[38;5;167;01mOSError\u001B[39;00m(\u001B[38;5;124m\"\u001B[39m\u001B[38;5;124mCould not find/load shared object file\u001B[39m\u001B[38;5;124m\"\u001B[39m) \u001B[38;5;28;01mfrom\u001B[39;00m \u001B[38;5;21;01me\u001B[39;00m\n",
      "File \u001B[1;32me:\\aenv\\python-3.8.0(64-bit)\\lib\\site-packages\\llvmlite\\binding\\ffi.py:92\u001B[0m, in \u001B[0;36m_suppress_cleanup_errors.__exit__\u001B[1;34m(self, exc_type, exc_value, traceback)\u001B[0m\n\u001B[0;32m     90\u001B[0m \u001B[38;5;28;01mdef\u001B[39;00m \u001B[38;5;21m__exit__\u001B[39m(\u001B[38;5;28mself\u001B[39m, exc_type, exc_value, traceback):\n\u001B[0;32m     91\u001B[0m     \u001B[38;5;28;01mtry\u001B[39;00m:\n\u001B[1;32m---> 92\u001B[0m         \u001B[38;5;28;01mreturn\u001B[39;00m \u001B[38;5;28;43mself\u001B[39;49m\u001B[38;5;241;43m.\u001B[39;49m\u001B[43m_context\u001B[49m\u001B[38;5;241;43m.\u001B[39;49m\u001B[38;5;21;43m__exit__\u001B[39;49m\u001B[43m(\u001B[49m\u001B[43mexc_type\u001B[49m\u001B[43m,\u001B[49m\u001B[43m \u001B[49m\u001B[43mexc_value\u001B[49m\u001B[43m,\u001B[49m\u001B[43m \u001B[49m\u001B[43mtraceback\u001B[49m\u001B[43m)\u001B[49m\n\u001B[0;32m     93\u001B[0m     \u001B[38;5;28;01mexcept\u001B[39;00m \u001B[38;5;167;01mPermissionError\u001B[39;00m:\n\u001B[0;32m     94\u001B[0m         \u001B[38;5;28;01mpass\u001B[39;00m\n",
      "File \u001B[1;32me:\\aenv\\python-3.8.0(64-bit)\\lib\\contextlib.py:162\u001B[0m, in \u001B[0;36m_GeneratorContextManager.__exit__\u001B[1;34m(self, type, value, traceback)\u001B[0m\n\u001B[0;32m    160\u001B[0m         \u001B[38;5;28;01mreturn\u001B[39;00m \u001B[38;5;28;01mFalse\u001B[39;00m\n\u001B[0;32m    161\u001B[0m     \u001B[38;5;28;01mraise\u001B[39;00m\n\u001B[1;32m--> 162\u001B[0m \u001B[38;5;28;01mraise\u001B[39;00m \u001B[38;5;167;01mRuntimeError\u001B[39;00m(\u001B[38;5;124m\"\u001B[39m\u001B[38;5;124mgenerator didn\u001B[39m\u001B[38;5;124m'\u001B[39m\u001B[38;5;124mt stop after throw()\u001B[39m\u001B[38;5;124m\"\u001B[39m)\n",
      "\u001B[1;31mRuntimeError\u001B[0m: generator didn't stop after throw()"
     ]
    }
   ],
   "source": [
    "from PIL import Image\n",
    "from rembg import remove\n",
    "import os\n",
    "\n",
    "\n",
    "def resize(im, new_width):\n",
    "    width, height = im.size\n",
    "    ratio = height / width\n",
    "    new_height = int(ratio * new_width)\n",
    "    resized_image = im.resize((new_width, new_height))\n",
    "    resized_image = remove(resized_image)\n",
    "    new_image = Image.new(\"RGB\", resized_image.size, \"white\")\n",
    "    new_image.paste(resized_image, (0, 0), resized_image)\n",
    "    return new_image\n",
    "\n",
    "# files = os.listdir(\"Input image\")\n",
    "# extensions = ['jpg', 'jpeg', 'png', 'gif']\n",
    "# for file in files:\n",
    "#     ext = file.split(\".\")[-1]\n",
    "#     if ext in extensions:\n",
    "#         im = Image.open(\"Input image/\" + file)\n",
    "#         im_resized = resize(im, 300)\n",
    "#         filepath = f\"Output image/{file}.png\"\n",
    "#         im_resized.save(filepath)"
   ]
  },
  {
   "cell_type": "code",
   "execution_count": null,
   "outputs": [],
   "source": [
    "fp = './01.jpg'\n",
    "\n",
    "img = Image.open(fp)\n",
    "img.resize([int(i * 0.2) for i in img.size])"
   ],
   "metadata": {
    "collapsed": false,
    "pycharm": {
     "name": "#%%\n"
    }
   }
  },
  {
   "cell_type": "code",
   "execution_count": null,
   "outputs": [],
   "source": [
    "im_resized = resize(img, 300)\n",
    "im_resized"
   ],
   "metadata": {
    "collapsed": false,
    "pycharm": {
     "name": "#%%\n"
    }
   }
  },
  {
   "cell_type": "code",
   "execution_count": null,
   "outputs": [],
   "source": [],
   "metadata": {
    "collapsed": false,
    "pycharm": {
     "name": "#%%\n"
    }
   }
  }
 ],
 "metadata": {
  "kernelspec": {
   "display_name": "Python 3",
   "language": "python",
   "name": "python3"
  },
  "language_info": {
   "codemirror_mode": {
    "name": "ipython",
    "version": 2
   },
   "file_extension": ".py",
   "mimetype": "text/x-python",
   "name": "python",
   "nbconvert_exporter": "python",
   "pygments_lexer": "ipython2",
   "version": "2.7.6"
  }
 },
 "nbformat": 4,
 "nbformat_minor": 0
}