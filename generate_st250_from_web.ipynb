{
 "cells": [
  {
   "cell_type": "code",
   "execution_count": 1,
   "outputs": [],
   "source": [
    "from typing import List\n",
    "import os\n",
    "import re\n",
    "import random\n",
    "import time\n",
    "\n",
    "import pandas as pd\n",
    "from pandas import DataFrame\n",
    "import requests\n",
    "\n",
    "import os\n",
    "\n",
    "from util.widgets import generate_ym, generate_ymd, generate_ymd_HMS, generate_i\n",
    "\n",
    "ym = generate_ym()\n",
    "g = 'cargohose_herren'\n",
    "bd = f'{g}/{ym}'\n",
    "bd_a = f'{bd}/a'\n",
    "b_d = f'{g}_{ym}'\n",
    "\n",
    "os.makedirs(bd, exist_ok=True)\n",
    "os.makedirs(bd_a, exist_ok=True)\n",
    "\n",
    "ymd = generate_ymd()\n",
    "ymd_HMS = generate_ymd_HMS()\n",
    "i = '(08-09)'\n",
    "bd_a_img = f'{bd_a}/{ymd}'\n",
    "os.makedirs(bd_a_img, exist_ok=True)"
   ],
   "metadata": {
    "collapsed": false,
    "pycharm": {
     "name": "#%%\n"
    }
   }
  },
  {
   "cell_type": "code",
   "execution_count": 2,
   "outputs": [],
   "source": [
    "def get_words(g: str, n: str = 'de') -> DataFrame:\n",
    "    def _get_words(w: str) -> List[dict]:\n",
    "        url = ''\n",
    "        headers = {\n",
    "            'Host': '',\n",
    "            'Origin': 'https://www.amz123.com',\n",
    "            'Referer': 'https://www.amz123.com/',\n",
    "            'User-Agent': 'Mozilla/5.0 (Windows NT 10.0; Win64; x64) AppleWebKit/537.36 (KHTML, like Gecko) Chrome/126.0.0.0 Safari/537.36',\n",
    "        }\n",
    "        params = {\n",
    "            'limit': '10',\n",
    "            'suggestion-type': 'WIDGET',\n",
    "            'suggestion-type': 'KEYWORD',\n",
    "            'page-type': 'Gateway',\n",
    "            'alias': 'aps',\n",
    "            'site-variant': 'desktop',\n",
    "            'version': '3',\n",
    "            'event': 'onkeypress',\n",
    "            'wc': '',\n",
    "            'lop': '',\n",
    "            'avg-ks-time': '',\n",
    "            'fb': '1',\n",
    "            'mid': '',\n",
    "            'plain-mid': '',\n",
    "            'client-info': 'amazon-search-ui',\n",
    "            'prefix': w,\n",
    "        }\n",
    "        if n == 'de':\n",
    "            url = 'https://completion.amazon.de/api/2017/suggestions'\n",
    "            headers['Host'] = 'completion.amazon.de'\n",
    "            params['lop'] = 'de_DE'\n",
    "            params['avg-ks-time'] = '829'\n",
    "            params['mid'] = 'A1PA6795UKMFR9'\n",
    "            params['plain-mid'] = '4'\n",
    "        elif n == 'us':\n",
    "            url = 'https://completion.amazon.com/api/2017/suggestions'\n",
    "            headers['Host'] = 'completion.amazon.com'\n",
    "            params['lop'] = 'zh_CN'\n",
    "            params['avg-ks-time'] = '0'\n",
    "            params['mid'] = 'ATVPDKIKX0DER'\n",
    "            params['plain-mid'] = '1'\n",
    "        response = requests.get(url, headers=headers, params=params)\n",
    "        try:\n",
    "            result = response.json()['suggestions']\n",
    "            for item in result:\n",
    "                item['group'] = g\n",
    "                item['parent'] = w\n",
    "                item['term'] = item['value']\n",
    "            return result\n",
    "        except KeyError:\n",
    "            pass\n",
    "\n",
    "    ws = [i['value'] for i in _get_words(g)]\n",
    "\n",
    "    rd = []\n",
    "    for _ in ws:\n",
    "        print(f'***{_}***')\n",
    "        rd.extend(_get_words(_))\n",
    "    df: DataFrame = pd.DataFrame(rd)\n",
    "    return df[['group', 'parent', 'term']]"
   ],
   "metadata": {
    "collapsed": false,
    "pycharm": {
     "name": "#%%\n"
    }
   }
  },
  {
   "cell_type": "code",
   "execution_count": 3,
   "outputs": [],
   "source": [
    "from util.widgets import random_indexes, wash_rows\n",
    "\n",
    "def combine_words(df: DataFrame, n: int = 20, x: int = 8, shuffle: bool = True) -> DataFrame:\n",
    "    indexes = random_indexes(len(df), n, x, shuffle)\n",
    "\n",
    "    st250s = []\n",
    "    count = 0\n",
    "\n",
    "    for index in indexes:\n",
    "        rows = df.iloc[index]\n",
    "        s = ' '.join(rows['term'])\n",
    "        st250 = {\n",
    "            'group': rows['group'].values[0],\n",
    "            'parent': rows['parent'].values[0],\n",
    "            'len': len(s),\n",
    "            'value': s,\n",
    "        }\n",
    "        if st250['len'] <= 250:\n",
    "            st250s.append(st250)\n",
    "            count += 1\n",
    "\n",
    "    long_df: DataFrame = pd.DataFrame(st250s)\n",
    "    return long_df"
   ],
   "metadata": {
    "collapsed": false,
    "pycharm": {
     "name": "#%%\n"
    }
   }
  },
  {
   "cell_type": "code",
   "execution_count": 4,
   "outputs": [],
   "source": [
    "from util.widgets import generate_ym, generate_ymd, generate_i\n",
    "\n",
    "ym = generate_ym()\n",
    "g = 'cargohose_herren'\n",
    "bd = f'{g}/{ym}'\n",
    "b_d = f'{g}_{ym}'\n",
    "\n",
    "os.makedirs(bd, exist_ok=True)"
   ],
   "metadata": {
    "collapsed": false,
    "pycharm": {
     "name": "#%%\n"
    }
   }
  },
  {
   "cell_type": "code",
   "execution_count": 5,
   "outputs": [
    {
     "name": "stdout",
     "output_type": "stream",
     "text": [
      "***cargohose herren***\n",
      "***cargohose herren kurz***\n",
      "***cargohose herren 3/4***\n",
      "***cargohose herren schwarz***\n",
      "***cargohose herren baggy***\n",
      "***cargohose herren sommer***\n",
      "***cargohose herren stretch***\n",
      "***cargohose herren lang***\n",
      "***cargohose herren jack and jones***\n",
      "***cargohose herren kurz 3/4***\n"
     ]
    }
   ],
   "source": [
    "st_df = get_words(g.replace('_', ' '),n='de')"
   ],
   "metadata": {
    "collapsed": false,
    "pycharm": {
     "name": "#%%\n"
    }
   }
  },
  {
   "cell_type": "code",
   "execution_count": 6,
   "outputs": [],
   "source": [
    "st_df = wash_rows(st_df)\n",
    "mask = st_df['parent'] != st_df['term']\n",
    "st_df = st_df[mask]\n",
    "st250_df = combine_words(st_df, n=100)"
   ],
   "metadata": {
    "collapsed": false,
    "pycharm": {
     "name": "#%%\n"
    }
   }
  },
  {
   "cell_type": "code",
   "execution_count": 7,
   "outputs": [],
   "source": [
    "st250_df['ymd'] = ymd\n",
    "\n",
    "from util.widgets import Status\n",
    "\n",
    "st250_df['status'] = Status.UNUSED.value\n",
    "st250_df['ymd_HMS'] = ''"
   ],
   "metadata": {
    "collapsed": false,
    "pycharm": {
     "name": "#%%\n"
    }
   }
  },
  {
   "cell_type": "code",
   "execution_count": 8,
   "outputs": [],
   "source": [
    "fp_st250 = f'{bd}/{b_d}_st250.xlsx'\n",
    "\n",
    "st_df_ori = pd.read_excel(fp_st250, sheet_name='st')\n",
    "st250_df_ori = pd.read_excel(fp_st250, sheet_name='st250')"
   ],
   "metadata": {
    "collapsed": false,
    "pycharm": {
     "name": "#%%\n"
    }
   }
  },
  {
   "cell_type": "code",
   "execution_count": 9,
   "outputs": [
    {
     "data": {
      "text/plain": "               group                    parent  len  \\\n0   cargohose herren          cargohose herren  240   \n1   cargohose herren          cargohose herren  236   \n2   cargohose herren          cargohose herren  230   \n3   cargohose herren    cargohose herren baggy  241   \n4   cargohose herren    cargohose herren baggy  243   \n5   cargohose herren    cargohose herren baggy  239   \n6   cargohose herren    cargohose herren baggy  238   \n7   cargohose herren     cargohose herren lang  239   \n8   cargohose herren     cargohose herren lang  239   \n9   cargohose herren     cargohose herren lang  244   \n10  cargohose herren  cargohose herren schwarz  250   \n11  cargohose herren  cargohose herren schwarz  241   \n12  cargohose herren  cargohose herren schwarz  239   \n13  cargohose herren   cargohose herren sommer  239   \n14  cargohose herren   cargohose herren sommer  235   \n15  cargohose herren   cargohose herren sommer  240   \n16  cargohose herren   cargohose herren sommer  241   \n17  cargohose herren  cargohose herren stretch  239   \n18  cargohose herren  cargohose herren stretch  242   \n\n                                                value  status  \n0   cargohose herren baggy cargohose herren sommer...  Unused  \n1   cargohose herren baggy cargohose herren sommer...  Unused  \n2   cargohose herren stretch cargohose herren somm...  Unused  \n3   cargohose herren baggy y2k cargohose herren st...  Unused  \n4   cargohose herren baggy baumwolle cargohose her...  Unused  \n5   cargohose herren baggy weiß cargohose herren s...  Unused  \n6   cargohose herren baggy weiß cargohose herren s...  Unused  \n7   cargohose herren lang weit cargohose herren sc...  Unused  \n8   cargohose herren langgröße cargohose herren so...  Unused  \n9   cargohose herren langgröße cargohose herren sc...  Unused  \n10  cargohose herren schwarz militär cargohose her...  Unused  \n11  cargohose herren schwarz sommer cargohose herr...  Unused  \n12  cargohose herren schwarz security cargohose he...  Unused  \n13  cargohose herren sommer baumwolle cargohose he...  Unused  \n14  cargohose herren sommer zip off cargohose herr...  Unused  \n15  cargohose herren sommer leicht lang cargohose ...  Unused  \n16  cargohose herren sommer zip off cargohose herr...  Unused  \n17  cargohose herren stretch lang cargohose herren...  Unused  \n18  cargohose herren stretch lang cargohose herren...  Unused  ",
      "text/html": "<div>\n<style scoped>\n    .dataframe tbody tr th:only-of-type {\n        vertical-align: middle;\n    }\n\n    .dataframe tbody tr th {\n        vertical-align: top;\n    }\n\n    .dataframe thead th {\n        text-align: right;\n    }\n</style>\n<table border=\"1\" class=\"dataframe\">\n  <thead>\n    <tr style=\"text-align: right;\">\n      <th></th>\n      <th>group</th>\n      <th>parent</th>\n      <th>len</th>\n      <th>value</th>\n      <th>status</th>\n    </tr>\n  </thead>\n  <tbody>\n    <tr>\n      <th>0</th>\n      <td>cargohose herren</td>\n      <td>cargohose herren</td>\n      <td>240</td>\n      <td>cargohose herren baggy cargohose herren sommer...</td>\n      <td>Unused</td>\n    </tr>\n    <tr>\n      <th>1</th>\n      <td>cargohose herren</td>\n      <td>cargohose herren</td>\n      <td>236</td>\n      <td>cargohose herren baggy cargohose herren sommer...</td>\n      <td>Unused</td>\n    </tr>\n    <tr>\n      <th>2</th>\n      <td>cargohose herren</td>\n      <td>cargohose herren</td>\n      <td>230</td>\n      <td>cargohose herren stretch cargohose herren somm...</td>\n      <td>Unused</td>\n    </tr>\n    <tr>\n      <th>3</th>\n      <td>cargohose herren</td>\n      <td>cargohose herren baggy</td>\n      <td>241</td>\n      <td>cargohose herren baggy y2k cargohose herren st...</td>\n      <td>Unused</td>\n    </tr>\n    <tr>\n      <th>4</th>\n      <td>cargohose herren</td>\n      <td>cargohose herren baggy</td>\n      <td>243</td>\n      <td>cargohose herren baggy baumwolle cargohose her...</td>\n      <td>Unused</td>\n    </tr>\n    <tr>\n      <th>5</th>\n      <td>cargohose herren</td>\n      <td>cargohose herren baggy</td>\n      <td>239</td>\n      <td>cargohose herren baggy weiß cargohose herren s...</td>\n      <td>Unused</td>\n    </tr>\n    <tr>\n      <th>6</th>\n      <td>cargohose herren</td>\n      <td>cargohose herren baggy</td>\n      <td>238</td>\n      <td>cargohose herren baggy weiß cargohose herren s...</td>\n      <td>Unused</td>\n    </tr>\n    <tr>\n      <th>7</th>\n      <td>cargohose herren</td>\n      <td>cargohose herren lang</td>\n      <td>239</td>\n      <td>cargohose herren lang weit cargohose herren sc...</td>\n      <td>Unused</td>\n    </tr>\n    <tr>\n      <th>8</th>\n      <td>cargohose herren</td>\n      <td>cargohose herren lang</td>\n      <td>239</td>\n      <td>cargohose herren langgröße cargohose herren so...</td>\n      <td>Unused</td>\n    </tr>\n    <tr>\n      <th>9</th>\n      <td>cargohose herren</td>\n      <td>cargohose herren lang</td>\n      <td>244</td>\n      <td>cargohose herren langgröße cargohose herren sc...</td>\n      <td>Unused</td>\n    </tr>\n    <tr>\n      <th>10</th>\n      <td>cargohose herren</td>\n      <td>cargohose herren schwarz</td>\n      <td>250</td>\n      <td>cargohose herren schwarz militär cargohose her...</td>\n      <td>Unused</td>\n    </tr>\n    <tr>\n      <th>11</th>\n      <td>cargohose herren</td>\n      <td>cargohose herren schwarz</td>\n      <td>241</td>\n      <td>cargohose herren schwarz sommer cargohose herr...</td>\n      <td>Unused</td>\n    </tr>\n    <tr>\n      <th>12</th>\n      <td>cargohose herren</td>\n      <td>cargohose herren schwarz</td>\n      <td>239</td>\n      <td>cargohose herren schwarz security cargohose he...</td>\n      <td>Unused</td>\n    </tr>\n    <tr>\n      <th>13</th>\n      <td>cargohose herren</td>\n      <td>cargohose herren sommer</td>\n      <td>239</td>\n      <td>cargohose herren sommer baumwolle cargohose he...</td>\n      <td>Unused</td>\n    </tr>\n    <tr>\n      <th>14</th>\n      <td>cargohose herren</td>\n      <td>cargohose herren sommer</td>\n      <td>235</td>\n      <td>cargohose herren sommer zip off cargohose herr...</td>\n      <td>Unused</td>\n    </tr>\n    <tr>\n      <th>15</th>\n      <td>cargohose herren</td>\n      <td>cargohose herren sommer</td>\n      <td>240</td>\n      <td>cargohose herren sommer leicht lang cargohose ...</td>\n      <td>Unused</td>\n    </tr>\n    <tr>\n      <th>16</th>\n      <td>cargohose herren</td>\n      <td>cargohose herren sommer</td>\n      <td>241</td>\n      <td>cargohose herren sommer zip off cargohose herr...</td>\n      <td>Unused</td>\n    </tr>\n    <tr>\n      <th>17</th>\n      <td>cargohose herren</td>\n      <td>cargohose herren stretch</td>\n      <td>239</td>\n      <td>cargohose herren stretch lang cargohose herren...</td>\n      <td>Unused</td>\n    </tr>\n    <tr>\n      <th>18</th>\n      <td>cargohose herren</td>\n      <td>cargohose herren stretch</td>\n      <td>242</td>\n      <td>cargohose herren stretch lang cargohose herren...</td>\n      <td>Unused</td>\n    </tr>\n  </tbody>\n</table>\n</div>"
     },
     "execution_count": 9,
     "metadata": {},
     "output_type": "execute_result"
    }
   ],
   "source": [
    "st250_df_ori"
   ],
   "metadata": {
    "collapsed": false,
    "pycharm": {
     "name": "#%%\n"
    }
   }
  },
  {
   "cell_type": "code",
   "execution_count": 10,
   "outputs": [
    {
     "data": {
      "text/plain": "               group                    parent  \\\n34  cargohose herren          cargohose herren   \n35  cargohose herren          cargohose herren   \n36  cargohose herren          cargohose herren   \n37  cargohose herren          cargohose herren   \n38  cargohose herren          cargohose herren   \n9   cargohose herren    cargohose herren baggy   \n49  cargohose herren    cargohose herren baggy   \n48  cargohose herren    cargohose herren baggy   \n47  cargohose herren    cargohose herren baggy   \n46  cargohose herren    cargohose herren baggy   \n45  cargohose herren    cargohose herren baggy   \n50  cargohose herren    cargohose herren baggy   \n68  cargohose herren     cargohose herren lang   \n66  cargohose herren     cargohose herren lang   \n65  cargohose herren     cargohose herren lang   \n64  cargohose herren     cargohose herren lang   \n63  cargohose herren     cargohose herren lang   \n67  cargohose herren     cargohose herren lang   \n43  cargohose herren  cargohose herren schwarz   \n44  cargohose herren  cargohose herren schwarz   \n42  cargohose herren  cargohose herren schwarz   \n41  cargohose herren  cargohose herren schwarz   \n40  cargohose herren  cargohose herren schwarz   \n39  cargohose herren  cargohose herren schwarz   \n52  cargohose herren   cargohose herren sommer   \n51  cargohose herren   cargohose herren sommer   \n56  cargohose herren   cargohose herren sommer   \n57  cargohose herren   cargohose herren sommer   \n26  cargohose herren   cargohose herren sommer   \n55  cargohose herren   cargohose herren sommer   \n54  cargohose herren   cargohose herren sommer   \n53  cargohose herren   cargohose herren sommer   \n59  cargohose herren  cargohose herren stretch   \n61  cargohose herren  cargohose herren stretch   \n62  cargohose herren  cargohose herren stretch   \n58  cargohose herren  cargohose herren stretch   \n60  cargohose herren  cargohose herren stretch   \n\n                                    term  \n34              cargohose herren schwarz  \n35                cargohose herren baggy  \n36               cargohose herren sommer  \n37              cargohose herren stretch  \n38                 cargohose herren lang  \n9            cargohose herren baggy blau  \n49      cargohose herren baggy mit print  \n48      cargohose herren baggy baumwolle  \n47        cargohose herren baggy schwarz  \n46            cargohose herren baggy y2k  \n45          cargohose herren baggy beige  \n50           cargohose herren baggy weiß  \n68      cargohose herren lang camouflage  \n66            cargohose herren lang weit  \n65            cargohose herren langgröße  \n64         cargohose herren lang stretch  \n63          cargohose herren lang sommer  \n67            cargohose herren lang army  \n43        cargohose herren schwarz chino  \n44      cargohose herren schwarz militär  \n42        cargohose herren schwarz baggy  \n41         cargohose herren schwarz lang  \n40     cargohose herren schwarz security  \n39       cargohose herren schwarz sommer  \n52   cargohose herren sommer leicht lang  \n51        cargohose herren sommer leicht  \n56       cargohose herren sommer jogging  \n57  cargohose herren sommer große größen  \n26        cargohose herren sommer leinen  \n55       leichte cargohose herren sommer  \n54     cargohose herren sommer baumwolle  \n53       cargohose herren sommer zip off  \n59    cargohose herren stretch übergröße  \n61         cargohose herren stretch lang  \n62     cargohose herren stretch slim fit  \n58       cargohose herren stretch sommer  \n60        cargohose herren stretch 42/32  ",
      "text/html": "<div>\n<style scoped>\n    .dataframe tbody tr th:only-of-type {\n        vertical-align: middle;\n    }\n\n    .dataframe tbody tr th {\n        vertical-align: top;\n    }\n\n    .dataframe thead th {\n        text-align: right;\n    }\n</style>\n<table border=\"1\" class=\"dataframe\">\n  <thead>\n    <tr style=\"text-align: right;\">\n      <th></th>\n      <th>group</th>\n      <th>parent</th>\n      <th>term</th>\n    </tr>\n  </thead>\n  <tbody>\n    <tr>\n      <th>34</th>\n      <td>cargohose herren</td>\n      <td>cargohose herren</td>\n      <td>cargohose herren schwarz</td>\n    </tr>\n    <tr>\n      <th>35</th>\n      <td>cargohose herren</td>\n      <td>cargohose herren</td>\n      <td>cargohose herren baggy</td>\n    </tr>\n    <tr>\n      <th>36</th>\n      <td>cargohose herren</td>\n      <td>cargohose herren</td>\n      <td>cargohose herren sommer</td>\n    </tr>\n    <tr>\n      <th>37</th>\n      <td>cargohose herren</td>\n      <td>cargohose herren</td>\n      <td>cargohose herren stretch</td>\n    </tr>\n    <tr>\n      <th>38</th>\n      <td>cargohose herren</td>\n      <td>cargohose herren</td>\n      <td>cargohose herren lang</td>\n    </tr>\n    <tr>\n      <th>9</th>\n      <td>cargohose herren</td>\n      <td>cargohose herren baggy</td>\n      <td>cargohose herren baggy blau</td>\n    </tr>\n    <tr>\n      <th>49</th>\n      <td>cargohose herren</td>\n      <td>cargohose herren baggy</td>\n      <td>cargohose herren baggy mit print</td>\n    </tr>\n    <tr>\n      <th>48</th>\n      <td>cargohose herren</td>\n      <td>cargohose herren baggy</td>\n      <td>cargohose herren baggy baumwolle</td>\n    </tr>\n    <tr>\n      <th>47</th>\n      <td>cargohose herren</td>\n      <td>cargohose herren baggy</td>\n      <td>cargohose herren baggy schwarz</td>\n    </tr>\n    <tr>\n      <th>46</th>\n      <td>cargohose herren</td>\n      <td>cargohose herren baggy</td>\n      <td>cargohose herren baggy y2k</td>\n    </tr>\n    <tr>\n      <th>45</th>\n      <td>cargohose herren</td>\n      <td>cargohose herren baggy</td>\n      <td>cargohose herren baggy beige</td>\n    </tr>\n    <tr>\n      <th>50</th>\n      <td>cargohose herren</td>\n      <td>cargohose herren baggy</td>\n      <td>cargohose herren baggy weiß</td>\n    </tr>\n    <tr>\n      <th>68</th>\n      <td>cargohose herren</td>\n      <td>cargohose herren lang</td>\n      <td>cargohose herren lang camouflage</td>\n    </tr>\n    <tr>\n      <th>66</th>\n      <td>cargohose herren</td>\n      <td>cargohose herren lang</td>\n      <td>cargohose herren lang weit</td>\n    </tr>\n    <tr>\n      <th>65</th>\n      <td>cargohose herren</td>\n      <td>cargohose herren lang</td>\n      <td>cargohose herren langgröße</td>\n    </tr>\n    <tr>\n      <th>64</th>\n      <td>cargohose herren</td>\n      <td>cargohose herren lang</td>\n      <td>cargohose herren lang stretch</td>\n    </tr>\n    <tr>\n      <th>63</th>\n      <td>cargohose herren</td>\n      <td>cargohose herren lang</td>\n      <td>cargohose herren lang sommer</td>\n    </tr>\n    <tr>\n      <th>67</th>\n      <td>cargohose herren</td>\n      <td>cargohose herren lang</td>\n      <td>cargohose herren lang army</td>\n    </tr>\n    <tr>\n      <th>43</th>\n      <td>cargohose herren</td>\n      <td>cargohose herren schwarz</td>\n      <td>cargohose herren schwarz chino</td>\n    </tr>\n    <tr>\n      <th>44</th>\n      <td>cargohose herren</td>\n      <td>cargohose herren schwarz</td>\n      <td>cargohose herren schwarz militär</td>\n    </tr>\n    <tr>\n      <th>42</th>\n      <td>cargohose herren</td>\n      <td>cargohose herren schwarz</td>\n      <td>cargohose herren schwarz baggy</td>\n    </tr>\n    <tr>\n      <th>41</th>\n      <td>cargohose herren</td>\n      <td>cargohose herren schwarz</td>\n      <td>cargohose herren schwarz lang</td>\n    </tr>\n    <tr>\n      <th>40</th>\n      <td>cargohose herren</td>\n      <td>cargohose herren schwarz</td>\n      <td>cargohose herren schwarz security</td>\n    </tr>\n    <tr>\n      <th>39</th>\n      <td>cargohose herren</td>\n      <td>cargohose herren schwarz</td>\n      <td>cargohose herren schwarz sommer</td>\n    </tr>\n    <tr>\n      <th>52</th>\n      <td>cargohose herren</td>\n      <td>cargohose herren sommer</td>\n      <td>cargohose herren sommer leicht lang</td>\n    </tr>\n    <tr>\n      <th>51</th>\n      <td>cargohose herren</td>\n      <td>cargohose herren sommer</td>\n      <td>cargohose herren sommer leicht</td>\n    </tr>\n    <tr>\n      <th>56</th>\n      <td>cargohose herren</td>\n      <td>cargohose herren sommer</td>\n      <td>cargohose herren sommer jogging</td>\n    </tr>\n    <tr>\n      <th>57</th>\n      <td>cargohose herren</td>\n      <td>cargohose herren sommer</td>\n      <td>cargohose herren sommer große größen</td>\n    </tr>\n    <tr>\n      <th>26</th>\n      <td>cargohose herren</td>\n      <td>cargohose herren sommer</td>\n      <td>cargohose herren sommer leinen</td>\n    </tr>\n    <tr>\n      <th>55</th>\n      <td>cargohose herren</td>\n      <td>cargohose herren sommer</td>\n      <td>leichte cargohose herren sommer</td>\n    </tr>\n    <tr>\n      <th>54</th>\n      <td>cargohose herren</td>\n      <td>cargohose herren sommer</td>\n      <td>cargohose herren sommer baumwolle</td>\n    </tr>\n    <tr>\n      <th>53</th>\n      <td>cargohose herren</td>\n      <td>cargohose herren sommer</td>\n      <td>cargohose herren sommer zip off</td>\n    </tr>\n    <tr>\n      <th>59</th>\n      <td>cargohose herren</td>\n      <td>cargohose herren stretch</td>\n      <td>cargohose herren stretch übergröße</td>\n    </tr>\n    <tr>\n      <th>61</th>\n      <td>cargohose herren</td>\n      <td>cargohose herren stretch</td>\n      <td>cargohose herren stretch lang</td>\n    </tr>\n    <tr>\n      <th>62</th>\n      <td>cargohose herren</td>\n      <td>cargohose herren stretch</td>\n      <td>cargohose herren stretch slim fit</td>\n    </tr>\n    <tr>\n      <th>58</th>\n      <td>cargohose herren</td>\n      <td>cargohose herren stretch</td>\n      <td>cargohose herren stretch sommer</td>\n    </tr>\n    <tr>\n      <th>60</th>\n      <td>cargohose herren</td>\n      <td>cargohose herren stretch</td>\n      <td>cargohose herren stretch 42/32</td>\n    </tr>\n  </tbody>\n</table>\n</div>"
     },
     "execution_count": 10,
     "metadata": {},
     "output_type": "execute_result"
    }
   ],
   "source": [
    "st_df = pd.concat([st_df_ori, st_df], ignore_index=True)\n",
    "st_df.drop_duplicates(subset=['term'], keep='last', inplace=True)\n",
    "st_df.sort_values(by=['parent'], inplace=True)\n",
    "st_df"
   ],
   "metadata": {
    "collapsed": false,
    "pycharm": {
     "name": "#%%\n"
    }
   }
  },
  {
   "cell_type": "code",
   "execution_count": 11,
   "outputs": [
    {
     "data": {
      "text/plain": "                group                    parent  len  \\\n0    cargohose herren          cargohose herren  240   \n20   cargohose herren          cargohose herren  231   \n19   cargohose herren          cargohose herren  244   \n23   cargohose herren          cargohose herren  237   \n98   cargohose herren          cargohose herren  248   \n..                ...                       ...  ...   \n61   cargohose herren  cargohose herren stretch  246   \n60   cargohose herren  cargohose herren stretch  247   \n49   cargohose herren  cargohose herren stretch  245   \n18   cargohose herren  cargohose herren stretch  242   \n108  cargohose herren  cargohose herren stretch  241   \n\n                                                 value  status  ymd  \n0    cargohose herren baggy cargohose herren sommer...  Unused  NaN  \n20   cargohose herren stretch cargohose herren somm...  Unused       \n19   cargohose herren schwarz cargohose herren somm...  Unused       \n23   cargohose herren stretch cargohose herren schw...  Unused       \n98   cargohose herren stretch cargohose herren stre...  Unused       \n..                                                 ...     ...  ...  \n61   cargohose herren stretch slim fit cargohose he...  Unused       \n60   cargohose herren stretch sommer cargohose herr...  Unused       \n49   cargohose herren stretch übergröße cargohose h...  Unused       \n18   cargohose herren stretch lang cargohose herren...  Unused  NaN  \n108  cargohose herren stretch übergröße cargohose h...  Unused       \n\n[109 rows x 6 columns]",
      "text/html": "<div>\n<style scoped>\n    .dataframe tbody tr th:only-of-type {\n        vertical-align: middle;\n    }\n\n    .dataframe tbody tr th {\n        vertical-align: top;\n    }\n\n    .dataframe thead th {\n        text-align: right;\n    }\n</style>\n<table border=\"1\" class=\"dataframe\">\n  <thead>\n    <tr style=\"text-align: right;\">\n      <th></th>\n      <th>group</th>\n      <th>parent</th>\n      <th>len</th>\n      <th>value</th>\n      <th>status</th>\n      <th>ymd</th>\n    </tr>\n  </thead>\n  <tbody>\n    <tr>\n      <th>0</th>\n      <td>cargohose herren</td>\n      <td>cargohose herren</td>\n      <td>240</td>\n      <td>cargohose herren baggy cargohose herren sommer...</td>\n      <td>Unused</td>\n      <td>NaN</td>\n    </tr>\n    <tr>\n      <th>20</th>\n      <td>cargohose herren</td>\n      <td>cargohose herren</td>\n      <td>231</td>\n      <td>cargohose herren stretch cargohose herren somm...</td>\n      <td>Unused</td>\n      <td></td>\n    </tr>\n    <tr>\n      <th>19</th>\n      <td>cargohose herren</td>\n      <td>cargohose herren</td>\n      <td>244</td>\n      <td>cargohose herren schwarz cargohose herren somm...</td>\n      <td>Unused</td>\n      <td></td>\n    </tr>\n    <tr>\n      <th>23</th>\n      <td>cargohose herren</td>\n      <td>cargohose herren</td>\n      <td>237</td>\n      <td>cargohose herren stretch cargohose herren schw...</td>\n      <td>Unused</td>\n      <td></td>\n    </tr>\n    <tr>\n      <th>98</th>\n      <td>cargohose herren</td>\n      <td>cargohose herren</td>\n      <td>248</td>\n      <td>cargohose herren stretch cargohose herren stre...</td>\n      <td>Unused</td>\n      <td></td>\n    </tr>\n    <tr>\n      <th>...</th>\n      <td>...</td>\n      <td>...</td>\n      <td>...</td>\n      <td>...</td>\n      <td>...</td>\n      <td>...</td>\n    </tr>\n    <tr>\n      <th>61</th>\n      <td>cargohose herren</td>\n      <td>cargohose herren stretch</td>\n      <td>246</td>\n      <td>cargohose herren stretch slim fit cargohose he...</td>\n      <td>Unused</td>\n      <td></td>\n    </tr>\n    <tr>\n      <th>60</th>\n      <td>cargohose herren</td>\n      <td>cargohose herren stretch</td>\n      <td>247</td>\n      <td>cargohose herren stretch sommer cargohose herr...</td>\n      <td>Unused</td>\n      <td></td>\n    </tr>\n    <tr>\n      <th>49</th>\n      <td>cargohose herren</td>\n      <td>cargohose herren stretch</td>\n      <td>245</td>\n      <td>cargohose herren stretch übergröße cargohose h...</td>\n      <td>Unused</td>\n      <td></td>\n    </tr>\n    <tr>\n      <th>18</th>\n      <td>cargohose herren</td>\n      <td>cargohose herren stretch</td>\n      <td>242</td>\n      <td>cargohose herren stretch lang cargohose herren...</td>\n      <td>Unused</td>\n      <td>NaN</td>\n    </tr>\n    <tr>\n      <th>108</th>\n      <td>cargohose herren</td>\n      <td>cargohose herren stretch</td>\n      <td>241</td>\n      <td>cargohose herren stretch übergröße cargohose h...</td>\n      <td>Unused</td>\n      <td></td>\n    </tr>\n  </tbody>\n</table>\n<p>109 rows × 6 columns</p>\n</div>"
     },
     "execution_count": 11,
     "metadata": {},
     "output_type": "execute_result"
    }
   ],
   "source": [
    "st250_df = pd.concat([st250_df_ori, st250_df], ignore_index=True)\n",
    "st250_df.drop_duplicates(subset=['value', 'status'], keep='last', inplace=True)\n",
    "st250_df.loc[st250_df.duplicated(subset=['value']), 'status'] = Status.IN_USE.value\n",
    "st250_df.drop_duplicates(subset=['value', 'status'], keep='first', inplace=True)\n",
    "st250_df.sort_values(by=['parent'], inplace=True)\n",
    "st250_df"
   ],
   "metadata": {
    "collapsed": false,
    "pycharm": {
     "name": "#%%\n"
    }
   }
  },
  {
   "cell_type": "code",
   "execution_count": 12,
   "outputs": [],
   "source": [
    "with pd.ExcelWriter(fp_st250) as writer:\n",
    "    st_df.to_excel(writer, index=False, sheet_name='st')\n",
    "    st250_df.to_excel(writer, index=False, sheet_name='st250')"
   ],
   "metadata": {
    "collapsed": false,
    "pycharm": {
     "name": "#%%\n"
    }
   }
  },
  {
   "cell_type": "code",
   "execution_count": 12,
   "outputs": [],
   "source": [],
   "metadata": {
    "collapsed": false,
    "pycharm": {
     "name": "#%%\n"
    }
   }
  }
 ],
 "metadata": {
  "kernelspec": {
   "display_name": "Python 3",
   "language": "python",
   "name": "python3"
  },
  "language_info": {
   "codemirror_mode": {
    "name": "ipython",
    "version": 2
   },
   "file_extension": ".py",
   "mimetype": "text/x-python",
   "name": "python",
   "nbconvert_exporter": "python",
   "pygments_lexer": "ipython2",
   "version": "2.7.6"
  }
 },
 "nbformat": 4,
 "nbformat_minor": 0
}